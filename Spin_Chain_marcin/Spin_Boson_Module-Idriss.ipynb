{
 "cells": [
  {
   "cell_type": "code",
   "execution_count": 1,
   "id": "58bc22f4",
   "metadata": {},
   "outputs": [],
   "source": [
    "from spinboson_idriss import *\n",
    "import matplotlib.pyplot as plt\n",
    "import warnings\n",
    "warnings.filterwarnings('ignore', message='overflow encountered in exp*')"
   ]
  },
  {
   "cell_type": "code",
   "execution_count": null,
   "id": "2e083b8a",
   "metadata": {},
   "outputs": [],
   "source": []
  },
  {
   "cell_type": "markdown",
   "id": "b753fa18",
   "metadata": {},
   "source": [
    "Out of lack of time to do things properly the parameters for the simulation (coupling,gaussian) can only be changed in the python files for the calculation module, I set them to 0.05 and 1 you can change them in the .py file"
   ]
  },
  {
   "cell_type": "code",
   "execution_count": 2,
   "id": "024a49ec",
   "metadata": {},
   "outputs": [],
   "source": [
    "l=100\n",
    "max_t=25\n",
    "a=0.5\n",
    "b=0\n",
    "c=0"
   ]
  },
  {
   "cell_type": "code",
   "execution_count": 3,
   "id": "edc0ea1c",
   "metadata": {},
   "outputs": [
    {
     "data": {
      "application/vnd.jupyter.widget-view+json": {
       "model_id": "89817285ab034edaa2b0cb8483a996c9",
       "version_major": 2,
       "version_minor": 0
      },
      "text/plain": [
       "Computing for all t, currently on :   0%|          | 0/100 [00:00<?, ?it/s]"
      ]
     },
     "metadata": {},
     "output_type": "display_data"
    }
   ],
   "source": [
    "ρ=cumulant(max_t, a, b, c, dm=True, l=l)"
   ]
  },
  {
   "cell_type": "code",
   "execution_count": 4,
   "id": "eaff56be",
   "metadata": {},
   "outputs": [
    {
     "data": {
      "application/vnd.jupyter.widget-view+json": {
       "model_id": "2be4c16b2b5648f294b907cc33ffc619",
       "version_major": 2,
       "version_minor": 0
      },
      "text/plain": [
       "Computing for all t, currently on :   0%|          | 0/100 [00:00<?, ?it/s]"
      ]
     },
     "metadata": {},
     "output_type": "display_data"
    }
   ],
   "source": [
    "ρ1=cumulant1(max_t, a, b, c, dm=True, l=l)"
   ]
  },
  {
   "cell_type": "code",
   "execution_count": 5,
   "id": "b205e764",
   "metadata": {},
   "outputs": [
    {
     "data": {
      "application/vnd.jupyter.widget-view+json": {
       "model_id": "25ff2a802b3046d2b1d901d56575b573",
       "version_major": 2,
       "version_minor": 0
      },
      "text/plain": [
       "Computing for all t, currently on :   0%|          | 0/100 [00:00<?, ?it/s]"
      ]
     },
     "metadata": {},
     "output_type": "display_data"
    }
   ],
   "source": [
    "ρ2=cumulant2(max_t, a, b, c, dm=True, l=l)"
   ]
  },
  {
   "cell_type": "code",
   "execution_count": 6,
   "id": "a0c03801",
   "metadata": {},
   "outputs": [],
   "source": [
    "#ρ3=cumulant3(max_t, a, b, c, dm=True, l=l)"
   ]
  },
  {
   "cell_type": "code",
   "execution_count": 7,
   "id": "a56fd67f",
   "metadata": {},
   "outputs": [],
   "source": [
    "#ρ4=cumulant4(max_t, a, b, c, dm=True, l=l)"
   ]
  },
  {
   "cell_type": "code",
   "execution_count": 8,
   "id": "dd0f739f",
   "metadata": {},
   "outputs": [],
   "source": [
    "#ρ5=cumulant5(max_t, a, b, c, dm=True, l=l)"
   ]
  },
  {
   "cell_type": "code",
   "execution_count": 9,
   "id": "fb224da0",
   "metadata": {},
   "outputs": [],
   "source": [
    "#ρ6=cumulant6(max_t, a, b, c, dm=True, l=l)"
   ]
  },
  {
   "cell_type": "code",
   "execution_count": 10,
   "id": "ed827933",
   "metadata": {},
   "outputs": [],
   "source": [
    "#ρ7=cumulant7(max_t, a, b, c, dm=True, l=l)"
   ]
  },
  {
   "cell_type": "code",
   "execution_count": 11,
   "id": "4e9e5f44",
   "metadata": {},
   "outputs": [],
   "source": [
    "#ρ8=cumulant8(max_t, a, b, c, dm=True, l=l)"
   ]
  },
  {
   "cell_type": "code",
   "execution_count": 12,
   "id": "0ca25e37",
   "metadata": {},
   "outputs": [],
   "source": [
    "#ρ9=cumulant9(max_t, a, b, c, dm=True, l=l)"
   ]
  },
  {
   "cell_type": "code",
   "execution_count": 13,
   "id": "575b10d4",
   "metadata": {},
   "outputs": [],
   "source": [
    "#ρ10=cumulant10(max_t, a, b, c, dm=True, l=l)"
   ]
  },
  {
   "cell_type": "code",
   "execution_count": 14,
   "id": "31d7c669",
   "metadata": {},
   "outputs": [],
   "source": [
    "#ρ11=cumulant11(max_t, a, b, c, dm=True, l=l)"
   ]
  },
  {
   "cell_type": "code",
   "execution_count": 15,
   "id": "a43ccdf6",
   "metadata": {},
   "outputs": [],
   "source": [
    "#ρ12=cumulant12(max_t, a, b, c, dm=True, l=l)"
   ]
  },
  {
   "cell_type": "code",
   "execution_count": 16,
   "id": "e50b6e23",
   "metadata": {},
   "outputs": [],
   "source": [
    "#ρ13=cumulant13(max_t, a, b, c, dm=True, l=l)"
   ]
  },
  {
   "cell_type": "code",
   "execution_count": 17,
   "id": "95564cfe",
   "metadata": {},
   "outputs": [],
   "source": [
    "#ρ14=cumulant14(max_t, a, b, c, dm=True, l=l)"
   ]
  },
  {
   "cell_type": "code",
   "execution_count": 18,
   "id": "d1ccd5f5",
   "metadata": {},
   "outputs": [],
   "source": [
    "#ρ15=cumulant15(max_t, a, b, c, dm=True, l=l)"
   ]
  },
  {
   "cell_type": "code",
   "execution_count": 19,
   "id": "edf5bb2a",
   "metadata": {},
   "outputs": [],
   "source": [
    "#ρ16=cumulant16(max_t, a, b, c, dm=True, l=l)"
   ]
  },
  {
   "cell_type": "code",
   "execution_count": 20,
   "id": "9d7beef5",
   "metadata": {},
   "outputs": [],
   "source": [
    "#ρ17=cumulant17(max_t, a, b, c, dm=True, l=l)"
   ]
  },
  {
   "cell_type": "code",
   "execution_count": 21,
   "id": "2d192422",
   "metadata": {},
   "outputs": [],
   "source": [
    "#ρ18=cumulant18(max_t, a, b, c, dm=True, l=l)"
   ]
  },
  {
   "cell_type": "code",
   "execution_count": 22,
   "id": "d8f190ab",
   "metadata": {},
   "outputs": [],
   "source": [
    "#ρ19=cumulant19(max_t, a, b, c, dm=True, l=l)"
   ]
  },
  {
   "cell_type": "code",
   "execution_count": 23,
   "id": "bcfe2c0e",
   "metadata": {},
   "outputs": [],
   "source": [
    "#ρ20=cumulant20(max_t, a, b, c, dm=True, l=l)"
   ]
  },
  {
   "cell_type": "code",
   "execution_count": 24,
   "id": "77d50062",
   "metadata": {},
   "outputs": [],
   "source": [
    "#ρ21=cumulant21(max_t, a, b, c, dm=True, l=l)"
   ]
  },
  {
   "cell_type": "code",
   "execution_count": 25,
   "id": "bb7ad542",
   "metadata": {},
   "outputs": [],
   "source": [
    "#ρ22=cumulant22(max_t, a, b, c, dm=True, l=l)"
   ]
  },
  {
   "cell_type": "code",
   "execution_count": 26,
   "id": "0afd5061",
   "metadata": {},
   "outputs": [],
   "source": [
    "#ρ23=cumulant23(max_t, a, b, c, dm=True, l=l)"
   ]
  },
  {
   "cell_type": "code",
   "execution_count": 27,
   "id": "ae53a1ce",
   "metadata": {},
   "outputs": [],
   "source": [
    "#ρ24=cumulant24(max_t, a, b, c, dm=True, l=l)"
   ]
  },
  {
   "cell_type": "code",
   "execution_count": 28,
   "id": "ee1665e7",
   "metadata": {},
   "outputs": [],
   "source": [
    "#ρ25=cumulant25(max_t, a, b, c, dm=True, l=l)"
   ]
  },
  {
   "cell_type": "code",
   "execution_count": 29,
   "id": "361357aa",
   "metadata": {},
   "outputs": [],
   "source": [
    "#ρ26=cumulant26(max_t, a, b, c, dm=True, l=l)"
   ]
  },
  {
   "cell_type": "code",
   "execution_count": null,
   "id": "e24ce6ea",
   "metadata": {},
   "outputs": [],
   "source": []
  },
  {
   "cell_type": "code",
   "execution_count": null,
   "id": "6351d543",
   "metadata": {},
   "outputs": [],
   "source": []
  },
  {
   "cell_type": "code",
   "execution_count": null,
   "id": "634c8349",
   "metadata": {},
   "outputs": [],
   "source": []
  },
  {
   "cell_type": "code",
   "execution_count": 30,
   "id": "7e347388",
   "metadata": {},
   "outputs": [],
   "source": [
    "σ=[np.array([[1, 0],[0, 0]])]*len(ρ)"
   ]
  },
  {
   "cell_type": "code",
   "execution_count": 31,
   "id": "32c05fd1",
   "metadata": {},
   "outputs": [],
   "source": [
    "F_1=fidelity(σ, ρ)[-1]\n",
    "F_1p=1-F_1"
   ]
  },
  {
   "cell_type": "code",
   "execution_count": null,
   "id": "6fd5bf86",
   "metadata": {},
   "outputs": [],
   "source": []
  },
  {
   "cell_type": "code",
   "execution_count": 32,
   "id": "8c3a325d",
   "metadata": {},
   "outputs": [],
   "source": [
    "F_2=fidelity1(σ, ρ1)[-1]\n",
    "F_2p=F_2"
   ]
  },
  {
   "cell_type": "code",
   "execution_count": 33,
   "id": "3bc60820",
   "metadata": {},
   "outputs": [],
   "source": [
    "F_3=fidelity2(σ, ρ2)[-1]\n",
    "F_3p=F_3"
   ]
  },
  {
   "cell_type": "code",
   "execution_count": 34,
   "id": "be705b87",
   "metadata": {},
   "outputs": [],
   "source": [
    "#F_4=fidelity3(σ, ρ3)[-1]\n",
    "#F_4"
   ]
  },
  {
   "cell_type": "code",
   "execution_count": 35,
   "id": "26dabf27",
   "metadata": {},
   "outputs": [],
   "source": [
    "#F_5=fidelity4(σ, ρ4)[-1]\n",
    "#F_5"
   ]
  },
  {
   "cell_type": "code",
   "execution_count": 36,
   "id": "f4cbff4f",
   "metadata": {},
   "outputs": [],
   "source": [
    "#F_6=fidelity5(σ, ρ5)[-1]\n",
    "#F_6"
   ]
  },
  {
   "cell_type": "code",
   "execution_count": 37,
   "id": "21e9dcca",
   "metadata": {},
   "outputs": [],
   "source": [
    "#F_7=fidelity6(σ, ρ6)[-1]\n",
    "#F_7"
   ]
  },
  {
   "cell_type": "code",
   "execution_count": 38,
   "id": "27b77d51",
   "metadata": {},
   "outputs": [],
   "source": [
    "#F_8=fidelity7(σ, ρ7)[-1]\n",
    "#F_8"
   ]
  },
  {
   "cell_type": "code",
   "execution_count": 39,
   "id": "38113f99",
   "metadata": {},
   "outputs": [],
   "source": [
    "#F_9=fidelity8(σ, ρ8)[-1]\n",
    "#F_9"
   ]
  },
  {
   "cell_type": "code",
   "execution_count": 40,
   "id": "4bba00e0",
   "metadata": {},
   "outputs": [],
   "source": [
    "#F_10=fidelity9(σ, ρ9)[-1]\n",
    "#F_10"
   ]
  },
  {
   "cell_type": "code",
   "execution_count": 41,
   "id": "8c4ba26d",
   "metadata": {},
   "outputs": [],
   "source": [
    "#F_11=fidelity10(σ, ρ10)[-1]\n",
    "#F_11"
   ]
  },
  {
   "cell_type": "code",
   "execution_count": 42,
   "id": "179ce614",
   "metadata": {},
   "outputs": [],
   "source": [
    "#F_12=fidelity11(σ, ρ11)[-1]\n",
    "#F_12"
   ]
  },
  {
   "cell_type": "code",
   "execution_count": 43,
   "id": "d790a7a5",
   "metadata": {},
   "outputs": [],
   "source": [
    "#F_13=fidelity12(σ, ρ12)[-1]\n",
    "#F_13"
   ]
  },
  {
   "cell_type": "code",
   "execution_count": 44,
   "id": "1ca71063",
   "metadata": {},
   "outputs": [],
   "source": [
    "#F_14=fidelity13(σ, ρ13)[-1]\n",
    "#F_14"
   ]
  },
  {
   "cell_type": "code",
   "execution_count": 45,
   "id": "65d6ee71",
   "metadata": {},
   "outputs": [],
   "source": [
    "#F_15=fidelity14(σ, ρ14)[-1]\n",
    "#F_15"
   ]
  },
  {
   "cell_type": "code",
   "execution_count": 46,
   "id": "45a893fd",
   "metadata": {},
   "outputs": [],
   "source": [
    "#F_16=fidelity15(σ, ρ15)[-1]\n",
    "#F_16"
   ]
  },
  {
   "cell_type": "code",
   "execution_count": 47,
   "id": "854fb0cf",
   "metadata": {},
   "outputs": [],
   "source": [
    "#F_17=fidelity16(σ, ρ16)[-1]\n",
    "#F_17"
   ]
  },
  {
   "cell_type": "code",
   "execution_count": 48,
   "id": "ed12aa65",
   "metadata": {},
   "outputs": [],
   "source": [
    "#F_18=fidelity17(σ, ρ17)[-1]\n",
    "#F_18"
   ]
  },
  {
   "cell_type": "code",
   "execution_count": 49,
   "id": "cc0fd187",
   "metadata": {},
   "outputs": [],
   "source": [
    "#F_19=fidelity18(σ, ρ18)[-1]\n",
    "#F_19"
   ]
  },
  {
   "cell_type": "code",
   "execution_count": 50,
   "id": "be21a293",
   "metadata": {},
   "outputs": [],
   "source": [
    "#F_20=fidelity19(σ, ρ19)[-1]\n",
    "#F_20"
   ]
  },
  {
   "cell_type": "code",
   "execution_count": 51,
   "id": "c6cf27cf",
   "metadata": {},
   "outputs": [],
   "source": [
    "#F_21=fidelity20(σ, ρ20)[-1]\n",
    "#F_21"
   ]
  },
  {
   "cell_type": "code",
   "execution_count": 52,
   "id": "4ed34491",
   "metadata": {},
   "outputs": [],
   "source": [
    "#F_22=fidelity21(σ, ρ21)[-1]\n",
    "#F_22"
   ]
  },
  {
   "cell_type": "code",
   "execution_count": 53,
   "id": "58188f57",
   "metadata": {},
   "outputs": [],
   "source": [
    "#F_23=fidelity22(σ, ρ22)[-1]\n",
    "#F_23"
   ]
  },
  {
   "cell_type": "code",
   "execution_count": 54,
   "id": "69f76cda",
   "metadata": {},
   "outputs": [],
   "source": [
    "#F_24=fidelity23(σ, ρ23)[-1]\n",
    "#F_24"
   ]
  },
  {
   "cell_type": "code",
   "execution_count": 55,
   "id": "8995845b",
   "metadata": {},
   "outputs": [],
   "source": [
    "#F_25=fidelity24(σ, ρ24)[-1]\n",
    "#F_25"
   ]
  },
  {
   "cell_type": "code",
   "execution_count": 56,
   "id": "c3254af1",
   "metadata": {},
   "outputs": [],
   "source": [
    "#F_26=fidelity25(σ, ρ25)[-1]\n",
    "#F_26"
   ]
  },
  {
   "cell_type": "code",
   "execution_count": 57,
   "id": "e07080fa",
   "metadata": {},
   "outputs": [],
   "source": [
    "#F_27=fidelity26(σ, ρ26)[-1]\n",
    "#F_27"
   ]
  },
  {
   "cell_type": "code",
   "execution_count": null,
   "id": "ab9ae9cf",
   "metadata": {},
   "outputs": [],
   "source": []
  },
  {
   "cell_type": "code",
   "execution_count": null,
   "id": "3c090640",
   "metadata": {},
   "outputs": [],
   "source": []
  },
  {
   "cell_type": "code",
   "execution_count": null,
   "id": "443f3c9e",
   "metadata": {},
   "outputs": [],
   "source": []
  },
  {
   "cell_type": "code",
   "execution_count": 58,
   "id": "135c89fb",
   "metadata": {},
   "outputs": [],
   "source": [
    "tlist=np.linspace(0, max_t, l)"
   ]
  },
  {
   "cell_type": "code",
   "execution_count": null,
   "id": "cbe34cd0",
   "metadata": {},
   "outputs": [],
   "source": []
  },
  {
   "cell_type": "code",
   "execution_count": 59,
   "id": "504a27d4",
   "metadata": {},
   "outputs": [
    {
     "data": {
      "image/png": "[encoded data removed]",
      "text/plain": [
       "<Figure size 640x480 with 1 Axes>"
      ]
     },
     "metadata": {},
     "output_type": "display_data"
    }
   ],
   "source": [
    "plt.plot(tlist,1-fidelity(σ, ρ), label=\"$t_1=1$\", linewidth=3)\n",
    "plt.plot(tlist,1-fidelity1(σ, ρ1), label=\"$t_1=2$\", linewidth=3)\n",
    "plt.plot(tlist,1-fidelity2(σ, ρ2), label=\"$t_1=3$\", linewidth=3)\n",
    "#plt.plot(tlist,fidelity3(σ, ρ3), label=\"$t_1=4$\", linewidth=3)\n",
    "#plt.plot(tlist,fidelity4(σ, ρ4), label=\"$t_1=5$\", linewidth=3)\n",
    "#plt.plot(tlist,fidelity5(σ, ρ5), label=\"$t_1=6$\", linewidth=3)\n",
    "#plt.plot(tlist,fidelity6(σ, ρ6), label=\"$t_1=7$\", linewidth=3)\n",
    "#plt.plot(tlist,fidelity7(σ, ρ7), label=\"$t_1=8$\", linewidth=3)\n",
    "#plt.plot(tlist,fidelity8(σ, ρ8), label=\"$t_1=9$\", linewidth=3)\n",
    "plt.ylabel('$F(t)$',fontsize=15,fontweight=1e3,loc='center',rotation=90,labelpad=15)\n",
    "plt.xlabel('$ t$',fontsize=15,fontweight=1e3,loc='right')\n",
    "plt.xticks(fontsize=10,fontweight=\"bold\")\n",
    "plt.yticks(fontsize=10,fontweight=\"bold\")\n",
    "plt.title(\"Fidelity w.r.t. time for  times of gate\")\n",
    "plt.legend()\n",
    "plt.savefig('imag1.png', dpi=100, bbox_inches='tight', transparent=False)\n",
    "plt.show()"
   ]
  },
  {
   "cell_type": "code",
   "execution_count": 60,
   "id": "9341e109",
   "metadata": {},
   "outputs": [],
   "source": [
    "import matplotlib as mpl\n",
    "\n",
    "mpl.rcParams['figure.figsize']=(10,5)\n",
    "mpl.rcParams['axes.linewidth'] = 1 # set the value globally\n",
    "mpl.rcParams['lines.linewidth'] = 5 # set the value globally"
   ]
  },
  {
   "cell_type": "code",
   "execution_count": 61,
   "id": "be8525d6",
   "metadata": {},
   "outputs": [
    {
     "data": {
      "text/plain": [
       "2"
      ]
     },
     "execution_count": 61,
     "metadata": {},
     "output_type": "execute_result"
    }
   ],
   "source": [
    "1+1"
   ]
  },
  {
   "cell_type": "code",
   "execution_count": null,
   "id": "9ad17f6f",
   "metadata": {},
   "outputs": [],
   "source": []
  },
  {
   "cell_type": "code",
   "execution_count": 62,
   "id": "5505d7e6",
   "metadata": {},
   "outputs": [],
   "source": [
    "tlist1=np.array([1,2,3]) #,4,5,6,7,8, 9, 10, 11, 12, 13, 14, 15, 16, 17, 18, 19, 20, 21, 22, 23, 24, 25, 26, 27])"
   ]
  },
  {
   "cell_type": "code",
   "execution_count": 63,
   "id": "696136ec",
   "metadata": {},
   "outputs": [],
   "source": [
    "max_F=np.array([F_1 ,F_2 ,F_3]) #, F_4, F_5, F_6, F_7, F_8, F_9, F_10, F_11, F_12, F_13, F_14, F_15, F_16, F_17, F_18, F_19, F_20, F_21, F_22, F_23, F_24, F_25, F_26, F_27])"
   ]
  },
  {
   "cell_type": "code",
   "execution_count": 64,
   "id": "fae91db8",
   "metadata": {},
   "outputs": [
    {
     "name": "stderr",
     "output_type": "stream",
     "text": [
      "WARNING:matplotlib.legend:No artists with labels found to put in legend.  Note that artists whose label start with an underscore are ignored when legend() is called with no argument.\n"
     ]
    },
    {
     "data": {
      "image/png": "[encoded data removed]",
      "text/plain": [
       "<Figure size 1000x500 with 1 Axes>"
      ]
     },
     "metadata": {},
     "output_type": "display_data"
    }
   ],
   "source": [
    "plt.plot(tlist1, max_F,marker=\"\", linewidth=4)\n",
    "plt.ylabel('$F_g$',fontsize=20,fontweight=1e3,loc='top',rotation=0,labelpad=-50)\n",
    "plt.xlabel('$ t_1$',fontsize=20,fontweight=1e3,loc='right')\n",
    "plt.title(\"Fidelity w.r.t. time of the gate\")\n",
    "plt.legend()\n",
    "plt.savefig('img1.png', dpi=100, bbox_inches='tight', transparent=False)\n",
    "plt.rcParams.update({'font.size': 16})\n",
    "plt.show()"
   ]
  },
  {
   "cell_type": "code",
   "execution_count": null,
   "id": "3c576dfb",
   "metadata": {},
   "outputs": [],
   "source": []
  },
  {
   "cell_type": "code",
   "execution_count": null,
   "id": "3448a4e3",
   "metadata": {},
   "outputs": [],
   "source": []
  },
  {
   "cell_type": "code",
   "execution_count": null,
   "id": "5b4284e3",
   "metadata": {},
   "outputs": [],
   "source": []
  },
  {
   "cell_type": "code",
   "execution_count": null,
   "id": "7dc571e9",
   "metadata": {},
   "outputs": [],
   "source": []
  },
  {
   "cell_type": "code",
   "execution_count": null,
   "id": "7d962084",
   "metadata": {},
   "outputs": [],
   "source": []
  },
  {
   "cell_type": "code",
   "execution_count": 65,
   "id": "212c0216",
   "metadata": {},
   "outputs": [
    {
     "ename": "NameError",
     "evalue": "name 'ρ11' is not defined",
     "output_type": "error",
     "traceback": [
      "\u001b[0;31m---------------------------------------------------------------------------\u001b[0m",
      "\u001b[0;31mNameError\u001b[0m                                 Traceback (most recent call last)",
      "Cell \u001b[0;32mIn[65], line 1\u001b[0m\n\u001b[0;32m----> 1\u001b[0m plt\u001b[38;5;241m.\u001b[39mplot(tlist, \u001b[43mρ11\u001b[49m)\n\u001b[1;32m      2\u001b[0m plt\u001b[38;5;241m.\u001b[39mylabel(\u001b[38;5;124mr\u001b[39m\u001b[38;5;124m'\u001b[39m\u001b[38;5;124m$ρ_\u001b[39m\u001b[38;5;132;01m{ee}\u001b[39;00m\u001b[38;5;124m$\u001b[39m\u001b[38;5;124m'\u001b[39m,fontsize\u001b[38;5;241m=\u001b[39m\u001b[38;5;241m25\u001b[39m,fontweight\u001b[38;5;241m=\u001b[39m\u001b[38;5;241m1e3\u001b[39m,loc\u001b[38;5;241m=\u001b[39m\u001b[38;5;124m'\u001b[39m\u001b[38;5;124mtop\u001b[39m\u001b[38;5;124m'\u001b[39m,rotation\u001b[38;5;241m=\u001b[39m\u001b[38;5;241m0\u001b[39m,labelpad\u001b[38;5;241m=\u001b[39m\u001b[38;5;241m-\u001b[39m\u001b[38;5;241m50\u001b[39m)\n\u001b[1;32m      3\u001b[0m plt\u001b[38;5;241m.\u001b[39mxlabel(\u001b[38;5;124mr\u001b[39m\u001b[38;5;124m'\u001b[39m\u001b[38;5;124m$ t$\u001b[39m\u001b[38;5;124m'\u001b[39m,fontsize\u001b[38;5;241m=\u001b[39m\u001b[38;5;241m25\u001b[39m,fontweight\u001b[38;5;241m=\u001b[39m\u001b[38;5;241m1e3\u001b[39m,loc\u001b[38;5;241m=\u001b[39m\u001b[38;5;124m'\u001b[39m\u001b[38;5;124mright\u001b[39m\u001b[38;5;124m'\u001b[39m)\n",
      "\u001b[0;31mNameError\u001b[0m: name 'ρ11' is not defined"
     ]
    }
   ],
   "source": [
    "plt.plot(tlist, ρ11)\n",
    "plt.ylabel(r'$ρ_{ee}$',fontsize=25,fontweight=1e3,loc='top',rotation=0,labelpad=-50)\n",
    "plt.xlabel(r'$ t$',fontsize=25,fontweight=1e3,loc='right')\n",
    "plt.xticks(fontsize=15,fontweight=\"bold\")\n",
    "plt.yticks(fontsize=15,fontweight=\"bold\")\n",
    "plt.show()"
   ]
  },
  {
   "cell_type": "code",
   "execution_count": null,
   "id": "92fc3430",
   "metadata": {},
   "outputs": [],
   "source": [
    "plt.plot(tlist, np.imag(ρ12))\n",
    "plt.ylabel(r'$Imag(ρ_{eg})$',fontsize=25,fontweight=1e3,loc='top',rotation=0,labelpad=-50)\n",
    "plt.xlabel(r'$ t$',fontsize=25,fontweight=1e3,loc='right')\n",
    "plt.xticks(fontsize=15,fontweight=\"bold\")\n",
    "plt.yticks(fontsize=15,fontweight=\"bold\")\n",
    "plt.show()"
   ]
  },
  {
   "cell_type": "code",
   "execution_count": null,
   "id": "509c1ff2",
   "metadata": {},
   "outputs": [],
   "source": [
    "plt.plot(tlist, np.abs(ρ12))\n",
    "plt.ylabel(r'$|ρ_{eg}|$',fontsize=25,fontweight=1e3,loc='top',rotation=0,labelpad=-50)\n",
    "plt.xlabel(r'$ t$',fontsize=25,fontweight=1e3,loc='right')\n",
    "plt.xticks(fontsize=15,fontweight=\"bold\")\n",
    "plt.yticks(fontsize=15,fontweight=\"bold\")\n",
    "plt.show()"
   ]
  },
  {
   "cell_type": "code",
   "execution_count": null,
   "id": "a2d700d5",
   "metadata": {},
   "outputs": [],
   "source": [
    "plt.plot(tlist, np.real(ρ12))\n",
    "plt.ylabel(r'$Real(ρ_{eg})$',fontsize=25,fontweight=1e3,loc='top',rotation=0,labelpad=-50)\n",
    "plt.xlabel(r'$ t$',fontsize=25,fontweight=1e3,loc='right')\n",
    "plt.xticks(fontsize=15,fontweight=\"bold\")\n",
    "plt.yticks(fontsize=15,fontweight=\"bold\")\n",
    "plt.show()"
   ]
  },
  {
   "cell_type": "code",
   "execution_count": null,
   "id": "4d615f0b",
   "metadata": {},
   "outputs": [],
   "source": [
    "plt.plot(tlist, ρ22)\n",
    "plt.ylabel(r'$ρ_{gg}$',fontsize=25,fontweight=1e3,loc='top',rotation=0,labelpad=-50)\n",
    "plt.xlabel(r'$ t$',fontsize=25,fontweight=1e3,loc='right')\n",
    "plt.xticks(fontsize=15,fontweight=\"bold\")\n",
    "plt.yticks(fontsize=15,fontweight=\"bold\")\n",
    "plt.show()"
   ]
  },
  {
   "cell_type": "code",
   "execution_count": null,
   "id": "41aaf6d7",
   "metadata": {},
   "outputs": [],
   "source": []
  },
  {
   "cell_type": "code",
   "execution_count": null,
   "id": "7037ffdf",
   "metadata": {},
   "outputs": [],
   "source": []
  },
  {
   "cell_type": "code",
   "execution_count": null,
   "id": "d8b47463",
   "metadata": {},
   "outputs": [],
   "source": []
  },
  {
   "cell_type": "code",
   "execution_count": null,
   "id": "7807acda",
   "metadata": {},
   "outputs": [],
   "source": []
  },
  {
   "cell_type": "code",
   "execution_count": null,
   "id": "e693d0cb",
   "metadata": {},
   "outputs": [],
   "source": []
  },
  {
   "cell_type": "code",
   "execution_count": null,
   "id": "e5b9b826",
   "metadata": {},
   "outputs": [],
   "source": []
  },
  {
   "cell_type": "code",
   "execution_count": null,
   "id": "5f815e88",
   "metadata": {},
   "outputs": [],
   "source": []
  },
  {
   "cell_type": "code",
   "execution_count": null,
   "id": "0b91c7c2",
   "metadata": {},
   "outputs": [],
   "source": []
  },
  {
   "cell_type": "code",
   "execution_count": null,
   "id": "c5d4dc71",
   "metadata": {},
   "outputs": [],
   "source": []
  },
  {
   "cell_type": "code",
   "execution_count": null,
   "id": "ce50be32",
   "metadata": {},
   "outputs": [],
   "source": []
  }
 ],
 "metadata": {
  "kernelspec": {
   "display_name": "Python 3 (ipykernel)",
   "language": "python",
   "name": "python3"
  },
  "language_info": {
   "codemirror_mode": {
    "name": "ipython",
    "version": 3
   },
   "file_extension": ".py",
   "mimetype": "text/x-python",
   "name": "python",
   "nbconvert_exporter": "python",
   "pygments_lexer": "ipython3",
   "version": "3.9.4"
  }
 },
 "nbformat": 4,
 "nbformat_minor": 5
}
