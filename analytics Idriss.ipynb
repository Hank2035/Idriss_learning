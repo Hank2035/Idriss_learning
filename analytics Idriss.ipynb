{
 "cells": [
  {
   "cell_type": "markdown",
   "id": "be55576f",
   "metadata": {},
   "source": [
    "pip install sympy\n",
    "pip install scipy"
   ]
  },
  {
   "cell_type": "code",
   "execution_count": 1,
   "id": "e9c40cd9",
   "metadata": {},
   "outputs": [],
   "source": [
    "import math\n",
    "from sympy import *\n",
    "from scipy import integrate\n",
    "from scipy.integrate import quad\n",
    "import numpy as np"
   ]
  },
  {
   "cell_type": "code",
   "execution_count": 2,
   "id": "12dde79e",
   "metadata": {},
   "outputs": [],
   "source": [
    "alpha,t1,t,t0=symbols(' alpha t1 t t0',real=True)\n",
    "x,w,T,s,s1=symbols('x w T s s1',real=True)"
   ]
  },
  {
   "cell_type": "markdown",
   "id": "4215e93a",
   "metadata": {},
   "source": [
    "# $f(t)=\\frac{\\alpha}{t_1\\sqrt{2 \\pi} }e^{-\\frac{t^2}{2t^2_1}}$"
   ]
  },
  {
   "cell_type": "code",
   "execution_count": 3,
   "id": "90514fff",
   "metadata": {},
   "outputs": [
    {
     "data": {
      "text/latex": [
       "$\\displaystyle \\frac{\\sqrt{2} \\alpha e^{- \\frac{t^{2}}{2 t_{1}^{2}}}}{2 \\sqrt{\\pi} t_{1}}$"
      ],
      "text/plain": [
       "sqrt(2)*alpha*exp(-t**2/(2*t1**2))/(2*sqrt(pi)*t1)"
      ]
     },
     "execution_count": 3,
     "metadata": {},
     "output_type": "execute_result"
    }
   ],
   "source": [
    "f= alpha/(t1 * sqrt(2*pi)) * exp(-Rational(1,2) * (t/t1)**2)\n",
    "f"
   ]
  },
  {
   "cell_type": "code",
   "execution_count": 12,
   "id": "5ce036c7",
   "metadata": {},
   "outputs": [
    {
     "data": {
      "text/latex": [
       "$\\displaystyle w^{3} \\left(- i \\sin{\\left(t w \\right)} + \\frac{\\cos{\\left(t w \\right)}}{\\tan{\\left(\\frac{w}{2 T} \\right)}}\\right) e^{- w}$"
      ],
      "text/plain": [
       "w**3*(-I*sin(t*w) + cos(t*w)/tan(w/(2*T)))*exp(-w)"
      ]
     },
     "execution_count": 12,
     "metadata": {},
     "output_type": "execute_result"
    }
   ],
   "source": [
    "g= w**3*exp(-w)*(cos(w*t)*(1/tan(w/(2*T)))-I*sin(w*t))\n",
    "g"
   ]
  },
  {
   "cell_type": "code",
   "execution_count": 24,
   "id": "022fb65a",
   "metadata": {},
   "outputs": [],
   "source": [
    "t1=0.5"
   ]
  },
  {
   "cell_type": "code",
   "execution_count": 26,
   "id": "85b5392a",
   "metadata": {},
   "outputs": [
    {
     "data": {
      "text/plain": [
       "<function _lambdifygenerated(t)>"
      ]
     },
     "execution_count": 26,
     "metadata": {},
     "output_type": "execute_result"
    }
   ],
   "source": [
    "ans=lambdify((t), f, 'numpy')\n",
    "ans"
   ]
  },
  {
   "cell_type": "code",
   "execution_count": 14,
   "id": "ff64f34f",
   "metadata": {},
   "outputs": [
    {
     "data": {
      "text/plain": [
       "<function _lambdifygenerated(w, T, t)>"
      ]
     },
     "execution_count": 14,
     "metadata": {},
     "output_type": "execute_result"
    }
   ],
   "source": [
    "func1 = lambdify((w,T,t), g, 'numpy')\n",
    "func1"
   ]
  },
  {
   "cell_type": "code",
   "execution_count": 19,
   "id": "ddd9516a",
   "metadata": {},
   "outputs": [
    {
     "data": {
      "text/plain": [
       "<function __main__.<lambda>(x, t1=1)>"
      ]
     },
     "execution_count": 19,
     "metadata": {},
     "output_type": "execute_result"
    }
   ],
   "source": [
    "g=lambda x,t1: ans(x,t1)\n",
    "g"
   ]
  },
  {
   "cell_type": "code",
   "execution_count": 20,
   "id": "60efa7ab",
   "metadata": {},
   "outputs": [
    {
     "ename": "TypeError",
     "evalue": "loop of ufunc does not support argument 0 of type Mul which has no callable exp method",
     "output_type": "error",
     "traceback": [
      "\u001b[0;31m---------------------------------------------------------------------------\u001b[0m",
      "\u001b[0;31mAttributeError\u001b[0m                            Traceback (most recent call last)",
      "\u001b[0;31mAttributeError\u001b[0m: 'Mul' object has no attribute 'exp'",
      "\nThe above exception was the direct cause of the following exception:\n",
      "\u001b[0;31mTypeError\u001b[0m                                 Traceback (most recent call last)",
      "Cell \u001b[0;32mIn[20], line 1\u001b[0m\n\u001b[0;32m----> 1\u001b[0m integrate(\u001b[43mg\u001b[49m\u001b[43m(\u001b[49m\u001b[43mx\u001b[49m\u001b[43m)\u001b[49m, (x , t0, t))\n",
      "Cell \u001b[0;32mIn[19], line 1\u001b[0m, in \u001b[0;36m<lambda>\u001b[0;34m(x, t1)\u001b[0m\n\u001b[0;32m----> 1\u001b[0m g\u001b[38;5;241m=\u001b[39m\u001b[38;5;28;01mlambda\u001b[39;00m x,t1\u001b[38;5;241m=\u001b[39m\u001b[38;5;241m1\u001b[39m: \u001b[43mans\u001b[49m\u001b[43m(\u001b[49m\u001b[43mx\u001b[49m\u001b[43m,\u001b[49m\u001b[43mt1\u001b[49m\u001b[43m)\u001b[49m\n\u001b[1;32m      2\u001b[0m g\n",
      "File \u001b[0;32m<lambdifygenerated-1>:2\u001b[0m, in \u001b[0;36m_lambdifygenerated\u001b[0;34m(t, t1)\u001b[0m\n\u001b[1;32m      1\u001b[0m \u001b[38;5;28;01mdef\u001b[39;00m \u001b[38;5;21m_lambdifygenerated\u001b[39m(t, t1):\n\u001b[0;32m----> 2\u001b[0m     \u001b[38;5;28;01mreturn\u001b[39;00m (\u001b[38;5;241m1\u001b[39m\u001b[38;5;241m/\u001b[39m\u001b[38;5;241m2\u001b[39m)\u001b[38;5;241m*\u001b[39msqrt(\u001b[38;5;241m2\u001b[39m)\u001b[38;5;241m*\u001b[39malpha\u001b[38;5;241m*\u001b[39m\u001b[43mexp\u001b[49m\u001b[43m(\u001b[49m\u001b[38;5;241;43m-\u001b[39;49m\u001b[38;5;241;43m1\u001b[39;49m\u001b[38;5;241;43m/\u001b[39;49m\u001b[38;5;241;43m2\u001b[39;49m\u001b[38;5;241;43m*\u001b[39;49m\u001b[43mt\u001b[49m\u001b[38;5;241;43m*\u001b[39;49m\u001b[38;5;241;43m*\u001b[39;49m\u001b[38;5;241;43m2\u001b[39;49m\u001b[38;5;241;43m/\u001b[39;49m\u001b[43mt1\u001b[49m\u001b[38;5;241;43m*\u001b[39;49m\u001b[38;5;241;43m*\u001b[39;49m\u001b[38;5;241;43m2\u001b[39;49m\u001b[43m)\u001b[49m\u001b[38;5;241m/\u001b[39m(sqrt(pi)\u001b[38;5;241m*\u001b[39mt1)\n",
      "\u001b[0;31mTypeError\u001b[0m: loop of ufunc does not support argument 0 of type Mul which has no callable exp method"
     ]
    }
   ],
   "source": [
    "integrate(g(x), (x , t0, t))"
   ]
  },
  {
   "cell_type": "code",
   "execution_count": null,
   "id": "02cb43d2",
   "metadata": {},
   "outputs": [],
   "source": [
    "help(integrate)"
   ]
  },
  {
   "cell_type": "code",
   "execution_count": null,
   "id": "51886576",
   "metadata": {},
   "outputs": [],
   "source": [
    "#from scipy import integrate\n",
    "#import numpy as np"
   ]
  },
  {
   "cell_type": "code",
   "execution_count": 27,
   "id": "442e471f",
   "metadata": {},
   "outputs": [
    {
     "ename": "TypeError",
     "evalue": "loop of ufunc does not support argument 0 of type Mul which has no callable exp method",
     "output_type": "error",
     "traceback": [
      "\u001b[0;31m---------------------------------------------------------------------------\u001b[0m",
      "\u001b[0;31mAttributeError\u001b[0m                            Traceback (most recent call last)",
      "\u001b[0;31mAttributeError\u001b[0m: 'Mul' object has no attribute 'exp'",
      "\nThe above exception was the direct cause of the following exception:\n",
      "\u001b[0;31mTypeError\u001b[0m                                 Traceback (most recent call last)",
      "Cell \u001b[0;32mIn[27], line 1\u001b[0m\n\u001b[0;32m----> 1\u001b[0m tooint\u001b[38;5;241m=\u001b[39mw\u001b[38;5;241m*\u001b[39m\u001b[38;5;241m*\u001b[39m\u001b[38;5;241m3\u001b[39m\u001b[38;5;241m*\u001b[39m(cos(\u001b[43mans\u001b[49m\u001b[43m(\u001b[49m\u001b[43ms\u001b[49m\u001b[43m)\u001b[49m\u001b[38;5;241m+\u001b[39mans(s1)\u001b[38;5;241m+\u001b[39m w\u001b[38;5;241m*\u001b[39m(s\u001b[38;5;241m-\u001b[39ms1))\u001b[38;5;241m+\u001b[39mI\u001b[38;5;241m*\u001b[39msin(ans(s)\u001b[38;5;241m+\u001b[39mans(s1)\u001b[38;5;241m+\u001b[39m w \u001b[38;5;241m*\u001b[39m(s\u001b[38;5;241m-\u001b[39ms1)))\u001b[38;5;241m*\u001b[39m(\u001b[38;5;241m1\u001b[39m\u001b[38;5;241m/\u001b[39m(exp(w\u001b[38;5;241m/\u001b[39mT)\u001b[38;5;241m-\u001b[39m\u001b[38;5;241m1\u001b[39m))\n\u001b[1;32m      2\u001b[0m \u001b[38;5;66;03m#tooint\u001b[39;00m\n",
      "File \u001b[0;32m<lambdifygenerated-5>:2\u001b[0m, in \u001b[0;36m_lambdifygenerated\u001b[0;34m(t)\u001b[0m\n\u001b[1;32m      1\u001b[0m \u001b[38;5;28;01mdef\u001b[39;00m \u001b[38;5;21m_lambdifygenerated\u001b[39m(t):\n\u001b[0;32m----> 2\u001b[0m     \u001b[38;5;28;01mreturn\u001b[39;00m (\u001b[38;5;241m1\u001b[39m\u001b[38;5;241m/\u001b[39m\u001b[38;5;241m2\u001b[39m)\u001b[38;5;241m*\u001b[39msqrt(\u001b[38;5;241m2\u001b[39m)\u001b[38;5;241m*\u001b[39malpha\u001b[38;5;241m*\u001b[39m\u001b[43mexp\u001b[49m\u001b[43m(\u001b[49m\u001b[38;5;241;43m-\u001b[39;49m\u001b[38;5;241;43m1\u001b[39;49m\u001b[38;5;241;43m/\u001b[39;49m\u001b[38;5;241;43m2\u001b[39;49m\u001b[38;5;241;43m*\u001b[39;49m\u001b[43mt\u001b[49m\u001b[38;5;241;43m*\u001b[39;49m\u001b[38;5;241;43m*\u001b[39;49m\u001b[38;5;241;43m2\u001b[39;49m\u001b[38;5;241;43m/\u001b[39;49m\u001b[43mt1\u001b[49m\u001b[38;5;241;43m*\u001b[39;49m\u001b[38;5;241;43m*\u001b[39;49m\u001b[38;5;241;43m2\u001b[39;49m\u001b[43m)\u001b[49m\u001b[38;5;241m/\u001b[39m(sqrt(pi)\u001b[38;5;241m*\u001b[39mt1)\n",
      "\u001b[0;31mTypeError\u001b[0m: loop of ufunc does not support argument 0 of type Mul which has no callable exp method"
     ]
    }
   ],
   "source": [
    "tooint=w**3*(cos(ans(s)+ans(s1)+ w*(s-s1))+I*sin(ans(s)+ans(s1)+ w *(s-s1)))*(1/(exp(w/T)-1))\n",
    "#tooint"
   ]
  },
  {
   "cell_type": "code",
   "execution_count": null,
   "id": "cb1f0876",
   "metadata": {},
   "outputs": [],
   "source": [
    "func1 = lambdify((w,T,s,s1,t1,t0,alpha,t), tooint, 'numpy')"
   ]
  },
  {
   "cell_type": "code",
   "execution_count": null,
   "id": "62e7dd75",
   "metadata": {},
   "outputs": [],
   "source": [
    "%timeit func1(1,1,1,1,1,0,1,10)"
   ]
  },
  {
   "cell_type": "markdown",
   "id": "d3be18a7",
   "metadata": {},
   "source": []
  },
  {
   "cell_type": "code",
   "execution_count": null,
   "id": "54534336",
   "metadata": {},
   "outputs": [],
   "source": [
    "import scipy.integrate\n",
    "import numpy as np"
   ]
  },
  {
   "cell_type": "code",
   "execution_count": null,
   "id": "11c45713",
   "metadata": {},
   "outputs": [],
   "source": [
    "scipy.integrate.tplquad(lambda w,s,s1: np.real(func1(w,1,s,s1,5,0,1,1)) , 0, np.inf, 0, 15, 0, 15)"
   ]
  },
  {
   "cell_type": "code",
   "execution_count": null,
   "id": "78d629fa",
   "metadata": {},
   "outputs": [],
   "source": [
    "import mcint\n",
    "import random\n",
    "import math"
   ]
  },
  {
   "cell_type": "code",
   "execution_count": null,
   "id": "c1fe3983",
   "metadata": {},
   "outputs": [],
   "source": [
    "\n",
    "def fu(s,s1,w):\n",
    "    return (w**3*(cos(ans(s)+ans(s1)+ w*(s-s1)))*(1/(exp(w/T)-1)))\n",
    "\n",
    "def integrand(x):\n",
    "    w = x[0]\n",
    "    s = x[1]\n",
    "    s1 = x[2]\n",
    "    \n",
    "    t0=0.\n",
    "    t1=1.\n",
    "    alpha = 0.5\n",
    "    T= 1.\n",
    "    fun =fu(s,s1,w)\n",
    "    return (fun)\n",
    "\n",
    "def sampi():\n",
    "    while True:\n",
    "        w = random.uniform(0., 1000)\n",
    "        s = random.uniform(0., 1.)\n",
    "        s1 = random.uniform(0., 1.)\n",
    "        yield (w, s, s1)\n",
    "        \n",
    "        \n",
    "domainsize = math.pow(5000, 4)*100\n",
    "\n",
    "for nmc in [1000, 10000, 100000]:\n",
    "    random.seed(1)\n",
    "    result, error = mcint.integrate(integrand, sampi(), measure= domainsize, n=nmc)\n",
    "    \n",
    "    print (\"Using n =\", nmc)\n",
    "    print (\"Result =\", result, \"estimated_error =\", error)\n",
    "    print (\" \")\n"
   ]
  },
  {
   "cell_type": "code",
   "execution_count": null,
   "id": "45e5bd63",
   "metadata": {},
   "outputs": [],
   "source": []
  },
  {
   "cell_type": "code",
   "execution_count": null,
   "id": "77066e78",
   "metadata": {},
   "outputs": [],
   "source": []
  },
  {
   "cell_type": "code",
   "execution_count": null,
   "id": "30f426bd",
   "metadata": {},
   "outputs": [],
   "source": []
  },
  {
   "cell_type": "code",
   "execution_count": null,
   "id": "c27937d3",
   "metadata": {},
   "outputs": [],
   "source": []
  },
  {
   "cell_type": "code",
   "execution_count": null,
   "id": "1473b436",
   "metadata": {},
   "outputs": [],
   "source": [
    "tointegrate=w**3 *(exp(I*(ans(s)+ans(s1) + w *(s-s1))) *(1/(exp(w/T)-1)) + exp(I*(ans(s)+ans(s1) - w *(s-s1))) *(1/(exp(w/T)-1) + 1))\n",
    "tointegrate"
   ]
  },
  {
   "cell_type": "code",
   "execution_count": null,
   "id": "6f7db140",
   "metadata": {},
   "outputs": [],
   "source": [
    "func = lambdify((w,T,s,s1,t1,t0,alpha,t), tointegrate, 'numpy')"
   ]
  },
  {
   "cell_type": "code",
   "execution_count": null,
   "id": "f3abbf3a",
   "metadata": {},
   "outputs": [],
   "source": [
    "%timeit func(1,1,1,1,1,0,1,10)"
   ]
  },
  {
   "cell_type": "code",
   "execution_count": null,
   "id": "68ab18fb",
   "metadata": {},
   "outputs": [],
   "source": [
    "from scipy import integrate\n",
    "import numpy as np"
   ]
  },
  {
   "cell_type": "code",
   "execution_count": null,
   "id": "d8c37c41",
   "metadata": {},
   "outputs": [],
   "source": [
    "integrate.tplquad(lambda w,s,s1: np.real(func(w,1,s,s1,5,0,1,1)) , 0, np.inf, 0, 15, 0, 1)"
   ]
  },
  {
   "cell_type": "markdown",
   "id": "5442351b",
   "metadata": {},
   "source": [
    "# So the bottleneck is the triple integration is slow. It can be sped up by optimizing the evalutation of func (from microseconds to nano) or a better speed up would be to use a different way of integration (montecarlo could be one but one would need to study the convergence of such integrals, or anyother method available in cubature, or simply wait), with the standard methods for one dimensional integrals (like Gauss-kronrod). Think that 4 of these integrals need to be computed at every t"
   ]
  }
 ],
 "metadata": {
  "kernelspec": {
   "display_name": "Python 3 (ipykernel)",
   "language": "python",
   "name": "python3"
  },
  "language_info": {
   "codemirror_mode": {
    "name": "ipython",
    "version": 3
   },
   "file_extension": ".py",
   "mimetype": "text/x-python",
   "name": "python",
   "nbconvert_exporter": "python",
   "pygments_lexer": "ipython3",
   "version": "3.9.4"
  }
 },
 "nbformat": 4,
 "nbformat_minor": 5
}
