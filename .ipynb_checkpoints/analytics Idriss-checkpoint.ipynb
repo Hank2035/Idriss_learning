{
 "cells": [
  {
   "cell_type": "markdown",
   "id": "f7626b36",
   "metadata": {},
   "source": [
    "pip install sympy"
   ]
  },
  {
   "cell_type": "code",
   "execution_count": 1,
   "id": "8a0fc4b2",
   "metadata": {},
   "outputs": [],
   "source": [
    "from sympy import *"
   ]
  },
  {
   "cell_type": "code",
   "execution_count": 2,
   "id": "12dde79e",
   "metadata": {},
   "outputs": [],
   "source": [
    "alpha,t1,t,t0=symbols('alpha t1 t t0',real=True)\n",
    "w,T,s,s1=symbols('w T s s1',real=True)"
   ]
  },
  {
   "cell_type": "markdown",
   "id": "dec85fe2",
   "metadata": {},
   "source": [
    "# $f(t)=\\frac{\\alpha}{t_1\\sqrt{2 \\pi} }e^{-\\frac{t^2}{2t^2_1}}$"
   ]
  },
  {
   "cell_type": "code",
   "execution_count": 3,
   "id": "90514fff",
   "metadata": {},
   "outputs": [
    {
     "data": {
      "text/latex": [
       "$\\displaystyle \\frac{\\sqrt{2} \\alpha e^{- \\frac{t^{2}}{2 t_{1}^{2}}}}{2 \\sqrt{\\pi} t_{1}}$"
      ],
      "text/plain": [
       "sqrt(2)*alpha*exp(-t**2/(2*t1**2))/(2*sqrt(pi)*t1)"
      ]
     },
     "execution_count": 3,
     "metadata": {},
     "output_type": "execute_result"
    }
   ],
   "source": [
    "f= alpha/(t1 * sqrt(2*pi)) * exp(-Rational(1,2) * (t/t1)**2)\n",
    "f"
   ]
  },
  {
   "cell_type": "code",
   "execution_count": 4,
   "id": "022fb65a",
   "metadata": {},
   "outputs": [
    {
     "data": {
      "text/latex": [
       "$\\displaystyle \\frac{\\sqrt{2} \\alpha}{2 \\sqrt{\\pi} t_{1}}$"
      ],
      "text/plain": [
       "sqrt(2)*alpha/(2*sqrt(pi)*t1)"
      ]
     },
     "execution_count": 4,
     "metadata": {},
     "output_type": "execute_result"
    }
   ],
   "source": [
    "f.subs(t,0)"
   ]
  },
  {
   "cell_type": "code",
   "execution_count": 5,
   "id": "85b5392a",
   "metadata": {},
   "outputs": [
    {
     "data": {
      "text/latex": [
       "$\\displaystyle \\frac{\\alpha \\left|{t_{1}}\\right| \\operatorname{erf}{\\left(\\frac{\\sqrt{2} t}{2 \\left|{t_{1}}\\right|} \\right)}}{2 t_{1}} - \\frac{\\alpha \\left|{t_{1}}\\right| \\operatorname{erf}{\\left(\\frac{\\sqrt{2} t_{0}}{2 \\left|{t_{1}}\\right|} \\right)}}{2 t_{1}}$"
      ],
      "text/plain": [
       "alpha*Abs(t1)*erf(sqrt(2)*t/(2*Abs(t1)))/(2*t1) - alpha*Abs(t1)*erf(sqrt(2)*t0/(2*Abs(t1)))/(2*t1)"
      ]
     },
     "execution_count": 5,
     "metadata": {},
     "output_type": "execute_result"
    }
   ],
   "source": [
    "ans=lambda x: integrate(f,(t,t0,x))\n",
    "ans(t)"
   ]
  },
  {
   "cell_type": "code",
   "execution_count": null,
   "id": "eeca6a6a",
   "metadata": {},
   "outputs": [],
   "source": []
  },
  {
   "cell_type": "code",
   "execution_count": null,
   "id": "89ba5908",
   "metadata": {},
   "outputs": [],
   "source": []
  },
  {
   "cell_type": "code",
   "execution_count": 6,
   "id": "0d30af79",
   "metadata": {},
   "outputs": [
    {
     "data": {
      "text/latex": [
       "$\\displaystyle e^{i \\left(\\frac{\\alpha \\left|{t_{1}}\\right| \\operatorname{erf}{\\left(\\frac{\\sqrt{2} s}{2 \\left|{t_{1}}\\right|} \\right)}}{2 t_{1}} - \\frac{\\alpha \\left|{t_{1}}\\right| \\operatorname{erf}{\\left(\\frac{\\sqrt{2} t_{0}}{2 \\left|{t_{1}}\\right|} \\right)}}{2 t_{1}} + s w\\right)}$"
      ],
      "text/plain": [
       "exp(I*(alpha*Abs(t1)*erf(sqrt(2)*s/(2*Abs(t1)))/(2*t1) - alpha*Abs(t1)*erf(sqrt(2)*t0/(2*Abs(t1)))/(2*t1) + s*w))"
      ]
     },
     "execution_count": 6,
     "metadata": {},
     "output_type": "execute_result"
    }
   ],
   "source": [
    "g1= exp(I*(ans(s)+ w *s))\n",
    "g1"
   ]
  },
  {
   "cell_type": "code",
   "execution_count": 11,
   "id": "700d9e42",
   "metadata": {},
   "outputs": [
    {
     "data": {
      "text/latex": [
       "$\\displaystyle t e^{i \\left(\\frac{\\alpha \\operatorname{erf}{\\left(\\frac{\\sqrt{2} s}{2 t_{1}} \\right)}}{2} - \\frac{\\alpha \\operatorname{erf}{\\left(\\frac{\\sqrt{2} t_{0}}{2 t_{1}} \\right)}}{2} + s w\\right)} - t_{0} e^{i \\left(\\frac{\\alpha \\operatorname{erf}{\\left(\\frac{\\sqrt{2} s}{2 t_{1}} \\right)}}{2} - \\frac{\\alpha \\operatorname{erf}{\\left(\\frac{\\sqrt{2} t_{0}}{2 t_{1}} \\right)}}{2} + s w\\right)}$"
      ],
      "text/plain": [
       "t*exp(I*(alpha*erf(sqrt(2)*s/(2*t1))/2 - alpha*erf(sqrt(2)*t0/(2*t1))/2 + s*w)) - t0*exp(I*(alpha*erf(sqrt(2)*s/(2*t1))/2 - alpha*erf(sqrt(2)*t0/(2*t1))/2 + s*w))"
      ]
     },
     "execution_count": 11,
     "metadata": {},
     "output_type": "execute_result"
    }
   ],
   "source": [
    "ans1=lambda s: integrate(g1,(t,t0,s))\n",
    "ans1(t)"
   ]
  },
  {
   "cell_type": "code",
   "execution_count": null,
   "id": "7a2277b7",
   "metadata": {},
   "outputs": [],
   "source": []
  },
  {
   "cell_type": "code",
   "execution_count": null,
   "id": "cdbc52b9",
   "metadata": {},
   "outputs": [],
   "source": []
  },
  {
   "cell_type": "code",
   "execution_count": null,
   "id": "6e82da8d",
   "metadata": {},
   "outputs": [],
   "source": []
  },
  {
   "cell_type": "code",
   "execution_count": null,
   "id": "d8c5767c",
   "metadata": {},
   "outputs": [],
   "source": []
  },
  {
   "cell_type": "code",
   "execution_count": 8,
   "id": "1473b436",
   "metadata": {},
   "outputs": [
    {
     "data": {
      "text/latex": [
       "$\\displaystyle w^{3} \\left(\\left(1 + \\frac{1}{e^{\\frac{w}{T}} - 1}\\right) e^{i \\left(\\frac{\\alpha \\left|{t_{1}}\\right| \\operatorname{erf}{\\left(\\frac{\\sqrt{2} s}{2 \\left|{t_{1}}\\right|} \\right)}}{2 t_{1}} + \\frac{\\alpha \\left|{t_{1}}\\right| \\operatorname{erf}{\\left(\\frac{\\sqrt{2} s_{1}}{2 \\left|{t_{1}}\\right|} \\right)}}{2 t_{1}} - \\frac{\\alpha \\left|{t_{1}}\\right| \\operatorname{erf}{\\left(\\frac{\\sqrt{2} t_{0}}{2 \\left|{t_{1}}\\right|} \\right)}}{t_{1}} - w \\left(s - s_{1}\\right)\\right)} + \\frac{e^{i \\left(\\frac{\\alpha \\left|{t_{1}}\\right| \\operatorname{erf}{\\left(\\frac{\\sqrt{2} s}{2 \\left|{t_{1}}\\right|} \\right)}}{2 t_{1}} + \\frac{\\alpha \\left|{t_{1}}\\right| \\operatorname{erf}{\\left(\\frac{\\sqrt{2} s_{1}}{2 \\left|{t_{1}}\\right|} \\right)}}{2 t_{1}} - \\frac{\\alpha \\left|{t_{1}}\\right| \\operatorname{erf}{\\left(\\frac{\\sqrt{2} t_{0}}{2 \\left|{t_{1}}\\right|} \\right)}}{t_{1}} + w \\left(s - s_{1}\\right)\\right)}}{e^{\\frac{w}{T}} - 1}\\right)$"
      ],
      "text/plain": [
       "w**3*((1 + 1/(exp(w/T) - 1))*exp(I*(alpha*Abs(t1)*erf(sqrt(2)*s/(2*Abs(t1)))/(2*t1) + alpha*Abs(t1)*erf(sqrt(2)*s1/(2*Abs(t1)))/(2*t1) - alpha*Abs(t1)*erf(sqrt(2)*t0/(2*Abs(t1)))/t1 - w*(s - s1))) + exp(I*(alpha*Abs(t1)*erf(sqrt(2)*s/(2*Abs(t1)))/(2*t1) + alpha*Abs(t1)*erf(sqrt(2)*s1/(2*Abs(t1)))/(2*t1) - alpha*Abs(t1)*erf(sqrt(2)*t0/(2*Abs(t1)))/t1 + w*(s - s1)))/(exp(w/T) - 1))"
      ]
     },
     "execution_count": 8,
     "metadata": {},
     "output_type": "execute_result"
    }
   ],
   "source": [
    "tointegrate=w**3 *(exp(I*(ans(s)+ans(s1) + w *(s-s1))) *(1/(exp(w/T)-1)) + exp(I*(ans(s)+ans(s1) - w *(s-s1))) *(1/(exp(w/T)-1) + 1))\n",
    "tointegrate"
   ]
  },
  {
   "cell_type": "code",
   "execution_count": 9,
   "id": "6f7db140",
   "metadata": {},
   "outputs": [],
   "source": [
    "func = lambdify((w,T,s,s1,t1,t0,alpha,t), tointegrate, 'numpy')"
   ]
  },
  {
   "cell_type": "code",
   "execution_count": 10,
   "id": "f3abbf3a",
   "metadata": {},
   "outputs": [
    {
     "name": "stdout",
     "output_type": "stream",
     "text": [
      "17.8 µs ± 912 ns per loop (mean ± std. dev. of 7 runs, 100,000 loops each)\n"
     ]
    }
   ],
   "source": [
    "%timeit func(1,1,1,1,1,0,1,10)"
   ]
  },
  {
   "cell_type": "code",
   "execution_count": 11,
   "id": "68ab18fb",
   "metadata": {},
   "outputs": [],
   "source": [
    "from scipy import integrate\n",
    "import numpy as np"
   ]
  },
  {
   "cell_type": "code",
   "execution_count": null,
   "id": "d8c37c41",
   "metadata": {},
   "outputs": [
    {
     "name": "stderr",
     "output_type": "stream",
     "text": [
      "/Users/Hank/Library/Python/3.9/lib/python/site-packages/scipy/integrate/_quadpack_py.py:1225: IntegrationWarning: The maximum number of subdivisions (50) has been achieved.\n",
      "  If increasing the limit yields no improvement it is advised to analyze \n",
      "  the integrand in order to determine the difficulties.  If the position of a \n",
      "  local difficulty can be determined (singularity, discontinuity) one will \n",
      "  probably gain from splitting up the interval and calling the integrator \n",
      "  on the subranges.  Perhaps a special-purpose integrator should be used.\n",
      "  quad_r = quad(f, low, high, args=args, full_output=self.full_output,\n",
      "/Users/Hank/Library/Python/3.9/lib/python/site-packages/scipy/integrate/_quadpack_py.py:1225: IntegrationWarning: The integral is probably divergent, or slowly convergent.\n",
      "  quad_r = quad(f, low, high, args=args, full_output=self.full_output,\n"
     ]
    }
   ],
   "source": [
    "integrate.tplquad(lambda w,s,s1: np.real(func(w,1,s,s1,5,0,1,15)) , 0, np.inf, 0, 15, 0, 15)"
   ]
  },
  {
   "cell_type": "markdown",
   "id": "5442351b",
   "metadata": {},
   "source": [
    "# So the bottleneck is the triple integration is slow. It can be sped up by optimizing the evalutation of func (from microseconds to nano) or a better speed up would be to use a different way of integration (montecarlo could be one but one would need to study the convergence of such integrals, or anyother method available in cubature, or simply wait), with the standard methods for one dimensional integrals (like Gauss-kronrod). Think that 4 of these integrals need to be computed at every t"
   ]
  },
  {
   "cell_type": "code",
   "execution_count": null,
   "id": "4ae2124b",
   "metadata": {},
   "outputs": [],
   "source": []
  }
 ],
 "metadata": {
  "kernelspec": {
   "display_name": "Python 3 (ipykernel)",
   "language": "python",
   "name": "python3"
  },
  "language_info": {
   "codemirror_mode": {
    "name": "ipython",
    "version": 3
   },
   "file_extension": ".py",
   "mimetype": "text/x-python",
   "name": "python",
   "nbconvert_exporter": "python",
   "pygments_lexer": "ipython3",
   "version": "3.9.4"
  }
 },
 "nbformat": 4,
 "nbformat_minor": 5
}
