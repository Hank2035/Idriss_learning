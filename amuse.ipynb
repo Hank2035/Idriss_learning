{
 "cells": [
  {
   "cell_type": "code",
   "execution_count": 1,
   "id": "58bd6dbb",
   "metadata": {},
   "outputs": [],
   "source": [
    "import numpy as np\n",
    "from scipy.integrate import dblquad\n",
    "import ipywidgets as widgets\n",
    "from IPython.display import display"
   ]
  },
  {
   "cell_type": "code",
   "execution_count": 2,
   "id": "08565f88",
   "metadata": {},
   "outputs": [],
   "source": [
    "x= [1, 2, 3, 4, 5]\n",
    "y= [1, 2, 3, 4, 5]"
   ]
  },
  {
   "cell_type": "code",
   "execution_count": 3,
   "id": "229cb6b9",
   "metadata": {},
   "outputs": [
    {
     "name": "stdout",
     "output_type": "stream",
     "text": [
      "0 1\n",
      "1 2\n",
      "2 3\n",
      "3 4\n",
      "4 5\n"
     ]
    }
   ],
   "source": [
    "for i, a in enumerate(x):\n",
    "    print(i, a)"
   ]
  },
  {
   "cell_type": "code",
   "execution_count": 4,
   "id": "bf447f19",
   "metadata": {},
   "outputs": [
    {
     "name": "stdout",
     "output_type": "stream",
     "text": [
      "1 1\n",
      "2 2\n",
      "3 3\n",
      "4 4\n",
      "5 5\n"
     ]
    }
   ],
   "source": [
    "for i, j in zip(x, y):\n",
    "    print(i, j)"
   ]
  },
  {
   "cell_type": "code",
   "execution_count": 5,
   "id": "6563488a",
   "metadata": {},
   "outputs": [],
   "source": [
    "d = {2: \"two\", 3: \"three\"}"
   ]
  },
  {
   "cell_type": "code",
   "execution_count": 6,
   "id": "1f4307db",
   "metadata": {},
   "outputs": [
    {
     "name": "stdout",
     "output_type": "stream",
     "text": [
      "2\n",
      "3\n"
     ]
    }
   ],
   "source": [
    "for key in d.keys():\n",
    "    print (key)"
   ]
  },
  {
   "cell_type": "code",
   "execution_count": 7,
   "id": "391914df",
   "metadata": {},
   "outputs": [
    {
     "name": "stdout",
     "output_type": "stream",
     "text": [
      "two\n",
      "three\n"
     ]
    }
   ],
   "source": [
    "for value in d.values():\n",
    "    print (value)"
   ]
  },
  {
   "cell_type": "code",
   "execution_count": 8,
   "id": "6ce1518e",
   "metadata": {},
   "outputs": [
    {
     "name": "stdout",
     "output_type": "stream",
     "text": [
      "2 two\n",
      "3 three\n"
     ]
    }
   ],
   "source": [
    "for key, value in d.items():\n",
    "    print (key, value)"
   ]
  },
  {
   "cell_type": "code",
   "execution_count": 9,
   "id": "9e14d311",
   "metadata": {},
   "outputs": [],
   "source": [
    "A= np.array([[1, 2],[0,5]])\n",
    "B= np.array([[2,3],[4,5]])"
   ]
  },
  {
   "cell_type": "code",
   "execution_count": 10,
   "id": "f7e5c711",
   "metadata": {},
   "outputs": [
    {
     "data": {
      "text/plain": [
       "array([[10, 13],\n",
       "       [20, 25]])"
      ]
     },
     "execution_count": 10,
     "metadata": {},
     "output_type": "execute_result"
    }
   ],
   "source": [
    "np.dot(A, B)"
   ]
  },
  {
   "cell_type": "code",
   "execution_count": 11,
   "id": "c43ee0ac",
   "metadata": {},
   "outputs": [
    {
     "data": {
      "text/plain": [
       "array([[10, 13],\n",
       "       [20, 25]])"
      ]
     },
     "execution_count": 11,
     "metadata": {},
     "output_type": "execute_result"
    }
   ],
   "source": [
    "A@B"
   ]
  },
  {
   "cell_type": "code",
   "execution_count": 12,
   "id": "69070bca",
   "metadata": {},
   "outputs": [],
   "source": [
    "v=np.array([1,2])"
   ]
  },
  {
   "cell_type": "code",
   "execution_count": 13,
   "id": "56dd734c",
   "metadata": {},
   "outputs": [
    {
     "data": {
      "text/plain": [
       "array([ 5, 10])"
      ]
     },
     "execution_count": 13,
     "metadata": {},
     "output_type": "execute_result"
    }
   ],
   "source": [
    "np.dot(A,v.transpose())"
   ]
  },
  {
   "cell_type": "code",
   "execution_count": 14,
   "id": "502a3c0f",
   "metadata": {},
   "outputs": [
    {
     "data": {
      "text/plain": [
       "array([1, 2])"
      ]
     },
     "execution_count": 14,
     "metadata": {},
     "output_type": "execute_result"
    }
   ],
   "source": [
    "v"
   ]
  },
  {
   "cell_type": "code",
   "execution_count": null,
   "id": "e0f48a30",
   "metadata": {},
   "outputs": [],
   "source": []
  },
  {
   "cell_type": "code",
   "execution_count": 15,
   "id": "b84313ee",
   "metadata": {},
   "outputs": [
    {
     "data": {
      "text/plain": [
       "array([1, 2])"
      ]
     },
     "execution_count": 15,
     "metadata": {},
     "output_type": "execute_result"
    }
   ],
   "source": [
    "v"
   ]
  },
  {
   "cell_type": "code",
   "execution_count": 16,
   "id": "e9194dbe",
   "metadata": {},
   "outputs": [
    {
     "data": {
      "text/plain": [
       "array([1, 2])"
      ]
     },
     "execution_count": 16,
     "metadata": {},
     "output_type": "execute_result"
    }
   ],
   "source": [
    "v.transpose()"
   ]
  },
  {
   "cell_type": "code",
   "execution_count": 17,
   "id": "aa588d15",
   "metadata": {},
   "outputs": [
    {
     "data": {
      "text/plain": [
       "(array([1., 5.]),\n",
       " array([[1., 0.],\n",
       "        [0., 1.]]))"
      ]
     },
     "execution_count": 17,
     "metadata": {},
     "output_type": "execute_result"
    }
   ],
   "source": [
    "np.linalg.eigh(A)"
   ]
  },
  {
   "cell_type": "code",
   "execution_count": 18,
   "id": "16fae46e",
   "metadata": {},
   "outputs": [
    {
     "data": {
      "text/plain": [
       "array([1., 5.])"
      ]
     },
     "execution_count": 18,
     "metadata": {},
     "output_type": "execute_result"
    }
   ],
   "source": [
    "np.linalg.eigvals(A)"
   ]
  },
  {
   "cell_type": "code",
   "execution_count": null,
   "id": "bdf4742a",
   "metadata": {},
   "outputs": [],
   "source": []
  },
  {
   "cell_type": "code",
   "execution_count": null,
   "id": "126cb5e2",
   "metadata": {},
   "outputs": [],
   "source": []
  },
  {
   "cell_type": "code",
   "execution_count": null,
   "id": "eb86dff3",
   "metadata": {},
   "outputs": [],
   "source": []
  },
  {
   "cell_type": "code",
   "execution_count": 19,
   "id": "de647b93",
   "metadata": {},
   "outputs": [
    {
     "data": {
      "application/vnd.jupyter.widget-view+json": {
       "model_id": "d5a1fd775b6f476eaaaa755619dcbdce",
       "version_major": 2,
       "version_minor": 0
      },
      "text/plain": [
       "Button(description='Compute Integral', style=ButtonStyle())"
      ]
     },
     "metadata": {},
     "output_type": "display_data"
    },
    {
     "data": {
      "application/vnd.jupyter.widget-view+json": {
       "model_id": "6f7c8f124ac84cdebdf2f2e93cf6f8a2",
       "version_major": 2,
       "version_minor": 0
      },
      "text/plain": [
       "Output()"
      ]
     },
     "metadata": {},
     "output_type": "display_data"
    }
   ],
   "source": [
    "# Define the function to integrate\n",
    "def integrand(y, x):\n",
    "    return np.sin(x + y**2)\n",
    "\n",
    "# Define the limits of integration\n",
    "def bounds_y():\n",
    "    return 0, 1\n",
    "\n",
    "def bounds_x():\n",
    "    return 0, np.pi\n",
    "\n",
    "# Function to perform the integration\n",
    "def integrate():\n",
    "    result, error = dblquad(integrand, 0, 1, 0 , np.pi)\n",
    "    print(f\"Integral result: {result:.4f} with error estimate: {error:.6e}\")\n",
    "\n",
    "# Create a button widget\n",
    "button = widgets.Button(description=\"Compute Integral\")\n",
    "output = widgets.Output()\n",
    "\n",
    "# Define what happens when the button is clicked\n",
    "def on_button_clicked(b):\n",
    "    with output:\n",
    "        output.clear_output()\n",
    "        integrate()\n",
    "\n",
    "button.on_click(on_button_clicked)\n",
    "\n",
    "# Display the button and output\n",
    "display(button, output)\n"
   ]
  },
  {
   "cell_type": "code",
   "execution_count": 21,
   "id": "32fb10ce",
   "metadata": {},
   "outputs": [],
   "source": [
    "A=np.array([[1,3],[1,2]])\n",
    "B=np.array([[1,3],[1,2],[3,4]])"
   ]
  },
  {
   "cell_type": "code",
   "execution_count": 26,
   "id": "0024c8fa",
   "metadata": {},
   "outputs": [
    {
     "data": {
      "text/plain": [
       "array([[ 2,  6,  6, 18],\n",
       "       [ 2,  4,  6, 12],\n",
       "       [ 4,  7, 11, 18],\n",
       "       [ 2,  5,  4, 10],\n",
       "       [ 4, 11,  6, 16],\n",
       "       [ 6, 10, 10, 16]])"
      ]
     },
     "execution_count": 26,
     "metadata": {},
     "output_type": "execute_result"
    }
   ],
   "source": [
    "np.kron(A,B)+np.kron(B,A)"
   ]
  },
  {
   "cell_type": "code",
   "execution_count": null,
   "id": "8171d18a",
   "metadata": {},
   "outputs": [],
   "source": []
  }
 ],
 "metadata": {
  "kernelspec": {
   "display_name": "Python 3 (ipykernel)",
   "language": "python",
   "name": "python3"
  },
  "language_info": {
   "codemirror_mode": {
    "name": "ipython",
    "version": 3
   },
   "file_extension": ".py",
   "mimetype": "text/x-python",
   "name": "python",
   "nbconvert_exporter": "python",
   "pygments_lexer": "ipython3",
   "version": "3.11.5"
  }
 },
 "nbformat": 4,
 "nbformat_minor": 5
}
