{
 "cells": [
  {
   "cell_type": "code",
   "execution_count": 1,
   "metadata": {},
   "outputs": [
    {
     "name": "stderr",
     "output_type": "stream",
     "text": [
      "\u001b[32m\u001b[1m   Resolving\u001b[22m\u001b[39m package versions...\n",
      "\u001b[32m\u001b[1m  No Changes\u001b[22m\u001b[39m to `~/.julia/environments/v1.10/Project.toml`\n",
      "\u001b[32m\u001b[1m  No Changes\u001b[22m\u001b[39m to `~/.julia/environments/v1.10/Manifest.toml`\n",
      "\u001b[32m\u001b[1m   Resolving\u001b[22m\u001b[39m package versions...\n",
      "\u001b[32m\u001b[1m  No Changes\u001b[22m\u001b[39m to `~/.julia/environments/v1.10/Project.toml`\n",
      "\u001b[32m\u001b[1m  No Changes\u001b[22m\u001b[39m to `~/.julia/environments/v1.10/Manifest.toml`\n",
      "\u001b[32m\u001b[1m   Resolving\u001b[22m\u001b[39m package versions...\n",
      "\u001b[32m\u001b[1m  No Changes\u001b[22m\u001b[39m to `~/.julia/environments/v1.10/Project.toml`\n",
      "\u001b[32m\u001b[1m  No Changes\u001b[22m\u001b[39m to `~/.julia/environments/v1.10/Manifest.toml`\n",
      "\u001b[32m\u001b[1m   Resolving\u001b[22m\u001b[39m package versions...\n",
      "\u001b[32m\u001b[1m  No Changes\u001b[22m\u001b[39m to `~/.julia/environments/v1.10/Project.toml`\n",
      "\u001b[32m\u001b[1m  No Changes\u001b[22m\u001b[39m to `~/.julia/environments/v1.10/Manifest.toml`\n"
     ]
    }
   ],
   "source": [
    "using ITensors,ITensorMPS\n",
    "import ITensors:op\n",
    "import Pkg; Pkg.add(\"HDF5\")\n",
    "import Pkg; Pkg.add(\"Plots\")\n",
    "import Pkg; Pkg.add(\"PyFormattedStrings\")\n",
    "import Pkg; Pkg.add(\"LinearAlgebra\")"
   ]
  },
  {
   "cell_type": "code",
   "execution_count": 2,
   "metadata": {},
   "outputs": [],
   "source": [
    "using HDF5\n",
    "using Plots\n",
    "using PyFormattedStrings\n",
    "using LinearAlgebra"
   ]
  },
  {
   "cell_type": "code",
   "execution_count": 3,
   "metadata": {},
   "outputs": [],
   "source": [
    "include(\"overload_Spin=3h.jl\")"
   ]
  },
  {
   "cell_type": "code",
   "execution_count": 4,
   "metadata": {},
   "outputs": [
    {
     "data": {
      "text/plain": [
       "Hamiltonian (generic function with 1 method)"
      ]
     },
     "execution_count": 4,
     "metadata": {},
     "output_type": "execute_result"
    }
   ],
   "source": [
    "# construction of the MPO hamiltonian\n",
    "#------------------------------------------\n",
    "function Hamiltonian(sites)\n",
    "    ops = OpSum()\n",
    "\n",
    "    N = length(sites)\n",
    "    # spin-spin interaction\n",
    "    for j=1:N-1\n",
    "        ops += J,   \"Sz\",j, \"Sz\",j+1\n",
    "        ops += J/2, \"S+\",j, \"S-\",j+1\n",
    "        ops += J/2, \"S-\",j, \"S+\",j+1\n",
    "    end\n",
    "    #make it a ring\n",
    "#    ops += J,   \"Sz\",N, \"Sz\",1\n",
    "#    ops += J/2, \"S+\",N, \"S-\",1\n",
    "#    ops += J/2, \"S-\",N, \"S+\",1\n",
    "\n",
    "    # spin-B interaction\n",
    "    for j=1:N\n",
    "        ops += -B, \"Sz\",j\n",
    "    end\n",
    "    \n",
    "    H = MPO(ops,sites)\n",
    "    #--------------------------\n",
    "    return H\n",
    "end"
   ]
  },
  {
   "cell_type": "code",
   "execution_count": 5,
   "metadata": {},
   "outputs": [
    {
     "data": {
      "text/plain": [
       "cmag (generic function with 1 method)"
      ]
     },
     "execution_count": 5,
     "metadata": {},
     "output_type": "execute_result"
    }
   ],
   "source": [
    "function cmag(wf::MPS,j_list)    \n",
    "    psi = copy(wf)\n",
    "    sites = siteinds(psi)\n",
    "\n",
    "    for j in j_list\n",
    "        if isodd(j)\n",
    "            psi = apply( op(\"S+\",sites[j]) * op(\"S-\",sites[j+1]), psi )\n",
    "        else\n",
    "            psi = apply( op(\"S-\",sites[j]) * op(\"S+\",sites[j+1]), psi )\n",
    "        end    \n",
    "    end\n",
    "\n",
    "    #----------------------------------\n",
    "    return normalize!(psi)\n",
    "end"
   ]
  },
  {
   "cell_type": "code",
   "execution_count": 6,
   "metadata": {},
   "outputs": [
    {
     "data": {
      "text/plain": [
       "get_2pdm (generic function with 1 method)"
      ]
     },
     "execution_count": 6,
     "metadata": {},
     "output_type": "execute_result"
    }
   ],
   "source": [
    "# one or two sites reduced density matrix\n",
    "#--------------------------------------\n",
    "function get_2pdm(wf::MPS,locs)\n",
    "    ket = copy(wf)\n",
    "    sites = siteinds(ket)\n",
    "    n_locs = length(locs)\n",
    "\n",
    "    if n_locs==1\n",
    "        A = locs[1]\n",
    "        orthogonalize!(ket,A)\n",
    "        rho = prime(ket[A],sites[A]) * dag(ket[A])\n",
    "\n",
    "    elseif n_locs==2\n",
    "        A,B = locs\n",
    "        orthogonalize!(ket,A)\n",
    "        bra = prime(dag(ket),linkinds(ket))\n",
    "        \n",
    "        rho = prime(ket[A],linkinds(ket,A-1)) * prime(bra[A],sites[A])\n",
    "        [ rho *= ket[j]*bra[j] for j in A+1:B-1 ]\n",
    "        rho *= prime(ket[B],linkinds(ket,B)) * prime(bra[B],sites[B])  \n",
    "    \n",
    "    end\n",
    "\n",
    "    #-----------------------------------\n",
    "    return rho\n",
    "end"
   ]
  },
  {
   "cell_type": "code",
   "execution_count": null,
   "metadata": {},
   "outputs": [],
   "source": []
  },
  {
   "cell_type": "code",
   "execution_count": 7,
   "metadata": {},
   "outputs": [
    {
     "data": {
      "text/plain": [
       "calc_SvN (generic function with 1 method)"
      ]
     },
     "execution_count": 7,
     "metadata": {},
     "output_type": "execute_result"
    }
   ],
   "source": [
    "#   calc_Eigenvalues of density matrix\n",
    "#-----------------------------------\n",
    "function calc_Eigenvalues(density_matrix)\n",
    "    egn_val,_ = eigen(density_matrix,ishermitian=true)\n",
    "    #-----------------------------------\n",
    "    return diag(array(egn_val))\n",
    "end\n",
    "\n",
    "\n",
    "#   eigenvalue based generic properties of a density matrix\n",
    "#-----------------------------------\n",
    "function calc_Norm(density_matrix)\n",
    "    rho = copy(density_matrix)\n",
    "\n",
    "    egn_val = calc_Eigenvalues(rho)\n",
    "    Norm = sum(egn_val)\n",
    "    Purity = sum(egn_val.^2)\n",
    "\n",
    "    #-----------------------------------\n",
    "    return [Norm,Purity]\n",
    "end\n",
    "\n",
    "#   eigenvalue based generic properties of a density matrix\n",
    "#-----------------------------------\n",
    "function calc_SvN(density_matrix)\n",
    "    rho = copy(density_matrix)\n",
    "\n",
    "    egn_val = calc_Eigenvalues(rho)\n",
    "    SvN = sum( [ - lam*log2(lam) for lam in egn_val if lam > 0 ] )\n",
    "\n",
    "    #-----------------------------------\n",
    "    return SvN\n",
    "end\n"
   ]
  },
  {
   "cell_type": "code",
   "execution_count": 8,
   "metadata": {},
   "outputs": [
    {
     "data": {
      "text/plain": [
       "calc_MutInf (generic function with 1 method)"
      ]
     },
     "execution_count": 8,
     "metadata": {},
     "output_type": "execute_result"
    }
   ],
   "source": [
    "#   entanglement details between two sites\n",
    "#-----------------------------------\n",
    "function calc_Neg(wf::MPS,locs)\n",
    "    psi = copy(wf)\n",
    "    A,B = locs\n",
    "\n",
    "    rho_AB = get_2pdm(psi,[A,B])\n",
    "    rho_AB_PT = calc_PartialTranspose(rho_AB)\n",
    "    egn_val = calc_Eigenvalues(rho_AB_PT)\n",
    "\n",
    "    neg_entries =  [ lam for lam in egn_val if lam<0 ]\n",
    "    Neg = abs(sum(neg_entries))\n",
    "\n",
    "    #-----------------------------------\n",
    "    return Neg\n",
    "end\n",
    "\n",
    "\n",
    "# Partial between two sites (test program)\n",
    "#   takes a partial transpose over 2nd site\n",
    "#------------------------------------------------\n",
    "\n",
    "function calc_PartialTranspose(density_matrix)\n",
    "    rho = copy(density_matrix)\n",
    "\n",
    "    oldinds = inds(rho)\n",
    "    newinds = [oldinds[1],oldinds[2],oldinds[4],oldinds[3]]\n",
    "    rho_PT = swapinds(rho,oldinds,newinds)\n",
    "    \n",
    "    #-----------------------------\n",
    "    return rho_PT\n",
    "end\n",
    "\n",
    "\n",
    "#   entanglement details between two sites\n",
    "#-----------------------------------\n",
    "function calc_MutInf(wf::MPS,locs)\n",
    "    psi = copy(wf)\n",
    "    A,B = locs\n",
    "\n",
    "    rho_A  = get_2pdm(psi,[A,A])\n",
    "    rho_B  = get_2pdm(psi,[B,B])\n",
    "    rho_AB = get_2pdm(psi,[A,B])\n",
    "\n",
    "    S_A = calc_SvN(rho_A)\n",
    "    S_B = calc_SvN(rho_B)\n",
    "    S_AB = calc_SvN(rho_AB)\n",
    "\n",
    "    MutInf = S_A + S_B - S_AB\n",
    "\n",
    "    #-----------------------------------\n",
    "    return MutInf\n",
    "end\n",
    "\n",
    "\n"
   ]
  },
  {
   "cell_type": "code",
   "execution_count": null,
   "metadata": {},
   "outputs": [],
   "source": []
  },
  {
   "cell_type": "code",
   "execution_count": null,
   "metadata": {},
   "outputs": [],
   "source": []
  },
  {
   "cell_type": "code",
   "execution_count": 9,
   "metadata": {},
   "outputs": [
    {
     "data": {
      "text/plain": [
       "1-element Vector{Float64}:\n",
       " 1.0e-10"
      ]
     },
     "execution_count": 9,
     "metadata": {},
     "output_type": "execute_result"
    }
   ],
   "source": [
    "#define the parameters of the hamiltonian\n",
    "#----------------------------------------------------------------------------\n",
    "\n",
    "J = 1\n",
    "B = 0.1\n",
    "\n",
    "nsweeps = 11\n",
    "maxdim = [10,25,50,100,150,200,250]\n",
    "cutoff = [1E-10]"
   ]
  },
  {
   "cell_type": "code",
   "execution_count": 10,
   "metadata": {},
   "outputs": [
    {
     "name": "stdout",
     "output_type": "stream",
     "text": [
      "After sweep 1 energy=-19.534428139075185  maxlinkdim=8 maxerr=1.18E-15 time=28.153\n",
      "After sweep 2 energy=-19.918876101341677  maxlinkdim=25 maxerr=7.59E-09 time=0.064\n",
      "After sweep 3 energy=-19.934293879818963  maxlinkdim=49 maxerr=9.81E-11 time=0.504\n",
      "After sweep 4 energy=-19.935366695502935  maxlinkdim=48 maxerr=9.77E-11 time=1.328\n",
      "After sweep 5 energy=-19.935477855907507  maxlinkdim=33 maxerr=9.91E-11 time=0.443\n",
      "After sweep 6 energy=-19.935488852513085  maxlinkdim=22 maxerr=9.95E-11 time=0.306\n",
      "After sweep 7 energy=-19.93548961582521  maxlinkdim=17 maxerr=9.96E-11 time=0.096\n",
      "After sweep 8 energy=-19.93548967490369  maxlinkdim=14 maxerr=9.84E-11 time=0.196\n",
      "After sweep 9 energy=-19.935489677747235  maxlinkdim=14 maxerr=9.61E-11 time=0.118\n",
      "After sweep 10 energy=-19.935489677937703  maxlinkdim=14 maxerr=9.80E-11 time=0.057\n",
      "After sweep 11 energy=-19.93548967811057  maxlinkdim=14 maxerr=9.12E-11 time=0.071\n"
     ]
    },
    {
     "data": {
      "text/plain": [
       "(-19.93548967811057, MPS\n",
       "[1] ((dim=2|id=551|\"Link,l=1\"), (dim=2|id=811|\"S=1/2,Site,n=1\"))\n",
       "[2] ((dim=7|id=537|\"Link,l=2\"), (dim=4|id=928|\"S=3/2,Site,n=2\"), (dim=2|id=551|\"Link,l=1\"))\n",
       "[3] ((dim=2|id=214|\"S=1/2,Site,n=3\"), (dim=11|id=612|\"Link,l=3\"), (dim=7|id=537|\"Link,l=2\"))\n",
       "[4] ((dim=4|id=851|\"S=3/2,Site,n=4\"), (dim=14|id=289|\"Link,l=4\"), (dim=11|id=612|\"Link,l=3\"))\n",
       "[5] ((dim=2|id=472|\"S=1/2,Site,n=5\"), (dim=13|id=944|\"Link,l=5\"), (dim=14|id=289|\"Link,l=4\"))\n",
       "[6] ((dim=4|id=716|\"S=3/2,Site,n=6\"), (dim=14|id=308|\"Link,l=6\"), (dim=13|id=944|\"Link,l=5\"))\n",
       "[7] ((dim=2|id=897|\"S=1/2,Site,n=7\"), (dim=12|id=250|\"Link,l=7\"), (dim=14|id=308|\"Link,l=6\"))\n",
       "[8] ((dim=4|id=787|\"S=3/2,Site,n=8\"), (dim=13|id=375|\"Link,l=8\"), (dim=12|id=250|\"Link,l=7\"))\n",
       "[9] ((dim=2|id=264|\"S=1/2,Site,n=9\"), (dim=12|id=442|\"Link,l=9\"), (dim=13|id=375|\"Link,l=8\"))\n",
       "[10] ((dim=4|id=335|\"S=3/2,Site,n=10\"), (dim=12|id=407|\"Link,l=10\"), (dim=12|id=442|\"Link,l=9\"))\n",
       "[11] ((dim=2|id=828|\"S=1/2,Site,n=11\"), (dim=12|id=807|\"Link,l=11\"), (dim=12|id=407|\"Link,l=10\"))\n",
       "[12] ((dim=4|id=607|\"S=3/2,Site,n=12\"), (dim=12|id=397|\"Link,l=12\"), (dim=12|id=807|\"Link,l=11\"))\n",
       "[13] ((dim=2|id=885|\"S=1/2,Site,n=13\"), (dim=12|id=944|\"Link,l=13\"), (dim=12|id=397|\"Link,l=12\"))\n",
       "[14] ((dim=4|id=509|\"S=3/2,Site,n=14\"), (dim=12|id=942|\"Link,l=14\"), (dim=12|id=944|\"Link,l=13\"))\n",
       "[15] ((dim=2|id=165|\"S=1/2,Site,n=15\"), (dim=12|id=111|\"Link,l=15\"), (dim=12|id=942|\"Link,l=14\"))\n",
       "[16] ((dim=4|id=288|\"S=3/2,Site,n=16\"), (dim=10|id=440|\"Link,l=16\"), (dim=12|id=111|\"Link,l=15\"))\n",
       "[17] ((dim=2|id=378|\"S=1/2,Site,n=17\"), (dim=9|id=830|\"Link,l=17\"), (dim=10|id=440|\"Link,l=16\"))\n",
       "[18] ((dim=4|id=918|\"S=3/2,Site,n=18\"), (dim=6|id=397|\"Link,l=18\"), (dim=9|id=830|\"Link,l=17\"))\n",
       "[19] ((dim=2|id=371|\"S=1/2,Site,n=19\"), (dim=3|id=860|\"Link,l=19\"), (dim=6|id=397|\"Link,l=18\"))\n",
       "[20] ((dim=4|id=555|\"S=3/2,Site,n=20\"), (dim=3|id=860|\"Link,l=19\"))\n",
       ")"
      ]
     },
     "execution_count": 10,
     "metadata": {},
     "output_type": "execute_result"
    }
   ],
   "source": [
    "N = 20\n",
    "#--------------------------------------------\n",
    "\n",
    "site_list = collect(1:N) \n",
    "sites = siteinds( j->isodd(j) ? \"S=1/2\" : \"S=3/2\", N ) \n",
    "\n",
    "H = Hamiltonian(sites) \n",
    "\n",
    "# ground state and first excited state\n",
    "#--------------------------------------------\n",
    "energy0,psi0 = dmrg(H,random_mps(sites);nsweeps,maxdim,cutoff,ishermitian=true)\n",
    "#energy1,psi1 = dmrg(H,[psi0],random_mps(sites);nsweeps,maxdim,cutoff,ishermitian=true) ;"
   ]
  },
  {
   "cell_type": "code",
   "execution_count": 11,
   "metadata": {},
   "outputs": [
    {
     "name": "stdout",
     "output_type": "stream",
     "text": [
      "energy/N = -0.9967744839055293\n",
      "net(Sz)/N = 0.49999999997516625\n"
     ]
    },
    {
     "data": {
      "text/plain": [
       "0.4528309491247689"
      ]
     },
     "execution_count": 11,
     "metadata": {},
     "output_type": "execute_result"
    }
   ],
   "source": [
    "exp_H = inner(psi0',H,psi0) ;\n",
    "exp_Sz = expect( psi0, \"Sz\" ) ;\n",
    "net_Sz = sum(exp_Sz) ;\n",
    "\n",
    "println(\"energy/N = $(exp_H/N)\")\n",
    "println(\"net(Sz)/N = $(net_Sz/N)\")\n",
    "\n",
    "states = [ isodd(j) ? \"Dn\" : \"+3/2\" for j in 1:N]\n",
    "psi_Neel = productMPS(sites,states)\n",
    "alpha_Neel = inner(psi0,psi_Neel)\n",
    "#alpha_Neel = 0.99053*exp(-0.03547*N)"
   ]
  },
  {
   "cell_type": "code",
   "execution_count": null,
   "metadata": {},
   "outputs": [],
   "source": []
  },
  {
   "cell_type": "code",
   "execution_count": 12,
   "metadata": {},
   "outputs": [
    {
     "ename": "LoadError",
     "evalue": "UndefVarError: `get_4pdm` not defined",
     "output_type": "error",
     "traceback": [
      "UndefVarError: `get_4pdm` not defined",
      "",
      "Stacktrace:",
      " [1] top-level scope",
      "   @ In[12]:1"
     ]
    }
   ],
   "source": [
    "rho = get_4pdm(psi0,[2,6])\n",
    "#inds(rho)\n",
    "\n",
    "#rho = get_2pdm(psi0,[2,7])\n",
    "#wcalc_properties(rho)"
   ]
  },
  {
   "cell_type": "code",
   "execution_count": null,
   "metadata": {},
   "outputs": [],
   "source": []
  },
  {
   "cell_type": "code",
   "execution_count": 13,
   "metadata": {},
   "outputs": [
    {
     "data": {
      "image/png": "",
      "image/svg+xml": [
       "<?xml version=\"1.0\" encoding=\"utf-8\"?>\n",
       "<svg xmlns=\"http://www.w3.org/2000/svg\" xmlns:xlink=\"http://www.w3.org/1999/xlink\" width=\"600\" height=\"400\" viewBox=\"0 0 2400 1600\">\n",
       "<defs>\n",
       "  <clipPath id=\"clip410\">\n",
       "    <rect x=\"0\" y=\"0\" width=\"2400\" height=\"1600\"/>\n",
       "  </clipPath>\n",
       "</defs>\n",
       "<path clip-path=\"url(#clip410)\" d=\"M0 1600 L2400 1600 L2400 0 L0 0  Z\" fill=\"#ffffff\" fill-rule=\"evenodd\" fill-opacity=\"1\"/>\n",
       "<defs>\n",
       "  <clipPath id=\"clip411\">\n",
       "    <rect x=\"480\" y=\"0\" width=\"1681\" height=\"1600\"/>\n",
       "  </clipPath>\n",
       "</defs>\n",
       "<path clip-path=\"url(#clip410)\" d=\"M223.103 1486.45 L2352.76 1486.45 L2352.76 47.2441 L223.103 47.2441  Z\" fill=\"#ffffff\" fill-rule=\"evenodd\" fill-opacity=\"1\"/>\n",
       "<defs>\n",
       "  <clipPath id=\"clip412\">\n",
       "    <rect x=\"223\" y=\"47\" width=\"2131\" height=\"1440\"/>\n",
       "  </clipPath>\n",
       "</defs>\n",
       "<polyline clip-path=\"url(#clip412)\" style=\"stroke:#000000; stroke-linecap:round; stroke-linejoin:round; stroke-width:2; stroke-opacity:0.1; fill:none\" points=\"706.346,1486.45 706.346,47.2441 \"/>\n",
       "<polyline clip-path=\"url(#clip412)\" style=\"stroke:#000000; stroke-linecap:round; stroke-linejoin:round; stroke-width:2; stroke-opacity:0.1; fill:none\" points=\"1235.06,1486.45 1235.06,47.2441 \"/>\n",
       "<polyline clip-path=\"url(#clip412)\" style=\"stroke:#000000; stroke-linecap:round; stroke-linejoin:round; stroke-width:2; stroke-opacity:0.1; fill:none\" points=\"1763.77,1486.45 1763.77,47.2441 \"/>\n",
       "<polyline clip-path=\"url(#clip412)\" style=\"stroke:#000000; stroke-linecap:round; stroke-linejoin:round; stroke-width:2; stroke-opacity:0.1; fill:none\" points=\"2292.48,1486.45 2292.48,47.2441 \"/>\n",
       "<polyline clip-path=\"url(#clip412)\" style=\"stroke:#000000; stroke-linecap:round; stroke-linejoin:round; stroke-width:2; stroke-opacity:0.1; fill:none\" points=\"223.103,1366.68 2352.76,1366.68 \"/>\n",
       "<polyline clip-path=\"url(#clip412)\" style=\"stroke:#000000; stroke-linecap:round; stroke-linejoin:round; stroke-width:2; stroke-opacity:0.1; fill:none\" points=\"223.103,1177.28 2352.76,1177.28 \"/>\n",
       "<polyline clip-path=\"url(#clip412)\" style=\"stroke:#000000; stroke-linecap:round; stroke-linejoin:round; stroke-width:2; stroke-opacity:0.1; fill:none\" points=\"223.103,987.882 2352.76,987.882 \"/>\n",
       "<polyline clip-path=\"url(#clip412)\" style=\"stroke:#000000; stroke-linecap:round; stroke-linejoin:round; stroke-width:2; stroke-opacity:0.1; fill:none\" points=\"223.103,798.482 2352.76,798.482 \"/>\n",
       "<polyline clip-path=\"url(#clip412)\" style=\"stroke:#000000; stroke-linecap:round; stroke-linejoin:round; stroke-width:2; stroke-opacity:0.1; fill:none\" points=\"223.103,609.081 2352.76,609.081 \"/>\n",
       "<polyline clip-path=\"url(#clip412)\" style=\"stroke:#000000; stroke-linecap:round; stroke-linejoin:round; stroke-width:2; stroke-opacity:0.1; fill:none\" points=\"223.103,419.68 2352.76,419.68 \"/>\n",
       "<polyline clip-path=\"url(#clip412)\" style=\"stroke:#000000; stroke-linecap:round; stroke-linejoin:round; stroke-width:2; stroke-opacity:0.1; fill:none\" points=\"223.103,230.279 2352.76,230.279 \"/>\n",
       "<polyline clip-path=\"url(#clip410)\" style=\"stroke:#000000; stroke-linecap:round; stroke-linejoin:round; stroke-width:4; stroke-opacity:1; fill:none\" points=\"223.103,1486.45 2352.76,1486.45 \"/>\n",
       "<polyline clip-path=\"url(#clip410)\" style=\"stroke:#000000; stroke-linecap:round; stroke-linejoin:round; stroke-width:4; stroke-opacity:1; fill:none\" points=\"706.346,1486.45 706.346,1467.55 \"/>\n",
       "<polyline clip-path=\"url(#clip410)\" style=\"stroke:#000000; stroke-linecap:round; stroke-linejoin:round; stroke-width:4; stroke-opacity:1; fill:none\" points=\"1235.06,1486.45 1235.06,1467.55 \"/>\n",
       "<polyline clip-path=\"url(#clip410)\" style=\"stroke:#000000; stroke-linecap:round; stroke-linejoin:round; stroke-width:4; stroke-opacity:1; fill:none\" points=\"1763.77,1486.45 1763.77,1467.55 \"/>\n",
       "<polyline clip-path=\"url(#clip410)\" style=\"stroke:#000000; stroke-linecap:round; stroke-linejoin:round; stroke-width:4; stroke-opacity:1; fill:none\" points=\"2292.48,1486.45 2292.48,1467.55 \"/>\n",
       "<path clip-path=\"url(#clip410)\" d=\"M696.623 1514.29 L714.98 1514.29 L714.98 1518.22 L700.906 1518.22 L700.906 1526.7 Q701.924 1526.35 702.943 1526.19 Q703.961 1526 704.98 1526 Q710.767 1526 714.146 1529.17 Q717.526 1532.34 717.526 1537.76 Q717.526 1543.34 714.054 1546.44 Q710.582 1549.52 704.262 1549.52 Q702.086 1549.52 699.818 1549.15 Q697.573 1548.78 695.165 1548.04 L695.165 1543.34 Q697.248 1544.47 699.471 1545.03 Q701.693 1545.58 704.17 1545.58 Q708.174 1545.58 710.512 1543.48 Q712.85 1541.37 712.85 1537.76 Q712.85 1534.15 710.512 1532.04 Q708.174 1529.94 704.17 1529.94 Q702.295 1529.94 700.42 1530.35 Q698.568 1530.77 696.623 1531.65 L696.623 1514.29 Z\" fill=\"#000000\" fill-rule=\"nonzero\" fill-opacity=\"1\" /><path clip-path=\"url(#clip410)\" d=\"M1209.75 1544.91 L1217.38 1544.91 L1217.38 1518.55 L1209.07 1520.21 L1209.07 1515.95 L1217.34 1514.29 L1222.01 1514.29 L1222.01 1544.91 L1229.65 1544.91 L1229.65 1548.85 L1209.75 1548.85 L1209.75 1544.91 Z\" fill=\"#000000\" fill-rule=\"nonzero\" fill-opacity=\"1\" /><path clip-path=\"url(#clip410)\" d=\"M1249.1 1517.37 Q1245.49 1517.37 1243.66 1520.93 Q1241.85 1524.47 1241.85 1531.6 Q1241.85 1538.71 1243.66 1542.27 Q1245.49 1545.82 1249.1 1545.82 Q1252.73 1545.82 1254.54 1542.27 Q1256.37 1538.71 1256.37 1531.6 Q1256.37 1524.47 1254.54 1520.93 Q1252.73 1517.37 1249.1 1517.37 M1249.1 1513.66 Q1254.91 1513.66 1257.96 1518.27 Q1261.04 1522.85 1261.04 1531.6 Q1261.04 1540.33 1257.96 1544.94 Q1254.91 1549.52 1249.1 1549.52 Q1243.29 1549.52 1240.21 1544.94 Q1237.15 1540.33 1237.15 1531.6 Q1237.15 1522.85 1240.21 1518.27 Q1243.29 1513.66 1249.1 1513.66 Z\" fill=\"#000000\" fill-rule=\"nonzero\" fill-opacity=\"1\" /><path clip-path=\"url(#clip410)\" d=\"M1738.96 1544.91 L1746.59 1544.91 L1746.59 1518.55 L1738.28 1520.21 L1738.28 1515.95 L1746.55 1514.29 L1751.22 1514.29 L1751.22 1544.91 L1758.86 1544.91 L1758.86 1548.85 L1738.96 1548.85 L1738.96 1544.91 Z\" fill=\"#000000\" fill-rule=\"nonzero\" fill-opacity=\"1\" /><path clip-path=\"url(#clip410)\" d=\"M1768.35 1514.29 L1786.71 1514.29 L1786.71 1518.22 L1772.64 1518.22 L1772.64 1526.7 Q1773.65 1526.35 1774.67 1526.19 Q1775.69 1526 1776.71 1526 Q1782.5 1526 1785.88 1529.17 Q1789.26 1532.34 1789.26 1537.76 Q1789.26 1543.34 1785.78 1546.44 Q1782.31 1549.52 1775.99 1549.52 Q1773.82 1549.52 1771.55 1549.15 Q1769.3 1548.78 1766.9 1548.04 L1766.9 1543.34 Q1768.98 1544.47 1771.2 1545.03 Q1773.42 1545.58 1775.9 1545.58 Q1779.9 1545.58 1782.24 1543.48 Q1784.58 1541.37 1784.58 1537.76 Q1784.58 1534.15 1782.24 1532.04 Q1779.9 1529.94 1775.9 1529.94 Q1774.02 1529.94 1772.15 1530.35 Q1770.3 1530.77 1768.35 1531.65 L1768.35 1514.29 Z\" fill=\"#000000\" fill-rule=\"nonzero\" fill-opacity=\"1\" /><path clip-path=\"url(#clip410)\" d=\"M2271.26 1544.91 L2287.58 1544.91 L2287.58 1548.85 L2265.63 1548.85 L2265.63 1544.91 Q2268.29 1542.16 2272.88 1537.53 Q2277.48 1532.88 2278.66 1531.53 Q2280.91 1529.01 2281.79 1527.27 Q2282.69 1525.51 2282.69 1523.82 Q2282.69 1521.07 2280.75 1519.33 Q2278.83 1517.6 2275.72 1517.6 Q2273.52 1517.6 2271.07 1518.36 Q2268.64 1519.13 2265.86 1520.68 L2265.86 1515.95 Q2268.69 1514.82 2271.14 1514.24 Q2273.59 1513.66 2275.63 1513.66 Q2281 1513.66 2284.2 1516.35 Q2287.39 1519.03 2287.39 1523.52 Q2287.39 1525.65 2286.58 1527.57 Q2285.79 1529.47 2283.69 1532.07 Q2283.11 1532.74 2280.01 1535.95 Q2276.9 1539.15 2271.26 1544.91 Z\" fill=\"#000000\" fill-rule=\"nonzero\" fill-opacity=\"1\" /><path clip-path=\"url(#clip410)\" d=\"M2307.39 1517.37 Q2303.78 1517.37 2301.95 1520.93 Q2300.14 1524.47 2300.14 1531.6 Q2300.14 1538.71 2301.95 1542.27 Q2303.78 1545.82 2307.39 1545.82 Q2311.02 1545.82 2312.83 1542.27 Q2314.66 1538.71 2314.66 1531.6 Q2314.66 1524.47 2312.83 1520.93 Q2311.02 1517.37 2307.39 1517.37 M2307.39 1513.66 Q2313.2 1513.66 2316.26 1518.27 Q2319.33 1522.85 2319.33 1531.6 Q2319.33 1540.33 2316.26 1544.94 Q2313.2 1549.52 2307.39 1549.52 Q2301.58 1549.52 2298.5 1544.94 Q2295.45 1540.33 2295.45 1531.6 Q2295.45 1522.85 2298.5 1518.27 Q2301.58 1513.66 2307.39 1513.66 Z\" fill=\"#000000\" fill-rule=\"nonzero\" fill-opacity=\"1\" /><polyline clip-path=\"url(#clip410)\" style=\"stroke:#000000; stroke-linecap:round; stroke-linejoin:round; stroke-width:4; stroke-opacity:1; fill:none\" points=\"223.103,1486.45 223.103,47.2441 \"/>\n",
       "<polyline clip-path=\"url(#clip410)\" style=\"stroke:#000000; stroke-linecap:round; stroke-linejoin:round; stroke-width:4; stroke-opacity:1; fill:none\" points=\"223.103,1366.68 242,1366.68 \"/>\n",
       "<polyline clip-path=\"url(#clip410)\" style=\"stroke:#000000; stroke-linecap:round; stroke-linejoin:round; stroke-width:4; stroke-opacity:1; fill:none\" points=\"223.103,1177.28 242,1177.28 \"/>\n",
       "<polyline clip-path=\"url(#clip410)\" style=\"stroke:#000000; stroke-linecap:round; stroke-linejoin:round; stroke-width:4; stroke-opacity:1; fill:none\" points=\"223.103,987.882 242,987.882 \"/>\n",
       "<polyline clip-path=\"url(#clip410)\" style=\"stroke:#000000; stroke-linecap:round; stroke-linejoin:round; stroke-width:4; stroke-opacity:1; fill:none\" points=\"223.103,798.482 242,798.482 \"/>\n",
       "<polyline clip-path=\"url(#clip410)\" style=\"stroke:#000000; stroke-linecap:round; stroke-linejoin:round; stroke-width:4; stroke-opacity:1; fill:none\" points=\"223.103,609.081 242,609.081 \"/>\n",
       "<polyline clip-path=\"url(#clip410)\" style=\"stroke:#000000; stroke-linecap:round; stroke-linejoin:round; stroke-width:4; stroke-opacity:1; fill:none\" points=\"223.103,419.68 242,419.68 \"/>\n",
       "<polyline clip-path=\"url(#clip410)\" style=\"stroke:#000000; stroke-linecap:round; stroke-linejoin:round; stroke-width:4; stroke-opacity:1; fill:none\" points=\"223.103,230.279 242,230.279 \"/>\n",
       "<path clip-path=\"url(#clip410)\" d=\"M50.9921 1367.14 L80.6679 1367.14 L80.6679 1371.07 L50.9921 1371.07 L50.9921 1367.14 Z\" fill=\"#000000\" fill-rule=\"nonzero\" fill-opacity=\"1\" /><path clip-path=\"url(#clip410)\" d=\"M100.76 1352.48 Q97.1493 1352.48 95.3206 1356.05 Q93.515 1359.59 93.515 1366.72 Q93.515 1373.83 95.3206 1377.39 Q97.1493 1380.93 100.76 1380.93 Q104.395 1380.93 106.2 1377.39 Q108.029 1373.83 108.029 1366.72 Q108.029 1359.59 106.2 1356.05 Q104.395 1352.48 100.76 1352.48 M100.76 1348.78 Q106.571 1348.78 109.626 1353.39 Q112.705 1357.97 112.705 1366.72 Q112.705 1375.45 109.626 1380.05 Q106.571 1384.64 100.76 1384.64 Q94.9502 1384.64 91.8715 1380.05 Q88.816 1375.45 88.816 1366.72 Q88.816 1357.97 91.8715 1353.39 Q94.9502 1348.78 100.76 1348.78 Z\" fill=\"#000000\" fill-rule=\"nonzero\" fill-opacity=\"1\" /><path clip-path=\"url(#clip410)\" d=\"M120.922 1378.08 L125.807 1378.08 L125.807 1383.96 L120.922 1383.96 L120.922 1378.08 Z\" fill=\"#000000\" fill-rule=\"nonzero\" fill-opacity=\"1\" /><path clip-path=\"url(#clip410)\" d=\"M140.019 1380.03 L156.339 1380.03 L156.339 1383.96 L134.394 1383.96 L134.394 1380.03 Q137.056 1377.27 141.64 1372.64 Q146.246 1367.99 147.427 1366.65 Q149.672 1364.13 150.552 1362.39 Q151.455 1360.63 151.455 1358.94 Q151.455 1356.19 149.51 1354.45 Q147.589 1352.71 144.487 1352.71 Q142.288 1352.71 139.834 1353.48 Q137.404 1354.24 134.626 1355.79 L134.626 1351.07 Q137.45 1349.94 139.904 1349.36 Q142.357 1348.78 144.394 1348.78 Q149.765 1348.78 152.959 1351.46 Q156.154 1354.15 156.154 1358.64 Q156.154 1360.77 155.343 1362.69 Q154.556 1364.59 152.45 1367.18 Q151.871 1367.85 148.769 1371.07 Q145.668 1374.27 140.019 1380.03 Z\" fill=\"#000000\" fill-rule=\"nonzero\" fill-opacity=\"1\" /><path clip-path=\"url(#clip410)\" d=\"M166.2 1349.4 L184.556 1349.4 L184.556 1353.34 L170.482 1353.34 L170.482 1361.81 Q171.501 1361.46 172.519 1361.3 Q173.538 1361.12 174.556 1361.12 Q180.343 1361.12 183.723 1364.29 Q187.103 1367.46 187.103 1372.88 Q187.103 1378.46 183.63 1381.56 Q180.158 1384.64 173.839 1384.64 Q171.663 1384.64 169.394 1384.27 Q167.149 1383.89 164.742 1383.15 L164.742 1378.46 Q166.825 1379.59 169.047 1380.14 Q171.269 1380.7 173.746 1380.7 Q177.751 1380.7 180.089 1378.59 Q182.427 1376.49 182.427 1372.88 Q182.427 1369.27 180.089 1367.16 Q177.751 1365.05 173.746 1365.05 Q171.871 1365.05 169.996 1365.47 Q168.144 1365.89 166.2 1366.77 L166.2 1349.4 Z\" fill=\"#000000\" fill-rule=\"nonzero\" fill-opacity=\"1\" /><path clip-path=\"url(#clip410)\" d=\"M99.765 1163.08 Q96.1539 1163.08 94.3252 1166.65 Q92.5197 1170.19 92.5197 1177.32 Q92.5197 1184.42 94.3252 1187.99 Q96.1539 1191.53 99.765 1191.53 Q103.399 1191.53 105.205 1187.99 Q107.033 1184.42 107.033 1177.32 Q107.033 1170.19 105.205 1166.65 Q103.399 1163.08 99.765 1163.08 M99.765 1159.38 Q105.575 1159.38 108.631 1163.98 Q111.709 1168.57 111.709 1177.32 Q111.709 1186.04 108.631 1190.65 Q105.575 1195.23 99.765 1195.23 Q93.9549 1195.23 90.8762 1190.65 Q87.8206 1186.04 87.8206 1177.32 Q87.8206 1168.57 90.8762 1163.98 Q93.9549 1159.38 99.765 1159.38 Z\" fill=\"#000000\" fill-rule=\"nonzero\" fill-opacity=\"1\" /><path clip-path=\"url(#clip410)\" d=\"M119.927 1188.68 L124.811 1188.68 L124.811 1194.56 L119.927 1194.56 L119.927 1188.68 Z\" fill=\"#000000\" fill-rule=\"nonzero\" fill-opacity=\"1\" /><path clip-path=\"url(#clip410)\" d=\"M144.996 1163.08 Q141.385 1163.08 139.556 1166.65 Q137.751 1170.19 137.751 1177.32 Q137.751 1184.42 139.556 1187.99 Q141.385 1191.53 144.996 1191.53 Q148.63 1191.53 150.436 1187.99 Q152.265 1184.42 152.265 1177.32 Q152.265 1170.19 150.436 1166.65 Q148.63 1163.08 144.996 1163.08 M144.996 1159.38 Q150.806 1159.38 153.862 1163.98 Q156.941 1168.57 156.941 1177.32 Q156.941 1186.04 153.862 1190.65 Q150.806 1195.23 144.996 1195.23 Q139.186 1195.23 136.107 1190.65 Q133.052 1186.04 133.052 1177.32 Q133.052 1168.57 136.107 1163.98 Q139.186 1159.38 144.996 1159.38 Z\" fill=\"#000000\" fill-rule=\"nonzero\" fill-opacity=\"1\" /><path clip-path=\"url(#clip410)\" d=\"M175.158 1163.08 Q171.547 1163.08 169.718 1166.65 Q167.913 1170.19 167.913 1177.32 Q167.913 1184.42 169.718 1187.99 Q171.547 1191.53 175.158 1191.53 Q178.792 1191.53 180.598 1187.99 Q182.427 1184.42 182.427 1177.32 Q182.427 1170.19 180.598 1166.65 Q178.792 1163.08 175.158 1163.08 M175.158 1159.38 Q180.968 1159.38 184.024 1163.98 Q187.103 1168.57 187.103 1177.32 Q187.103 1186.04 184.024 1190.65 Q180.968 1195.23 175.158 1195.23 Q169.348 1195.23 166.269 1190.65 Q163.214 1186.04 163.214 1177.32 Q163.214 1168.57 166.269 1163.98 Q169.348 1159.38 175.158 1159.38 Z\" fill=\"#000000\" fill-rule=\"nonzero\" fill-opacity=\"1\" /><path clip-path=\"url(#clip410)\" d=\"M100.76 973.681 Q97.1493 973.681 95.3206 977.246 Q93.515 980.788 93.515 987.917 Q93.515 995.024 95.3206 998.588 Q97.1493 1002.13 100.76 1002.13 Q104.395 1002.13 106.2 998.588 Q108.029 995.024 108.029 987.917 Q108.029 980.788 106.2 977.246 Q104.395 973.681 100.76 973.681 M100.76 969.977 Q106.571 969.977 109.626 974.584 Q112.705 979.167 112.705 987.917 Q112.705 996.644 109.626 1001.25 Q106.571 1005.83 100.76 1005.83 Q94.9502 1005.83 91.8715 1001.25 Q88.816 996.644 88.816 987.917 Q88.816 979.167 91.8715 974.584 Q94.9502 969.977 100.76 969.977 Z\" fill=\"#000000\" fill-rule=\"nonzero\" fill-opacity=\"1\" /><path clip-path=\"url(#clip410)\" d=\"M120.922 999.283 L125.807 999.283 L125.807 1005.16 L120.922 1005.16 L120.922 999.283 Z\" fill=\"#000000\" fill-rule=\"nonzero\" fill-opacity=\"1\" /><path clip-path=\"url(#clip410)\" d=\"M140.019 1001.23 L156.339 1001.23 L156.339 1005.16 L134.394 1005.16 L134.394 1001.23 Q137.056 998.473 141.64 993.843 Q146.246 989.19 147.427 987.848 Q149.672 985.325 150.552 983.588 Q151.455 981.829 151.455 980.139 Q151.455 977.385 149.51 975.649 Q147.589 973.913 144.487 973.913 Q142.288 973.913 139.834 974.676 Q137.404 975.44 134.626 976.991 L134.626 972.269 Q137.45 971.135 139.904 970.556 Q142.357 969.977 144.394 969.977 Q149.765 969.977 152.959 972.663 Q156.154 975.348 156.154 979.838 Q156.154 981.968 155.343 983.889 Q154.556 985.788 152.45 988.38 Q151.871 989.051 148.769 992.269 Q145.668 995.463 140.019 1001.23 Z\" fill=\"#000000\" fill-rule=\"nonzero\" fill-opacity=\"1\" /><path clip-path=\"url(#clip410)\" d=\"M166.2 970.602 L184.556 970.602 L184.556 974.538 L170.482 974.538 L170.482 983.01 Q171.501 982.663 172.519 982.501 Q173.538 982.315 174.556 982.315 Q180.343 982.315 183.723 985.487 Q187.103 988.658 187.103 994.075 Q187.103 999.653 183.63 1002.76 Q180.158 1005.83 173.839 1005.83 Q171.663 1005.83 169.394 1005.46 Q167.149 1005.09 164.742 1004.35 L164.742 999.653 Q166.825 1000.79 169.047 1001.34 Q171.269 1001.9 173.746 1001.9 Q177.751 1001.9 180.089 999.792 Q182.427 997.686 182.427 994.075 Q182.427 990.463 180.089 988.357 Q177.751 986.25 173.746 986.25 Q171.871 986.25 169.996 986.667 Q168.144 987.084 166.2 987.963 L166.2 970.602 Z\" fill=\"#000000\" fill-rule=\"nonzero\" fill-opacity=\"1\" /><path clip-path=\"url(#clip410)\" d=\"M99.765 784.28 Q96.1539 784.28 94.3252 787.845 Q92.5197 791.387 92.5197 798.516 Q92.5197 805.623 94.3252 809.187 Q96.1539 812.729 99.765 812.729 Q103.399 812.729 105.205 809.187 Q107.033 805.623 107.033 798.516 Q107.033 791.387 105.205 787.845 Q103.399 784.28 99.765 784.28 M99.765 780.577 Q105.575 780.577 108.631 785.183 Q111.709 789.766 111.709 798.516 Q111.709 807.243 108.631 811.849 Q105.575 816.433 99.765 816.433 Q93.9549 816.433 90.8762 811.849 Q87.8206 807.243 87.8206 798.516 Q87.8206 789.766 90.8762 785.183 Q93.9549 780.577 99.765 780.577 Z\" fill=\"#000000\" fill-rule=\"nonzero\" fill-opacity=\"1\" /><path clip-path=\"url(#clip410)\" d=\"M119.927 809.882 L124.811 809.882 L124.811 815.762 L119.927 815.762 L119.927 809.882 Z\" fill=\"#000000\" fill-rule=\"nonzero\" fill-opacity=\"1\" /><path clip-path=\"url(#clip410)\" d=\"M135.043 781.202 L153.399 781.202 L153.399 785.137 L139.325 785.137 L139.325 793.609 Q140.343 793.262 141.362 793.1 Q142.381 792.914 143.399 792.914 Q149.186 792.914 152.566 796.086 Q155.945 799.257 155.945 804.674 Q155.945 810.252 152.473 813.354 Q149.001 816.433 142.681 816.433 Q140.506 816.433 138.237 816.062 Q135.992 815.692 133.584 814.951 L133.584 810.252 Q135.668 811.387 137.89 811.942 Q140.112 812.498 142.589 812.498 Q146.593 812.498 148.931 810.391 Q151.269 808.285 151.269 804.674 Q151.269 801.063 148.931 798.956 Q146.593 796.85 142.589 796.85 Q140.714 796.85 138.839 797.266 Q136.987 797.683 135.043 798.563 L135.043 781.202 Z\" fill=\"#000000\" fill-rule=\"nonzero\" fill-opacity=\"1\" /><path clip-path=\"url(#clip410)\" d=\"M175.158 784.28 Q171.547 784.28 169.718 787.845 Q167.913 791.387 167.913 798.516 Q167.913 805.623 169.718 809.187 Q171.547 812.729 175.158 812.729 Q178.792 812.729 180.598 809.187 Q182.427 805.623 182.427 798.516 Q182.427 791.387 180.598 787.845 Q178.792 784.28 175.158 784.28 M175.158 780.577 Q180.968 780.577 184.024 785.183 Q187.103 789.766 187.103 798.516 Q187.103 807.243 184.024 811.849 Q180.968 816.433 175.158 816.433 Q169.348 816.433 166.269 811.849 Q163.214 807.243 163.214 798.516 Q163.214 789.766 166.269 785.183 Q169.348 780.577 175.158 780.577 Z\" fill=\"#000000\" fill-rule=\"nonzero\" fill-opacity=\"1\" /><path clip-path=\"url(#clip410)\" d=\"M100.76 594.879 Q97.1493 594.879 95.3206 598.444 Q93.515 601.986 93.515 609.115 Q93.515 616.222 95.3206 619.787 Q97.1493 623.328 100.76 623.328 Q104.395 623.328 106.2 619.787 Q108.029 616.222 108.029 609.115 Q108.029 601.986 106.2 598.444 Q104.395 594.879 100.76 594.879 M100.76 591.176 Q106.571 591.176 109.626 595.782 Q112.705 600.365 112.705 609.115 Q112.705 617.842 109.626 622.449 Q106.571 627.032 100.76 627.032 Q94.9502 627.032 91.8715 622.449 Q88.816 617.842 88.816 609.115 Q88.816 600.365 91.8715 595.782 Q94.9502 591.176 100.76 591.176 Z\" fill=\"#000000\" fill-rule=\"nonzero\" fill-opacity=\"1\" /><path clip-path=\"url(#clip410)\" d=\"M120.922 620.481 L125.807 620.481 L125.807 626.361 L120.922 626.361 L120.922 620.481 Z\" fill=\"#000000\" fill-rule=\"nonzero\" fill-opacity=\"1\" /><path clip-path=\"url(#clip410)\" d=\"M134.811 591.801 L157.033 591.801 L157.033 593.791 L144.487 626.361 L139.603 626.361 L151.408 595.736 L134.811 595.736 L134.811 591.801 Z\" fill=\"#000000\" fill-rule=\"nonzero\" fill-opacity=\"1\" /><path clip-path=\"url(#clip410)\" d=\"M166.2 591.801 L184.556 591.801 L184.556 595.736 L170.482 595.736 L170.482 604.208 Q171.501 603.861 172.519 603.699 Q173.538 603.514 174.556 603.514 Q180.343 603.514 183.723 606.685 Q187.103 609.856 187.103 615.273 Q187.103 620.851 183.63 623.953 Q180.158 627.032 173.839 627.032 Q171.663 627.032 169.394 626.662 Q167.149 626.291 164.742 625.55 L164.742 620.851 Q166.825 621.986 169.047 622.541 Q171.269 623.097 173.746 623.097 Q177.751 623.097 180.089 620.99 Q182.427 618.884 182.427 615.273 Q182.427 611.662 180.089 609.555 Q177.751 607.449 173.746 607.449 Q171.871 607.449 169.996 607.865 Q168.144 608.282 166.2 609.162 L166.2 591.801 Z\" fill=\"#000000\" fill-rule=\"nonzero\" fill-opacity=\"1\" /><path clip-path=\"url(#clip410)\" d=\"M90.5752 433.025 L98.2141 433.025 L98.2141 406.659 L89.904 408.326 L89.904 404.066 L98.1678 402.4 L102.844 402.4 L102.844 433.025 L110.483 433.025 L110.483 436.96 L90.5752 436.96 L90.5752 433.025 Z\" fill=\"#000000\" fill-rule=\"nonzero\" fill-opacity=\"1\" /><path clip-path=\"url(#clip410)\" d=\"M119.927 431.08 L124.811 431.08 L124.811 436.96 L119.927 436.96 L119.927 431.08 Z\" fill=\"#000000\" fill-rule=\"nonzero\" fill-opacity=\"1\" /><path clip-path=\"url(#clip410)\" d=\"M144.996 405.478 Q141.385 405.478 139.556 409.043 Q137.751 412.585 137.751 419.714 Q137.751 426.821 139.556 430.386 Q141.385 433.927 144.996 433.927 Q148.63 433.927 150.436 430.386 Q152.265 426.821 152.265 419.714 Q152.265 412.585 150.436 409.043 Q148.63 405.478 144.996 405.478 M144.996 401.775 Q150.806 401.775 153.862 406.381 Q156.941 410.964 156.941 419.714 Q156.941 428.441 153.862 433.048 Q150.806 437.631 144.996 437.631 Q139.186 437.631 136.107 433.048 Q133.052 428.441 133.052 419.714 Q133.052 410.964 136.107 406.381 Q139.186 401.775 144.996 401.775 Z\" fill=\"#000000\" fill-rule=\"nonzero\" fill-opacity=\"1\" /><path clip-path=\"url(#clip410)\" d=\"M175.158 405.478 Q171.547 405.478 169.718 409.043 Q167.913 412.585 167.913 419.714 Q167.913 426.821 169.718 430.386 Q171.547 433.927 175.158 433.927 Q178.792 433.927 180.598 430.386 Q182.427 426.821 182.427 419.714 Q182.427 412.585 180.598 409.043 Q178.792 405.478 175.158 405.478 M175.158 401.775 Q180.968 401.775 184.024 406.381 Q187.103 410.964 187.103 419.714 Q187.103 428.441 184.024 433.048 Q180.968 437.631 175.158 437.631 Q169.348 437.631 166.269 433.048 Q163.214 428.441 163.214 419.714 Q163.214 410.964 166.269 406.381 Q169.348 401.775 175.158 401.775 Z\" fill=\"#000000\" fill-rule=\"nonzero\" fill-opacity=\"1\" /><path clip-path=\"url(#clip410)\" d=\"M91.5706 243.624 L99.2095 243.624 L99.2095 217.258 L90.8993 218.925 L90.8993 214.665 L99.1632 212.999 L103.839 212.999 L103.839 243.624 L111.478 243.624 L111.478 247.559 L91.5706 247.559 L91.5706 243.624 Z\" fill=\"#000000\" fill-rule=\"nonzero\" fill-opacity=\"1\" /><path clip-path=\"url(#clip410)\" d=\"M120.922 241.679 L125.807 241.679 L125.807 247.559 L120.922 247.559 L120.922 241.679 Z\" fill=\"#000000\" fill-rule=\"nonzero\" fill-opacity=\"1\" /><path clip-path=\"url(#clip410)\" d=\"M140.019 243.624 L156.339 243.624 L156.339 247.559 L134.394 247.559 L134.394 243.624 Q137.056 240.869 141.64 236.239 Q146.246 231.587 147.427 230.244 Q149.672 227.721 150.552 225.985 Q151.455 224.226 151.455 222.536 Q151.455 219.781 149.51 218.045 Q147.589 216.309 144.487 216.309 Q142.288 216.309 139.834 217.073 Q137.404 217.837 134.626 219.388 L134.626 214.665 Q137.45 213.531 139.904 212.952 Q142.357 212.374 144.394 212.374 Q149.765 212.374 152.959 215.059 Q156.154 217.744 156.154 222.235 Q156.154 224.364 155.343 226.286 Q154.556 228.184 152.45 230.776 Q151.871 231.448 148.769 234.665 Q145.668 237.86 140.019 243.624 Z\" fill=\"#000000\" fill-rule=\"nonzero\" fill-opacity=\"1\" /><path clip-path=\"url(#clip410)\" d=\"M166.2 212.999 L184.556 212.999 L184.556 216.934 L170.482 216.934 L170.482 225.406 Q171.501 225.059 172.519 224.897 Q173.538 224.712 174.556 224.712 Q180.343 224.712 183.723 227.883 Q187.103 231.054 187.103 236.471 Q187.103 242.05 183.63 245.151 Q180.158 248.23 173.839 248.23 Q171.663 248.23 169.394 247.86 Q167.149 247.489 164.742 246.749 L164.742 242.05 Q166.825 243.184 169.047 243.739 Q171.269 244.295 173.746 244.295 Q177.751 244.295 180.089 242.188 Q182.427 240.082 182.427 236.471 Q182.427 232.86 180.089 230.753 Q177.751 228.647 173.746 228.647 Q171.871 228.647 169.996 229.064 Q168.144 229.48 166.2 230.36 L166.2 212.999 Z\" fill=\"#000000\" fill-rule=\"nonzero\" fill-opacity=\"1\" /><polyline clip-path=\"url(#clip412)\" style=\"stroke:#009af9; stroke-linecap:round; stroke-linejoin:round; stroke-width:4; stroke-opacity:1; fill:none\" points=\"283.376,1394.95 389.118,199.93 494.861,798.482 600.603,800.508 706.346,798.482 812.088,798.542 917.831,798.482 1023.57,798.716 1129.32,798.482 1235.06,861.279 1340.8,1445.72 1446.54,87.9763 1552.29,798.482 1658.03,798.718 1763.77,798.482 1869.51,798.699 1975.26,798.482 2081,858.647 2186.74,1440.23 2292.48,96.3465 \"/>\n",
       "<circle clip-path=\"url(#clip412)\" cx=\"283.376\" cy=\"1394.95\" r=\"14.4\" fill=\"#009af9\" fill-rule=\"evenodd\" fill-opacity=\"1\" stroke=\"#000000\" stroke-opacity=\"1\" stroke-width=\"3.2\"/>\n",
       "<circle clip-path=\"url(#clip412)\" cx=\"389.118\" cy=\"199.93\" r=\"14.4\" fill=\"#009af9\" fill-rule=\"evenodd\" fill-opacity=\"1\" stroke=\"#000000\" stroke-opacity=\"1\" stroke-width=\"3.2\"/>\n",
       "<circle clip-path=\"url(#clip412)\" cx=\"494.861\" cy=\"798.482\" r=\"14.4\" fill=\"#009af9\" fill-rule=\"evenodd\" fill-opacity=\"1\" stroke=\"#000000\" stroke-opacity=\"1\" stroke-width=\"3.2\"/>\n",
       "<circle clip-path=\"url(#clip412)\" cx=\"600.603\" cy=\"800.508\" r=\"14.4\" fill=\"#009af9\" fill-rule=\"evenodd\" fill-opacity=\"1\" stroke=\"#000000\" stroke-opacity=\"1\" stroke-width=\"3.2\"/>\n",
       "<circle clip-path=\"url(#clip412)\" cx=\"706.346\" cy=\"798.482\" r=\"14.4\" fill=\"#009af9\" fill-rule=\"evenodd\" fill-opacity=\"1\" stroke=\"#000000\" stroke-opacity=\"1\" stroke-width=\"3.2\"/>\n",
       "<circle clip-path=\"url(#clip412)\" cx=\"812.088\" cy=\"798.542\" r=\"14.4\" fill=\"#009af9\" fill-rule=\"evenodd\" fill-opacity=\"1\" stroke=\"#000000\" stroke-opacity=\"1\" stroke-width=\"3.2\"/>\n",
       "<circle clip-path=\"url(#clip412)\" cx=\"917.831\" cy=\"798.482\" r=\"14.4\" fill=\"#009af9\" fill-rule=\"evenodd\" fill-opacity=\"1\" stroke=\"#000000\" stroke-opacity=\"1\" stroke-width=\"3.2\"/>\n",
       "<circle clip-path=\"url(#clip412)\" cx=\"1023.57\" cy=\"798.716\" r=\"14.4\" fill=\"#009af9\" fill-rule=\"evenodd\" fill-opacity=\"1\" stroke=\"#000000\" stroke-opacity=\"1\" stroke-width=\"3.2\"/>\n",
       "<circle clip-path=\"url(#clip412)\" cx=\"1129.32\" cy=\"798.482\" r=\"14.4\" fill=\"#009af9\" fill-rule=\"evenodd\" fill-opacity=\"1\" stroke=\"#000000\" stroke-opacity=\"1\" stroke-width=\"3.2\"/>\n",
       "<circle clip-path=\"url(#clip412)\" cx=\"1235.06\" cy=\"861.279\" r=\"14.4\" fill=\"#009af9\" fill-rule=\"evenodd\" fill-opacity=\"1\" stroke=\"#000000\" stroke-opacity=\"1\" stroke-width=\"3.2\"/>\n",
       "<circle clip-path=\"url(#clip412)\" cx=\"1340.8\" cy=\"1445.72\" r=\"14.4\" fill=\"#009af9\" fill-rule=\"evenodd\" fill-opacity=\"1\" stroke=\"#000000\" stroke-opacity=\"1\" stroke-width=\"3.2\"/>\n",
       "<circle clip-path=\"url(#clip412)\" cx=\"1446.54\" cy=\"87.9763\" r=\"14.4\" fill=\"#009af9\" fill-rule=\"evenodd\" fill-opacity=\"1\" stroke=\"#000000\" stroke-opacity=\"1\" stroke-width=\"3.2\"/>\n",
       "<circle clip-path=\"url(#clip412)\" cx=\"1552.29\" cy=\"798.482\" r=\"14.4\" fill=\"#009af9\" fill-rule=\"evenodd\" fill-opacity=\"1\" stroke=\"#000000\" stroke-opacity=\"1\" stroke-width=\"3.2\"/>\n",
       "<circle clip-path=\"url(#clip412)\" cx=\"1658.03\" cy=\"798.718\" r=\"14.4\" fill=\"#009af9\" fill-rule=\"evenodd\" fill-opacity=\"1\" stroke=\"#000000\" stroke-opacity=\"1\" stroke-width=\"3.2\"/>\n",
       "<circle clip-path=\"url(#clip412)\" cx=\"1763.77\" cy=\"798.482\" r=\"14.4\" fill=\"#009af9\" fill-rule=\"evenodd\" fill-opacity=\"1\" stroke=\"#000000\" stroke-opacity=\"1\" stroke-width=\"3.2\"/>\n",
       "<circle clip-path=\"url(#clip412)\" cx=\"1869.51\" cy=\"798.699\" r=\"14.4\" fill=\"#009af9\" fill-rule=\"evenodd\" fill-opacity=\"1\" stroke=\"#000000\" stroke-opacity=\"1\" stroke-width=\"3.2\"/>\n",
       "<circle clip-path=\"url(#clip412)\" cx=\"1975.26\" cy=\"798.482\" r=\"14.4\" fill=\"#009af9\" fill-rule=\"evenodd\" fill-opacity=\"1\" stroke=\"#000000\" stroke-opacity=\"1\" stroke-width=\"3.2\"/>\n",
       "<circle clip-path=\"url(#clip412)\" cx=\"2081\" cy=\"858.647\" r=\"14.4\" fill=\"#009af9\" fill-rule=\"evenodd\" fill-opacity=\"1\" stroke=\"#000000\" stroke-opacity=\"1\" stroke-width=\"3.2\"/>\n",
       "<circle clip-path=\"url(#clip412)\" cx=\"2186.74\" cy=\"1440.23\" r=\"14.4\" fill=\"#009af9\" fill-rule=\"evenodd\" fill-opacity=\"1\" stroke=\"#000000\" stroke-opacity=\"1\" stroke-width=\"3.2\"/>\n",
       "<circle clip-path=\"url(#clip412)\" cx=\"2292.48\" cy=\"96.3465\" r=\"14.4\" fill=\"#009af9\" fill-rule=\"evenodd\" fill-opacity=\"1\" stroke=\"#000000\" stroke-opacity=\"1\" stroke-width=\"3.2\"/>\n",
       "<path clip-path=\"url(#clip410)\" d=\"M294.091 198.898 L559.487 198.898 L559.487 95.2176 L294.091 95.2176  Z\" fill=\"#ffffff\" fill-rule=\"evenodd\" fill-opacity=\"1\"/>\n",
       "<polyline clip-path=\"url(#clip410)\" style=\"stroke:#000000; stroke-linecap:round; stroke-linejoin:round; stroke-width:4; stroke-opacity:1; fill:none\" points=\"294.091,198.898 559.487,198.898 559.487,95.2176 294.091,95.2176 294.091,198.898 \"/>\n",
       "<polyline clip-path=\"url(#clip410)\" style=\"stroke:#009af9; stroke-linecap:round; stroke-linejoin:round; stroke-width:4; stroke-opacity:1; fill:none\" points=\"317.754,147.058 459.731,147.058 \"/>\n",
       "<circle clip-path=\"url(#clip410)\" cx=\"388.742\" cy=\"147.058\" r=\"19.719\" fill=\"#009af9\" fill-rule=\"evenodd\" fill-opacity=\"1\" stroke=\"#000000\" stroke-opacity=\"1\" stroke-width=\"4.55111\"/>\n",
       "<path clip-path=\"url(#clip410)\" d=\"M497.236 166.745 Q495.43 171.375 493.717 172.787 Q492.005 174.199 489.134 174.199 L485.731 174.199 L485.731 170.634 L488.231 170.634 Q489.991 170.634 490.963 169.8 Q491.935 168.967 493.116 165.865 L493.88 163.921 L483.393 138.412 L487.907 138.412 L496.009 158.689 L504.111 138.412 L508.625 138.412 L497.236 166.745 Z\" fill=\"#000000\" fill-rule=\"nonzero\" fill-opacity=\"1\" /><path clip-path=\"url(#clip410)\" d=\"M515.916 160.402 L523.555 160.402 L523.555 134.037 L515.245 135.703 L515.245 131.444 L523.509 129.778 L528.185 129.778 L528.185 160.402 L535.824 160.402 L535.824 164.338 L515.916 164.338 L515.916 160.402 Z\" fill=\"#000000\" fill-rule=\"nonzero\" fill-opacity=\"1\" /></svg>\n"
      ],
      "text/html": [
       "<?xml version=\"1.0\" encoding=\"utf-8\"?>\n",
       "<svg xmlns=\"http://www.w3.org/2000/svg\" xmlns:xlink=\"http://www.w3.org/1999/xlink\" width=\"600\" height=\"400\" viewBox=\"0 0 2400 1600\">\n",
       "<defs>\n",
       "  <clipPath id=\"clip460\">\n",
       "    <rect x=\"0\" y=\"0\" width=\"2400\" height=\"1600\"/>\n",
       "  </clipPath>\n",
       "</defs>\n",
       "<path clip-path=\"url(#clip460)\" d=\"M0 1600 L2400 1600 L2400 0 L0 0  Z\" fill=\"#ffffff\" fill-rule=\"evenodd\" fill-opacity=\"1\"/>\n",
       "<defs>\n",
       "  <clipPath id=\"clip461\">\n",
       "    <rect x=\"480\" y=\"0\" width=\"1681\" height=\"1600\"/>\n",
       "  </clipPath>\n",
       "</defs>\n",
       "<path clip-path=\"url(#clip460)\" d=\"M223.103 1486.45 L2352.76 1486.45 L2352.76 47.2441 L223.103 47.2441  Z\" fill=\"#ffffff\" fill-rule=\"evenodd\" fill-opacity=\"1\"/>\n",
       "<defs>\n",
       "  <clipPath id=\"clip462\">\n",
       "    <rect x=\"223\" y=\"47\" width=\"2131\" height=\"1440\"/>\n",
       "  </clipPath>\n",
       "</defs>\n",
       "<polyline clip-path=\"url(#clip462)\" style=\"stroke:#000000; stroke-linecap:round; stroke-linejoin:round; stroke-width:2; stroke-opacity:0.1; fill:none\" points=\"706.346,1486.45 706.346,47.2441 \"/>\n",
       "<polyline clip-path=\"url(#clip462)\" style=\"stroke:#000000; stroke-linecap:round; stroke-linejoin:round; stroke-width:2; stroke-opacity:0.1; fill:none\" points=\"1235.06,1486.45 1235.06,47.2441 \"/>\n",
       "<polyline clip-path=\"url(#clip462)\" style=\"stroke:#000000; stroke-linecap:round; stroke-linejoin:round; stroke-width:2; stroke-opacity:0.1; fill:none\" points=\"1763.77,1486.45 1763.77,47.2441 \"/>\n",
       "<polyline clip-path=\"url(#clip462)\" style=\"stroke:#000000; stroke-linecap:round; stroke-linejoin:round; stroke-width:2; stroke-opacity:0.1; fill:none\" points=\"2292.48,1486.45 2292.48,47.2441 \"/>\n",
       "<polyline clip-path=\"url(#clip462)\" style=\"stroke:#000000; stroke-linecap:round; stroke-linejoin:round; stroke-width:2; stroke-opacity:0.1; fill:none\" points=\"223.103,1366.68 2352.76,1366.68 \"/>\n",
       "<polyline clip-path=\"url(#clip462)\" style=\"stroke:#000000; stroke-linecap:round; stroke-linejoin:round; stroke-width:2; stroke-opacity:0.1; fill:none\" points=\"223.103,1177.28 2352.76,1177.28 \"/>\n",
       "<polyline clip-path=\"url(#clip462)\" style=\"stroke:#000000; stroke-linecap:round; stroke-linejoin:round; stroke-width:2; stroke-opacity:0.1; fill:none\" points=\"223.103,987.882 2352.76,987.882 \"/>\n",
       "<polyline clip-path=\"url(#clip462)\" style=\"stroke:#000000; stroke-linecap:round; stroke-linejoin:round; stroke-width:2; stroke-opacity:0.1; fill:none\" points=\"223.103,798.482 2352.76,798.482 \"/>\n",
       "<polyline clip-path=\"url(#clip462)\" style=\"stroke:#000000; stroke-linecap:round; stroke-linejoin:round; stroke-width:2; stroke-opacity:0.1; fill:none\" points=\"223.103,609.081 2352.76,609.081 \"/>\n",
       "<polyline clip-path=\"url(#clip462)\" style=\"stroke:#000000; stroke-linecap:round; stroke-linejoin:round; stroke-width:2; stroke-opacity:0.1; fill:none\" points=\"223.103,419.68 2352.76,419.68 \"/>\n",
       "<polyline clip-path=\"url(#clip462)\" style=\"stroke:#000000; stroke-linecap:round; stroke-linejoin:round; stroke-width:2; stroke-opacity:0.1; fill:none\" points=\"223.103,230.279 2352.76,230.279 \"/>\n",
       "<polyline clip-path=\"url(#clip460)\" style=\"stroke:#000000; stroke-linecap:round; stroke-linejoin:round; stroke-width:4; stroke-opacity:1; fill:none\" points=\"223.103,1486.45 2352.76,1486.45 \"/>\n",
       "<polyline clip-path=\"url(#clip460)\" style=\"stroke:#000000; stroke-linecap:round; stroke-linejoin:round; stroke-width:4; stroke-opacity:1; fill:none\" points=\"706.346,1486.45 706.346,1467.55 \"/>\n",
       "<polyline clip-path=\"url(#clip460)\" style=\"stroke:#000000; stroke-linecap:round; stroke-linejoin:round; stroke-width:4; stroke-opacity:1; fill:none\" points=\"1235.06,1486.45 1235.06,1467.55 \"/>\n",
       "<polyline clip-path=\"url(#clip460)\" style=\"stroke:#000000; stroke-linecap:round; stroke-linejoin:round; stroke-width:4; stroke-opacity:1; fill:none\" points=\"1763.77,1486.45 1763.77,1467.55 \"/>\n",
       "<polyline clip-path=\"url(#clip460)\" style=\"stroke:#000000; stroke-linecap:round; stroke-linejoin:round; stroke-width:4; stroke-opacity:1; fill:none\" points=\"2292.48,1486.45 2292.48,1467.55 \"/>\n",
       "<path clip-path=\"url(#clip460)\" d=\"M696.623 1514.29 L714.98 1514.29 L714.98 1518.22 L700.906 1518.22 L700.906 1526.7 Q701.924 1526.35 702.943 1526.19 Q703.961 1526 704.98 1526 Q710.767 1526 714.146 1529.17 Q717.526 1532.34 717.526 1537.76 Q717.526 1543.34 714.054 1546.44 Q710.582 1549.52 704.262 1549.52 Q702.086 1549.52 699.818 1549.15 Q697.573 1548.78 695.165 1548.04 L695.165 1543.34 Q697.248 1544.47 699.471 1545.03 Q701.693 1545.58 704.17 1545.58 Q708.174 1545.58 710.512 1543.48 Q712.85 1541.37 712.85 1537.76 Q712.85 1534.15 710.512 1532.04 Q708.174 1529.94 704.17 1529.94 Q702.295 1529.94 700.42 1530.35 Q698.568 1530.77 696.623 1531.65 L696.623 1514.29 Z\" fill=\"#000000\" fill-rule=\"nonzero\" fill-opacity=\"1\" /><path clip-path=\"url(#clip460)\" d=\"M1209.75 1544.91 L1217.38 1544.91 L1217.38 1518.55 L1209.07 1520.21 L1209.07 1515.95 L1217.34 1514.29 L1222.01 1514.29 L1222.01 1544.91 L1229.65 1544.91 L1229.65 1548.85 L1209.75 1548.85 L1209.75 1544.91 Z\" fill=\"#000000\" fill-rule=\"nonzero\" fill-opacity=\"1\" /><path clip-path=\"url(#clip460)\" d=\"M1249.1 1517.37 Q1245.49 1517.37 1243.66 1520.93 Q1241.85 1524.47 1241.85 1531.6 Q1241.85 1538.71 1243.66 1542.27 Q1245.49 1545.82 1249.1 1545.82 Q1252.73 1545.82 1254.54 1542.27 Q1256.37 1538.71 1256.37 1531.6 Q1256.37 1524.47 1254.54 1520.93 Q1252.73 1517.37 1249.1 1517.37 M1249.1 1513.66 Q1254.91 1513.66 1257.96 1518.27 Q1261.04 1522.85 1261.04 1531.6 Q1261.04 1540.33 1257.96 1544.94 Q1254.91 1549.52 1249.1 1549.52 Q1243.29 1549.52 1240.21 1544.94 Q1237.15 1540.33 1237.15 1531.6 Q1237.15 1522.85 1240.21 1518.27 Q1243.29 1513.66 1249.1 1513.66 Z\" fill=\"#000000\" fill-rule=\"nonzero\" fill-opacity=\"1\" /><path clip-path=\"url(#clip460)\" d=\"M1738.96 1544.91 L1746.59 1544.91 L1746.59 1518.55 L1738.28 1520.21 L1738.28 1515.95 L1746.55 1514.29 L1751.22 1514.29 L1751.22 1544.91 L1758.86 1544.91 L1758.86 1548.85 L1738.96 1548.85 L1738.96 1544.91 Z\" fill=\"#000000\" fill-rule=\"nonzero\" fill-opacity=\"1\" /><path clip-path=\"url(#clip460)\" d=\"M1768.35 1514.29 L1786.71 1514.29 L1786.71 1518.22 L1772.64 1518.22 L1772.64 1526.7 Q1773.65 1526.35 1774.67 1526.19 Q1775.69 1526 1776.71 1526 Q1782.5 1526 1785.88 1529.17 Q1789.26 1532.34 1789.26 1537.76 Q1789.26 1543.34 1785.78 1546.44 Q1782.31 1549.52 1775.99 1549.52 Q1773.82 1549.52 1771.55 1549.15 Q1769.3 1548.78 1766.9 1548.04 L1766.9 1543.34 Q1768.98 1544.47 1771.2 1545.03 Q1773.42 1545.58 1775.9 1545.58 Q1779.9 1545.58 1782.24 1543.48 Q1784.58 1541.37 1784.58 1537.76 Q1784.58 1534.15 1782.24 1532.04 Q1779.9 1529.94 1775.9 1529.94 Q1774.02 1529.94 1772.15 1530.35 Q1770.3 1530.77 1768.35 1531.65 L1768.35 1514.29 Z\" fill=\"#000000\" fill-rule=\"nonzero\" fill-opacity=\"1\" /><path clip-path=\"url(#clip460)\" d=\"M2271.26 1544.91 L2287.58 1544.91 L2287.58 1548.85 L2265.63 1548.85 L2265.63 1544.91 Q2268.29 1542.16 2272.88 1537.53 Q2277.48 1532.88 2278.66 1531.53 Q2280.91 1529.01 2281.79 1527.27 Q2282.69 1525.51 2282.69 1523.82 Q2282.69 1521.07 2280.75 1519.33 Q2278.83 1517.6 2275.72 1517.6 Q2273.52 1517.6 2271.07 1518.36 Q2268.64 1519.13 2265.86 1520.68 L2265.86 1515.95 Q2268.69 1514.82 2271.14 1514.24 Q2273.59 1513.66 2275.63 1513.66 Q2281 1513.66 2284.2 1516.35 Q2287.39 1519.03 2287.39 1523.52 Q2287.39 1525.65 2286.58 1527.57 Q2285.79 1529.47 2283.69 1532.07 Q2283.11 1532.74 2280.01 1535.95 Q2276.9 1539.15 2271.26 1544.91 Z\" fill=\"#000000\" fill-rule=\"nonzero\" fill-opacity=\"1\" /><path clip-path=\"url(#clip460)\" d=\"M2307.39 1517.37 Q2303.78 1517.37 2301.95 1520.93 Q2300.14 1524.47 2300.14 1531.6 Q2300.14 1538.71 2301.95 1542.27 Q2303.78 1545.82 2307.39 1545.82 Q2311.02 1545.82 2312.83 1542.27 Q2314.66 1538.71 2314.66 1531.6 Q2314.66 1524.47 2312.83 1520.93 Q2311.02 1517.37 2307.39 1517.37 M2307.39 1513.66 Q2313.2 1513.66 2316.26 1518.27 Q2319.33 1522.85 2319.33 1531.6 Q2319.33 1540.33 2316.26 1544.94 Q2313.2 1549.52 2307.39 1549.52 Q2301.58 1549.52 2298.5 1544.94 Q2295.45 1540.33 2295.45 1531.6 Q2295.45 1522.85 2298.5 1518.27 Q2301.58 1513.66 2307.39 1513.66 Z\" fill=\"#000000\" fill-rule=\"nonzero\" fill-opacity=\"1\" /><polyline clip-path=\"url(#clip460)\" style=\"stroke:#000000; stroke-linecap:round; stroke-linejoin:round; stroke-width:4; stroke-opacity:1; fill:none\" points=\"223.103,1486.45 223.103,47.2441 \"/>\n",
       "<polyline clip-path=\"url(#clip460)\" style=\"stroke:#000000; stroke-linecap:round; stroke-linejoin:round; stroke-width:4; stroke-opacity:1; fill:none\" points=\"223.103,1366.68 242,1366.68 \"/>\n",
       "<polyline clip-path=\"url(#clip460)\" style=\"stroke:#000000; stroke-linecap:round; stroke-linejoin:round; stroke-width:4; stroke-opacity:1; fill:none\" points=\"223.103,1177.28 242,1177.28 \"/>\n",
       "<polyline clip-path=\"url(#clip460)\" style=\"stroke:#000000; stroke-linecap:round; stroke-linejoin:round; stroke-width:4; stroke-opacity:1; fill:none\" points=\"223.103,987.882 242,987.882 \"/>\n",
       "<polyline clip-path=\"url(#clip460)\" style=\"stroke:#000000; stroke-linecap:round; stroke-linejoin:round; stroke-width:4; stroke-opacity:1; fill:none\" points=\"223.103,798.482 242,798.482 \"/>\n",
       "<polyline clip-path=\"url(#clip460)\" style=\"stroke:#000000; stroke-linecap:round; stroke-linejoin:round; stroke-width:4; stroke-opacity:1; fill:none\" points=\"223.103,609.081 242,609.081 \"/>\n",
       "<polyline clip-path=\"url(#clip460)\" style=\"stroke:#000000; stroke-linecap:round; stroke-linejoin:round; stroke-width:4; stroke-opacity:1; fill:none\" points=\"223.103,419.68 242,419.68 \"/>\n",
       "<polyline clip-path=\"url(#clip460)\" style=\"stroke:#000000; stroke-linecap:round; stroke-linejoin:round; stroke-width:4; stroke-opacity:1; fill:none\" points=\"223.103,230.279 242,230.279 \"/>\n",
       "<path clip-path=\"url(#clip460)\" d=\"M50.9921 1367.14 L80.6679 1367.14 L80.6679 1371.07 L50.9921 1371.07 L50.9921 1367.14 Z\" fill=\"#000000\" fill-rule=\"nonzero\" fill-opacity=\"1\" /><path clip-path=\"url(#clip460)\" d=\"M100.76 1352.48 Q97.1493 1352.48 95.3206 1356.05 Q93.515 1359.59 93.515 1366.72 Q93.515 1373.83 95.3206 1377.39 Q97.1493 1380.93 100.76 1380.93 Q104.395 1380.93 106.2 1377.39 Q108.029 1373.83 108.029 1366.72 Q108.029 1359.59 106.2 1356.05 Q104.395 1352.48 100.76 1352.48 M100.76 1348.78 Q106.571 1348.78 109.626 1353.39 Q112.705 1357.97 112.705 1366.72 Q112.705 1375.45 109.626 1380.05 Q106.571 1384.64 100.76 1384.64 Q94.9502 1384.64 91.8715 1380.05 Q88.816 1375.45 88.816 1366.72 Q88.816 1357.97 91.8715 1353.39 Q94.9502 1348.78 100.76 1348.78 Z\" fill=\"#000000\" fill-rule=\"nonzero\" fill-opacity=\"1\" /><path clip-path=\"url(#clip460)\" d=\"M120.922 1378.08 L125.807 1378.08 L125.807 1383.96 L120.922 1383.96 L120.922 1378.08 Z\" fill=\"#000000\" fill-rule=\"nonzero\" fill-opacity=\"1\" /><path clip-path=\"url(#clip460)\" d=\"M140.019 1380.03 L156.339 1380.03 L156.339 1383.96 L134.394 1383.96 L134.394 1380.03 Q137.056 1377.27 141.64 1372.64 Q146.246 1367.99 147.427 1366.65 Q149.672 1364.13 150.552 1362.39 Q151.455 1360.63 151.455 1358.94 Q151.455 1356.19 149.51 1354.45 Q147.589 1352.71 144.487 1352.71 Q142.288 1352.71 139.834 1353.48 Q137.404 1354.24 134.626 1355.79 L134.626 1351.07 Q137.45 1349.94 139.904 1349.36 Q142.357 1348.78 144.394 1348.78 Q149.765 1348.78 152.959 1351.46 Q156.154 1354.15 156.154 1358.64 Q156.154 1360.77 155.343 1362.69 Q154.556 1364.59 152.45 1367.18 Q151.871 1367.85 148.769 1371.07 Q145.668 1374.27 140.019 1380.03 Z\" fill=\"#000000\" fill-rule=\"nonzero\" fill-opacity=\"1\" /><path clip-path=\"url(#clip460)\" d=\"M166.2 1349.4 L184.556 1349.4 L184.556 1353.34 L170.482 1353.34 L170.482 1361.81 Q171.501 1361.46 172.519 1361.3 Q173.538 1361.12 174.556 1361.12 Q180.343 1361.12 183.723 1364.29 Q187.103 1367.46 187.103 1372.88 Q187.103 1378.46 183.63 1381.56 Q180.158 1384.64 173.839 1384.64 Q171.663 1384.64 169.394 1384.27 Q167.149 1383.89 164.742 1383.15 L164.742 1378.46 Q166.825 1379.59 169.047 1380.14 Q171.269 1380.7 173.746 1380.7 Q177.751 1380.7 180.089 1378.59 Q182.427 1376.49 182.427 1372.88 Q182.427 1369.27 180.089 1367.16 Q177.751 1365.05 173.746 1365.05 Q171.871 1365.05 169.996 1365.47 Q168.144 1365.89 166.2 1366.77 L166.2 1349.4 Z\" fill=\"#000000\" fill-rule=\"nonzero\" fill-opacity=\"1\" /><path clip-path=\"url(#clip460)\" d=\"M99.765 1163.08 Q96.1539 1163.08 94.3252 1166.65 Q92.5197 1170.19 92.5197 1177.32 Q92.5197 1184.42 94.3252 1187.99 Q96.1539 1191.53 99.765 1191.53 Q103.399 1191.53 105.205 1187.99 Q107.033 1184.42 107.033 1177.32 Q107.033 1170.19 105.205 1166.65 Q103.399 1163.08 99.765 1163.08 M99.765 1159.38 Q105.575 1159.38 108.631 1163.98 Q111.709 1168.57 111.709 1177.32 Q111.709 1186.04 108.631 1190.65 Q105.575 1195.23 99.765 1195.23 Q93.9549 1195.23 90.8762 1190.65 Q87.8206 1186.04 87.8206 1177.32 Q87.8206 1168.57 90.8762 1163.98 Q93.9549 1159.38 99.765 1159.38 Z\" fill=\"#000000\" fill-rule=\"nonzero\" fill-opacity=\"1\" /><path clip-path=\"url(#clip460)\" d=\"M119.927 1188.68 L124.811 1188.68 L124.811 1194.56 L119.927 1194.56 L119.927 1188.68 Z\" fill=\"#000000\" fill-rule=\"nonzero\" fill-opacity=\"1\" /><path clip-path=\"url(#clip460)\" d=\"M144.996 1163.08 Q141.385 1163.08 139.556 1166.65 Q137.751 1170.19 137.751 1177.32 Q137.751 1184.42 139.556 1187.99 Q141.385 1191.53 144.996 1191.53 Q148.63 1191.53 150.436 1187.99 Q152.265 1184.42 152.265 1177.32 Q152.265 1170.19 150.436 1166.65 Q148.63 1163.08 144.996 1163.08 M144.996 1159.38 Q150.806 1159.38 153.862 1163.98 Q156.941 1168.57 156.941 1177.32 Q156.941 1186.04 153.862 1190.65 Q150.806 1195.23 144.996 1195.23 Q139.186 1195.23 136.107 1190.65 Q133.052 1186.04 133.052 1177.32 Q133.052 1168.57 136.107 1163.98 Q139.186 1159.38 144.996 1159.38 Z\" fill=\"#000000\" fill-rule=\"nonzero\" fill-opacity=\"1\" /><path clip-path=\"url(#clip460)\" d=\"M175.158 1163.08 Q171.547 1163.08 169.718 1166.65 Q167.913 1170.19 167.913 1177.32 Q167.913 1184.42 169.718 1187.99 Q171.547 1191.53 175.158 1191.53 Q178.792 1191.53 180.598 1187.99 Q182.427 1184.42 182.427 1177.32 Q182.427 1170.19 180.598 1166.65 Q178.792 1163.08 175.158 1163.08 M175.158 1159.38 Q180.968 1159.38 184.024 1163.98 Q187.103 1168.57 187.103 1177.32 Q187.103 1186.04 184.024 1190.65 Q180.968 1195.23 175.158 1195.23 Q169.348 1195.23 166.269 1190.65 Q163.214 1186.04 163.214 1177.32 Q163.214 1168.57 166.269 1163.98 Q169.348 1159.38 175.158 1159.38 Z\" fill=\"#000000\" fill-rule=\"nonzero\" fill-opacity=\"1\" /><path clip-path=\"url(#clip460)\" d=\"M100.76 973.681 Q97.1493 973.681 95.3206 977.246 Q93.515 980.788 93.515 987.917 Q93.515 995.024 95.3206 998.588 Q97.1493 1002.13 100.76 1002.13 Q104.395 1002.13 106.2 998.588 Q108.029 995.024 108.029 987.917 Q108.029 980.788 106.2 977.246 Q104.395 973.681 100.76 973.681 M100.76 969.977 Q106.571 969.977 109.626 974.584 Q112.705 979.167 112.705 987.917 Q112.705 996.644 109.626 1001.25 Q106.571 1005.83 100.76 1005.83 Q94.9502 1005.83 91.8715 1001.25 Q88.816 996.644 88.816 987.917 Q88.816 979.167 91.8715 974.584 Q94.9502 969.977 100.76 969.977 Z\" fill=\"#000000\" fill-rule=\"nonzero\" fill-opacity=\"1\" /><path clip-path=\"url(#clip460)\" d=\"M120.922 999.283 L125.807 999.283 L125.807 1005.16 L120.922 1005.16 L120.922 999.283 Z\" fill=\"#000000\" fill-rule=\"nonzero\" fill-opacity=\"1\" /><path clip-path=\"url(#clip460)\" d=\"M140.019 1001.23 L156.339 1001.23 L156.339 1005.16 L134.394 1005.16 L134.394 1001.23 Q137.056 998.473 141.64 993.843 Q146.246 989.19 147.427 987.848 Q149.672 985.325 150.552 983.588 Q151.455 981.829 151.455 980.139 Q151.455 977.385 149.51 975.649 Q147.589 973.913 144.487 973.913 Q142.288 973.913 139.834 974.676 Q137.404 975.44 134.626 976.991 L134.626 972.269 Q137.45 971.135 139.904 970.556 Q142.357 969.977 144.394 969.977 Q149.765 969.977 152.959 972.663 Q156.154 975.348 156.154 979.838 Q156.154 981.968 155.343 983.889 Q154.556 985.788 152.45 988.38 Q151.871 989.051 148.769 992.269 Q145.668 995.463 140.019 1001.23 Z\" fill=\"#000000\" fill-rule=\"nonzero\" fill-opacity=\"1\" /><path clip-path=\"url(#clip460)\" d=\"M166.2 970.602 L184.556 970.602 L184.556 974.538 L170.482 974.538 L170.482 983.01 Q171.501 982.663 172.519 982.501 Q173.538 982.315 174.556 982.315 Q180.343 982.315 183.723 985.487 Q187.103 988.658 187.103 994.075 Q187.103 999.653 183.63 1002.76 Q180.158 1005.83 173.839 1005.83 Q171.663 1005.83 169.394 1005.46 Q167.149 1005.09 164.742 1004.35 L164.742 999.653 Q166.825 1000.79 169.047 1001.34 Q171.269 1001.9 173.746 1001.9 Q177.751 1001.9 180.089 999.792 Q182.427 997.686 182.427 994.075 Q182.427 990.463 180.089 988.357 Q177.751 986.25 173.746 986.25 Q171.871 986.25 169.996 986.667 Q168.144 987.084 166.2 987.963 L166.2 970.602 Z\" fill=\"#000000\" fill-rule=\"nonzero\" fill-opacity=\"1\" /><path clip-path=\"url(#clip460)\" d=\"M99.765 784.28 Q96.1539 784.28 94.3252 787.845 Q92.5197 791.387 92.5197 798.516 Q92.5197 805.623 94.3252 809.187 Q96.1539 812.729 99.765 812.729 Q103.399 812.729 105.205 809.187 Q107.033 805.623 107.033 798.516 Q107.033 791.387 105.205 787.845 Q103.399 784.28 99.765 784.28 M99.765 780.577 Q105.575 780.577 108.631 785.183 Q111.709 789.766 111.709 798.516 Q111.709 807.243 108.631 811.849 Q105.575 816.433 99.765 816.433 Q93.9549 816.433 90.8762 811.849 Q87.8206 807.243 87.8206 798.516 Q87.8206 789.766 90.8762 785.183 Q93.9549 780.577 99.765 780.577 Z\" fill=\"#000000\" fill-rule=\"nonzero\" fill-opacity=\"1\" /><path clip-path=\"url(#clip460)\" d=\"M119.927 809.882 L124.811 809.882 L124.811 815.762 L119.927 815.762 L119.927 809.882 Z\" fill=\"#000000\" fill-rule=\"nonzero\" fill-opacity=\"1\" /><path clip-path=\"url(#clip460)\" d=\"M135.043 781.202 L153.399 781.202 L153.399 785.137 L139.325 785.137 L139.325 793.609 Q140.343 793.262 141.362 793.1 Q142.381 792.914 143.399 792.914 Q149.186 792.914 152.566 796.086 Q155.945 799.257 155.945 804.674 Q155.945 810.252 152.473 813.354 Q149.001 816.433 142.681 816.433 Q140.506 816.433 138.237 816.062 Q135.992 815.692 133.584 814.951 L133.584 810.252 Q135.668 811.387 137.89 811.942 Q140.112 812.498 142.589 812.498 Q146.593 812.498 148.931 810.391 Q151.269 808.285 151.269 804.674 Q151.269 801.063 148.931 798.956 Q146.593 796.85 142.589 796.85 Q140.714 796.85 138.839 797.266 Q136.987 797.683 135.043 798.563 L135.043 781.202 Z\" fill=\"#000000\" fill-rule=\"nonzero\" fill-opacity=\"1\" /><path clip-path=\"url(#clip460)\" d=\"M175.158 784.28 Q171.547 784.28 169.718 787.845 Q167.913 791.387 167.913 798.516 Q167.913 805.623 169.718 809.187 Q171.547 812.729 175.158 812.729 Q178.792 812.729 180.598 809.187 Q182.427 805.623 182.427 798.516 Q182.427 791.387 180.598 787.845 Q178.792 784.28 175.158 784.28 M175.158 780.577 Q180.968 780.577 184.024 785.183 Q187.103 789.766 187.103 798.516 Q187.103 807.243 184.024 811.849 Q180.968 816.433 175.158 816.433 Q169.348 816.433 166.269 811.849 Q163.214 807.243 163.214 798.516 Q163.214 789.766 166.269 785.183 Q169.348 780.577 175.158 780.577 Z\" fill=\"#000000\" fill-rule=\"nonzero\" fill-opacity=\"1\" /><path clip-path=\"url(#clip460)\" d=\"M100.76 594.879 Q97.1493 594.879 95.3206 598.444 Q93.515 601.986 93.515 609.115 Q93.515 616.222 95.3206 619.787 Q97.1493 623.328 100.76 623.328 Q104.395 623.328 106.2 619.787 Q108.029 616.222 108.029 609.115 Q108.029 601.986 106.2 598.444 Q104.395 594.879 100.76 594.879 M100.76 591.176 Q106.571 591.176 109.626 595.782 Q112.705 600.365 112.705 609.115 Q112.705 617.842 109.626 622.449 Q106.571 627.032 100.76 627.032 Q94.9502 627.032 91.8715 622.449 Q88.816 617.842 88.816 609.115 Q88.816 600.365 91.8715 595.782 Q94.9502 591.176 100.76 591.176 Z\" fill=\"#000000\" fill-rule=\"nonzero\" fill-opacity=\"1\" /><path clip-path=\"url(#clip460)\" d=\"M120.922 620.481 L125.807 620.481 L125.807 626.361 L120.922 626.361 L120.922 620.481 Z\" fill=\"#000000\" fill-rule=\"nonzero\" fill-opacity=\"1\" /><path clip-path=\"url(#clip460)\" d=\"M134.811 591.801 L157.033 591.801 L157.033 593.791 L144.487 626.361 L139.603 626.361 L151.408 595.736 L134.811 595.736 L134.811 591.801 Z\" fill=\"#000000\" fill-rule=\"nonzero\" fill-opacity=\"1\" /><path clip-path=\"url(#clip460)\" d=\"M166.2 591.801 L184.556 591.801 L184.556 595.736 L170.482 595.736 L170.482 604.208 Q171.501 603.861 172.519 603.699 Q173.538 603.514 174.556 603.514 Q180.343 603.514 183.723 606.685 Q187.103 609.856 187.103 615.273 Q187.103 620.851 183.63 623.953 Q180.158 627.032 173.839 627.032 Q171.663 627.032 169.394 626.662 Q167.149 626.291 164.742 625.55 L164.742 620.851 Q166.825 621.986 169.047 622.541 Q171.269 623.097 173.746 623.097 Q177.751 623.097 180.089 620.99 Q182.427 618.884 182.427 615.273 Q182.427 611.662 180.089 609.555 Q177.751 607.449 173.746 607.449 Q171.871 607.449 169.996 607.865 Q168.144 608.282 166.2 609.162 L166.2 591.801 Z\" fill=\"#000000\" fill-rule=\"nonzero\" fill-opacity=\"1\" /><path clip-path=\"url(#clip460)\" d=\"M90.5752 433.025 L98.2141 433.025 L98.2141 406.659 L89.904 408.326 L89.904 404.066 L98.1678 402.4 L102.844 402.4 L102.844 433.025 L110.483 433.025 L110.483 436.96 L90.5752 436.96 L90.5752 433.025 Z\" fill=\"#000000\" fill-rule=\"nonzero\" fill-opacity=\"1\" /><path clip-path=\"url(#clip460)\" d=\"M119.927 431.08 L124.811 431.08 L124.811 436.96 L119.927 436.96 L119.927 431.08 Z\" fill=\"#000000\" fill-rule=\"nonzero\" fill-opacity=\"1\" /><path clip-path=\"url(#clip460)\" d=\"M144.996 405.478 Q141.385 405.478 139.556 409.043 Q137.751 412.585 137.751 419.714 Q137.751 426.821 139.556 430.386 Q141.385 433.927 144.996 433.927 Q148.63 433.927 150.436 430.386 Q152.265 426.821 152.265 419.714 Q152.265 412.585 150.436 409.043 Q148.63 405.478 144.996 405.478 M144.996 401.775 Q150.806 401.775 153.862 406.381 Q156.941 410.964 156.941 419.714 Q156.941 428.441 153.862 433.048 Q150.806 437.631 144.996 437.631 Q139.186 437.631 136.107 433.048 Q133.052 428.441 133.052 419.714 Q133.052 410.964 136.107 406.381 Q139.186 401.775 144.996 401.775 Z\" fill=\"#000000\" fill-rule=\"nonzero\" fill-opacity=\"1\" /><path clip-path=\"url(#clip460)\" d=\"M175.158 405.478 Q171.547 405.478 169.718 409.043 Q167.913 412.585 167.913 419.714 Q167.913 426.821 169.718 430.386 Q171.547 433.927 175.158 433.927 Q178.792 433.927 180.598 430.386 Q182.427 426.821 182.427 419.714 Q182.427 412.585 180.598 409.043 Q178.792 405.478 175.158 405.478 M175.158 401.775 Q180.968 401.775 184.024 406.381 Q187.103 410.964 187.103 419.714 Q187.103 428.441 184.024 433.048 Q180.968 437.631 175.158 437.631 Q169.348 437.631 166.269 433.048 Q163.214 428.441 163.214 419.714 Q163.214 410.964 166.269 406.381 Q169.348 401.775 175.158 401.775 Z\" fill=\"#000000\" fill-rule=\"nonzero\" fill-opacity=\"1\" /><path clip-path=\"url(#clip460)\" d=\"M91.5706 243.624 L99.2095 243.624 L99.2095 217.258 L90.8993 218.925 L90.8993 214.665 L99.1632 212.999 L103.839 212.999 L103.839 243.624 L111.478 243.624 L111.478 247.559 L91.5706 247.559 L91.5706 243.624 Z\" fill=\"#000000\" fill-rule=\"nonzero\" fill-opacity=\"1\" /><path clip-path=\"url(#clip460)\" d=\"M120.922 241.679 L125.807 241.679 L125.807 247.559 L120.922 247.559 L120.922 241.679 Z\" fill=\"#000000\" fill-rule=\"nonzero\" fill-opacity=\"1\" /><path clip-path=\"url(#clip460)\" d=\"M140.019 243.624 L156.339 243.624 L156.339 247.559 L134.394 247.559 L134.394 243.624 Q137.056 240.869 141.64 236.239 Q146.246 231.587 147.427 230.244 Q149.672 227.721 150.552 225.985 Q151.455 224.226 151.455 222.536 Q151.455 219.781 149.51 218.045 Q147.589 216.309 144.487 216.309 Q142.288 216.309 139.834 217.073 Q137.404 217.837 134.626 219.388 L134.626 214.665 Q137.45 213.531 139.904 212.952 Q142.357 212.374 144.394 212.374 Q149.765 212.374 152.959 215.059 Q156.154 217.744 156.154 222.235 Q156.154 224.364 155.343 226.286 Q154.556 228.184 152.45 230.776 Q151.871 231.448 148.769 234.665 Q145.668 237.86 140.019 243.624 Z\" fill=\"#000000\" fill-rule=\"nonzero\" fill-opacity=\"1\" /><path clip-path=\"url(#clip460)\" d=\"M166.2 212.999 L184.556 212.999 L184.556 216.934 L170.482 216.934 L170.482 225.406 Q171.501 225.059 172.519 224.897 Q173.538 224.712 174.556 224.712 Q180.343 224.712 183.723 227.883 Q187.103 231.054 187.103 236.471 Q187.103 242.05 183.63 245.151 Q180.158 248.23 173.839 248.23 Q171.663 248.23 169.394 247.86 Q167.149 247.489 164.742 246.749 L164.742 242.05 Q166.825 243.184 169.047 243.739 Q171.269 244.295 173.746 244.295 Q177.751 244.295 180.089 242.188 Q182.427 240.082 182.427 236.471 Q182.427 232.86 180.089 230.753 Q177.751 228.647 173.746 228.647 Q171.871 228.647 169.996 229.064 Q168.144 229.48 166.2 230.36 L166.2 212.999 Z\" fill=\"#000000\" fill-rule=\"nonzero\" fill-opacity=\"1\" /><polyline clip-path=\"url(#clip462)\" style=\"stroke:#009af9; stroke-linecap:round; stroke-linejoin:round; stroke-width:4; stroke-opacity:1; fill:none\" points=\"283.376,1394.95 389.118,199.93 494.861,798.482 600.603,800.508 706.346,798.482 812.088,798.542 917.831,798.482 1023.57,798.716 1129.32,798.482 1235.06,861.279 1340.8,1445.72 1446.54,87.9763 1552.29,798.482 1658.03,798.718 1763.77,798.482 1869.51,798.699 1975.26,798.482 2081,858.647 2186.74,1440.23 2292.48,96.3465 \"/>\n",
       "<circle clip-path=\"url(#clip462)\" cx=\"283.376\" cy=\"1394.95\" r=\"14.4\" fill=\"#009af9\" fill-rule=\"evenodd\" fill-opacity=\"1\" stroke=\"#000000\" stroke-opacity=\"1\" stroke-width=\"3.2\"/>\n",
       "<circle clip-path=\"url(#clip462)\" cx=\"389.118\" cy=\"199.93\" r=\"14.4\" fill=\"#009af9\" fill-rule=\"evenodd\" fill-opacity=\"1\" stroke=\"#000000\" stroke-opacity=\"1\" stroke-width=\"3.2\"/>\n",
       "<circle clip-path=\"url(#clip462)\" cx=\"494.861\" cy=\"798.482\" r=\"14.4\" fill=\"#009af9\" fill-rule=\"evenodd\" fill-opacity=\"1\" stroke=\"#000000\" stroke-opacity=\"1\" stroke-width=\"3.2\"/>\n",
       "<circle clip-path=\"url(#clip462)\" cx=\"600.603\" cy=\"800.508\" r=\"14.4\" fill=\"#009af9\" fill-rule=\"evenodd\" fill-opacity=\"1\" stroke=\"#000000\" stroke-opacity=\"1\" stroke-width=\"3.2\"/>\n",
       "<circle clip-path=\"url(#clip462)\" cx=\"706.346\" cy=\"798.482\" r=\"14.4\" fill=\"#009af9\" fill-rule=\"evenodd\" fill-opacity=\"1\" stroke=\"#000000\" stroke-opacity=\"1\" stroke-width=\"3.2\"/>\n",
       "<circle clip-path=\"url(#clip462)\" cx=\"812.088\" cy=\"798.542\" r=\"14.4\" fill=\"#009af9\" fill-rule=\"evenodd\" fill-opacity=\"1\" stroke=\"#000000\" stroke-opacity=\"1\" stroke-width=\"3.2\"/>\n",
       "<circle clip-path=\"url(#clip462)\" cx=\"917.831\" cy=\"798.482\" r=\"14.4\" fill=\"#009af9\" fill-rule=\"evenodd\" fill-opacity=\"1\" stroke=\"#000000\" stroke-opacity=\"1\" stroke-width=\"3.2\"/>\n",
       "<circle clip-path=\"url(#clip462)\" cx=\"1023.57\" cy=\"798.716\" r=\"14.4\" fill=\"#009af9\" fill-rule=\"evenodd\" fill-opacity=\"1\" stroke=\"#000000\" stroke-opacity=\"1\" stroke-width=\"3.2\"/>\n",
       "<circle clip-path=\"url(#clip462)\" cx=\"1129.32\" cy=\"798.482\" r=\"14.4\" fill=\"#009af9\" fill-rule=\"evenodd\" fill-opacity=\"1\" stroke=\"#000000\" stroke-opacity=\"1\" stroke-width=\"3.2\"/>\n",
       "<circle clip-path=\"url(#clip462)\" cx=\"1235.06\" cy=\"861.279\" r=\"14.4\" fill=\"#009af9\" fill-rule=\"evenodd\" fill-opacity=\"1\" stroke=\"#000000\" stroke-opacity=\"1\" stroke-width=\"3.2\"/>\n",
       "<circle clip-path=\"url(#clip462)\" cx=\"1340.8\" cy=\"1445.72\" r=\"14.4\" fill=\"#009af9\" fill-rule=\"evenodd\" fill-opacity=\"1\" stroke=\"#000000\" stroke-opacity=\"1\" stroke-width=\"3.2\"/>\n",
       "<circle clip-path=\"url(#clip462)\" cx=\"1446.54\" cy=\"87.9763\" r=\"14.4\" fill=\"#009af9\" fill-rule=\"evenodd\" fill-opacity=\"1\" stroke=\"#000000\" stroke-opacity=\"1\" stroke-width=\"3.2\"/>\n",
       "<circle clip-path=\"url(#clip462)\" cx=\"1552.29\" cy=\"798.482\" r=\"14.4\" fill=\"#009af9\" fill-rule=\"evenodd\" fill-opacity=\"1\" stroke=\"#000000\" stroke-opacity=\"1\" stroke-width=\"3.2\"/>\n",
       "<circle clip-path=\"url(#clip462)\" cx=\"1658.03\" cy=\"798.718\" r=\"14.4\" fill=\"#009af9\" fill-rule=\"evenodd\" fill-opacity=\"1\" stroke=\"#000000\" stroke-opacity=\"1\" stroke-width=\"3.2\"/>\n",
       "<circle clip-path=\"url(#clip462)\" cx=\"1763.77\" cy=\"798.482\" r=\"14.4\" fill=\"#009af9\" fill-rule=\"evenodd\" fill-opacity=\"1\" stroke=\"#000000\" stroke-opacity=\"1\" stroke-width=\"3.2\"/>\n",
       "<circle clip-path=\"url(#clip462)\" cx=\"1869.51\" cy=\"798.699\" r=\"14.4\" fill=\"#009af9\" fill-rule=\"evenodd\" fill-opacity=\"1\" stroke=\"#000000\" stroke-opacity=\"1\" stroke-width=\"3.2\"/>\n",
       "<circle clip-path=\"url(#clip462)\" cx=\"1975.26\" cy=\"798.482\" r=\"14.4\" fill=\"#009af9\" fill-rule=\"evenodd\" fill-opacity=\"1\" stroke=\"#000000\" stroke-opacity=\"1\" stroke-width=\"3.2\"/>\n",
       "<circle clip-path=\"url(#clip462)\" cx=\"2081\" cy=\"858.647\" r=\"14.4\" fill=\"#009af9\" fill-rule=\"evenodd\" fill-opacity=\"1\" stroke=\"#000000\" stroke-opacity=\"1\" stroke-width=\"3.2\"/>\n",
       "<circle clip-path=\"url(#clip462)\" cx=\"2186.74\" cy=\"1440.23\" r=\"14.4\" fill=\"#009af9\" fill-rule=\"evenodd\" fill-opacity=\"1\" stroke=\"#000000\" stroke-opacity=\"1\" stroke-width=\"3.2\"/>\n",
       "<circle clip-path=\"url(#clip462)\" cx=\"2292.48\" cy=\"96.3465\" r=\"14.4\" fill=\"#009af9\" fill-rule=\"evenodd\" fill-opacity=\"1\" stroke=\"#000000\" stroke-opacity=\"1\" stroke-width=\"3.2\"/>\n",
       "<path clip-path=\"url(#clip460)\" d=\"M294.091 198.898 L559.487 198.898 L559.487 95.2176 L294.091 95.2176  Z\" fill=\"#ffffff\" fill-rule=\"evenodd\" fill-opacity=\"1\"/>\n",
       "<polyline clip-path=\"url(#clip460)\" style=\"stroke:#000000; stroke-linecap:round; stroke-linejoin:round; stroke-width:4; stroke-opacity:1; fill:none\" points=\"294.091,198.898 559.487,198.898 559.487,95.2176 294.091,95.2176 294.091,198.898 \"/>\n",
       "<polyline clip-path=\"url(#clip460)\" style=\"stroke:#009af9; stroke-linecap:round; stroke-linejoin:round; stroke-width:4; stroke-opacity:1; fill:none\" points=\"317.754,147.058 459.731,147.058 \"/>\n",
       "<circle clip-path=\"url(#clip460)\" cx=\"388.742\" cy=\"147.058\" r=\"19.719\" fill=\"#009af9\" fill-rule=\"evenodd\" fill-opacity=\"1\" stroke=\"#000000\" stroke-opacity=\"1\" stroke-width=\"4.55111\"/>\n",
       "<path clip-path=\"url(#clip460)\" d=\"M497.236 166.745 Q495.43 171.375 493.717 172.787 Q492.005 174.199 489.134 174.199 L485.731 174.199 L485.731 170.634 L488.231 170.634 Q489.991 170.634 490.963 169.8 Q491.935 168.967 493.116 165.865 L493.88 163.921 L483.393 138.412 L487.907 138.412 L496.009 158.689 L504.111 138.412 L508.625 138.412 L497.236 166.745 Z\" fill=\"#000000\" fill-rule=\"nonzero\" fill-opacity=\"1\" /><path clip-path=\"url(#clip460)\" d=\"M515.916 160.402 L523.555 160.402 L523.555 134.037 L515.245 135.703 L515.245 131.444 L523.509 129.778 L528.185 129.778 L528.185 160.402 L535.824 160.402 L535.824 164.338 L515.916 164.338 L515.916 160.402 Z\" fill=\"#000000\" fill-rule=\"nonzero\" fill-opacity=\"1\" /></svg>\n"
      ]
     },
     "execution_count": 13,
     "metadata": {},
     "output_type": "execute_result"
    },
    {
     "name": "stderr",
     "output_type": "stream",
     "text": [
      "GKS: dlopen(/Users/Hank/.julia/artifacts/66ebf8a541da7166677a6e2ac6b8277592d32044/lib/cairoplugin.so, 1): Library not loaded: @rpath/libcairo.2.dylib\n",
      "  Referenced from: /Users/Hank/.julia/artifacts/66ebf8a541da7166677a6e2ac6b8277592d32044/lib/cairoplugin.so\n",
      "  Reason: Incompatible library version: cairoplugin.so requires version 11603.0.0 or later, but libcairo.2.dylib provides version 2.0.0\n"
     ]
    }
   ],
   "source": [
    "psi = cmag(psi0,[3,5,7,9,13,15,17])\n",
    "\n",
    "plot( expect(psi,\"Sz\"),marker=:circle )"
   ]
  },
  {
   "cell_type": "code",
   "execution_count": null,
   "metadata": {},
   "outputs": [],
   "source": []
  },
  {
   "cell_type": "code",
   "execution_count": null,
   "metadata": {},
   "outputs": [],
   "source": []
  },
  {
   "cell_type": "code",
   "execution_count": null,
   "metadata": {},
   "outputs": [],
   "source": []
  }
 ],
 "metadata": {
  "kernelspec": {
   "display_name": "Julia 1.10.3",
   "language": "julia",
   "name": "julia-1.10"
  },
  "language_info": {
   "file_extension": ".jl",
   "mimetype": "application/julia",
   "name": "julia",
   "version": "1.10.3"
  }
 },
 "nbformat": 4,
 "nbformat_minor": 2
}
