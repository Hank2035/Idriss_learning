{
 "cells": [
  {
   "cell_type": "code",
   "execution_count": null,
   "metadata": {},
   "outputs": [],
   "source": [
    "using ITensors,ITensorMPS\n",
    "import ITensors:op\n",
    "import Pkg; Pkg.add(\"HDF5\")\n",
    "import Pkg; Pkg.add(\"Plots\")\n",
    "import Pkg; Pkg.add(\"PyFormattedStrings\")\n",
    "import Pkg; Pkg.add(\"LinearAlgebra\")"
   ]
  },
  {
   "cell_type": "code",
   "execution_count": null,
   "metadata": {},
   "outputs": [],
   "source": [
    "using HDF5\n",
    "using Plots\n",
    "using PyFormattedStrings\n",
    "using LinearAlgebra"
   ]
  },
  {
   "cell_type": "code",
   "execution_count": null,
   "metadata": {},
   "outputs": [],
   "source": [
    "include(\"overload_Spin=3h.jl\")"
   ]
  },
  {
   "cell_type": "code",
   "execution_count": null,
   "metadata": {},
   "outputs": [],
   "source": [
    "# construction of the MPO hamiltonian\n",
    "#------------------------------------------\n",
    "function Hamiltonian(sites)\n",
    "    ops = OpSum()\n",
    "\n",
    "    N = length(sites)\n",
    "    # spin-spin interaction\n",
    "    for j=1:N-1\n",
    "        ops += J,   \"Sz\",j, \"Sz\",j+1\n",
    "        ops += J/2, \"S+\",j, \"S-\",j+1\n",
    "        ops += J/2, \"S-\",j, \"S+\",j+1\n",
    "    end\n",
    "    #make it a ring\n",
    "#    ops += J,   \"Sz\",N, \"Sz\",1\n",
    "#    ops += J/2, \"S+\",N, \"S-\",1\n",
    "#    ops += J/2, \"S-\",N, \"S+\",1\n",
    "\n",
    "    # spin-B interaction\n",
    "    for j=1:N\n",
    "        ops += -B, \"Sz\",j\n",
    "    end\n",
    "    \n",
    "    H = MPO(ops,sites)\n",
    "    #--------------------------\n",
    "    return H\n",
    "end"
   ]
  },
  {
   "cell_type": "code",
   "execution_count": null,
   "metadata": {},
   "outputs": [],
   "source": [
    "function cmag(wf::MPS,j_list)    \n",
    "    psi = copy(wf)\n",
    "    sites = siteinds(psi)\n",
    "\n",
    "    for j in j_list\n",
    "        if isodd(j)\n",
    "            psi = apply( op(\"S+\",sites[j]) * op(\"S-\",sites[j+1]), psi )\n",
    "        else\n",
    "            psi = apply( op(\"S-\",sites[j]) * op(\"S+\",sites[j+1]), psi )\n",
    "        end    \n",
    "    end\n",
    "\n",
    "    #----------------------------------\n",
    "    return normalize!(psi)\n",
    "end"
   ]
  },
  {
   "cell_type": "code",
   "execution_count": null,
   "metadata": {},
   "outputs": [],
   "source": [
    "# one or two sites reduced density matrix\n",
    "#--------------------------------------\n",
    "function get_2pdm(wf::MPS,locs)\n",
    "    ket = copy(wf)\n",
    "    sites = siteinds(ket)\n",
    "    n_locs = length(locs)\n",
    "\n",
    "    if n_locs==1\n",
    "        A = locs[1]\n",
    "        orthogonalize!(ket,A)\n",
    "        rho = prime(ket[A],sites[A]) * dag(ket[A])\n",
    "\n",
    "    elseif n_locs==2\n",
    "        A,B = locs\n",
    "        orthogonalize!(ket,A)\n",
    "        bra = prime(dag(ket),linkinds(ket))\n",
    "        \n",
    "        rho = prime(ket[A],linkinds(ket,A-1)) * prime(bra[A],sites[A])\n",
    "        [ rho *= ket[j]*bra[j] for j in A+1:B-1 ]\n",
    "        rho *= prime(ket[B],linkinds(ket,B)) * prime(bra[B],sites[B])  \n",
    "    \n",
    "    end\n",
    "\n",
    "    #-----------------------------------\n",
    "    return rho\n",
    "end"
   ]
  },
  {
   "cell_type": "code",
   "execution_count": null,
   "metadata": {},
   "outputs": [],
   "source": []
  },
  {
   "cell_type": "code",
   "execution_count": null,
   "metadata": {},
   "outputs": [],
   "source": [
    "#   calc_Eigenvalues of density matrix\n",
    "#-----------------------------------\n",
    "function calc_Eigenvalues(density_matrix)\n",
    "    egn_val,_ = eigen(density_matrix,ishermitian=true)\n",
    "    #-----------------------------------\n",
    "    return diag(array(egn_val))\n",
    "end\n",
    "\n",
    "\n",
    "#   eigenvalue based generic properties of a density matrix\n",
    "#-----------------------------------\n",
    "function calc_Norm(density_matrix)\n",
    "    rho = copy(density_matrix)\n",
    "\n",
    "    egn_val = calc_Eigenvalues(rho)\n",
    "    Norm = sum(egn_val)\n",
    "    Purity = sum(egn_val.^2)\n",
    "\n",
    "    #-----------------------------------\n",
    "    return [Norm,Purity]\n",
    "end\n",
    "\n",
    "#   eigenvalue based generic properties of a density matrix\n",
    "#-----------------------------------\n",
    "function calc_SvN(density_matrix)\n",
    "    rho = copy(density_matrix)\n",
    "\n",
    "    egn_val = calc_Eigenvalues(rho)\n",
    "    SvN = sum( [ - lam*log2(lam) for lam in egn_val if lam > 0 ] )\n",
    "\n",
    "    #-----------------------------------\n",
    "    return SvN\n",
    "end\n"
   ]
  },
  {
   "cell_type": "code",
   "execution_count": null,
   "metadata": {},
   "outputs": [],
   "source": [
    "#   entanglement details between two sites\n",
    "#-----------------------------------\n",
    "function calc_Neg(wf::MPS,locs)\n",
    "    psi = copy(wf)\n",
    "    A,B = locs\n",
    "\n",
    "    rho_AB = get_2pdm(psi,[A,B])\n",
    "    rho_AB_PT = calc_PartialTranspose(rho_AB)\n",
    "    egn_val = calc_Eigenvalues(rho_AB_PT)\n",
    "\n",
    "    neg_entries =  [ lam for lam in egn_val if lam<0 ]\n",
    "    Neg = abs(sum(neg_entries))\n",
    "\n",
    "    #-----------------------------------\n",
    "    return Neg\n",
    "end\n",
    "\n",
    "\n",
    "# Partial between two sites (test program)\n",
    "#   takes a partial transpose over 2nd site\n",
    "#------------------------------------------------\n",
    "\n",
    "function calc_PartialTranspose(density_matrix)\n",
    "    rho = copy(density_matrix)\n",
    "\n",
    "    oldinds = inds(rho)\n",
    "    newinds = [oldinds[1],oldinds[2],oldinds[4],oldinds[3]]\n",
    "    rho_PT = swapinds(rho,oldinds,newinds)\n",
    "    \n",
    "    #-----------------------------\n",
    "    return rho_PT\n",
    "end\n",
    "\n",
    "\n",
    "#   entanglement details between two sites\n",
    "#-----------------------------------\n",
    "function calc_MutInf(wf::MPS,locs)\n",
    "    psi = copy(wf)\n",
    "    A,B = locs\n",
    "\n",
    "    rho_A  = get_2pdm(psi,[A,A])\n",
    "    rho_B  = get_2pdm(psi,[B,B])\n",
    "    rho_AB = get_2pdm(psi,[A,B])\n",
    "\n",
    "    S_A = calc_SvN(rho_A)\n",
    "    S_B = calc_SvN(rho_B)\n",
    "    S_AB = calc_SvN(rho_AB)\n",
    "\n",
    "    MutInf = S_A + S_B - S_AB\n",
    "\n",
    "    #-----------------------------------\n",
    "    return MutInf\n",
    "end\n",
    "\n",
    "\n"
   ]
  },
  {
   "cell_type": "code",
   "execution_count": null,
   "metadata": {},
   "outputs": [],
   "source": []
  },
  {
   "cell_type": "code",
   "execution_count": null,
   "metadata": {},
   "outputs": [],
   "source": []
  },
  {
   "cell_type": "code",
   "execution_count": null,
   "metadata": {},
   "outputs": [],
   "source": [
    "#define the parameters of the hamiltonian\n",
    "#----------------------------------------------------------------------------\n",
    "\n",
    "J = 1\n",
    "B = 0.1\n",
    "\n",
    "nsweeps = 11\n",
    "maxdim = [10,25,50,100,150,200,250]\n",
    "cutoff = [1E-10]"
   ]
  },
  {
   "cell_type": "code",
   "execution_count": null,
   "metadata": {},
   "outputs": [],
   "source": [
    "N = 20\n",
    "#--------------------------------------------\n",
    "\n",
    "site_list = collect(1:N) \n",
    "sites = siteinds( j->isodd(j) ? \"S=1/2\" : \"S=3/2\", N ) \n",
    "\n",
    "H = Hamiltonian(sites) \n",
    "\n",
    "# ground state and first excited state\n",
    "#--------------------------------------------\n",
    "energy0,psi0 = dmrg(H,random_mps(sites);nsweeps,maxdim,cutoff,ishermitian=true)\n",
    "#energy1,psi1 = dmrg(H,[psi0],random_mps(sites);nsweeps,maxdim,cutoff,ishermitian=true) ;"
   ]
  },
  {
   "cell_type": "code",
   "execution_count": null,
   "metadata": {},
   "outputs": [],
   "source": [
    "exp_H = inner(psi0',H,psi0) ;\n",
    "exp_Sz = expect( psi0, \"Sz\" ) ;\n",
    "net_Sz = sum(exp_Sz) ;\n",
    "\n",
    "println(\"energy/N = $(exp_H/N)\")\n",
    "println(\"net(Sz)/N = $(net_Sz/N)\")\n",
    "\n",
    "states = [ isodd(j) ? \"Dn\" : \"+3/2\" for j in 1:N]\n",
    "psi_Neel = productMPS(sites,states)\n",
    "alpha_Neel = inner(psi0,psi_Neel)\n",
    "#alpha_Neel = 0.99053*exp(-0.03547*N)"
   ]
  },
  {
   "cell_type": "code",
   "execution_count": null,
   "metadata": {},
   "outputs": [],
   "source": []
  },
  {
   "cell_type": "code",
   "execution_count": null,
   "metadata": {},
   "outputs": [],
   "source": [
    "rho = get_4pdm(psi0,[2,6])\n",
    "#inds(rho)\n",
    "\n",
    "#rho = get_2pdm(psi0,[2,7])\n",
    "#wcalc_properties(rho)"
   ]
  },
  {
   "cell_type": "code",
   "execution_count": null,
   "metadata": {},
   "outputs": [],
   "source": []
  },
  {
   "cell_type": "code",
   "execution_count": null,
   "metadata": {},
   "outputs": [],
   "source": [
    "psi = cmag(psi0,[3,5,7,9,13,15,17])\n",
    "\n",
    "plot( expect(psi,\"Sz\"),marker=:circle )"
   ]
  },
  {
   "cell_type": "code",
   "execution_count": null,
   "metadata": {},
   "outputs": [],
   "source": []
  },
  {
   "cell_type": "code",
   "execution_count": null,
   "metadata": {},
   "outputs": [],
   "source": []
  },
  {
   "cell_type": "code",
   "execution_count": null,
   "metadata": {},
   "outputs": [],
   "source": []
  }
 ],
 "metadata": {
  "kernelspec": {
   "display_name": "Julia 1.10.3",
   "language": "julia",
   "name": "julia-1.10"
  },
  "language_info": {
   "file_extension": ".jl",
   "mimetype": "application/julia",
   "name": "julia",
   "version": "1.10.3"
  }
 },
 "nbformat": 4,
 "nbformat_minor": 2
}
