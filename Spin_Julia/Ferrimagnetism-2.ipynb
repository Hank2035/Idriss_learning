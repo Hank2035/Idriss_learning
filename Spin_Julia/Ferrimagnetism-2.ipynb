{
 "cells": [
  {
   "cell_type": "code",
   "execution_count": 1,
   "metadata": {},
   "outputs": [
    {
     "data": {
      "text/plain": [
       "14"
      ]
     },
     "execution_count": 1,
     "metadata": {},
     "output_type": "execute_result"
    }
   ],
   "source": [
    "using ITensors,ITensorMPS\n",
    "import ITensors:op\n",
    "using PyFormattedStrings\n",
    "using LinearAlgebra\n",
    "using Plots\n",
    "\n",
    "ITensors.disable_warn_order()"
   ]
  },
  {
   "cell_type": "code",
   "execution_count": 2,
   "metadata": {},
   "outputs": [],
   "source": [
    "# overloadings for SiteType 3/2\n",
    "#----------------------------------------------\n",
    "ITensors.space(::SiteType\"S=3/2\") = 4\n",
    "\n",
    "# operator Sz\n",
    "#-------------------\n",
    "ITensors.op(::OpName\"Sz\",::SiteType\"S=3/2\") =\n",
    "[+3/2   0    0    0\n",
    "  0    +1/2  0    0\n",
    "  0     0   -1/2  0\n",
    "  0     0    0   -3/2]\n",
    "\n",
    "# operator S+\n",
    "#-------------------\n",
    "ITensors.op(::OpName\"S+\",::SiteType\"S=3/2\") =\n",
    "[0  √3  0   0 \n",
    " 0  0   √4  0\n",
    " 0  0   0   √3\n",
    " 0  0   0   0]\n",
    "\n",
    "# operator S-\n",
    "#-------------------\n",
    "ITensors.op(::OpName\"S-\",::SiteType\"S=3/2\") =\n",
    "[0  0   0   0\n",
    " √3 0   0   0\n",
    " 0  √4  0   0\n",
    " 0  0   √3  0]\n",
    "\n",
    "# z projection states\n",
    "#-----------------------------------------\n",
    "ITensors.state(::StateName\"+3/2\",::SiteType\"S=3/2\") = [1, 0, 0, 0]\n",
    "ITensors.state(::StateName\"+1/2\",::SiteType\"S=3/2\") = [0, 1, 0, 0]\n",
    "ITensors.state(::StateName\"-1/2\",::SiteType\"S=3/2\") = [0, 0, 1, 0]\n",
    "ITensors.state(::StateName\"-3/2\",::SiteType\"S=3/2\") = [0, 0, 0, 1]"
   ]
  },
  {
   "cell_type": "code",
   "execution_count": 3,
   "metadata": {},
   "outputs": [
    {
     "data": {
      "text/plain": [
       "Hamiltonian (generic function with 1 method)"
      ]
     },
     "execution_count": 3,
     "metadata": {},
     "output_type": "execute_result"
    }
   ],
   "source": [
    "# construction of the MPO hamiltonian\n",
    "#------------------------------------------\n",
    "function Hamiltonian(sites)\n",
    "    ops = OpSum()\n",
    "\n",
    "    N = length(sites)\n",
    "    # spin-spin interaction\n",
    "    for k=1:N-1\n",
    "        ops += J,   \"Sz\",k, \"Sz\",k+1\n",
    "        ops += J/2, \"S+\",k, \"S-\",k+1\n",
    "        ops += J/2, \"S-\",k, \"S+\",k+1\n",
    "    end\n",
    "    #make it a ring\n",
    "    ops += J,   \"Sz\",N, \"Sz\",1\n",
    "    ops += J/2, \"S+\",N, \"S-\",1\n",
    "    ops += J/2, \"S-\",N, \"S+\",1\n",
    "\n",
    "    # spin-B interaction\n",
    "    for k=1:N\n",
    "        ops += -B, \"Sz\",k\n",
    "    end\n",
    "    \n",
    "    H = MPO(ops,sites)\n",
    "    #--------------------------\n",
    "    return H\n",
    "end"
   ]
  },
  {
   "cell_type": "code",
   "execution_count": 4,
   "metadata": {},
   "outputs": [
    {
     "data": {
      "text/plain": [
       "MagnonOperation (generic function with 1 method)"
      ]
     },
     "execution_count": 4,
     "metadata": {},
     "output_type": "execute_result"
    }
   ],
   "source": [
    "# apply magon operators at various sites\n",
    "#----------------------------------\n",
    "function MagnonOperation(wf::MPS, k_list; split=\"no\")    \n",
    "    psi = copy(wf)\n",
    "    sites = siteinds(psi)\n",
    "\n",
    "    #magnon creation at sites k,k+1\n",
    "    for k in k_list\n",
    "        if isodd(k)\n",
    "            psi = apply( op(\"S+\",sites[k])  , psi )\n",
    "            psi = apply( op(\"S-\",sites[k+1]), psi )\n",
    "        else\n",
    "            psi = apply( op(\"S-\",sites[k])  , psi )\n",
    "            psi = apply( op(\"S+\",sites[k+1]), psi )\n",
    "        end   \n",
    "    end\n",
    "\n",
    "    #for split magnon\n",
    "    if length(k_list)==2 && split==\"yes\"\n",
    "        m,n = k_list[1]+1, k_list[2]     #loc of desturction\n",
    "        \n",
    "        if isodd(m)\n",
    "            psi = apply( op(\"S-\",sites[m]), psi )\n",
    "        else\n",
    "            psi = apply( op(\"S+\",sites[m]), psi )\n",
    "        end\n",
    "\n",
    "        if isodd(n)\n",
    "            psi = apply( op(\"S-\",sites[n]), psi )\n",
    "        else\n",
    "            psi = apply( op(\"S+\",sites[n]), psi )\n",
    "        end\n",
    "    end\n",
    "\n",
    "    return normalize!(psi)\n",
    "    #----------------------------------\n",
    "end"
   ]
  },
  {
   "cell_type": "code",
   "execution_count": 5,
   "metadata": {},
   "outputs": [
    {
     "data": {
      "text/plain": [
       "get_4pdm (generic function with 1 method)"
      ]
     },
     "execution_count": 5,
     "metadata": {},
     "output_type": "execute_result"
    }
   ],
   "source": [
    "# one or two sites reduced density matrix\n",
    "#--------------------------------------\n",
    "function get_2pdm(wf::MPS,locs)\n",
    "    ket = copy(wf)\n",
    "    sites = siteinds(ket)\n",
    "    n_locs = length(locs)\n",
    "\n",
    "    if n_locs==1\n",
    "        A = locs[1]\n",
    "        orthogonalize!(ket,A)\n",
    "        rho = prime(ket[A],sites[A]) * dag(ket[A])\n",
    "\n",
    "    elseif n_locs==2\n",
    "        A,B = locs\n",
    "        orthogonalize!(ket,A)\n",
    "        bra = prime(dag(ket),linkinds(ket))\n",
    "        \n",
    "        rho = prime(ket[A],linkinds(ket,A-1)) * prime(bra[A],sites[A])\n",
    "        for k in A+1:B-1\n",
    "            rho *= ket[k]*bra[k]\n",
    "        end\n",
    "        rho *= prime(ket[B],linkinds(ket,B)) * prime(bra[B],sites[B])  \n",
    "    \n",
    "    end\n",
    "\n",
    "    #-----------------------------------\n",
    "    return rho\n",
    "end\n",
    "\n",
    "\n",
    "#four point RDM of sites AB, CD\n",
    "# AB adjacent, CD adjacent\n",
    "#------------------------------------------\n",
    "function get_4pdm(wf::MPS,locs)\n",
    "    psi = copy(wf)\n",
    "    A,C = locs\n",
    "\n",
    "    orthogonalize!(psi,A)\n",
    "    ket = psi[A]\n",
    "    for k in A+1:C+1\n",
    "        ket *= psi[k]\n",
    "    end\n",
    "    rho = prime(ket,\"Site\") * dag(ket)\n",
    "\n",
    "    if C-A>2\n",
    "        inds_list = inds(rho)\n",
    "        trinds1 = collect(3 : C-A)\n",
    "        trinds2 = trinds1[end] .+ trinds1 .+ 2\n",
    "        for idx in 1:length(trinds1)\n",
    "            rho = rho*delta(inds_list[trinds1[idx]],inds_list[trinds2[idx]])\n",
    "        end\n",
    "    end\n",
    "    #-------------------\n",
    "    return rho\n",
    "end"
   ]
  },
  {
   "cell_type": "code",
   "execution_count": 6,
   "metadata": {},
   "outputs": [
    {
     "data": {
      "text/plain": [
       "calc_SvN (generic function with 1 method)"
      ]
     },
     "execution_count": 6,
     "metadata": {},
     "output_type": "execute_result"
    }
   ],
   "source": [
    "#   calc_Eigenvalues of density matrix\n",
    "#-----------------------------------\n",
    "function calc_Eigenvalues(density_matrix)\n",
    "    egn_val,_ = eigen(density_matrix,ishermitian=true)\n",
    "    #-----------------------------------\n",
    "    return diag(array(egn_val))\n",
    "end\n",
    "\n",
    "\n",
    "#   eigenvalue based generic properties of a density matrix\n",
    "#-----------------------------------\n",
    "function calc_Norm(density_matrix)\n",
    "    rho = copy(density_matrix)\n",
    "\n",
    "    egn_val = calc_Eigenvalues(rho)\n",
    "    Norm = sum(egn_val)\n",
    "    Purity = sum(egn_val.^2)\n",
    "\n",
    "    #-----------------------------------\n",
    "    return [Norm,Purity]\n",
    "end\n",
    "\n",
    "#   eigenvalue based generic properties of a density matrix\n",
    "#-----------------------------------\n",
    "function calc_SvN(density_matrix)\n",
    "    rho = copy(density_matrix)\n",
    "\n",
    "    egn_val = calc_Eigenvalues(rho)\n",
    "    SvN = sum( [ - lam*log(lam) for lam in egn_val if lam > 0 ] )\n",
    "\n",
    "    #-----------------------------------\n",
    "    return SvN\n",
    "end\n"
   ]
  },
  {
   "cell_type": "code",
   "execution_count": 7,
   "metadata": {},
   "outputs": [
    {
     "data": {
      "text/plain": [
       "calc_MutInf_2site (generic function with 1 method)"
      ]
     },
     "execution_count": 7,
     "metadata": {},
     "output_type": "execute_result"
    }
   ],
   "source": [
    "#   entanglement details between two sites\n",
    "#-----------------------------------\n",
    "function calc_Neg_2site(wf::MPS,locs)\n",
    "    psi = copy(wf)\n",
    "    A,B = locs\n",
    "\n",
    "    rho = get_2pdm(psi,[A,B])\n",
    "    old = inds(rho)\n",
    "\n",
    "    new = [old[1],old[2],old[4],old[3]]\n",
    "    rho_PT = swapinds(rho,old,new)\n",
    "    egn_val = calc_Eigenvalues(rho_PT)\n",
    "\n",
    "    Neg =  abs(sum( [ lam for lam in egn_val if lam<0 ]))\n",
    "    #-----------------------------------\n",
    "    return Neg\n",
    "end\n",
    "\n",
    "\n",
    "\n",
    "#   entanglement details between two sites\n",
    "#-----------------------------------\n",
    "function calc_MutInf_2site(wf::MPS,locs)\n",
    "    psi = copy(wf)\n",
    "    A,B = locs\n",
    "\n",
    "    rho_A  = get_2pdm(psi,[A,A])\n",
    "    rho_B  = get_2pdm(psi,[B,B])\n",
    "    rho_AB = get_2pdm(psi,[A,B])\n",
    "\n",
    "    S_A = calc_SvN(rho_A)\n",
    "    S_B = calc_SvN(rho_B)\n",
    "    S_AB = calc_SvN(rho_AB)\n",
    "\n",
    "    MutInf = S_A + S_B - S_AB\n",
    "    #-----------------------------------\n",
    "    return MutInf\n",
    "end"
   ]
  },
  {
   "cell_type": "code",
   "execution_count": 8,
   "metadata": {},
   "outputs": [
    {
     "data": {
      "text/plain": [
       "calc_LogNeg_4site (generic function with 1 method)"
      ]
     },
     "execution_count": 8,
     "metadata": {},
     "output_type": "execute_result"
    }
   ],
   "source": [
    "#   entanglement details between four sites\n",
    "#-----------------------------------\n",
    "function calc_LogNeg_4site(wf::MPS,locs)    \n",
    "    psi = copy(wf)\n",
    "    A,C = locs\n",
    "\n",
    "    rho = get_4pdm(psi,[A,C])\n",
    "    old = inds(rho)\n",
    "\n",
    "    function get_LogNeg(rho,old,new)\n",
    "        rho_PT = swapinds(rho,old,new)\n",
    "        egn_val = calc_Eigenvalues(rho_PT)\n",
    "        Neg =  abs(sum( [lam for lam in egn_val if lam<0] ))\n",
    "        return log(1+2*Neg)\n",
    "    end\n",
    "        \n",
    "    #   ABCD = 1234 \n",
    "    #   ABCD = 5678\n",
    "\n",
    "    # wrt A B C D\n",
    "    new_A  = [old[5],old[2],old[3],old[4],old[1],old[6],old[7],old[8]]\n",
    "    new_B  = [old[1],old[6],old[3],old[4],old[5],old[2],old[7],old[8]]\n",
    "    new_C  = [old[1],old[2],old[7],old[4],old[5],old[6],old[3],old[8]]\n",
    "    new_D  = [old[1],old[2],old[3],old[8],old[5],old[6],old[7],old[4]]\n",
    "\n",
    "    # wrt AB AC AD\n",
    "    new_AB = [old[5],old[6],old[3],old[4],old[1],old[2],old[7],old[8]]\n",
    "    new_AC = [old[5],old[2],old[7],old[4],old[1],old[6],old[3],old[8]]\n",
    "    new_AD = [old[5],old[2],old[3],old[8],old[1],old[6],old[7],old[4]]\n",
    "\n",
    "    LogNeg = 1\n",
    "    for new in [new_A,new_B,new_C,new_D,new_AB,new_AC,new_AD]\n",
    "        LogNeg *= get_LogNeg(rho,old,new)\n",
    "    end\n",
    "    LogNeg = LogNeg^(1.0/7.0)\n",
    "\n",
    "    #-----------------------------------\n",
    "    return LogNeg\n",
    "end\n"
   ]
  },
  {
   "cell_type": "code",
   "execution_count": 9,
   "metadata": {},
   "outputs": [
    {
     "name": "stdout",
     "output_type": "stream",
     "text": [
      "After sweep 1 energy=-21.09995164081418  maxlinkdim=8 maxerr=3.91E-16 time=27.974\n",
      "After sweep 2 energy=-21.524166113912518  maxlinkdim=25 maxerr=2.52E-07 time=0.141\n",
      "After sweep 3 energy=-21.809258327372287  maxlinkdim=50 maxerr=3.21E-07 time=0.668\n",
      "After sweep 4 energy=-21.847167358746436  maxlinkdim=100 maxerr=3.31E-08 time=3.116\n",
      "After sweep 5 energy=-21.859141593662564  maxlinkdim=150 maxerr=8.48E-09 time=6.284\n",
      "After sweep 6 energy=-21.866154793518362  maxlinkdim=200 maxerr=3.18E-09 time=14.870\n",
      "After sweep 7 energy=-21.87150842921357  maxlinkdim=250 maxerr=8.16E-10 time=30.017\n",
      "After sweep 8 energy=-21.875936373757256  maxlinkdim=300 maxerr=1.91E-10 time=45.760\n",
      "After sweep 9 energy=-21.87930219419905  maxlinkdim=400 maxerr=2.66E-11 time=60.173\n",
      "After sweep 10 energy=-21.881700931023733  maxlinkdim=500 maxerr=1.07E-11 time=87.353\n",
      "After sweep 11 energy=-21.88335744602008  maxlinkdim=500 maxerr=1.32E-11 time=100.023\n",
      "After sweep 12 energy=-21.884457130902526  maxlinkdim=500 maxerr=1.21E-11 time=97.155\n",
      "After sweep 13 energy=-21.885165798393086  maxlinkdim=490 maxerr=1.00E-11 time=77.591\n",
      "After sweep 14 energy=-21.885619701500286  maxlinkdim=474 maxerr=1.00E-11 time=70.106\n",
      "After sweep 15 energy=-21.885910951763872  maxlinkdim=457 maxerr=1.00E-11 time=64.623\n",
      "After sweep 16 energy=-21.88609900792418  maxlinkdim=441 maxerr=1.00E-11 time=58.520\n",
      "After sweep 17 energy=-21.88621721094505  maxlinkdim=421 maxerr=1.00E-11 time=52.923\n",
      "After sweep 18 energy=-21.88628869396687  maxlinkdim=398 maxerr=1.00E-11 time=52.058\n",
      "After sweep 19 energy=-21.886332077078748  maxlinkdim=374 maxerr=9.96E-12 time=34.052\n",
      "After sweep 20 energy=-21.886360371855787  maxlinkdim=349 maxerr=9.98E-12 time=27.188\n"
     ]
    }
   ],
   "source": [
    "#define the parameters of the hamiltonian and constuct MPO\n",
    "#----------------------------------------------------------------------------\n",
    "\n",
    "J = 1\n",
    "B = 0.01\n",
    "\n",
    "nsweeps = 20\n",
    "maxdim = [10,25,50,100,150,200,250,300,400,500]\n",
    "cutoff = [1E-11]\n",
    "\n",
    "#--------------------\n",
    "N = 30\n",
    "#--------------------\n",
    "\n",
    "site_list = collect(1:N) \n",
    "sites = siteinds( k->isodd(k) ? \"S=1/2\" : \"S=1\", N ) \n",
    "#sites = siteinds(\"S=1/2\", N)\n",
    "\n",
    "H = Hamiltonian(sites) \n",
    "\n",
    "# ground state and first excited state\n",
    "#--------------------------------------------\n",
    "energy0,psi0 = dmrg(H,random_mps(sites);nsweeps,maxdim,cutoff,ishermitian=true) ;\n",
    "#energy1,psi1 = dmrg(H,[psi0],random_mps(sites);nsweeps,maxdim,cutoff,ishermitian=true) ;"
   ]
  },
  {
   "cell_type": "code",
   "execution_count": null,
   "metadata": {},
   "outputs": [],
   "source": []
  },
  {
   "cell_type": "code",
   "execution_count": 10,
   "metadata": {},
   "outputs": [
    {
     "name": "stdout",
     "output_type": "stream",
     "text": [
      "3.191369e-01 \t 1.181095e-01 \t 4.429155e-02 \t 1.374915e-01 \t 1.047707e-01 \t 9.623538e-02 \t 1.017893e-01 \t 2.661131e-02 \t "
     ]
    }
   ],
   "source": [
    "#* check thermodynamic limits *#\n",
    "#-----------------------------\n",
    "\n",
    "wf = Vector{Any}(undef,8)\n",
    "\n",
    "wf[1] = MagnonOperation( psi0, [1] )         #one single magnon\n",
    "wf[2] = MagnonOperation( psi0, [1,3] )       #two neughbouring\n",
    "wf[3] = MagnonOperation( psi0, [1,3,5] )     #three neughbouring\n",
    "wf[4] = MagnonOperation( psi0, [1,2] )       #two overlapping magnons \n",
    "wf[5] = MagnonOperation( psi0, [1,4] )       #two magnon separted by spin 1/2 \n",
    "wf[6] = MagnonOperation( psi0, [2,5] )       #two magnon separted by spin 3/2\n",
    "wf[7] = MagnonOperation( psi0, [1,5] )       #two magnon separed by two sites\n",
    "wf[8] = MagnonOperation( psi0, [1,3]; split=\"yes\" )       #split magnon of width 0\n",
    "\n",
    "for idx in 1:length(wf)\n",
    "    ovlap = abs(inner(wf[idx],psi0))\n",
    "    print( f\"{ovlap:e} \\t \" ) \n",
    "end"
   ]
  },
  {
   "cell_type": "code",
   "execution_count": 11,
   "metadata": {},
   "outputs": [
    {
     "name": "stderr",
     "output_type": "stream",
     "text": [
      "\u001b[32m\u001b[1m   Resolving\u001b[22m\u001b[39m package versions...\n",
      "\u001b[32m\u001b[1m  No Changes\u001b[22m\u001b[39m to `~/.julia/environments/v1.10/Project.toml`\n",
      "\u001b[32m\u001b[1m  No Changes\u001b[22m\u001b[39m to `~/.julia/environments/v1.10/Manifest.toml`\n"
     ]
    }
   ],
   "source": [
    "import Pkg; Pkg.add(\"LaTeXStrings\")"
   ]
  },
  {
   "cell_type": "code",
   "execution_count": null,
   "metadata": {},
   "outputs": [],
   "source": []
  },
  {
   "cell_type": "code",
   "execution_count": 12,
   "metadata": {},
   "outputs": [
    {
     "name": "stdout",
     "output_type": "stream",
     "text": [
      "0 \t 0.5548298031357911\n",
      "1 \t 0.28053648104640116\n",
      "2 \t 0.12929416974031765\n",
      "3 \t 0.09214229791082762\n",
      "4 \t 0.0936550064631928\n",
      "5 \t 0.08937694127165514\n"
     ]
    },
    {
     "data": {
      "image/png": "",
      "image/svg+xml": [
       "<?xml version=\"1.0\" encoding=\"utf-8\"?>\n",
       "<svg xmlns=\"http://www.w3.org/2000/svg\" xmlns:xlink=\"http://www.w3.org/1999/xlink\" width=\"600\" height=\"400\" viewBox=\"0 0 2400 1600\">\n",
       "<defs>\n",
       "  <clipPath id=\"clip600\">\n",
       "    <rect x=\"0\" y=\"0\" width=\"2400\" height=\"1600\"/>\n",
       "  </clipPath>\n",
       "</defs>\n",
       "<path clip-path=\"url(#clip600)\" d=\"M0 1600 L2400 1600 L2400 0 L0 0  Z\" fill=\"#ffffff\" fill-rule=\"evenodd\" fill-opacity=\"1\"/>\n",
       "<defs>\n",
       "  <clipPath id=\"clip601\">\n",
       "    <rect x=\"480\" y=\"0\" width=\"1681\" height=\"1600\"/>\n",
       "  </clipPath>\n",
       "</defs>\n",
       "<path clip-path=\"url(#clip600)\" d=\"M219.866 1423.18 L2352.76 1423.18 L2352.76 47.2441 L219.866 47.2441  Z\" fill=\"#ffffff\" fill-rule=\"evenodd\" fill-opacity=\"1\"/>\n",
       "<defs>\n",
       "  <clipPath id=\"clip602\">\n",
       "    <rect x=\"219\" y=\"47\" width=\"2134\" height=\"1377\"/>\n",
       "  </clipPath>\n",
       "</defs>\n",
       "<polyline clip-path=\"url(#clip602)\" style=\"stroke:#000000; stroke-linecap:round; stroke-linejoin:round; stroke-width:2; stroke-opacity:0.1; fill:none\" points=\"280.231,1423.18 280.231,47.2441 \"/>\n",
       "<polyline clip-path=\"url(#clip602)\" style=\"stroke:#000000; stroke-linecap:round; stroke-linejoin:round; stroke-width:2; stroke-opacity:0.1; fill:none\" points=\"682.663,1423.18 682.663,47.2441 \"/>\n",
       "<polyline clip-path=\"url(#clip602)\" style=\"stroke:#000000; stroke-linecap:round; stroke-linejoin:round; stroke-width:2; stroke-opacity:0.1; fill:none\" points=\"1085.1,1423.18 1085.1,47.2441 \"/>\n",
       "<polyline clip-path=\"url(#clip602)\" style=\"stroke:#000000; stroke-linecap:round; stroke-linejoin:round; stroke-width:2; stroke-opacity:0.1; fill:none\" points=\"1487.53,1423.18 1487.53,47.2441 \"/>\n",
       "<polyline clip-path=\"url(#clip602)\" style=\"stroke:#000000; stroke-linecap:round; stroke-linejoin:round; stroke-width:2; stroke-opacity:0.1; fill:none\" points=\"1889.96,1423.18 1889.96,47.2441 \"/>\n",
       "<polyline clip-path=\"url(#clip602)\" style=\"stroke:#000000; stroke-linecap:round; stroke-linejoin:round; stroke-width:2; stroke-opacity:0.1; fill:none\" points=\"2292.39,1423.18 2292.39,47.2441 \"/>\n",
       "<polyline clip-path=\"url(#clip602)\" style=\"stroke:#000000; stroke-linecap:round; stroke-linejoin:round; stroke-width:2; stroke-opacity:0.1; fill:none\" points=\"219.866,1354.61 2352.76,1354.61 \"/>\n",
       "<polyline clip-path=\"url(#clip602)\" style=\"stroke:#000000; stroke-linecap:round; stroke-linejoin:round; stroke-width:2; stroke-opacity:0.1; fill:none\" points=\"219.866,1075.73 2352.76,1075.73 \"/>\n",
       "<polyline clip-path=\"url(#clip602)\" style=\"stroke:#000000; stroke-linecap:round; stroke-linejoin:round; stroke-width:2; stroke-opacity:0.1; fill:none\" points=\"219.866,796.854 2352.76,796.854 \"/>\n",
       "<polyline clip-path=\"url(#clip602)\" style=\"stroke:#000000; stroke-linecap:round; stroke-linejoin:round; stroke-width:2; stroke-opacity:0.1; fill:none\" points=\"219.866,517.974 2352.76,517.974 \"/>\n",
       "<polyline clip-path=\"url(#clip602)\" style=\"stroke:#000000; stroke-linecap:round; stroke-linejoin:round; stroke-width:2; stroke-opacity:0.1; fill:none\" points=\"219.866,239.095 2352.76,239.095 \"/>\n",
       "<polyline clip-path=\"url(#clip600)\" style=\"stroke:#000000; stroke-linecap:round; stroke-linejoin:round; stroke-width:4; stroke-opacity:1; fill:none\" points=\"219.866,1423.18 2352.76,1423.18 \"/>\n",
       "<polyline clip-path=\"url(#clip600)\" style=\"stroke:#000000; stroke-linecap:round; stroke-linejoin:round; stroke-width:4; stroke-opacity:1; fill:none\" points=\"280.231,1423.18 280.231,1404.28 \"/>\n",
       "<polyline clip-path=\"url(#clip600)\" style=\"stroke:#000000; stroke-linecap:round; stroke-linejoin:round; stroke-width:4; stroke-opacity:1; fill:none\" points=\"682.663,1423.18 682.663,1404.28 \"/>\n",
       "<polyline clip-path=\"url(#clip600)\" style=\"stroke:#000000; stroke-linecap:round; stroke-linejoin:round; stroke-width:4; stroke-opacity:1; fill:none\" points=\"1085.1,1423.18 1085.1,1404.28 \"/>\n",
       "<polyline clip-path=\"url(#clip600)\" style=\"stroke:#000000; stroke-linecap:round; stroke-linejoin:round; stroke-width:4; stroke-opacity:1; fill:none\" points=\"1487.53,1423.18 1487.53,1404.28 \"/>\n",
       "<polyline clip-path=\"url(#clip600)\" style=\"stroke:#000000; stroke-linecap:round; stroke-linejoin:round; stroke-width:4; stroke-opacity:1; fill:none\" points=\"1889.96,1423.18 1889.96,1404.28 \"/>\n",
       "<polyline clip-path=\"url(#clip600)\" style=\"stroke:#000000; stroke-linecap:round; stroke-linejoin:round; stroke-width:4; stroke-opacity:1; fill:none\" points=\"2292.39,1423.18 2292.39,1404.28 \"/>\n",
       "<path clip-path=\"url(#clip600)\" d=\"M280.231 1454.1 Q276.62 1454.1 274.791 1457.66 Q272.986 1461.2 272.986 1468.33 Q272.986 1475.44 274.791 1479.01 Q276.62 1482.55 280.231 1482.55 Q283.865 1482.55 285.671 1479.01 Q287.5 1475.44 287.5 1468.33 Q287.5 1461.2 285.671 1457.66 Q283.865 1454.1 280.231 1454.1 M280.231 1450.39 Q286.041 1450.39 289.097 1455 Q292.175 1459.58 292.175 1468.33 Q292.175 1477.06 289.097 1481.67 Q286.041 1486.25 280.231 1486.25 Q274.421 1486.25 271.342 1481.67 Q268.287 1477.06 268.287 1468.33 Q268.287 1459.58 271.342 1455 Q274.421 1450.39 280.231 1450.39 Z\" fill=\"#000000\" fill-rule=\"nonzero\" fill-opacity=\"1\" /><path clip-path=\"url(#clip600)\" d=\"M673.045 1481.64 L680.684 1481.64 L680.684 1455.28 L672.374 1456.95 L672.374 1452.69 L680.638 1451.02 L685.314 1451.02 L685.314 1481.64 L692.952 1481.64 L692.952 1485.58 L673.045 1485.58 L673.045 1481.64 Z\" fill=\"#000000\" fill-rule=\"nonzero\" fill-opacity=\"1\" /><path clip-path=\"url(#clip600)\" d=\"M1079.75 1481.64 L1096.07 1481.64 L1096.07 1485.58 L1074.12 1485.58 L1074.12 1481.64 Q1076.78 1478.89 1081.37 1474.26 Q1085.97 1469.61 1087.16 1468.27 Q1089.4 1465.74 1090.28 1464.01 Q1091.18 1462.25 1091.18 1460.56 Q1091.18 1457.8 1089.24 1456.07 Q1087.32 1454.33 1084.22 1454.33 Q1082.02 1454.33 1079.56 1455.09 Q1077.13 1455.86 1074.35 1457.41 L1074.35 1452.69 Q1077.18 1451.55 1079.63 1450.97 Q1082.09 1450.39 1084.12 1450.39 Q1089.49 1450.39 1092.69 1453.08 Q1095.88 1455.77 1095.88 1460.26 Q1095.88 1462.39 1095.07 1464.31 Q1094.28 1466.2 1092.18 1468.8 Q1091.6 1469.47 1088.5 1472.69 Q1085.4 1475.88 1079.75 1481.64 Z\" fill=\"#000000\" fill-rule=\"nonzero\" fill-opacity=\"1\" /><path clip-path=\"url(#clip600)\" d=\"M1491.77 1466.95 Q1495.13 1467.66 1497.01 1469.93 Q1498.9 1472.2 1498.9 1475.53 Q1498.9 1480.65 1495.39 1483.45 Q1491.87 1486.25 1485.39 1486.25 Q1483.21 1486.25 1480.9 1485.81 Q1478.6 1485.39 1476.15 1484.54 L1476.15 1480.02 Q1478.09 1481.16 1480.41 1481.74 Q1482.72 1482.32 1485.25 1482.32 Q1489.65 1482.32 1491.94 1480.58 Q1494.25 1478.84 1494.25 1475.53 Q1494.25 1472.48 1492.1 1470.77 Q1489.97 1469.03 1486.15 1469.03 L1482.12 1469.03 L1482.12 1465.19 L1486.33 1465.19 Q1489.78 1465.19 1491.61 1463.82 Q1493.44 1462.43 1493.44 1459.84 Q1493.44 1457.18 1491.54 1455.77 Q1489.67 1454.33 1486.15 1454.33 Q1484.23 1454.33 1482.03 1454.75 Q1479.83 1455.16 1477.19 1456.04 L1477.19 1451.88 Q1479.85 1451.14 1482.17 1450.77 Q1484.51 1450.39 1486.57 1450.39 Q1491.89 1450.39 1494.99 1452.83 Q1498.09 1455.23 1498.09 1459.35 Q1498.09 1462.22 1496.45 1464.21 Q1494.81 1466.18 1491.77 1466.95 Z\" fill=\"#000000\" fill-rule=\"nonzero\" fill-opacity=\"1\" /><path clip-path=\"url(#clip600)\" d=\"M1892.97 1455.09 L1881.16 1473.54 L1892.97 1473.54 L1892.97 1455.09 M1891.74 1451.02 L1897.62 1451.02 L1897.62 1473.54 L1902.55 1473.54 L1902.55 1477.43 L1897.62 1477.43 L1897.62 1485.58 L1892.97 1485.58 L1892.97 1477.43 L1877.37 1477.43 L1877.37 1472.92 L1891.74 1451.02 Z\" fill=\"#000000\" fill-rule=\"nonzero\" fill-opacity=\"1\" /><path clip-path=\"url(#clip600)\" d=\"M2282.67 1451.02 L2301.03 1451.02 L2301.03 1454.96 L2286.95 1454.96 L2286.95 1463.43 Q2287.97 1463.08 2288.99 1462.92 Q2290.01 1462.73 2291.03 1462.73 Q2296.81 1462.73 2300.19 1465.9 Q2303.57 1469.08 2303.57 1474.49 Q2303.57 1480.07 2300.1 1483.17 Q2296.63 1486.25 2290.31 1486.25 Q2288.13 1486.25 2285.86 1485.88 Q2283.62 1485.51 2281.21 1484.77 L2281.21 1480.07 Q2283.29 1481.2 2285.52 1481.76 Q2287.74 1482.32 2290.22 1482.32 Q2294.22 1482.32 2296.56 1480.21 Q2298.9 1478.1 2298.9 1474.49 Q2298.9 1470.88 2296.56 1468.77 Q2294.22 1466.67 2290.22 1466.67 Q2288.34 1466.67 2286.47 1467.08 Q2284.61 1467.5 2282.67 1468.38 L2282.67 1451.02 Z\" fill=\"#000000\" fill-rule=\"nonzero\" fill-opacity=\"1\" /><path clip-path=\"url(#clip600)\" d=\"M1144.61 1522.08 L1144.61 1528.35 Q1140.95 1526.6 1137.7 1525.74 Q1134.46 1524.88 1131.43 1524.88 Q1126.18 1524.88 1123.32 1526.92 Q1120.48 1528.96 1120.48 1532.71 Q1120.48 1535.87 1122.36 1537.49 Q1124.27 1539.08 1129.56 1540.07 L1133.44 1540.86 Q1140.63 1542.23 1144.04 1545.7 Q1147.48 1549.14 1147.48 1554.93 Q1147.48 1561.84 1142.83 1565.4 Q1138.21 1568.97 1129.27 1568.97 Q1125.9 1568.97 1122.08 1568.2 Q1118.29 1567.44 1114.21 1565.94 L1114.21 1559.32 Q1118.13 1561.52 1121.88 1562.63 Q1125.64 1563.75 1129.27 1563.75 Q1134.78 1563.75 1137.77 1561.58 Q1140.76 1559.42 1140.76 1555.41 Q1140.76 1551.91 1138.59 1549.93 Q1136.46 1547.96 1131.56 1546.97 L1127.65 1546.21 Q1120.45 1544.78 1117.24 1541.72 Q1114.02 1538.67 1114.02 1533.22 Q1114.02 1526.92 1118.45 1523.29 Q1122.9 1519.66 1130.7 1519.66 Q1134.04 1519.66 1137.51 1520.27 Q1140.98 1520.87 1144.61 1522.08 Z\" fill=\"#000000\" fill-rule=\"nonzero\" fill-opacity=\"1\" /><path clip-path=\"url(#clip600)\" d=\"M1187.74 1548.76 L1187.74 1551.62 L1160.81 1551.62 Q1161.19 1557.67 1164.44 1560.85 Q1167.72 1564 1173.54 1564 Q1176.92 1564 1180.07 1563.17 Q1183.25 1562.35 1186.37 1560.69 L1186.37 1566.23 Q1183.22 1567.57 1179.91 1568.27 Q1176.6 1568.97 1173.19 1568.97 Q1164.66 1568.97 1159.67 1564 Q1154.7 1559.04 1154.7 1550.57 Q1154.7 1541.82 1159.41 1536.69 Q1164.15 1531.54 1172.17 1531.54 Q1179.37 1531.54 1183.54 1536.18 Q1187.74 1540.8 1187.74 1548.76 M1181.88 1547.04 Q1181.82 1542.23 1179.18 1539.37 Q1176.57 1536.5 1172.24 1536.5 Q1167.34 1536.5 1164.38 1539.27 Q1161.45 1542.04 1161 1547.07 L1181.88 1547.04 Z\" fill=\"#000000\" fill-rule=\"nonzero\" fill-opacity=\"1\" /><path clip-path=\"url(#clip600)\" d=\"M1203.02 1562.7 L1203.02 1581.6 L1197.13 1581.6 L1197.13 1532.4 L1203.02 1532.4 L1203.02 1537.81 Q1204.86 1534.62 1207.66 1533.1 Q1210.5 1531.54 1214.41 1531.54 Q1220.9 1531.54 1224.95 1536.69 Q1229.02 1541.85 1229.02 1550.25 Q1229.02 1558.65 1224.95 1563.81 Q1220.9 1568.97 1214.41 1568.97 Q1210.5 1568.97 1207.66 1567.44 Q1204.86 1565.88 1203.02 1562.7 M1222.94 1550.25 Q1222.94 1543.79 1220.27 1540.13 Q1217.63 1536.44 1212.98 1536.44 Q1208.33 1536.44 1205.66 1540.13 Q1203.02 1543.79 1203.02 1550.25 Q1203.02 1556.71 1205.66 1560.4 Q1208.33 1564.07 1212.98 1564.07 Q1217.63 1564.07 1220.27 1560.4 Q1222.94 1556.71 1222.94 1550.25 Z\" fill=\"#000000\" fill-rule=\"nonzero\" fill-opacity=\"1\" /><path clip-path=\"url(#clip600)\" d=\"M1254.93 1550.12 Q1247.83 1550.12 1245.09 1551.75 Q1242.36 1553.37 1242.36 1557.29 Q1242.36 1560.4 1244.39 1562.25 Q1246.46 1564.07 1249.99 1564.07 Q1254.86 1564.07 1257.79 1560.63 Q1260.75 1557.16 1260.75 1551.43 L1260.75 1550.12 L1254.93 1550.12 M1266.61 1547.71 L1266.61 1568.04 L1260.75 1568.04 L1260.75 1562.63 Q1258.75 1565.88 1255.76 1567.44 Q1252.76 1568.97 1248.44 1568.97 Q1242.96 1568.97 1239.71 1565.91 Q1236.5 1562.82 1236.5 1557.67 Q1236.5 1551.65 1240.51 1548.6 Q1244.55 1545.54 1252.54 1545.54 L1260.75 1545.54 L1260.75 1544.97 Q1260.75 1540.93 1258.08 1538.73 Q1255.44 1536.5 1250.63 1536.5 Q1247.58 1536.5 1244.68 1537.23 Q1241.78 1537.97 1239.11 1539.43 L1239.11 1534.02 Q1242.32 1532.78 1245.35 1532.17 Q1248.37 1531.54 1251.24 1531.54 Q1258.97 1531.54 1262.79 1535.55 Q1266.61 1539.56 1266.61 1547.71 Z\" fill=\"#000000\" fill-rule=\"nonzero\" fill-opacity=\"1\" /><path clip-path=\"url(#clip600)\" d=\"M1299.33 1537.87 Q1298.34 1537.3 1297.16 1537.04 Q1296.02 1536.76 1294.62 1536.76 Q1289.65 1536.76 1286.98 1540 Q1284.34 1543.22 1284.34 1549.27 L1284.34 1568.04 L1278.45 1568.04 L1278.45 1532.4 L1284.34 1532.4 L1284.34 1537.93 Q1286.18 1534.69 1289.14 1533.13 Q1292.1 1531.54 1296.34 1531.54 Q1296.94 1531.54 1297.67 1531.63 Q1298.41 1531.7 1299.3 1531.85 L1299.33 1537.87 Z\" fill=\"#000000\" fill-rule=\"nonzero\" fill-opacity=\"1\" /><path clip-path=\"url(#clip600)\" d=\"M1321.67 1550.12 Q1314.57 1550.12 1311.84 1551.75 Q1309.1 1553.37 1309.1 1557.29 Q1309.1 1560.4 1311.14 1562.25 Q1313.21 1564.07 1316.74 1564.07 Q1321.61 1564.07 1324.54 1560.63 Q1327.5 1557.16 1327.5 1551.43 L1327.5 1550.12 L1321.67 1550.12 M1333.35 1547.71 L1333.35 1568.04 L1327.5 1568.04 L1327.5 1562.63 Q1325.49 1565.88 1322.5 1567.44 Q1319.51 1568.97 1315.18 1568.97 Q1309.71 1568.97 1306.46 1565.91 Q1303.24 1562.82 1303.24 1557.67 Q1303.24 1551.65 1307.25 1548.6 Q1311.3 1545.54 1319.29 1545.54 L1327.5 1545.54 L1327.5 1544.97 Q1327.5 1540.93 1324.82 1538.73 Q1322.18 1536.5 1317.38 1536.5 Q1314.32 1536.5 1311.42 1537.23 Q1308.53 1537.97 1305.85 1539.43 L1305.85 1534.02 Q1309.07 1532.78 1312.09 1532.17 Q1315.12 1531.54 1317.98 1531.54 Q1325.71 1531.54 1329.53 1535.55 Q1333.35 1539.56 1333.35 1547.71 Z\" fill=\"#000000\" fill-rule=\"nonzero\" fill-opacity=\"1\" /><path clip-path=\"url(#clip600)\" d=\"M1351.21 1522.27 L1351.21 1532.4 L1363.27 1532.4 L1363.27 1536.95 L1351.21 1536.95 L1351.21 1556.3 Q1351.21 1560.66 1352.39 1561.9 Q1353.6 1563.14 1357.26 1563.14 L1363.27 1563.14 L1363.27 1568.04 L1357.26 1568.04 Q1350.48 1568.04 1347.9 1565.53 Q1345.32 1562.98 1345.32 1556.3 L1345.32 1536.95 L1341.02 1536.95 L1341.02 1532.4 L1345.32 1532.4 L1345.32 1522.27 L1351.21 1522.27 Z\" fill=\"#000000\" fill-rule=\"nonzero\" fill-opacity=\"1\" /><path clip-path=\"url(#clip600)\" d=\"M1370.97 1532.4 L1376.83 1532.4 L1376.83 1568.04 L1370.97 1568.04 L1370.97 1532.4 M1370.97 1518.52 L1376.83 1518.52 L1376.83 1525.93 L1370.97 1525.93 L1370.97 1518.52 Z\" fill=\"#000000\" fill-rule=\"nonzero\" fill-opacity=\"1\" /><path clip-path=\"url(#clip600)\" d=\"M1402.9 1536.5 Q1398.19 1536.5 1395.45 1540.19 Q1392.71 1543.85 1392.71 1550.25 Q1392.71 1556.65 1395.42 1560.34 Q1398.16 1564 1402.9 1564 Q1407.58 1564 1410.32 1560.31 Q1413.05 1556.62 1413.05 1550.25 Q1413.05 1543.92 1410.32 1540.23 Q1407.58 1536.5 1402.9 1536.5 M1402.9 1531.54 Q1410.54 1531.54 1414.9 1536.5 Q1419.26 1541.47 1419.26 1550.25 Q1419.26 1559 1414.9 1564 Q1410.54 1568.97 1402.9 1568.97 Q1395.23 1568.97 1390.87 1564 Q1386.54 1559 1386.54 1550.25 Q1386.54 1541.47 1390.87 1536.5 Q1395.23 1531.54 1402.9 1531.54 Z\" fill=\"#000000\" fill-rule=\"nonzero\" fill-opacity=\"1\" /><path clip-path=\"url(#clip600)\" d=\"M1458.6 1546.53 L1458.6 1568.04 L1452.74 1568.04 L1452.74 1546.72 Q1452.74 1541.66 1450.77 1539.14 Q1448.8 1536.63 1444.85 1536.63 Q1440.11 1536.63 1437.37 1539.65 Q1434.63 1542.68 1434.63 1547.9 L1434.63 1568.04 L1428.74 1568.04 L1428.74 1532.4 L1434.63 1532.4 L1434.63 1537.93 Q1436.73 1534.72 1439.57 1533.13 Q1442.43 1531.54 1446.15 1531.54 Q1452.3 1531.54 1455.45 1535.36 Q1458.6 1539.14 1458.6 1546.53 Z\" fill=\"#000000\" fill-rule=\"nonzero\" fill-opacity=\"1\" /><polyline clip-path=\"url(#clip600)\" style=\"stroke:#000000; stroke-linecap:round; stroke-linejoin:round; stroke-width:4; stroke-opacity:1; fill:none\" points=\"219.866,1423.18 219.866,47.2441 \"/>\n",
       "<polyline clip-path=\"url(#clip600)\" style=\"stroke:#000000; stroke-linecap:round; stroke-linejoin:round; stroke-width:4; stroke-opacity:1; fill:none\" points=\"219.866,1354.61 238.764,1354.61 \"/>\n",
       "<polyline clip-path=\"url(#clip600)\" style=\"stroke:#000000; stroke-linecap:round; stroke-linejoin:round; stroke-width:4; stroke-opacity:1; fill:none\" points=\"219.866,1075.73 238.764,1075.73 \"/>\n",
       "<polyline clip-path=\"url(#clip600)\" style=\"stroke:#000000; stroke-linecap:round; stroke-linejoin:round; stroke-width:4; stroke-opacity:1; fill:none\" points=\"219.866,796.854 238.764,796.854 \"/>\n",
       "<polyline clip-path=\"url(#clip600)\" style=\"stroke:#000000; stroke-linecap:round; stroke-linejoin:round; stroke-width:4; stroke-opacity:1; fill:none\" points=\"219.866,517.974 238.764,517.974 \"/>\n",
       "<polyline clip-path=\"url(#clip600)\" style=\"stroke:#000000; stroke-linecap:round; stroke-linejoin:round; stroke-width:4; stroke-opacity:1; fill:none\" points=\"219.866,239.095 238.764,239.095 \"/>\n",
       "<path clip-path=\"url(#clip600)\" d=\"M127.917 1340.41 Q124.306 1340.41 122.478 1343.98 Q120.672 1347.52 120.672 1354.65 Q120.672 1361.75 122.478 1365.32 Q124.306 1368.86 127.917 1368.86 Q131.552 1368.86 133.357 1365.32 Q135.186 1361.75 135.186 1354.65 Q135.186 1347.52 133.357 1343.98 Q131.552 1340.41 127.917 1340.41 M127.917 1336.71 Q133.728 1336.71 136.783 1341.31 Q139.862 1345.9 139.862 1354.65 Q139.862 1363.37 136.783 1367.98 Q133.728 1372.56 127.917 1372.56 Q122.107 1372.56 119.029 1367.98 Q115.973 1363.37 115.973 1354.65 Q115.973 1345.9 119.029 1341.31 Q122.107 1336.71 127.917 1336.71 Z\" fill=\"#000000\" fill-rule=\"nonzero\" fill-opacity=\"1\" /><path clip-path=\"url(#clip600)\" d=\"M148.079 1366.01 L152.964 1366.01 L152.964 1371.89 L148.079 1371.89 L148.079 1366.01 Z\" fill=\"#000000\" fill-rule=\"nonzero\" fill-opacity=\"1\" /><path clip-path=\"url(#clip600)\" d=\"M163.959 1367.96 L171.598 1367.96 L171.598 1341.59 L163.288 1343.26 L163.288 1339 L171.552 1337.33 L176.227 1337.33 L176.227 1367.96 L183.866 1367.96 L183.866 1371.89 L163.959 1371.89 L163.959 1367.96 Z\" fill=\"#000000\" fill-rule=\"nonzero\" fill-opacity=\"1\" /><path clip-path=\"url(#clip600)\" d=\"M128.288 1061.53 Q124.677 1061.53 122.848 1065.1 Q121.043 1068.64 121.043 1075.77 Q121.043 1082.87 122.848 1086.44 Q124.677 1089.98 128.288 1089.98 Q131.922 1089.98 133.728 1086.44 Q135.556 1082.87 135.556 1075.77 Q135.556 1068.64 133.728 1065.1 Q131.922 1061.53 128.288 1061.53 M128.288 1057.83 Q134.098 1057.83 137.154 1062.43 Q140.232 1067.02 140.232 1075.77 Q140.232 1084.49 137.154 1089.1 Q134.098 1093.68 128.288 1093.68 Q122.478 1093.68 119.399 1089.1 Q116.343 1084.49 116.343 1075.77 Q116.343 1067.02 119.399 1062.43 Q122.478 1057.83 128.288 1057.83 Z\" fill=\"#000000\" fill-rule=\"nonzero\" fill-opacity=\"1\" /><path clip-path=\"url(#clip600)\" d=\"M148.45 1087.13 L153.334 1087.13 L153.334 1093.01 L148.45 1093.01 L148.45 1087.13 Z\" fill=\"#000000\" fill-rule=\"nonzero\" fill-opacity=\"1\" /><path clip-path=\"url(#clip600)\" d=\"M167.547 1089.08 L183.866 1089.08 L183.866 1093.01 L161.922 1093.01 L161.922 1089.08 Q164.584 1086.32 169.167 1081.69 Q173.774 1077.04 174.954 1075.7 Q177.2 1073.18 178.079 1071.44 Q178.982 1069.68 178.982 1067.99 Q178.982 1065.24 177.038 1063.5 Q175.116 1061.76 172.014 1061.76 Q169.815 1061.76 167.362 1062.53 Q164.931 1063.29 162.153 1064.84 L162.153 1060.12 Q164.977 1058.99 167.431 1058.41 Q169.885 1057.83 171.922 1057.83 Q177.292 1057.83 180.487 1060.51 Q183.681 1063.2 183.681 1067.69 Q183.681 1069.82 182.871 1071.74 Q182.084 1073.64 179.977 1076.23 Q179.399 1076.9 176.297 1080.12 Q173.195 1083.31 167.547 1089.08 Z\" fill=\"#000000\" fill-rule=\"nonzero\" fill-opacity=\"1\" /><path clip-path=\"url(#clip600)\" d=\"M127.339 782.652 Q123.728 782.652 121.899 786.217 Q120.093 789.759 120.093 796.888 Q120.093 803.995 121.899 807.56 Q123.728 811.101 127.339 811.101 Q130.973 811.101 132.779 807.56 Q134.607 803.995 134.607 796.888 Q134.607 789.759 132.779 786.217 Q130.973 782.652 127.339 782.652 M127.339 778.949 Q133.149 778.949 136.204 783.555 Q139.283 788.139 139.283 796.888 Q139.283 805.615 136.204 810.222 Q133.149 814.805 127.339 814.805 Q121.529 814.805 118.45 810.222 Q115.394 805.615 115.394 796.888 Q115.394 788.139 118.45 783.555 Q121.529 778.949 127.339 778.949 Z\" fill=\"#000000\" fill-rule=\"nonzero\" fill-opacity=\"1\" /><path clip-path=\"url(#clip600)\" d=\"M147.501 808.254 L152.385 808.254 L152.385 814.134 L147.501 814.134 L147.501 808.254 Z\" fill=\"#000000\" fill-rule=\"nonzero\" fill-opacity=\"1\" /><path clip-path=\"url(#clip600)\" d=\"M176.737 795.5 Q180.093 796.217 181.968 798.486 Q183.866 800.754 183.866 804.087 Q183.866 809.203 180.348 812.004 Q176.829 814.805 170.348 814.805 Q168.172 814.805 165.857 814.365 Q163.565 813.949 161.112 813.092 L161.112 808.578 Q163.056 809.712 165.371 810.291 Q167.686 810.87 170.209 810.87 Q174.607 810.87 176.899 809.134 Q179.214 807.398 179.214 804.087 Q179.214 801.032 177.061 799.319 Q174.931 797.583 171.112 797.583 L167.084 797.583 L167.084 793.74 L171.297 793.74 Q174.746 793.74 176.575 792.375 Q178.403 790.986 178.403 788.393 Q178.403 785.731 176.505 784.319 Q174.63 782.884 171.112 782.884 Q169.19 782.884 166.991 783.301 Q164.792 783.717 162.153 784.597 L162.153 780.43 Q164.815 779.689 167.13 779.319 Q169.468 778.949 171.528 778.949 Q176.852 778.949 179.954 781.379 Q183.056 783.787 183.056 787.907 Q183.056 790.777 181.413 792.768 Q179.769 794.736 176.737 795.5 Z\" fill=\"#000000\" fill-rule=\"nonzero\" fill-opacity=\"1\" /><path clip-path=\"url(#clip600)\" d=\"M126.205 503.773 Q122.593 503.773 120.765 507.338 Q118.959 510.879 118.959 518.009 Q118.959 525.115 120.765 528.68 Q122.593 532.222 126.205 532.222 Q129.839 532.222 131.644 528.68 Q133.473 525.115 133.473 518.009 Q133.473 510.879 131.644 507.338 Q129.839 503.773 126.205 503.773 M126.205 500.069 Q132.015 500.069 135.07 504.676 Q138.149 509.259 138.149 518.009 Q138.149 526.736 135.07 531.342 Q132.015 535.926 126.205 535.926 Q120.394 535.926 117.316 531.342 Q114.26 526.736 114.26 518.009 Q114.26 509.259 117.316 504.676 Q120.394 500.069 126.205 500.069 Z\" fill=\"#000000\" fill-rule=\"nonzero\" fill-opacity=\"1\" /><path clip-path=\"url(#clip600)\" d=\"M146.366 529.375 L151.251 529.375 L151.251 535.254 L146.366 535.254 L146.366 529.375 Z\" fill=\"#000000\" fill-rule=\"nonzero\" fill-opacity=\"1\" /><path clip-path=\"url(#clip600)\" d=\"M174.283 504.768 L162.477 523.217 L174.283 523.217 L174.283 504.768 M173.056 500.694 L178.936 500.694 L178.936 523.217 L183.866 523.217 L183.866 527.106 L178.936 527.106 L178.936 535.254 L174.283 535.254 L174.283 527.106 L158.681 527.106 L158.681 522.592 L173.056 500.694 Z\" fill=\"#000000\" fill-rule=\"nonzero\" fill-opacity=\"1\" /><path clip-path=\"url(#clip600)\" d=\"M127.686 224.893 Q124.075 224.893 122.246 228.458 Q120.441 232 120.441 239.129 Q120.441 246.236 122.246 249.801 Q124.075 253.342 127.686 253.342 Q131.32 253.342 133.126 249.801 Q134.954 246.236 134.954 239.129 Q134.954 232 133.126 228.458 Q131.32 224.893 127.686 224.893 M127.686 221.19 Q133.496 221.19 136.552 225.796 Q139.63 230.38 139.63 239.129 Q139.63 247.856 136.552 252.463 Q133.496 257.046 127.686 257.046 Q121.876 257.046 118.797 252.463 Q115.742 247.856 115.742 239.129 Q115.742 230.38 118.797 225.796 Q121.876 221.19 127.686 221.19 Z\" fill=\"#000000\" fill-rule=\"nonzero\" fill-opacity=\"1\" /><path clip-path=\"url(#clip600)\" d=\"M147.848 250.495 L152.732 250.495 L152.732 256.375 L147.848 256.375 L147.848 250.495 Z\" fill=\"#000000\" fill-rule=\"nonzero\" fill-opacity=\"1\" /><path clip-path=\"url(#clip600)\" d=\"M162.964 221.815 L181.32 221.815 L181.32 225.75 L167.246 225.75 L167.246 234.222 Q168.264 233.875 169.283 233.713 Q170.302 233.528 171.32 233.528 Q177.107 233.528 180.487 236.699 Q183.866 239.87 183.866 245.287 Q183.866 250.866 180.394 253.967 Q176.922 257.046 170.602 257.046 Q168.427 257.046 166.158 256.676 Q163.913 256.305 161.505 255.565 L161.505 250.866 Q163.589 252 165.811 252.555 Q168.033 253.111 170.51 253.111 Q174.514 253.111 176.852 251.004 Q179.19 248.898 179.19 245.287 Q179.19 241.676 176.852 239.569 Q174.514 237.463 170.51 237.463 Q168.635 237.463 166.76 237.879 Q164.908 238.296 162.964 239.176 L162.964 221.815 Z\" fill=\"#000000\" fill-rule=\"nonzero\" fill-opacity=\"1\" /><path clip-path=\"url(#clip600)\" d=\"M20.0391 721.606 Q21.1985 721.895 21.6172 722.507 L22.6478 724.891 Q22.6478 726.082 22.3902 726.211 Q21.7138 726.759 21.0053 726.855 Q20.49 726.855 20.1679 727.145 Q19.8137 727.403 19.8137 727.854 Q19.8137 728.788 20.2968 729.367 Q21.3918 730.752 23.9682 731.622 Q26.0938 732.362 34.2741 734.456 L61.7779 741.187 L63.7425 744.89 Q52.6315 747.757 43.807 750.784 Q34.9504 753.811 27.994 757.741 L38.3643 760.639 Q50.6347 764.504 52.1484 765.245 Q57.1725 767.531 60.3931 771.331 Q63.5492 775.1 63.5492 778.642 Q63.5492 780.929 62.1644 781.959 Q61.005 782.893 59.6523 782.539 Q58.3963 782.281 57.2369 780.832 Q56.5606 779.93 56.5606 779.19 Q56.5606 778.03 57.1725 777.579 Q57.2369 777.515 57.4623 777.418 Q57.6878 777.322 58.0098 777.193 Q58.2997 777.064 58.4607 777 Q59.3947 776.613 59.3947 775.357 Q59.3947 773.296 57.559 771.009 Q56.8504 770.14 55.8198 769.399 Q54.757 768.626 54.1129 768.304 Q53.4688 767.95 52.0195 767.241 Q48.1226 765.534 41.9713 763.924 L24.9022 759.641 Q22.9054 761.187 21.9393 762.604 Q20.8765 764.182 20.8765 765.47 Q20.8765 767.885 22.2613 769.464 Q22.9054 770.301 23.9682 771.074 Q25.031 771.815 25.7718 772.201 Q26.5125 772.587 27.8651 773.167 L28.1872 774.681 Q22.2935 773.199 19.4272 769.689 Q17.044 766.629 17.044 762.604 Q17.044 758.739 21.1985 755.744 Q22.519 754.713 24.3869 753.747 Q26.2226 752.749 27.3499 752.298 Q28.4449 751.815 30.8925 750.816 L55.1113 742.056 L54.3062 741.38 L31.6332 736.291 Q27.5753 735.325 23.5174 733.393 Q20.2324 731.911 18.8475 730.172 Q16.7219 727.564 16.7219 724.375 Q16.7219 722.894 17.7203 721.992 Q18.6221 721.284 20.0391 721.606 Z\" fill=\"#000000\" fill-rule=\"nonzero\" fill-opacity=\"1\" /><path clip-path=\"url(#clip600)\" d=\"M74.7098 714.838 L73.2895 714.838 L51.6247 700.658 Q51.061 700.297 51.0836 699.733 Q51.0836 699.215 51.2865 699.102 Q51.4894 698.989 52.2784 698.989 L73.2895 698.989 L73.2895 694.368 L74.7098 694.368 L74.7098 698.989 L78.7227 698.989 Q80.0528 698.989 80.4811 698.448 Q80.9094 697.885 80.9094 695.495 L80.9094 694.526 L82.3297 694.526 Q82.1945 696.419 82.1945 700.793 Q82.1945 705.144 82.3297 707.037 L80.9094 707.037 L80.9094 706.068 Q80.9094 703.678 80.5036 703.115 Q80.0753 702.551 78.7227 702.551 L74.7098 702.551 L74.7098 714.838 M73.2895 713.53 L73.2895 702.281 L56.0658 702.281 L73.2895 713.53 Z\" fill=\"#000000\" fill-rule=\"nonzero\" fill-opacity=\"1\" /><polyline clip-path=\"url(#clip602)\" style=\"stroke:#ff0000; stroke-linecap:round; stroke-linejoin:round; stroke-width:8; stroke-opacity:1; fill:none\" points=\"280.231,86.1857 682.663,851.134 1085.1,1272.92 1487.53,1376.53 1889.96,1372.31 2292.39,1384.24 \"/>\n",
       "<circle clip-path=\"url(#clip602)\" cx=\"280.231\" cy=\"86.1857\" r=\"14.4\" fill=\"#ff0000\" fill-rule=\"evenodd\" fill-opacity=\"1\" stroke=\"#000000\" stroke-opacity=\"1\" stroke-width=\"3.2\"/>\n",
       "<circle clip-path=\"url(#clip602)\" cx=\"682.663\" cy=\"851.134\" r=\"14.4\" fill=\"#ff0000\" fill-rule=\"evenodd\" fill-opacity=\"1\" stroke=\"#000000\" stroke-opacity=\"1\" stroke-width=\"3.2\"/>\n",
       "<circle clip-path=\"url(#clip602)\" cx=\"1085.1\" cy=\"1272.92\" r=\"14.4\" fill=\"#ff0000\" fill-rule=\"evenodd\" fill-opacity=\"1\" stroke=\"#000000\" stroke-opacity=\"1\" stroke-width=\"3.2\"/>\n",
       "<circle clip-path=\"url(#clip602)\" cx=\"1487.53\" cy=\"1376.53\" r=\"14.4\" fill=\"#ff0000\" fill-rule=\"evenodd\" fill-opacity=\"1\" stroke=\"#000000\" stroke-opacity=\"1\" stroke-width=\"3.2\"/>\n",
       "<circle clip-path=\"url(#clip602)\" cx=\"1889.96\" cy=\"1372.31\" r=\"14.4\" fill=\"#ff0000\" fill-rule=\"evenodd\" fill-opacity=\"1\" stroke=\"#000000\" stroke-opacity=\"1\" stroke-width=\"3.2\"/>\n",
       "<circle clip-path=\"url(#clip602)\" cx=\"2292.39\" cy=\"1384.24\" r=\"14.4\" fill=\"#ff0000\" fill-rule=\"evenodd\" fill-opacity=\"1\" stroke=\"#000000\" stroke-opacity=\"1\" stroke-width=\"3.2\"/>\n",
       "<path clip-path=\"url(#clip600)\" d=\"M1937.28 196.789 L2281.66 196.789 L2281.66 93.1086 L1937.28 93.1086  Z\" fill=\"#ffffff\" fill-rule=\"evenodd\" fill-opacity=\"1\"/>\n",
       "<polyline clip-path=\"url(#clip600)\" style=\"stroke:#000000; stroke-linecap:round; stroke-linejoin:round; stroke-width:4; stroke-opacity:1; fill:none\" points=\"1937.28,196.789 2281.66,196.789 2281.66,93.1086 1937.28,93.1086 1937.28,196.789 \"/>\n",
       "<polyline clip-path=\"url(#clip600)\" style=\"stroke:#ff0000; stroke-linecap:round; stroke-linejoin:round; stroke-width:8; stroke-opacity:1; fill:none\" points=\"1960.98,144.949 2103.17,144.949 \"/>\n",
       "<circle clip-path=\"url(#clip600)\" cx=\"2032.08\" cy=\"144.949\" r=\"19.749\" fill=\"#ff0000\" fill-rule=\"evenodd\" fill-opacity=\"1\" stroke=\"#000000\" stroke-opacity=\"1\" stroke-width=\"4.55111\"/>\n",
       "<path clip-path=\"url(#clip600)\" d=\"M2127.54 158.293 L2135.18 158.293 L2135.18 131.928 L2126.87 133.595 L2126.87 129.335 L2135.14 127.669 L2139.81 127.669 L2139.81 158.293 L2147.45 158.293 L2147.45 162.229 L2127.54 162.229 L2127.54 158.293 Z\" fill=\"#000000\" fill-rule=\"nonzero\" fill-opacity=\"1\" /><path clip-path=\"url(#clip600)\" d=\"M2163.86 127.669 L2167.8 127.669 L2155.76 166.627 L2151.83 166.627 L2163.86 127.669 Z\" fill=\"#000000\" fill-rule=\"nonzero\" fill-opacity=\"1\" /><path clip-path=\"url(#clip600)\" d=\"M2176.9 158.293 L2193.22 158.293 L2193.22 162.229 L2171.27 162.229 L2171.27 158.293 Q2173.93 155.539 2178.52 150.909 Q2183.12 146.256 2184.3 144.914 Q2186.55 142.391 2187.43 140.655 Q2188.33 138.895 2188.33 137.206 Q2188.33 134.451 2186.39 132.715 Q2184.47 130.979 2181.36 130.979 Q2179.16 130.979 2176.71 131.743 Q2174.28 132.507 2171.5 134.057 L2171.5 129.335 Q2174.33 128.201 2176.78 127.622 Q2179.23 127.044 2181.27 127.044 Q2186.64 127.044 2189.84 129.729 Q2193.03 132.414 2193.03 136.905 Q2193.03 139.034 2192.22 140.956 Q2191.43 142.854 2189.33 145.446 Q2188.75 146.118 2185.65 149.335 Q2182.54 152.53 2176.9 158.293 Z\" fill=\"#000000\" fill-rule=\"nonzero\" fill-opacity=\"1\" /><path clip-path=\"url(#clip600)\" d=\"M2200.28 147.344 L2212.75 147.344 L2212.75 151.141 L2200.28 151.141 L2200.28 147.344 Z\" fill=\"#000000\" fill-rule=\"nonzero\" fill-opacity=\"1\" /><path clip-path=\"url(#clip600)\" d=\"M2217.38 147.344 L2229.86 147.344 L2229.86 151.141 L2217.38 151.141 L2217.38 147.344 Z\" fill=\"#000000\" fill-rule=\"nonzero\" fill-opacity=\"1\" /><path clip-path=\"url(#clip600)\" d=\"M2238.05 158.293 L2245.69 158.293 L2245.69 131.928 L2237.38 133.595 L2237.38 129.335 L2245.65 127.669 L2250.32 127.669 L2250.32 158.293 L2257.96 158.293 L2257.96 162.229 L2238.05 162.229 L2238.05 158.293 Z\" fill=\"#000000\" fill-rule=\"nonzero\" fill-opacity=\"1\" /></svg>\n"
      ],
      "text/html": [
       "<?xml version=\"1.0\" encoding=\"utf-8\"?>\n",
       "<svg xmlns=\"http://www.w3.org/2000/svg\" xmlns:xlink=\"http://www.w3.org/1999/xlink\" width=\"600\" height=\"400\" viewBox=\"0 0 2400 1600\">\n",
       "<defs>\n",
       "  <clipPath id=\"clip650\">\n",
       "    <rect x=\"0\" y=\"0\" width=\"2400\" height=\"1600\"/>\n",
       "  </clipPath>\n",
       "</defs>\n",
       "<path clip-path=\"url(#clip650)\" d=\"M0 1600 L2400 1600 L2400 0 L0 0  Z\" fill=\"#ffffff\" fill-rule=\"evenodd\" fill-opacity=\"1\"/>\n",
       "<defs>\n",
       "  <clipPath id=\"clip651\">\n",
       "    <rect x=\"480\" y=\"0\" width=\"1681\" height=\"1600\"/>\n",
       "  </clipPath>\n",
       "</defs>\n",
       "<path clip-path=\"url(#clip650)\" d=\"M219.866 1423.18 L2352.76 1423.18 L2352.76 47.2441 L219.866 47.2441  Z\" fill=\"#ffffff\" fill-rule=\"evenodd\" fill-opacity=\"1\"/>\n",
       "<defs>\n",
       "  <clipPath id=\"clip652\">\n",
       "    <rect x=\"219\" y=\"47\" width=\"2134\" height=\"1377\"/>\n",
       "  </clipPath>\n",
       "</defs>\n",
       "<polyline clip-path=\"url(#clip652)\" style=\"stroke:#000000; stroke-linecap:round; stroke-linejoin:round; stroke-width:2; stroke-opacity:0.1; fill:none\" points=\"280.231,1423.18 280.231,47.2441 \"/>\n",
       "<polyline clip-path=\"url(#clip652)\" style=\"stroke:#000000; stroke-linecap:round; stroke-linejoin:round; stroke-width:2; stroke-opacity:0.1; fill:none\" points=\"682.663,1423.18 682.663,47.2441 \"/>\n",
       "<polyline clip-path=\"url(#clip652)\" style=\"stroke:#000000; stroke-linecap:round; stroke-linejoin:round; stroke-width:2; stroke-opacity:0.1; fill:none\" points=\"1085.1,1423.18 1085.1,47.2441 \"/>\n",
       "<polyline clip-path=\"url(#clip652)\" style=\"stroke:#000000; stroke-linecap:round; stroke-linejoin:round; stroke-width:2; stroke-opacity:0.1; fill:none\" points=\"1487.53,1423.18 1487.53,47.2441 \"/>\n",
       "<polyline clip-path=\"url(#clip652)\" style=\"stroke:#000000; stroke-linecap:round; stroke-linejoin:round; stroke-width:2; stroke-opacity:0.1; fill:none\" points=\"1889.96,1423.18 1889.96,47.2441 \"/>\n",
       "<polyline clip-path=\"url(#clip652)\" style=\"stroke:#000000; stroke-linecap:round; stroke-linejoin:round; stroke-width:2; stroke-opacity:0.1; fill:none\" points=\"2292.39,1423.18 2292.39,47.2441 \"/>\n",
       "<polyline clip-path=\"url(#clip652)\" style=\"stroke:#000000; stroke-linecap:round; stroke-linejoin:round; stroke-width:2; stroke-opacity:0.1; fill:none\" points=\"219.866,1354.61 2352.76,1354.61 \"/>\n",
       "<polyline clip-path=\"url(#clip652)\" style=\"stroke:#000000; stroke-linecap:round; stroke-linejoin:round; stroke-width:2; stroke-opacity:0.1; fill:none\" points=\"219.866,1075.73 2352.76,1075.73 \"/>\n",
       "<polyline clip-path=\"url(#clip652)\" style=\"stroke:#000000; stroke-linecap:round; stroke-linejoin:round; stroke-width:2; stroke-opacity:0.1; fill:none\" points=\"219.866,796.854 2352.76,796.854 \"/>\n",
       "<polyline clip-path=\"url(#clip652)\" style=\"stroke:#000000; stroke-linecap:round; stroke-linejoin:round; stroke-width:2; stroke-opacity:0.1; fill:none\" points=\"219.866,517.974 2352.76,517.974 \"/>\n",
       "<polyline clip-path=\"url(#clip652)\" style=\"stroke:#000000; stroke-linecap:round; stroke-linejoin:round; stroke-width:2; stroke-opacity:0.1; fill:none\" points=\"219.866,239.095 2352.76,239.095 \"/>\n",
       "<polyline clip-path=\"url(#clip650)\" style=\"stroke:#000000; stroke-linecap:round; stroke-linejoin:round; stroke-width:4; stroke-opacity:1; fill:none\" points=\"219.866,1423.18 2352.76,1423.18 \"/>\n",
       "<polyline clip-path=\"url(#clip650)\" style=\"stroke:#000000; stroke-linecap:round; stroke-linejoin:round; stroke-width:4; stroke-opacity:1; fill:none\" points=\"280.231,1423.18 280.231,1404.28 \"/>\n",
       "<polyline clip-path=\"url(#clip650)\" style=\"stroke:#000000; stroke-linecap:round; stroke-linejoin:round; stroke-width:4; stroke-opacity:1; fill:none\" points=\"682.663,1423.18 682.663,1404.28 \"/>\n",
       "<polyline clip-path=\"url(#clip650)\" style=\"stroke:#000000; stroke-linecap:round; stroke-linejoin:round; stroke-width:4; stroke-opacity:1; fill:none\" points=\"1085.1,1423.18 1085.1,1404.28 \"/>\n",
       "<polyline clip-path=\"url(#clip650)\" style=\"stroke:#000000; stroke-linecap:round; stroke-linejoin:round; stroke-width:4; stroke-opacity:1; fill:none\" points=\"1487.53,1423.18 1487.53,1404.28 \"/>\n",
       "<polyline clip-path=\"url(#clip650)\" style=\"stroke:#000000; stroke-linecap:round; stroke-linejoin:round; stroke-width:4; stroke-opacity:1; fill:none\" points=\"1889.96,1423.18 1889.96,1404.28 \"/>\n",
       "<polyline clip-path=\"url(#clip650)\" style=\"stroke:#000000; stroke-linecap:round; stroke-linejoin:round; stroke-width:4; stroke-opacity:1; fill:none\" points=\"2292.39,1423.18 2292.39,1404.28 \"/>\n",
       "<path clip-path=\"url(#clip650)\" d=\"M280.231 1454.1 Q276.62 1454.1 274.791 1457.66 Q272.986 1461.2 272.986 1468.33 Q272.986 1475.44 274.791 1479.01 Q276.62 1482.55 280.231 1482.55 Q283.865 1482.55 285.671 1479.01 Q287.5 1475.44 287.5 1468.33 Q287.5 1461.2 285.671 1457.66 Q283.865 1454.1 280.231 1454.1 M280.231 1450.39 Q286.041 1450.39 289.097 1455 Q292.175 1459.58 292.175 1468.33 Q292.175 1477.06 289.097 1481.67 Q286.041 1486.25 280.231 1486.25 Q274.421 1486.25 271.342 1481.67 Q268.287 1477.06 268.287 1468.33 Q268.287 1459.58 271.342 1455 Q274.421 1450.39 280.231 1450.39 Z\" fill=\"#000000\" fill-rule=\"nonzero\" fill-opacity=\"1\" /><path clip-path=\"url(#clip650)\" d=\"M673.045 1481.64 L680.684 1481.64 L680.684 1455.28 L672.374 1456.95 L672.374 1452.69 L680.638 1451.02 L685.314 1451.02 L685.314 1481.64 L692.952 1481.64 L692.952 1485.58 L673.045 1485.58 L673.045 1481.64 Z\" fill=\"#000000\" fill-rule=\"nonzero\" fill-opacity=\"1\" /><path clip-path=\"url(#clip650)\" d=\"M1079.75 1481.64 L1096.07 1481.64 L1096.07 1485.58 L1074.12 1485.58 L1074.12 1481.64 Q1076.78 1478.89 1081.37 1474.26 Q1085.97 1469.61 1087.16 1468.27 Q1089.4 1465.74 1090.28 1464.01 Q1091.18 1462.25 1091.18 1460.56 Q1091.18 1457.8 1089.24 1456.07 Q1087.32 1454.33 1084.22 1454.33 Q1082.02 1454.33 1079.56 1455.09 Q1077.13 1455.86 1074.35 1457.41 L1074.35 1452.69 Q1077.18 1451.55 1079.63 1450.97 Q1082.09 1450.39 1084.12 1450.39 Q1089.49 1450.39 1092.69 1453.08 Q1095.88 1455.77 1095.88 1460.26 Q1095.88 1462.39 1095.07 1464.31 Q1094.28 1466.2 1092.18 1468.8 Q1091.6 1469.47 1088.5 1472.69 Q1085.4 1475.88 1079.75 1481.64 Z\" fill=\"#000000\" fill-rule=\"nonzero\" fill-opacity=\"1\" /><path clip-path=\"url(#clip650)\" d=\"M1491.77 1466.95 Q1495.13 1467.66 1497.01 1469.93 Q1498.9 1472.2 1498.9 1475.53 Q1498.9 1480.65 1495.39 1483.45 Q1491.87 1486.25 1485.39 1486.25 Q1483.21 1486.25 1480.9 1485.81 Q1478.6 1485.39 1476.15 1484.54 L1476.15 1480.02 Q1478.09 1481.16 1480.41 1481.74 Q1482.72 1482.32 1485.25 1482.32 Q1489.65 1482.32 1491.94 1480.58 Q1494.25 1478.84 1494.25 1475.53 Q1494.25 1472.48 1492.1 1470.77 Q1489.97 1469.03 1486.15 1469.03 L1482.12 1469.03 L1482.12 1465.19 L1486.33 1465.19 Q1489.78 1465.19 1491.61 1463.82 Q1493.44 1462.43 1493.44 1459.84 Q1493.44 1457.18 1491.54 1455.77 Q1489.67 1454.33 1486.15 1454.33 Q1484.23 1454.33 1482.03 1454.75 Q1479.83 1455.16 1477.19 1456.04 L1477.19 1451.88 Q1479.85 1451.14 1482.17 1450.77 Q1484.51 1450.39 1486.57 1450.39 Q1491.89 1450.39 1494.99 1452.83 Q1498.09 1455.23 1498.09 1459.35 Q1498.09 1462.22 1496.45 1464.21 Q1494.81 1466.18 1491.77 1466.95 Z\" fill=\"#000000\" fill-rule=\"nonzero\" fill-opacity=\"1\" /><path clip-path=\"url(#clip650)\" d=\"M1892.97 1455.09 L1881.16 1473.54 L1892.97 1473.54 L1892.97 1455.09 M1891.74 1451.02 L1897.62 1451.02 L1897.62 1473.54 L1902.55 1473.54 L1902.55 1477.43 L1897.62 1477.43 L1897.62 1485.58 L1892.97 1485.58 L1892.97 1477.43 L1877.37 1477.43 L1877.37 1472.92 L1891.74 1451.02 Z\" fill=\"#000000\" fill-rule=\"nonzero\" fill-opacity=\"1\" /><path clip-path=\"url(#clip650)\" d=\"M2282.67 1451.02 L2301.03 1451.02 L2301.03 1454.96 L2286.95 1454.96 L2286.95 1463.43 Q2287.97 1463.08 2288.99 1462.92 Q2290.01 1462.73 2291.03 1462.73 Q2296.81 1462.73 2300.19 1465.9 Q2303.57 1469.08 2303.57 1474.49 Q2303.57 1480.07 2300.1 1483.17 Q2296.63 1486.25 2290.31 1486.25 Q2288.13 1486.25 2285.86 1485.88 Q2283.62 1485.51 2281.21 1484.77 L2281.21 1480.07 Q2283.29 1481.2 2285.52 1481.76 Q2287.74 1482.32 2290.22 1482.32 Q2294.22 1482.32 2296.56 1480.21 Q2298.9 1478.1 2298.9 1474.49 Q2298.9 1470.88 2296.56 1468.77 Q2294.22 1466.67 2290.22 1466.67 Q2288.34 1466.67 2286.47 1467.08 Q2284.61 1467.5 2282.67 1468.38 L2282.67 1451.02 Z\" fill=\"#000000\" fill-rule=\"nonzero\" fill-opacity=\"1\" /><path clip-path=\"url(#clip650)\" d=\"M1144.61 1522.08 L1144.61 1528.35 Q1140.95 1526.6 1137.7 1525.74 Q1134.46 1524.88 1131.43 1524.88 Q1126.18 1524.88 1123.32 1526.92 Q1120.48 1528.96 1120.48 1532.71 Q1120.48 1535.87 1122.36 1537.49 Q1124.27 1539.08 1129.56 1540.07 L1133.44 1540.86 Q1140.63 1542.23 1144.04 1545.7 Q1147.48 1549.14 1147.48 1554.93 Q1147.48 1561.84 1142.83 1565.4 Q1138.21 1568.97 1129.27 1568.97 Q1125.9 1568.97 1122.08 1568.2 Q1118.29 1567.44 1114.21 1565.94 L1114.21 1559.32 Q1118.13 1561.52 1121.88 1562.63 Q1125.64 1563.75 1129.27 1563.75 Q1134.78 1563.75 1137.77 1561.58 Q1140.76 1559.42 1140.76 1555.41 Q1140.76 1551.91 1138.59 1549.93 Q1136.46 1547.96 1131.56 1546.97 L1127.65 1546.21 Q1120.45 1544.78 1117.24 1541.72 Q1114.02 1538.67 1114.02 1533.22 Q1114.02 1526.92 1118.45 1523.29 Q1122.9 1519.66 1130.7 1519.66 Q1134.04 1519.66 1137.51 1520.27 Q1140.98 1520.87 1144.61 1522.08 Z\" fill=\"#000000\" fill-rule=\"nonzero\" fill-opacity=\"1\" /><path clip-path=\"url(#clip650)\" d=\"M1187.74 1548.76 L1187.74 1551.62 L1160.81 1551.62 Q1161.19 1557.67 1164.44 1560.85 Q1167.72 1564 1173.54 1564 Q1176.92 1564 1180.07 1563.17 Q1183.25 1562.35 1186.37 1560.69 L1186.37 1566.23 Q1183.22 1567.57 1179.91 1568.27 Q1176.6 1568.97 1173.19 1568.97 Q1164.66 1568.97 1159.67 1564 Q1154.7 1559.04 1154.7 1550.57 Q1154.7 1541.82 1159.41 1536.69 Q1164.15 1531.54 1172.17 1531.54 Q1179.37 1531.54 1183.54 1536.18 Q1187.74 1540.8 1187.74 1548.76 M1181.88 1547.04 Q1181.82 1542.23 1179.18 1539.37 Q1176.57 1536.5 1172.24 1536.5 Q1167.34 1536.5 1164.38 1539.27 Q1161.45 1542.04 1161 1547.07 L1181.88 1547.04 Z\" fill=\"#000000\" fill-rule=\"nonzero\" fill-opacity=\"1\" /><path clip-path=\"url(#clip650)\" d=\"M1203.02 1562.7 L1203.02 1581.6 L1197.13 1581.6 L1197.13 1532.4 L1203.02 1532.4 L1203.02 1537.81 Q1204.86 1534.62 1207.66 1533.1 Q1210.5 1531.54 1214.41 1531.54 Q1220.9 1531.54 1224.95 1536.69 Q1229.02 1541.85 1229.02 1550.25 Q1229.02 1558.65 1224.95 1563.81 Q1220.9 1568.97 1214.41 1568.97 Q1210.5 1568.97 1207.66 1567.44 Q1204.86 1565.88 1203.02 1562.7 M1222.94 1550.25 Q1222.94 1543.79 1220.27 1540.13 Q1217.63 1536.44 1212.98 1536.44 Q1208.33 1536.44 1205.66 1540.13 Q1203.02 1543.79 1203.02 1550.25 Q1203.02 1556.71 1205.66 1560.4 Q1208.33 1564.07 1212.98 1564.07 Q1217.63 1564.07 1220.27 1560.4 Q1222.94 1556.71 1222.94 1550.25 Z\" fill=\"#000000\" fill-rule=\"nonzero\" fill-opacity=\"1\" /><path clip-path=\"url(#clip650)\" d=\"M1254.93 1550.12 Q1247.83 1550.12 1245.09 1551.75 Q1242.36 1553.37 1242.36 1557.29 Q1242.36 1560.4 1244.39 1562.25 Q1246.46 1564.07 1249.99 1564.07 Q1254.86 1564.07 1257.79 1560.63 Q1260.75 1557.16 1260.75 1551.43 L1260.75 1550.12 L1254.93 1550.12 M1266.61 1547.71 L1266.61 1568.04 L1260.75 1568.04 L1260.75 1562.63 Q1258.75 1565.88 1255.76 1567.44 Q1252.76 1568.97 1248.44 1568.97 Q1242.96 1568.97 1239.71 1565.91 Q1236.5 1562.82 1236.5 1557.67 Q1236.5 1551.65 1240.51 1548.6 Q1244.55 1545.54 1252.54 1545.54 L1260.75 1545.54 L1260.75 1544.97 Q1260.75 1540.93 1258.08 1538.73 Q1255.44 1536.5 1250.63 1536.5 Q1247.58 1536.5 1244.68 1537.23 Q1241.78 1537.97 1239.11 1539.43 L1239.11 1534.02 Q1242.32 1532.78 1245.35 1532.17 Q1248.37 1531.54 1251.24 1531.54 Q1258.97 1531.54 1262.79 1535.55 Q1266.61 1539.56 1266.61 1547.71 Z\" fill=\"#000000\" fill-rule=\"nonzero\" fill-opacity=\"1\" /><path clip-path=\"url(#clip650)\" d=\"M1299.33 1537.87 Q1298.34 1537.3 1297.16 1537.04 Q1296.02 1536.76 1294.62 1536.76 Q1289.65 1536.76 1286.98 1540 Q1284.34 1543.22 1284.34 1549.27 L1284.34 1568.04 L1278.45 1568.04 L1278.45 1532.4 L1284.34 1532.4 L1284.34 1537.93 Q1286.18 1534.69 1289.14 1533.13 Q1292.1 1531.54 1296.34 1531.54 Q1296.94 1531.54 1297.67 1531.63 Q1298.41 1531.7 1299.3 1531.85 L1299.33 1537.87 Z\" fill=\"#000000\" fill-rule=\"nonzero\" fill-opacity=\"1\" /><path clip-path=\"url(#clip650)\" d=\"M1321.67 1550.12 Q1314.57 1550.12 1311.84 1551.75 Q1309.1 1553.37 1309.1 1557.29 Q1309.1 1560.4 1311.14 1562.25 Q1313.21 1564.07 1316.74 1564.07 Q1321.61 1564.07 1324.54 1560.63 Q1327.5 1557.16 1327.5 1551.43 L1327.5 1550.12 L1321.67 1550.12 M1333.35 1547.71 L1333.35 1568.04 L1327.5 1568.04 L1327.5 1562.63 Q1325.49 1565.88 1322.5 1567.44 Q1319.51 1568.97 1315.18 1568.97 Q1309.71 1568.97 1306.46 1565.91 Q1303.24 1562.82 1303.24 1557.67 Q1303.24 1551.65 1307.25 1548.6 Q1311.3 1545.54 1319.29 1545.54 L1327.5 1545.54 L1327.5 1544.97 Q1327.5 1540.93 1324.82 1538.73 Q1322.18 1536.5 1317.38 1536.5 Q1314.32 1536.5 1311.42 1537.23 Q1308.53 1537.97 1305.85 1539.43 L1305.85 1534.02 Q1309.07 1532.78 1312.09 1532.17 Q1315.12 1531.54 1317.98 1531.54 Q1325.71 1531.54 1329.53 1535.55 Q1333.35 1539.56 1333.35 1547.71 Z\" fill=\"#000000\" fill-rule=\"nonzero\" fill-opacity=\"1\" /><path clip-path=\"url(#clip650)\" d=\"M1351.21 1522.27 L1351.21 1532.4 L1363.27 1532.4 L1363.27 1536.95 L1351.21 1536.95 L1351.21 1556.3 Q1351.21 1560.66 1352.39 1561.9 Q1353.6 1563.14 1357.26 1563.14 L1363.27 1563.14 L1363.27 1568.04 L1357.26 1568.04 Q1350.48 1568.04 1347.9 1565.53 Q1345.32 1562.98 1345.32 1556.3 L1345.32 1536.95 L1341.02 1536.95 L1341.02 1532.4 L1345.32 1532.4 L1345.32 1522.27 L1351.21 1522.27 Z\" fill=\"#000000\" fill-rule=\"nonzero\" fill-opacity=\"1\" /><path clip-path=\"url(#clip650)\" d=\"M1370.97 1532.4 L1376.83 1532.4 L1376.83 1568.04 L1370.97 1568.04 L1370.97 1532.4 M1370.97 1518.52 L1376.83 1518.52 L1376.83 1525.93 L1370.97 1525.93 L1370.97 1518.52 Z\" fill=\"#000000\" fill-rule=\"nonzero\" fill-opacity=\"1\" /><path clip-path=\"url(#clip650)\" d=\"M1402.9 1536.5 Q1398.19 1536.5 1395.45 1540.19 Q1392.71 1543.85 1392.71 1550.25 Q1392.71 1556.65 1395.42 1560.34 Q1398.16 1564 1402.9 1564 Q1407.58 1564 1410.32 1560.31 Q1413.05 1556.62 1413.05 1550.25 Q1413.05 1543.92 1410.32 1540.23 Q1407.58 1536.5 1402.9 1536.5 M1402.9 1531.54 Q1410.54 1531.54 1414.9 1536.5 Q1419.26 1541.47 1419.26 1550.25 Q1419.26 1559 1414.9 1564 Q1410.54 1568.97 1402.9 1568.97 Q1395.23 1568.97 1390.87 1564 Q1386.54 1559 1386.54 1550.25 Q1386.54 1541.47 1390.87 1536.5 Q1395.23 1531.54 1402.9 1531.54 Z\" fill=\"#000000\" fill-rule=\"nonzero\" fill-opacity=\"1\" /><path clip-path=\"url(#clip650)\" d=\"M1458.6 1546.53 L1458.6 1568.04 L1452.74 1568.04 L1452.74 1546.72 Q1452.74 1541.66 1450.77 1539.14 Q1448.8 1536.63 1444.85 1536.63 Q1440.11 1536.63 1437.37 1539.65 Q1434.63 1542.68 1434.63 1547.9 L1434.63 1568.04 L1428.74 1568.04 L1428.74 1532.4 L1434.63 1532.4 L1434.63 1537.93 Q1436.73 1534.72 1439.57 1533.13 Q1442.43 1531.54 1446.15 1531.54 Q1452.3 1531.54 1455.45 1535.36 Q1458.6 1539.14 1458.6 1546.53 Z\" fill=\"#000000\" fill-rule=\"nonzero\" fill-opacity=\"1\" /><polyline clip-path=\"url(#clip650)\" style=\"stroke:#000000; stroke-linecap:round; stroke-linejoin:round; stroke-width:4; stroke-opacity:1; fill:none\" points=\"219.866,1423.18 219.866,47.2441 \"/>\n",
       "<polyline clip-path=\"url(#clip650)\" style=\"stroke:#000000; stroke-linecap:round; stroke-linejoin:round; stroke-width:4; stroke-opacity:1; fill:none\" points=\"219.866,1354.61 238.764,1354.61 \"/>\n",
       "<polyline clip-path=\"url(#clip650)\" style=\"stroke:#000000; stroke-linecap:round; stroke-linejoin:round; stroke-width:4; stroke-opacity:1; fill:none\" points=\"219.866,1075.73 238.764,1075.73 \"/>\n",
       "<polyline clip-path=\"url(#clip650)\" style=\"stroke:#000000; stroke-linecap:round; stroke-linejoin:round; stroke-width:4; stroke-opacity:1; fill:none\" points=\"219.866,796.854 238.764,796.854 \"/>\n",
       "<polyline clip-path=\"url(#clip650)\" style=\"stroke:#000000; stroke-linecap:round; stroke-linejoin:round; stroke-width:4; stroke-opacity:1; fill:none\" points=\"219.866,517.974 238.764,517.974 \"/>\n",
       "<polyline clip-path=\"url(#clip650)\" style=\"stroke:#000000; stroke-linecap:round; stroke-linejoin:round; stroke-width:4; stroke-opacity:1; fill:none\" points=\"219.866,239.095 238.764,239.095 \"/>\n",
       "<path clip-path=\"url(#clip650)\" d=\"M127.917 1340.41 Q124.306 1340.41 122.478 1343.98 Q120.672 1347.52 120.672 1354.65 Q120.672 1361.75 122.478 1365.32 Q124.306 1368.86 127.917 1368.86 Q131.552 1368.86 133.357 1365.32 Q135.186 1361.75 135.186 1354.65 Q135.186 1347.52 133.357 1343.98 Q131.552 1340.41 127.917 1340.41 M127.917 1336.71 Q133.728 1336.71 136.783 1341.31 Q139.862 1345.9 139.862 1354.65 Q139.862 1363.37 136.783 1367.98 Q133.728 1372.56 127.917 1372.56 Q122.107 1372.56 119.029 1367.98 Q115.973 1363.37 115.973 1354.65 Q115.973 1345.9 119.029 1341.31 Q122.107 1336.71 127.917 1336.71 Z\" fill=\"#000000\" fill-rule=\"nonzero\" fill-opacity=\"1\" /><path clip-path=\"url(#clip650)\" d=\"M148.079 1366.01 L152.964 1366.01 L152.964 1371.89 L148.079 1371.89 L148.079 1366.01 Z\" fill=\"#000000\" fill-rule=\"nonzero\" fill-opacity=\"1\" /><path clip-path=\"url(#clip650)\" d=\"M163.959 1367.96 L171.598 1367.96 L171.598 1341.59 L163.288 1343.26 L163.288 1339 L171.552 1337.33 L176.227 1337.33 L176.227 1367.96 L183.866 1367.96 L183.866 1371.89 L163.959 1371.89 L163.959 1367.96 Z\" fill=\"#000000\" fill-rule=\"nonzero\" fill-opacity=\"1\" /><path clip-path=\"url(#clip650)\" d=\"M128.288 1061.53 Q124.677 1061.53 122.848 1065.1 Q121.043 1068.64 121.043 1075.77 Q121.043 1082.87 122.848 1086.44 Q124.677 1089.98 128.288 1089.98 Q131.922 1089.98 133.728 1086.44 Q135.556 1082.87 135.556 1075.77 Q135.556 1068.64 133.728 1065.1 Q131.922 1061.53 128.288 1061.53 M128.288 1057.83 Q134.098 1057.83 137.154 1062.43 Q140.232 1067.02 140.232 1075.77 Q140.232 1084.49 137.154 1089.1 Q134.098 1093.68 128.288 1093.68 Q122.478 1093.68 119.399 1089.1 Q116.343 1084.49 116.343 1075.77 Q116.343 1067.02 119.399 1062.43 Q122.478 1057.83 128.288 1057.83 Z\" fill=\"#000000\" fill-rule=\"nonzero\" fill-opacity=\"1\" /><path clip-path=\"url(#clip650)\" d=\"M148.45 1087.13 L153.334 1087.13 L153.334 1093.01 L148.45 1093.01 L148.45 1087.13 Z\" fill=\"#000000\" fill-rule=\"nonzero\" fill-opacity=\"1\" /><path clip-path=\"url(#clip650)\" d=\"M167.547 1089.08 L183.866 1089.08 L183.866 1093.01 L161.922 1093.01 L161.922 1089.08 Q164.584 1086.32 169.167 1081.69 Q173.774 1077.04 174.954 1075.7 Q177.2 1073.18 178.079 1071.44 Q178.982 1069.68 178.982 1067.99 Q178.982 1065.24 177.038 1063.5 Q175.116 1061.76 172.014 1061.76 Q169.815 1061.76 167.362 1062.53 Q164.931 1063.29 162.153 1064.84 L162.153 1060.12 Q164.977 1058.99 167.431 1058.41 Q169.885 1057.83 171.922 1057.83 Q177.292 1057.83 180.487 1060.51 Q183.681 1063.2 183.681 1067.69 Q183.681 1069.82 182.871 1071.74 Q182.084 1073.64 179.977 1076.23 Q179.399 1076.9 176.297 1080.12 Q173.195 1083.31 167.547 1089.08 Z\" fill=\"#000000\" fill-rule=\"nonzero\" fill-opacity=\"1\" /><path clip-path=\"url(#clip650)\" d=\"M127.339 782.652 Q123.728 782.652 121.899 786.217 Q120.093 789.759 120.093 796.888 Q120.093 803.995 121.899 807.56 Q123.728 811.101 127.339 811.101 Q130.973 811.101 132.779 807.56 Q134.607 803.995 134.607 796.888 Q134.607 789.759 132.779 786.217 Q130.973 782.652 127.339 782.652 M127.339 778.949 Q133.149 778.949 136.204 783.555 Q139.283 788.139 139.283 796.888 Q139.283 805.615 136.204 810.222 Q133.149 814.805 127.339 814.805 Q121.529 814.805 118.45 810.222 Q115.394 805.615 115.394 796.888 Q115.394 788.139 118.45 783.555 Q121.529 778.949 127.339 778.949 Z\" fill=\"#000000\" fill-rule=\"nonzero\" fill-opacity=\"1\" /><path clip-path=\"url(#clip650)\" d=\"M147.501 808.254 L152.385 808.254 L152.385 814.134 L147.501 814.134 L147.501 808.254 Z\" fill=\"#000000\" fill-rule=\"nonzero\" fill-opacity=\"1\" /><path clip-path=\"url(#clip650)\" d=\"M176.737 795.5 Q180.093 796.217 181.968 798.486 Q183.866 800.754 183.866 804.087 Q183.866 809.203 180.348 812.004 Q176.829 814.805 170.348 814.805 Q168.172 814.805 165.857 814.365 Q163.565 813.949 161.112 813.092 L161.112 808.578 Q163.056 809.712 165.371 810.291 Q167.686 810.87 170.209 810.87 Q174.607 810.87 176.899 809.134 Q179.214 807.398 179.214 804.087 Q179.214 801.032 177.061 799.319 Q174.931 797.583 171.112 797.583 L167.084 797.583 L167.084 793.74 L171.297 793.74 Q174.746 793.74 176.575 792.375 Q178.403 790.986 178.403 788.393 Q178.403 785.731 176.505 784.319 Q174.63 782.884 171.112 782.884 Q169.19 782.884 166.991 783.301 Q164.792 783.717 162.153 784.597 L162.153 780.43 Q164.815 779.689 167.13 779.319 Q169.468 778.949 171.528 778.949 Q176.852 778.949 179.954 781.379 Q183.056 783.787 183.056 787.907 Q183.056 790.777 181.413 792.768 Q179.769 794.736 176.737 795.5 Z\" fill=\"#000000\" fill-rule=\"nonzero\" fill-opacity=\"1\" /><path clip-path=\"url(#clip650)\" d=\"M126.205 503.773 Q122.593 503.773 120.765 507.338 Q118.959 510.879 118.959 518.009 Q118.959 525.115 120.765 528.68 Q122.593 532.222 126.205 532.222 Q129.839 532.222 131.644 528.68 Q133.473 525.115 133.473 518.009 Q133.473 510.879 131.644 507.338 Q129.839 503.773 126.205 503.773 M126.205 500.069 Q132.015 500.069 135.07 504.676 Q138.149 509.259 138.149 518.009 Q138.149 526.736 135.07 531.342 Q132.015 535.926 126.205 535.926 Q120.394 535.926 117.316 531.342 Q114.26 526.736 114.26 518.009 Q114.26 509.259 117.316 504.676 Q120.394 500.069 126.205 500.069 Z\" fill=\"#000000\" fill-rule=\"nonzero\" fill-opacity=\"1\" /><path clip-path=\"url(#clip650)\" d=\"M146.366 529.375 L151.251 529.375 L151.251 535.254 L146.366 535.254 L146.366 529.375 Z\" fill=\"#000000\" fill-rule=\"nonzero\" fill-opacity=\"1\" /><path clip-path=\"url(#clip650)\" d=\"M174.283 504.768 L162.477 523.217 L174.283 523.217 L174.283 504.768 M173.056 500.694 L178.936 500.694 L178.936 523.217 L183.866 523.217 L183.866 527.106 L178.936 527.106 L178.936 535.254 L174.283 535.254 L174.283 527.106 L158.681 527.106 L158.681 522.592 L173.056 500.694 Z\" fill=\"#000000\" fill-rule=\"nonzero\" fill-opacity=\"1\" /><path clip-path=\"url(#clip650)\" d=\"M127.686 224.893 Q124.075 224.893 122.246 228.458 Q120.441 232 120.441 239.129 Q120.441 246.236 122.246 249.801 Q124.075 253.342 127.686 253.342 Q131.32 253.342 133.126 249.801 Q134.954 246.236 134.954 239.129 Q134.954 232 133.126 228.458 Q131.32 224.893 127.686 224.893 M127.686 221.19 Q133.496 221.19 136.552 225.796 Q139.63 230.38 139.63 239.129 Q139.63 247.856 136.552 252.463 Q133.496 257.046 127.686 257.046 Q121.876 257.046 118.797 252.463 Q115.742 247.856 115.742 239.129 Q115.742 230.38 118.797 225.796 Q121.876 221.19 127.686 221.19 Z\" fill=\"#000000\" fill-rule=\"nonzero\" fill-opacity=\"1\" /><path clip-path=\"url(#clip650)\" d=\"M147.848 250.495 L152.732 250.495 L152.732 256.375 L147.848 256.375 L147.848 250.495 Z\" fill=\"#000000\" fill-rule=\"nonzero\" fill-opacity=\"1\" /><path clip-path=\"url(#clip650)\" d=\"M162.964 221.815 L181.32 221.815 L181.32 225.75 L167.246 225.75 L167.246 234.222 Q168.264 233.875 169.283 233.713 Q170.302 233.528 171.32 233.528 Q177.107 233.528 180.487 236.699 Q183.866 239.87 183.866 245.287 Q183.866 250.866 180.394 253.967 Q176.922 257.046 170.602 257.046 Q168.427 257.046 166.158 256.676 Q163.913 256.305 161.505 255.565 L161.505 250.866 Q163.589 252 165.811 252.555 Q168.033 253.111 170.51 253.111 Q174.514 253.111 176.852 251.004 Q179.19 248.898 179.19 245.287 Q179.19 241.676 176.852 239.569 Q174.514 237.463 170.51 237.463 Q168.635 237.463 166.76 237.879 Q164.908 238.296 162.964 239.176 L162.964 221.815 Z\" fill=\"#000000\" fill-rule=\"nonzero\" fill-opacity=\"1\" /><path clip-path=\"url(#clip650)\" d=\"M20.0391 721.606 Q21.1985 721.895 21.6172 722.507 L22.6478 724.891 Q22.6478 726.082 22.3902 726.211 Q21.7138 726.759 21.0053 726.855 Q20.49 726.855 20.1679 727.145 Q19.8137 727.403 19.8137 727.854 Q19.8137 728.788 20.2968 729.367 Q21.3918 730.752 23.9682 731.622 Q26.0938 732.362 34.2741 734.456 L61.7779 741.187 L63.7425 744.89 Q52.6315 747.757 43.807 750.784 Q34.9504 753.811 27.994 757.741 L38.3643 760.639 Q50.6347 764.504 52.1484 765.245 Q57.1725 767.531 60.3931 771.331 Q63.5492 775.1 63.5492 778.642 Q63.5492 780.929 62.1644 781.959 Q61.005 782.893 59.6523 782.539 Q58.3963 782.281 57.2369 780.832 Q56.5606 779.93 56.5606 779.19 Q56.5606 778.03 57.1725 777.579 Q57.2369 777.515 57.4623 777.418 Q57.6878 777.322 58.0098 777.193 Q58.2997 777.064 58.4607 777 Q59.3947 776.613 59.3947 775.357 Q59.3947 773.296 57.559 771.009 Q56.8504 770.14 55.8198 769.399 Q54.757 768.626 54.1129 768.304 Q53.4688 767.95 52.0195 767.241 Q48.1226 765.534 41.9713 763.924 L24.9022 759.641 Q22.9054 761.187 21.9393 762.604 Q20.8765 764.182 20.8765 765.47 Q20.8765 767.885 22.2613 769.464 Q22.9054 770.301 23.9682 771.074 Q25.031 771.815 25.7718 772.201 Q26.5125 772.587 27.8651 773.167 L28.1872 774.681 Q22.2935 773.199 19.4272 769.689 Q17.044 766.629 17.044 762.604 Q17.044 758.739 21.1985 755.744 Q22.519 754.713 24.3869 753.747 Q26.2226 752.749 27.3499 752.298 Q28.4449 751.815 30.8925 750.816 L55.1113 742.056 L54.3062 741.38 L31.6332 736.291 Q27.5753 735.325 23.5174 733.393 Q20.2324 731.911 18.8475 730.172 Q16.7219 727.564 16.7219 724.375 Q16.7219 722.894 17.7203 721.992 Q18.6221 721.284 20.0391 721.606 Z\" fill=\"#000000\" fill-rule=\"nonzero\" fill-opacity=\"1\" /><path clip-path=\"url(#clip650)\" d=\"M74.7098 714.838 L73.2895 714.838 L51.6247 700.658 Q51.061 700.297 51.0836 699.733 Q51.0836 699.215 51.2865 699.102 Q51.4894 698.989 52.2784 698.989 L73.2895 698.989 L73.2895 694.368 L74.7098 694.368 L74.7098 698.989 L78.7227 698.989 Q80.0528 698.989 80.4811 698.448 Q80.9094 697.885 80.9094 695.495 L80.9094 694.526 L82.3297 694.526 Q82.1945 696.419 82.1945 700.793 Q82.1945 705.144 82.3297 707.037 L80.9094 707.037 L80.9094 706.068 Q80.9094 703.678 80.5036 703.115 Q80.0753 702.551 78.7227 702.551 L74.7098 702.551 L74.7098 714.838 M73.2895 713.53 L73.2895 702.281 L56.0658 702.281 L73.2895 713.53 Z\" fill=\"#000000\" fill-rule=\"nonzero\" fill-opacity=\"1\" /><polyline clip-path=\"url(#clip652)\" style=\"stroke:#ff0000; stroke-linecap:round; stroke-linejoin:round; stroke-width:8; stroke-opacity:1; fill:none\" points=\"280.231,86.1857 682.663,851.134 1085.1,1272.92 1487.53,1376.53 1889.96,1372.31 2292.39,1384.24 \"/>\n",
       "<circle clip-path=\"url(#clip652)\" cx=\"280.231\" cy=\"86.1857\" r=\"14.4\" fill=\"#ff0000\" fill-rule=\"evenodd\" fill-opacity=\"1\" stroke=\"#000000\" stroke-opacity=\"1\" stroke-width=\"3.2\"/>\n",
       "<circle clip-path=\"url(#clip652)\" cx=\"682.663\" cy=\"851.134\" r=\"14.4\" fill=\"#ff0000\" fill-rule=\"evenodd\" fill-opacity=\"1\" stroke=\"#000000\" stroke-opacity=\"1\" stroke-width=\"3.2\"/>\n",
       "<circle clip-path=\"url(#clip652)\" cx=\"1085.1\" cy=\"1272.92\" r=\"14.4\" fill=\"#ff0000\" fill-rule=\"evenodd\" fill-opacity=\"1\" stroke=\"#000000\" stroke-opacity=\"1\" stroke-width=\"3.2\"/>\n",
       "<circle clip-path=\"url(#clip652)\" cx=\"1487.53\" cy=\"1376.53\" r=\"14.4\" fill=\"#ff0000\" fill-rule=\"evenodd\" fill-opacity=\"1\" stroke=\"#000000\" stroke-opacity=\"1\" stroke-width=\"3.2\"/>\n",
       "<circle clip-path=\"url(#clip652)\" cx=\"1889.96\" cy=\"1372.31\" r=\"14.4\" fill=\"#ff0000\" fill-rule=\"evenodd\" fill-opacity=\"1\" stroke=\"#000000\" stroke-opacity=\"1\" stroke-width=\"3.2\"/>\n",
       "<circle clip-path=\"url(#clip652)\" cx=\"2292.39\" cy=\"1384.24\" r=\"14.4\" fill=\"#ff0000\" fill-rule=\"evenodd\" fill-opacity=\"1\" stroke=\"#000000\" stroke-opacity=\"1\" stroke-width=\"3.2\"/>\n",
       "<path clip-path=\"url(#clip650)\" d=\"M1937.28 196.789 L2281.66 196.789 L2281.66 93.1086 L1937.28 93.1086  Z\" fill=\"#ffffff\" fill-rule=\"evenodd\" fill-opacity=\"1\"/>\n",
       "<polyline clip-path=\"url(#clip650)\" style=\"stroke:#000000; stroke-linecap:round; stroke-linejoin:round; stroke-width:4; stroke-opacity:1; fill:none\" points=\"1937.28,196.789 2281.66,196.789 2281.66,93.1086 1937.28,93.1086 1937.28,196.789 \"/>\n",
       "<polyline clip-path=\"url(#clip650)\" style=\"stroke:#ff0000; stroke-linecap:round; stroke-linejoin:round; stroke-width:8; stroke-opacity:1; fill:none\" points=\"1960.98,144.949 2103.17,144.949 \"/>\n",
       "<circle clip-path=\"url(#clip650)\" cx=\"2032.08\" cy=\"144.949\" r=\"19.749\" fill=\"#ff0000\" fill-rule=\"evenodd\" fill-opacity=\"1\" stroke=\"#000000\" stroke-opacity=\"1\" stroke-width=\"4.55111\"/>\n",
       "<path clip-path=\"url(#clip650)\" d=\"M2127.54 158.293 L2135.18 158.293 L2135.18 131.928 L2126.87 133.595 L2126.87 129.335 L2135.14 127.669 L2139.81 127.669 L2139.81 158.293 L2147.45 158.293 L2147.45 162.229 L2127.54 162.229 L2127.54 158.293 Z\" fill=\"#000000\" fill-rule=\"nonzero\" fill-opacity=\"1\" /><path clip-path=\"url(#clip650)\" d=\"M2163.86 127.669 L2167.8 127.669 L2155.76 166.627 L2151.83 166.627 L2163.86 127.669 Z\" fill=\"#000000\" fill-rule=\"nonzero\" fill-opacity=\"1\" /><path clip-path=\"url(#clip650)\" d=\"M2176.9 158.293 L2193.22 158.293 L2193.22 162.229 L2171.27 162.229 L2171.27 158.293 Q2173.93 155.539 2178.52 150.909 Q2183.12 146.256 2184.3 144.914 Q2186.55 142.391 2187.43 140.655 Q2188.33 138.895 2188.33 137.206 Q2188.33 134.451 2186.39 132.715 Q2184.47 130.979 2181.36 130.979 Q2179.16 130.979 2176.71 131.743 Q2174.28 132.507 2171.5 134.057 L2171.5 129.335 Q2174.33 128.201 2176.78 127.622 Q2179.23 127.044 2181.27 127.044 Q2186.64 127.044 2189.84 129.729 Q2193.03 132.414 2193.03 136.905 Q2193.03 139.034 2192.22 140.956 Q2191.43 142.854 2189.33 145.446 Q2188.75 146.118 2185.65 149.335 Q2182.54 152.53 2176.9 158.293 Z\" fill=\"#000000\" fill-rule=\"nonzero\" fill-opacity=\"1\" /><path clip-path=\"url(#clip650)\" d=\"M2200.28 147.344 L2212.75 147.344 L2212.75 151.141 L2200.28 151.141 L2200.28 147.344 Z\" fill=\"#000000\" fill-rule=\"nonzero\" fill-opacity=\"1\" /><path clip-path=\"url(#clip650)\" d=\"M2217.38 147.344 L2229.86 147.344 L2229.86 151.141 L2217.38 151.141 L2217.38 147.344 Z\" fill=\"#000000\" fill-rule=\"nonzero\" fill-opacity=\"1\" /><path clip-path=\"url(#clip650)\" d=\"M2238.05 158.293 L2245.69 158.293 L2245.69 131.928 L2237.38 133.595 L2237.38 129.335 L2245.65 127.669 L2250.32 127.669 L2250.32 158.293 L2257.96 158.293 L2257.96 162.229 L2238.05 162.229 L2238.05 158.293 Z\" fill=\"#000000\" fill-rule=\"nonzero\" fill-opacity=\"1\" /></svg>\n"
      ]
     },
     "execution_count": 12,
     "metadata": {},
     "output_type": "execute_result"
    },
    {
     "name": "stderr",
     "output_type": "stream",
     "text": [
      "GKS: dlopen(/Users/Hank/.julia/artifacts/66ebf8a541da7166677a6e2ac6b8277592d32044/lib/cairoplugin.so, 1): Library not loaded: @rpath/libcairo.2.dylib\n",
      "  Referenced from: /Users/Hank/.julia/artifacts/66ebf8a541da7166677a6e2ac6b8277592d32044/lib/cairoplugin.so\n",
      "  Reason: Incompatible library version: cairoplugin.so requires version 11603.0.0 or later, but libcairo.2.dylib provides version 2.0.0\n"
     ]
    }
   ],
   "source": [
    "# 4 partitle negativity between (A,B,C,D) \n",
    "# inputs = A,C as B = A+1 and D=C+1\n",
    "#------------------------------------------------------\n",
    "using LaTeXStrings\n",
    "A = 1\n",
    "seps=0:5\n",
    "enta= []\n",
    "for sep in seps\n",
    "    C =  A+2+sep\n",
    "    ent = calc_LogNeg_4site(psi0,[A,C])\n",
    "    push!(enta, ent)\n",
    "    println(f\"{sep} \\t {ent}\")\n",
    "end\n",
    "\n",
    "plot(seps, enta, xlabel= \"Separation\", ylabel=L\"\\mathcal{N}_4\", label=\"1/2--1\", marker=:circle, color=\"red\", lw=2)\n"
   ]
  },
  {
   "cell_type": "code",
   "execution_count": null,
   "metadata": {},
   "outputs": [],
   "source": []
  },
  {
   "cell_type": "code",
   "execution_count": 13,
   "metadata": {},
   "outputs": [
    {
     "data": {
      "text/plain": [
       "2-element Vector{Int64}:\n",
       "  9\n",
       " 10"
      ]
     },
     "execution_count": 13,
     "metadata": {},
     "output_type": "execute_result"
    }
   ],
   "source": [
    "trinds1 = collect(3 : 4)\n",
    "trinds2 = trinds1[end] .+ trinds1 .+ 2"
   ]
  },
  {
   "cell_type": "code",
   "execution_count": 14,
   "metadata": {},
   "outputs": [
    {
     "name": "stdout",
     "output_type": "stream",
     "text": [
      "0\n",
      "1\n",
      "2\n",
      "3\n"
     ]
    }
   ],
   "source": [
    "for sep in 0:3\n",
    "    println(sep)\n",
    "end"
   ]
  },
  {
   "cell_type": "code",
   "execution_count": null,
   "metadata": {},
   "outputs": [],
   "source": []
  }
 ],
 "metadata": {
  "kernelspec": {
   "display_name": "Julia 1.10.3",
   "language": "julia",
   "name": "julia-1.10"
  },
  "language_info": {
   "file_extension": ".jl",
   "mimetype": "application/julia",
   "name": "julia",
   "version": "1.10.3"
  }
 },
 "nbformat": 4,
 "nbformat_minor": 2
}
