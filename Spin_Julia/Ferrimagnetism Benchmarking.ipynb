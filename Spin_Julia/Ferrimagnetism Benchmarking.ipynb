{
 "cells": [
  {
   "cell_type": "code",
   "execution_count": 1,
   "id": "7aa0eb3f",
   "metadata": {},
   "outputs": [
    {
     "name": "stderr",
     "output_type": "stream",
     "text": [
      "\u001b[32m\u001b[1m   Resolving\u001b[22m\u001b[39m package versions...\n",
      "\u001b[32m\u001b[1m  No Changes\u001b[22m\u001b[39m to `~/.julia/environments/v1.10/Project.toml`\n",
      "\u001b[32m\u001b[1m  No Changes\u001b[22m\u001b[39m to `~/.julia/environments/v1.10/Manifest.toml`\n",
      "\u001b[32m\u001b[1m   Resolving\u001b[22m\u001b[39m package versions...\n",
      "\u001b[32m\u001b[1m  No Changes\u001b[22m\u001b[39m to `~/.julia/environments/v1.10/Project.toml`\n",
      "\u001b[32m\u001b[1m  No Changes\u001b[22m\u001b[39m to `~/.julia/environments/v1.10/Manifest.toml`\n",
      "\u001b[32m\u001b[1m   Resolving\u001b[22m\u001b[39m package versions...\n",
      "\u001b[32m\u001b[1m  No Changes\u001b[22m\u001b[39m to `~/.julia/environments/v1.10/Project.toml`\n",
      "\u001b[32m\u001b[1m  No Changes\u001b[22m\u001b[39m to `~/.julia/environments/v1.10/Manifest.toml`\n",
      "\u001b[32m\u001b[1m   Resolving\u001b[22m\u001b[39m package versions...\n",
      "\u001b[32m\u001b[1m  No Changes\u001b[22m\u001b[39m to `~/.julia/environments/v1.10/Project.toml`\n",
      "\u001b[32m\u001b[1m  No Changes\u001b[22m\u001b[39m to `~/.julia/environments/v1.10/Manifest.toml`\n",
      "\u001b[32m\u001b[1m   Resolving\u001b[22m\u001b[39m package versions...\n",
      "\u001b[32m\u001b[1m  No Changes\u001b[22m\u001b[39m to `~/.julia/environments/v1.10/Project.toml`\n",
      "\u001b[32m\u001b[1m  No Changes\u001b[22m\u001b[39m to `~/.julia/environments/v1.10/Manifest.toml`\n"
     ]
    }
   ],
   "source": [
    "import ITensors:op\n",
    "import Pkg; Pkg.add(\"HDF5\")\n",
    "import Pkg; Pkg.add(\"Plots\")\n",
    "import Pkg; Pkg.add(\"PyFormattedStrings\")\n",
    "import Pkg; Pkg.add(\"LinearAlgebra\")\n",
    "import Pkg; Pkg.add(\"LaTeXStrings\")"
   ]
  },
  {
   "cell_type": "code",
   "execution_count": 2,
   "id": "d039385b",
   "metadata": {},
   "outputs": [
    {
     "data": {
      "text/plain": [
       "14"
      ]
     },
     "execution_count": 2,
     "metadata": {},
     "output_type": "execute_result"
    }
   ],
   "source": [
    "using ITensors, ITensorMPS\n",
    "import ITensors:op\n",
    "using HDF5\n",
    "using Plots\n",
    "using PyFormattedStrings\n",
    "using LinearAlgebra\n",
    "\n",
    "ITensors.disable_warn_order()"
   ]
  },
  {
   "cell_type": "code",
   "execution_count": 3,
   "id": "379fdf57",
   "metadata": {},
   "outputs": [],
   "source": [
    "#include(\"overload_Spin=3h.jl\")\n",
    "# overloadings for SiteType 3/2\n",
    "#----------------------------------------------\n",
    "ITensors.space(::SiteType\"S=3/2\") = 4\n",
    "\n",
    "# operator Sz\n",
    "#-------------------\n",
    "ITensors.op(::OpName\"Sz\",::SiteType\"S=3/2\") =\n",
    "[+3/2   0    0    0\n",
    "  0    +1/2  0    0\n",
    "  0     0   -1/2  0\n",
    "  0     0    0   -3/2]\n",
    "\n",
    "# operator S+\n",
    "#-------------------\n",
    "ITensors.op(::OpName\"S+\",::SiteType\"S=3/2\") =\n",
    "[0  √3  0   0 \n",
    " 0  0   √4  0\n",
    " 0  0   0   √3\n",
    " 0  0   0   0]\n",
    "\n",
    "# operator S-\n",
    "#-------------------\n",
    "ITensors.op(::OpName\"S-\",::SiteType\"S=3/2\") =\n",
    "[0  0   0   0\n",
    " √3 0   0   0\n",
    " 0  √4  0   0\n",
    " 0  0   √3  0]\n",
    "\n",
    "# z projection states\n",
    "#-----------------------------------------\n",
    "ITensors.state(::StateName\"+3/2\",::SiteType\"S=3/2\") = [1, 0, 0, 0]\n",
    "ITensors.state(::StateName\"+1/2\",::SiteType\"S=3/2\") = [0, 1, 0, 0]\n",
    "ITensors.state(::StateName\"-1/2\",::SiteType\"S=3/2\") = [0, 0, 1, 0]\n",
    "ITensors.state(::StateName\"-3/2\",::SiteType\"S=3/2\") = [0, 0, 0, 1]"
   ]
  },
  {
   "cell_type": "code",
   "execution_count": null,
   "id": "6eb003e8",
   "metadata": {},
   "outputs": [],
   "source": []
  },
  {
   "cell_type": "code",
   "execution_count": 4,
   "id": "a728927b",
   "metadata": {},
   "outputs": [
    {
     "data": {
      "text/plain": [
       "Hamiltonian (generic function with 1 method)"
      ]
     },
     "execution_count": 4,
     "metadata": {},
     "output_type": "execute_result"
    }
   ],
   "source": [
    "# construction of the MPO hamiltonian\n",
    "#------------------------------------------\n",
    "function Hamiltonian(sites)\n",
    "    ops = OpSum()\n",
    "\n",
    "    N = length(sites)\n",
    "    # spin-spin interaction\n",
    "    for k=1:N-1\n",
    "        ops += J,   \"Sz\",k, \"Sz\",k+1\n",
    "        ops += J/2, \"S+\",k, \"S-\",k+1\n",
    "        ops += J/2, \"S-\",k, \"S+\",k+1\n",
    "    end\n",
    "    #make it a ring\n",
    "    ops += J,   \"Sz\",N, \"Sz\",1\n",
    "    ops += J/2, \"S+\",N, \"S-\",1\n",
    "    ops += J/2, \"S-\",N, \"S+\",1\n",
    "\n",
    "    # spin-B interaction\n",
    "    for k=1:N\n",
    "        ops += -B, \"Sz\",k\n",
    "    end\n",
    "    \n",
    "    H = MPO(ops,sites)\n",
    "    #--------------------------\n",
    "    return H\n",
    "end"
   ]
  },
  {
   "cell_type": "code",
   "execution_count": 5,
   "id": "9dc00a43",
   "metadata": {},
   "outputs": [
    {
     "data": {
      "text/plain": [
       "get_4pdm (generic function with 1 method)"
      ]
     },
     "execution_count": 5,
     "metadata": {},
     "output_type": "execute_result"
    }
   ],
   "source": [
    "\n",
    "#four point RDM of sites AB, CD\n",
    "# AB adjacent, CD adjacent\n",
    "#------------------------------------------\n",
    "function get_4pdm(wf::MPS,locs)\n",
    "    psi = copy(wf)\n",
    "    A,C = locs\n",
    "\n",
    "    orthogonalize!(psi,A)\n",
    "    ket = psi[A]\n",
    "    for k in A+1:C+1\n",
    "        ket *= psi[k]\n",
    "    end\n",
    "    rho = prime(ket,\"Site\") * dag(ket)\n",
    "\n",
    "    if C-A>2\n",
    "        inds_list = inds(rho)\n",
    "        trinds1 = collect(3 : C-A)\n",
    "        trinds2 = trinds1[end] .+ trinds1 .+ 2\n",
    "        for idx in 1:length(trinds1)\n",
    "            rho = rho*delta(inds_list[trinds1[idx]],inds_list[trinds2[idx]])\n",
    "        end\n",
    "    end\n",
    "    #-------------------\n",
    "    return rho\n",
    "end"
   ]
  },
  {
   "cell_type": "code",
   "execution_count": null,
   "id": "0b28fc17",
   "metadata": {},
   "outputs": [],
   "source": []
  },
  {
   "cell_type": "code",
   "execution_count": 6,
   "id": "527ffe55",
   "metadata": {},
   "outputs": [
    {
     "data": {
      "text/plain": [
       "calc_SvN (generic function with 1 method)"
      ]
     },
     "execution_count": 6,
     "metadata": {},
     "output_type": "execute_result"
    }
   ],
   "source": [
    "#   calc_Eigenvalues of density matrix\n",
    "#-----------------------------------\n",
    "function calc_Eigenvalues(density_matrix)\n",
    "    egn_val,_ = eigen(density_matrix,ishermitian=true)\n",
    "    #-----------------------------------\n",
    "    return diag(array(egn_val))\n",
    "end\n",
    "\n",
    "\n",
    "#   eigenvalue based generic properties of a density matrix\n",
    "#-----------------------------------\n",
    "function calc_Norm(density_matrix)\n",
    "    rho = copy(density_matrix)\n",
    "\n",
    "    egn_val = calc_Eigenvalues(rho)\n",
    "    Norm = sum(egn_val)\n",
    "    Purity = sum(egn_val.^2)\n",
    "\n",
    "    #-----------------------------------\n",
    "    return [Norm,Purity]\n",
    "end\n",
    "\n",
    "#   eigenvalue based generic properties of a density matrix\n",
    "#-----------------------------------\n",
    "function calc_SvN(density_matrix)\n",
    "    rho = copy(density_matrix)\n",
    "\n",
    "    egn_val = calc_Eigenvalues(rho)\n",
    "    SvN = sum( [ - lam*log(lam) for lam in egn_val if lam > 0 ] )\n",
    "\n",
    "    #-----------------------------------\n",
    "    return SvN\n",
    "end\n"
   ]
  },
  {
   "cell_type": "code",
   "execution_count": null,
   "id": "1f8ba6f3",
   "metadata": {},
   "outputs": [],
   "source": []
  },
  {
   "cell_type": "code",
   "execution_count": 7,
   "id": "f6668d3b",
   "metadata": {},
   "outputs": [
    {
     "data": {
      "text/plain": [
       "calc_LogNeg_4site (generic function with 1 method)"
      ]
     },
     "execution_count": 7,
     "metadata": {},
     "output_type": "execute_result"
    }
   ],
   "source": [
    "#   entanglement details between four sites\n",
    "#-----------------------------------\n",
    "function calc_LogNeg_4site(wf::MPS,locs)    \n",
    "    psi = copy(wf)\n",
    "    A,C = locs\n",
    "\n",
    "    rho = get_4pdm(psi,[A,C])\n",
    "    old = inds(rho)\n",
    "\n",
    "    function get_LogNeg(rho,old,new)\n",
    "        rho_PT = swapinds(rho,old,new)\n",
    "        egn_val = calc_Eigenvalues(rho_PT)\n",
    "        Neg =  abs(sum( [lam for lam in egn_val if lam<0] ))\n",
    "        return log(1+2*Neg)\n",
    "    end\n",
    "        \n",
    "    #   ABCD = 1234 \n",
    "    #   ABCD = 5678\n",
    "\n",
    "    # wrt A B C D\n",
    "    new_A  = [old[5],old[2],old[3],old[4],old[1],old[6],old[7],old[8]]\n",
    "    new_B  = [old[1],old[6],old[3],old[4],old[5],old[2],old[7],old[8]]\n",
    "    new_C  = [old[1],old[2],old[7],old[4],old[5],old[6],old[3],old[8]]\n",
    "    new_D  = [old[1],old[2],old[3],old[8],old[5],old[6],old[7],old[4]]\n",
    "\n",
    "    # wrt AB AC AD\n",
    "    new_AB = [old[5],old[6],old[3],old[4],old[1],old[2],old[7],old[8]]\n",
    "    new_AC = [old[5],old[2],old[7],old[4],old[1],old[6],old[3],old[8]]\n",
    "    new_AD = [old[5],old[2],old[3],old[8],old[1],old[6],old[7],old[4]]\n",
    "\n",
    "    LogNeg = 1\n",
    "    for new in [new_A,new_B,new_C,new_D,new_AB,new_AC,new_AD]\n",
    "        LogNeg *= get_LogNeg(rho,old,new)\n",
    "    end\n",
    "    LogNeg = LogNeg^(1.0/7.0)\n",
    "\n",
    "    #-----------------------------------\n",
    "    return LogNeg\n",
    "end"
   ]
  },
  {
   "cell_type": "code",
   "execution_count": null,
   "id": "78117787",
   "metadata": {},
   "outputs": [],
   "source": []
  },
  {
   "cell_type": "code",
   "execution_count": null,
   "id": "f8c94ae0",
   "metadata": {},
   "outputs": [],
   "source": []
  },
  {
   "cell_type": "code",
   "execution_count": 8,
   "id": "33ce5f5b",
   "metadata": {},
   "outputs": [
    {
     "name": "stdout",
     "output_type": "stream",
     "text": [
      "After sweep 1 energy=-21.080896727766984  maxlinkdim=8 maxerr=2.68E-16 time=19.698\n",
      "After sweep 2 energy=-21.510530465781237  maxlinkdim=25 maxerr=1.35E-07 time=0.121\n",
      "After sweep 3 energy=-21.819419786795663  maxlinkdim=50 maxerr=4.83E-07 time=0.769\n",
      "After sweep 4 energy=-21.854436026741713  maxlinkdim=100 maxerr=4.14E-08 time=2.779\n",
      "After sweep 5 energy=-21.864856010717666  maxlinkdim=150 maxerr=7.70E-09 time=5.990\n",
      "After sweep 6 energy=-21.869926255826616  maxlinkdim=200 maxerr=1.32E-09 time=11.033\n",
      "After sweep 7 energy=-21.872666877274085  maxlinkdim=250 maxerr=3.06E-10 time=19.627\n",
      "After sweep 8 energy=-21.874727713518453  maxlinkdim=300 maxerr=7.96E-11 time=28.682\n",
      "After sweep 9 energy=-21.876782393294768  maxlinkdim=400 maxerr=1.08E-11 time=46.083\n",
      "After sweep 10 energy=-21.87910435553384  maxlinkdim=433 maxerr=1.00E-11 time=53.353\n",
      "After sweep 11 energy=-21.88151806505273  maxlinkdim=445 maxerr=9.99E-12 time=56.896\n",
      "After sweep 12 energy=-21.883421884348117  maxlinkdim=440 maxerr=1.00E-11 time=54.944\n",
      "After sweep 13 energy=-21.88465634714457  maxlinkdim=424 maxerr=9.99E-12 time=50.636\n",
      "After sweep 14 energy=-21.885435110926945  maxlinkdim=404 maxerr=9.99E-12 time=44.588\n",
      "After sweep 15 energy=-21.885871117312803  maxlinkdim=382 maxerr=9.99E-12 time=38.155\n",
      "After sweep 16 energy=-21.886111340375994  maxlinkdim=359 maxerr=9.99E-12 time=31.166\n",
      "After sweep 17 energy=-21.886239337284415  maxlinkdim=336 maxerr=9.98E-12 time=27.280\n",
      "After sweep 18 energy=-21.886307216847484  maxlinkdim=317 maxerr=1.00E-11 time=21.947\n",
      "After sweep 19 energy=-21.886347198404405  maxlinkdim=293 maxerr=9.99E-12 time=18.317\n",
      "After sweep 20 energy=-21.886372227814633  maxlinkdim=270 maxerr=9.99E-12 time=15.321\n"
     ]
    }
   ],
   "source": [
    "#define the parameters of the hamiltonian and constuct MPO\n",
    "#----------------------------------------------------------------------------\n",
    "J = 1 \n",
    "B = 0.01\n",
    "\n",
    "nsweeps = 20\n",
    "maxdim = [10,25,50,100,150,200,250,300,400,500]\n",
    "cutoff = [1E-11]\n",
    "\n",
    "#--------------------\n",
    "N = 30\n",
    "#--------------------\n",
    "\n",
    "site_list = collect(1:N) \n",
    "sites = siteinds( k->isodd(k) ? \"S=1/2\" : \"S=1\", N ) \n",
    "#sites = siteinds(\"S=1/2\", N)\n",
    "\n",
    "H = Hamiltonian(sites) \n",
    "\n",
    "# ground state and first excited state\n",
    "#--------------------------------------------\n",
    "energy0,psi0 = dmrg(H,random_mps(sites);nsweeps,maxdim,cutoff,ishermitian=true) ;\n",
    "#energy1,psi1 = dmrg(H,[psi0],random_mps(sites);nsweeps,maxdim,cutoff,ishermitian=true) ;"
   ]
  },
  {
   "cell_type": "code",
   "execution_count": null,
   "id": "9ae8593d",
   "metadata": {},
   "outputs": [],
   "source": []
  },
  {
   "cell_type": "code",
   "execution_count": 9,
   "id": "c10a94a9",
   "metadata": {},
   "outputs": [
    {
     "name": "stdout",
     "output_type": "stream",
     "text": [
      "After sweep 1 energy=-12.889552561008202  maxlinkdim=4 maxerr=1.67E-15 time=0.036\n",
      "After sweep 2 energy=-13.119415329316666  maxlinkdim=16 maxerr=3.82E-16 time=0.118\n",
      "After sweep 3 energy=-13.320484915509596  maxlinkdim=50 maxerr=9.48E-07 time=0.345\n",
      "After sweep 4 energy=-13.321951265255937  maxlinkdim=100 maxerr=2.28E-07 time=1.611\n",
      "After sweep 5 energy=-13.3219620845331  maxlinkdim=150 maxerr=2.47E-08 time=3.999\n",
      "After sweep 6 energy=-13.321962909244542  maxlinkdim=200 maxerr=4.02E-09 time=5.675\n",
      "After sweep 7 energy=-13.321963030819676  maxlinkdim=250 maxerr=8.00E-10 time=9.542\n",
      "After sweep 8 energy=-13.321963052305303  maxlinkdim=300 maxerr=1.82E-10 time=14.331\n",
      "After sweep 9 energy=-13.321963057898841  maxlinkdim=400 maxerr=1.79E-11 time=21.798\n",
      "After sweep 10 energy=-13.321963058062043  maxlinkdim=430 maxerr=1.00E-11 time=25.754\n",
      "After sweep 11 energy=-13.321963058064146  maxlinkdim=431 maxerr=9.99E-12 time=25.353\n",
      "After sweep 12 energy=-13.321963058064139  maxlinkdim=431 maxerr=9.99E-12 time=26.056\n",
      "After sweep 13 energy=-13.321963058064126  maxlinkdim=431 maxerr=9.99E-12 time=25.942\n",
      "After sweep 14 energy=-13.32196305806415  maxlinkdim=431 maxerr=9.99E-12 time=25.602\n",
      "After sweep 15 energy=-13.321963058064107  maxlinkdim=431 maxerr=9.99E-12 time=25.434\n",
      "After sweep 16 energy=-13.321963058064107  maxlinkdim=431 maxerr=9.99E-12 time=33.105\n",
      "After sweep 17 energy=-13.321963058064085  maxlinkdim=431 maxerr=9.99E-12 time=29.042\n",
      "After sweep 18 energy=-13.321963058064059  maxlinkdim=431 maxerr=9.99E-12 time=24.751\n",
      "After sweep 19 energy=-13.321963058064057  maxlinkdim=431 maxerr=9.99E-12 time=25.779\n",
      "After sweep 20 energy=-13.321963058064096  maxlinkdim=431 maxerr=9.99E-12 time=27.766\n"
     ]
    }
   ],
   "source": [
    "#define the parameters of the hamiltonian and constuct MPO\n",
    "#----------------------------------------------------------------------------\n",
    "\n",
    "J = 1 \n",
    "B = 0.01\n",
    "\n",
    "nsweeps = 20\n",
    "maxdim = [10,25,50,100,150,200,250,300,400,500]\n",
    "cutoff = [1E-11]\n",
    "\n",
    "#--------------------\n",
    "N = 30\n",
    "#--------------------\n",
    "\n",
    "site_list = collect(1:N) \n",
    "\n",
    "sites = siteinds(\"S=1/2\", N)\n",
    "\n",
    "H1 = Hamiltonian(sites) \n",
    "\n",
    "# ground state and first excited state\n",
    "#--------------------------------------------\n",
    "energy0,psi01 = dmrg(H1,random_mps(sites);nsweeps,maxdim,cutoff,ishermitian=true) ;\n",
    "#energy1,psi1 = dmrg(H,[psi0],random_mps(sites);nsweeps,maxdim,cutoff,ishermitian=true) ;"
   ]
  },
  {
   "cell_type": "code",
   "execution_count": null,
   "id": "5dea4252",
   "metadata": {},
   "outputs": [],
   "source": []
  },
  {
   "cell_type": "code",
   "execution_count": null,
   "id": "b33e9bf4",
   "metadata": {},
   "outputs": [],
   "source": []
  },
  {
   "cell_type": "code",
   "execution_count": 10,
   "id": "b24e07dd",
   "metadata": {},
   "outputs": [
    {
     "name": "stdout",
     "output_type": "stream",
     "text": [
      "Mixed spin chain 1/2-3/2\n",
      "0 \t 0.5548891940190653\n",
      "1 \t 0.28060257362439656\n",
      "2 \t 0.1272163369338806\n",
      "3 \t 0.04378065951295012\n",
      "4 \t 0.0\n",
      "5 \t 0.0\n",
      "----------------------------\n",
      "----------------------------\n",
      "Spin-half\n",
      "0 \t 0.5321493724052067\n",
      "1 \t 0.26864128629138434\n",
      "2 \t 0.0\n",
      "3 \t 0.0\n",
      "4 \t 0.0\n",
      "5 \t 0.0\n"
     ]
    },
    {
     "data": {
      "image/png": "",
      "image/svg+xml": [
       "<?xml version=\"1.0\" encoding=\"utf-8\"?>\n",
       "<svg xmlns=\"http://www.w3.org/2000/svg\" xmlns:xlink=\"http://www.w3.org/1999/xlink\" width=\"600\" height=\"400\" viewBox=\"0 0 2400 1600\">\n",
       "<defs>\n",
       "  <clipPath id=\"clip120\">\n",
       "    <rect x=\"0\" y=\"0\" width=\"2400\" height=\"1600\"/>\n",
       "  </clipPath>\n",
       "</defs>\n",
       "<path clip-path=\"url(#clip120)\" d=\"M0 1600 L2400 1600 L2400 0 L0 0  Z\" fill=\"#ffffff\" fill-rule=\"evenodd\" fill-opacity=\"1\"/>\n",
       "<defs>\n",
       "  <clipPath id=\"clip121\">\n",
       "    <rect x=\"480\" y=\"0\" width=\"1681\" height=\"1600\"/>\n",
       "  </clipPath>\n",
       "</defs>\n",
       "<path clip-path=\"url(#clip120)\" d=\"M219.866 1423.18 L2352.76 1423.18 L2352.76 47.2441 L219.866 47.2441  Z\" fill=\"#ffffff\" fill-rule=\"evenodd\" fill-opacity=\"1\"/>\n",
       "<defs>\n",
       "  <clipPath id=\"clip122\">\n",
       "    <rect x=\"219\" y=\"47\" width=\"2134\" height=\"1377\"/>\n",
       "  </clipPath>\n",
       "</defs>\n",
       "<polyline clip-path=\"url(#clip122)\" style=\"stroke:#000000; stroke-linecap:round; stroke-linejoin:round; stroke-width:2; stroke-opacity:0.1; fill:none\" points=\"280.231,1423.18 280.231,47.2441 \"/>\n",
       "<polyline clip-path=\"url(#clip122)\" style=\"stroke:#000000; stroke-linecap:round; stroke-linejoin:round; stroke-width:2; stroke-opacity:0.1; fill:none\" points=\"682.663,1423.18 682.663,47.2441 \"/>\n",
       "<polyline clip-path=\"url(#clip122)\" style=\"stroke:#000000; stroke-linecap:round; stroke-linejoin:round; stroke-width:2; stroke-opacity:0.1; fill:none\" points=\"1085.1,1423.18 1085.1,47.2441 \"/>\n",
       "<polyline clip-path=\"url(#clip122)\" style=\"stroke:#000000; stroke-linecap:round; stroke-linejoin:round; stroke-width:2; stroke-opacity:0.1; fill:none\" points=\"1487.53,1423.18 1487.53,47.2441 \"/>\n",
       "<polyline clip-path=\"url(#clip122)\" style=\"stroke:#000000; stroke-linecap:round; stroke-linejoin:round; stroke-width:2; stroke-opacity:0.1; fill:none\" points=\"1889.96,1423.18 1889.96,47.2441 \"/>\n",
       "<polyline clip-path=\"url(#clip122)\" style=\"stroke:#000000; stroke-linecap:round; stroke-linejoin:round; stroke-width:2; stroke-opacity:0.1; fill:none\" points=\"2292.39,1423.18 2292.39,47.2441 \"/>\n",
       "<polyline clip-path=\"url(#clip122)\" style=\"stroke:#000000; stroke-linecap:round; stroke-linejoin:round; stroke-width:2; stroke-opacity:0.1; fill:none\" points=\"219.866,1384.24 2352.76,1384.24 \"/>\n",
       "<polyline clip-path=\"url(#clip122)\" style=\"stroke:#000000; stroke-linecap:round; stroke-linejoin:round; stroke-width:2; stroke-opacity:0.1; fill:none\" points=\"219.866,1150.31 2352.76,1150.31 \"/>\n",
       "<polyline clip-path=\"url(#clip122)\" style=\"stroke:#000000; stroke-linecap:round; stroke-linejoin:round; stroke-width:2; stroke-opacity:0.1; fill:none\" points=\"219.866,916.378 2352.76,916.378 \"/>\n",
       "<polyline clip-path=\"url(#clip122)\" style=\"stroke:#000000; stroke-linecap:round; stroke-linejoin:round; stroke-width:2; stroke-opacity:0.1; fill:none\" points=\"219.866,682.448 2352.76,682.448 \"/>\n",
       "<polyline clip-path=\"url(#clip122)\" style=\"stroke:#000000; stroke-linecap:round; stroke-linejoin:round; stroke-width:2; stroke-opacity:0.1; fill:none\" points=\"219.866,448.518 2352.76,448.518 \"/>\n",
       "<polyline clip-path=\"url(#clip122)\" style=\"stroke:#000000; stroke-linecap:round; stroke-linejoin:round; stroke-width:2; stroke-opacity:0.1; fill:none\" points=\"219.866,214.588 2352.76,214.588 \"/>\n",
       "<polyline clip-path=\"url(#clip120)\" style=\"stroke:#000000; stroke-linecap:round; stroke-linejoin:round; stroke-width:4; stroke-opacity:1; fill:none\" points=\"219.866,1423.18 2352.76,1423.18 \"/>\n",
       "<polyline clip-path=\"url(#clip120)\" style=\"stroke:#000000; stroke-linecap:round; stroke-linejoin:round; stroke-width:4; stroke-opacity:1; fill:none\" points=\"280.231,1423.18 280.231,1404.28 \"/>\n",
       "<polyline clip-path=\"url(#clip120)\" style=\"stroke:#000000; stroke-linecap:round; stroke-linejoin:round; stroke-width:4; stroke-opacity:1; fill:none\" points=\"682.663,1423.18 682.663,1404.28 \"/>\n",
       "<polyline clip-path=\"url(#clip120)\" style=\"stroke:#000000; stroke-linecap:round; stroke-linejoin:round; stroke-width:4; stroke-opacity:1; fill:none\" points=\"1085.1,1423.18 1085.1,1404.28 \"/>\n",
       "<polyline clip-path=\"url(#clip120)\" style=\"stroke:#000000; stroke-linecap:round; stroke-linejoin:round; stroke-width:4; stroke-opacity:1; fill:none\" points=\"1487.53,1423.18 1487.53,1404.28 \"/>\n",
       "<polyline clip-path=\"url(#clip120)\" style=\"stroke:#000000; stroke-linecap:round; stroke-linejoin:round; stroke-width:4; stroke-opacity:1; fill:none\" points=\"1889.96,1423.18 1889.96,1404.28 \"/>\n",
       "<polyline clip-path=\"url(#clip120)\" style=\"stroke:#000000; stroke-linecap:round; stroke-linejoin:round; stroke-width:4; stroke-opacity:1; fill:none\" points=\"2292.39,1423.18 2292.39,1404.28 \"/>\n",
       "<path clip-path=\"url(#clip120)\" d=\"M280.231 1454.1 Q276.62 1454.1 274.791 1457.66 Q272.986 1461.2 272.986 1468.33 Q272.986 1475.44 274.791 1479.01 Q276.62 1482.55 280.231 1482.55 Q283.865 1482.55 285.671 1479.01 Q287.5 1475.44 287.5 1468.33 Q287.5 1461.2 285.671 1457.66 Q283.865 1454.1 280.231 1454.1 M280.231 1450.39 Q286.041 1450.39 289.097 1455 Q292.175 1459.58 292.175 1468.33 Q292.175 1477.06 289.097 1481.67 Q286.041 1486.25 280.231 1486.25 Q274.421 1486.25 271.342 1481.67 Q268.287 1477.06 268.287 1468.33 Q268.287 1459.58 271.342 1455 Q274.421 1450.39 280.231 1450.39 Z\" fill=\"#000000\" fill-rule=\"nonzero\" fill-opacity=\"1\" /><path clip-path=\"url(#clip120)\" d=\"M673.045 1481.64 L680.684 1481.64 L680.684 1455.28 L672.374 1456.95 L672.374 1452.69 L680.638 1451.02 L685.314 1451.02 L685.314 1481.64 L692.952 1481.64 L692.952 1485.58 L673.045 1485.58 L673.045 1481.64 Z\" fill=\"#000000\" fill-rule=\"nonzero\" fill-opacity=\"1\" /><path clip-path=\"url(#clip120)\" d=\"M1079.75 1481.64 L1096.07 1481.64 L1096.07 1485.58 L1074.12 1485.58 L1074.12 1481.64 Q1076.78 1478.89 1081.37 1474.26 Q1085.97 1469.61 1087.16 1468.27 Q1089.4 1465.74 1090.28 1464.01 Q1091.18 1462.25 1091.18 1460.56 Q1091.18 1457.8 1089.24 1456.07 Q1087.32 1454.33 1084.22 1454.33 Q1082.02 1454.33 1079.56 1455.09 Q1077.13 1455.86 1074.35 1457.41 L1074.35 1452.69 Q1077.18 1451.55 1079.63 1450.97 Q1082.09 1450.39 1084.12 1450.39 Q1089.49 1450.39 1092.69 1453.08 Q1095.88 1455.77 1095.88 1460.26 Q1095.88 1462.39 1095.07 1464.31 Q1094.28 1466.2 1092.18 1468.8 Q1091.6 1469.47 1088.5 1472.69 Q1085.4 1475.88 1079.75 1481.64 Z\" fill=\"#000000\" fill-rule=\"nonzero\" fill-opacity=\"1\" /><path clip-path=\"url(#clip120)\" d=\"M1491.77 1466.95 Q1495.13 1467.66 1497.01 1469.93 Q1498.9 1472.2 1498.9 1475.53 Q1498.9 1480.65 1495.39 1483.45 Q1491.87 1486.25 1485.39 1486.25 Q1483.21 1486.25 1480.9 1485.81 Q1478.6 1485.39 1476.15 1484.54 L1476.15 1480.02 Q1478.09 1481.16 1480.41 1481.74 Q1482.72 1482.32 1485.25 1482.32 Q1489.65 1482.32 1491.94 1480.58 Q1494.25 1478.84 1494.25 1475.53 Q1494.25 1472.48 1492.1 1470.77 Q1489.97 1469.03 1486.15 1469.03 L1482.12 1469.03 L1482.12 1465.19 L1486.33 1465.19 Q1489.78 1465.19 1491.61 1463.82 Q1493.44 1462.43 1493.44 1459.84 Q1493.44 1457.18 1491.54 1455.77 Q1489.67 1454.33 1486.15 1454.33 Q1484.23 1454.33 1482.03 1454.75 Q1479.83 1455.16 1477.19 1456.04 L1477.19 1451.88 Q1479.85 1451.14 1482.17 1450.77 Q1484.51 1450.39 1486.57 1450.39 Q1491.89 1450.39 1494.99 1452.83 Q1498.09 1455.23 1498.09 1459.35 Q1498.09 1462.22 1496.45 1464.21 Q1494.81 1466.18 1491.77 1466.95 Z\" fill=\"#000000\" fill-rule=\"nonzero\" fill-opacity=\"1\" /><path clip-path=\"url(#clip120)\" d=\"M1892.97 1455.09 L1881.16 1473.54 L1892.97 1473.54 L1892.97 1455.09 M1891.74 1451.02 L1897.62 1451.02 L1897.62 1473.54 L1902.55 1473.54 L1902.55 1477.43 L1897.62 1477.43 L1897.62 1485.58 L1892.97 1485.58 L1892.97 1477.43 L1877.37 1477.43 L1877.37 1472.92 L1891.74 1451.02 Z\" fill=\"#000000\" fill-rule=\"nonzero\" fill-opacity=\"1\" /><path clip-path=\"url(#clip120)\" d=\"M2282.67 1451.02 L2301.03 1451.02 L2301.03 1454.96 L2286.95 1454.96 L2286.95 1463.43 Q2287.97 1463.08 2288.99 1462.92 Q2290.01 1462.73 2291.03 1462.73 Q2296.81 1462.73 2300.19 1465.9 Q2303.57 1469.08 2303.57 1474.49 Q2303.57 1480.07 2300.1 1483.17 Q2296.63 1486.25 2290.31 1486.25 Q2288.13 1486.25 2285.86 1485.88 Q2283.62 1485.51 2281.21 1484.77 L2281.21 1480.07 Q2283.29 1481.2 2285.52 1481.76 Q2287.74 1482.32 2290.22 1482.32 Q2294.22 1482.32 2296.56 1480.21 Q2298.9 1478.1 2298.9 1474.49 Q2298.9 1470.88 2296.56 1468.77 Q2294.22 1466.67 2290.22 1466.67 Q2288.34 1466.67 2286.47 1467.08 Q2284.61 1467.5 2282.67 1468.38 L2282.67 1451.02 Z\" fill=\"#000000\" fill-rule=\"nonzero\" fill-opacity=\"1\" /><path clip-path=\"url(#clip120)\" d=\"M1144.61 1522.08 L1144.61 1528.35 Q1140.95 1526.6 1137.7 1525.74 Q1134.46 1524.88 1131.43 1524.88 Q1126.18 1524.88 1123.32 1526.92 Q1120.48 1528.96 1120.48 1532.71 Q1120.48 1535.87 1122.36 1537.49 Q1124.27 1539.08 1129.56 1540.07 L1133.44 1540.86 Q1140.63 1542.23 1144.04 1545.7 Q1147.48 1549.14 1147.48 1554.93 Q1147.48 1561.84 1142.83 1565.4 Q1138.21 1568.97 1129.27 1568.97 Q1125.9 1568.97 1122.08 1568.2 Q1118.29 1567.44 1114.21 1565.94 L1114.21 1559.32 Q1118.13 1561.52 1121.88 1562.63 Q1125.64 1563.75 1129.27 1563.75 Q1134.78 1563.75 1137.77 1561.58 Q1140.76 1559.42 1140.76 1555.41 Q1140.76 1551.91 1138.59 1549.93 Q1136.46 1547.96 1131.56 1546.97 L1127.65 1546.21 Q1120.45 1544.78 1117.24 1541.72 Q1114.02 1538.67 1114.02 1533.22 Q1114.02 1526.92 1118.45 1523.29 Q1122.9 1519.66 1130.7 1519.66 Q1134.04 1519.66 1137.51 1520.27 Q1140.98 1520.87 1144.61 1522.08 Z\" fill=\"#000000\" fill-rule=\"nonzero\" fill-opacity=\"1\" /><path clip-path=\"url(#clip120)\" d=\"M1187.74 1548.76 L1187.74 1551.62 L1160.81 1551.62 Q1161.19 1557.67 1164.44 1560.85 Q1167.72 1564 1173.54 1564 Q1176.92 1564 1180.07 1563.17 Q1183.25 1562.35 1186.37 1560.69 L1186.37 1566.23 Q1183.22 1567.57 1179.91 1568.27 Q1176.6 1568.97 1173.19 1568.97 Q1164.66 1568.97 1159.67 1564 Q1154.7 1559.04 1154.7 1550.57 Q1154.7 1541.82 1159.41 1536.69 Q1164.15 1531.54 1172.17 1531.54 Q1179.37 1531.54 1183.54 1536.18 Q1187.74 1540.8 1187.74 1548.76 M1181.88 1547.04 Q1181.82 1542.23 1179.18 1539.37 Q1176.57 1536.5 1172.24 1536.5 Q1167.34 1536.5 1164.38 1539.27 Q1161.45 1542.04 1161 1547.07 L1181.88 1547.04 Z\" fill=\"#000000\" fill-rule=\"nonzero\" fill-opacity=\"1\" /><path clip-path=\"url(#clip120)\" d=\"M1203.02 1562.7 L1203.02 1581.6 L1197.13 1581.6 L1197.13 1532.4 L1203.02 1532.4 L1203.02 1537.81 Q1204.86 1534.62 1207.66 1533.1 Q1210.5 1531.54 1214.41 1531.54 Q1220.9 1531.54 1224.95 1536.69 Q1229.02 1541.85 1229.02 1550.25 Q1229.02 1558.65 1224.95 1563.81 Q1220.9 1568.97 1214.41 1568.97 Q1210.5 1568.97 1207.66 1567.44 Q1204.86 1565.88 1203.02 1562.7 M1222.94 1550.25 Q1222.94 1543.79 1220.27 1540.13 Q1217.63 1536.44 1212.98 1536.44 Q1208.33 1536.44 1205.66 1540.13 Q1203.02 1543.79 1203.02 1550.25 Q1203.02 1556.71 1205.66 1560.4 Q1208.33 1564.07 1212.98 1564.07 Q1217.63 1564.07 1220.27 1560.4 Q1222.94 1556.71 1222.94 1550.25 Z\" fill=\"#000000\" fill-rule=\"nonzero\" fill-opacity=\"1\" /><path clip-path=\"url(#clip120)\" d=\"M1254.93 1550.12 Q1247.83 1550.12 1245.09 1551.75 Q1242.36 1553.37 1242.36 1557.29 Q1242.36 1560.4 1244.39 1562.25 Q1246.46 1564.07 1249.99 1564.07 Q1254.86 1564.07 1257.79 1560.63 Q1260.75 1557.16 1260.75 1551.43 L1260.75 1550.12 L1254.93 1550.12 M1266.61 1547.71 L1266.61 1568.04 L1260.75 1568.04 L1260.75 1562.63 Q1258.75 1565.88 1255.76 1567.44 Q1252.76 1568.97 1248.44 1568.97 Q1242.96 1568.97 1239.71 1565.91 Q1236.5 1562.82 1236.5 1557.67 Q1236.5 1551.65 1240.51 1548.6 Q1244.55 1545.54 1252.54 1545.54 L1260.75 1545.54 L1260.75 1544.97 Q1260.75 1540.93 1258.08 1538.73 Q1255.44 1536.5 1250.63 1536.5 Q1247.58 1536.5 1244.68 1537.23 Q1241.78 1537.97 1239.11 1539.43 L1239.11 1534.02 Q1242.32 1532.78 1245.35 1532.17 Q1248.37 1531.54 1251.24 1531.54 Q1258.97 1531.54 1262.79 1535.55 Q1266.61 1539.56 1266.61 1547.71 Z\" fill=\"#000000\" fill-rule=\"nonzero\" fill-opacity=\"1\" /><path clip-path=\"url(#clip120)\" d=\"M1299.33 1537.87 Q1298.34 1537.3 1297.16 1537.04 Q1296.02 1536.76 1294.62 1536.76 Q1289.65 1536.76 1286.98 1540 Q1284.34 1543.22 1284.34 1549.27 L1284.34 1568.04 L1278.45 1568.04 L1278.45 1532.4 L1284.34 1532.4 L1284.34 1537.93 Q1286.18 1534.69 1289.14 1533.13 Q1292.1 1531.54 1296.34 1531.54 Q1296.94 1531.54 1297.67 1531.63 Q1298.41 1531.7 1299.3 1531.85 L1299.33 1537.87 Z\" fill=\"#000000\" fill-rule=\"nonzero\" fill-opacity=\"1\" /><path clip-path=\"url(#clip120)\" d=\"M1321.67 1550.12 Q1314.57 1550.12 1311.84 1551.75 Q1309.1 1553.37 1309.1 1557.29 Q1309.1 1560.4 1311.14 1562.25 Q1313.21 1564.07 1316.74 1564.07 Q1321.61 1564.07 1324.54 1560.63 Q1327.5 1557.16 1327.5 1551.43 L1327.5 1550.12 L1321.67 1550.12 M1333.35 1547.71 L1333.35 1568.04 L1327.5 1568.04 L1327.5 1562.63 Q1325.49 1565.88 1322.5 1567.44 Q1319.51 1568.97 1315.18 1568.97 Q1309.71 1568.97 1306.46 1565.91 Q1303.24 1562.82 1303.24 1557.67 Q1303.24 1551.65 1307.25 1548.6 Q1311.3 1545.54 1319.29 1545.54 L1327.5 1545.54 L1327.5 1544.97 Q1327.5 1540.93 1324.82 1538.73 Q1322.18 1536.5 1317.38 1536.5 Q1314.32 1536.5 1311.42 1537.23 Q1308.53 1537.97 1305.85 1539.43 L1305.85 1534.02 Q1309.07 1532.78 1312.09 1532.17 Q1315.12 1531.54 1317.98 1531.54 Q1325.71 1531.54 1329.53 1535.55 Q1333.35 1539.56 1333.35 1547.71 Z\" fill=\"#000000\" fill-rule=\"nonzero\" fill-opacity=\"1\" /><path clip-path=\"url(#clip120)\" d=\"M1351.21 1522.27 L1351.21 1532.4 L1363.27 1532.4 L1363.27 1536.95 L1351.21 1536.95 L1351.21 1556.3 Q1351.21 1560.66 1352.39 1561.9 Q1353.6 1563.14 1357.26 1563.14 L1363.27 1563.14 L1363.27 1568.04 L1357.26 1568.04 Q1350.48 1568.04 1347.9 1565.53 Q1345.32 1562.98 1345.32 1556.3 L1345.32 1536.95 L1341.02 1536.95 L1341.02 1532.4 L1345.32 1532.4 L1345.32 1522.27 L1351.21 1522.27 Z\" fill=\"#000000\" fill-rule=\"nonzero\" fill-opacity=\"1\" /><path clip-path=\"url(#clip120)\" d=\"M1370.97 1532.4 L1376.83 1532.4 L1376.83 1568.04 L1370.97 1568.04 L1370.97 1532.4 M1370.97 1518.52 L1376.83 1518.52 L1376.83 1525.93 L1370.97 1525.93 L1370.97 1518.52 Z\" fill=\"#000000\" fill-rule=\"nonzero\" fill-opacity=\"1\" /><path clip-path=\"url(#clip120)\" d=\"M1402.9 1536.5 Q1398.19 1536.5 1395.45 1540.19 Q1392.71 1543.85 1392.71 1550.25 Q1392.71 1556.65 1395.42 1560.34 Q1398.16 1564 1402.9 1564 Q1407.58 1564 1410.32 1560.31 Q1413.05 1556.62 1413.05 1550.25 Q1413.05 1543.92 1410.32 1540.23 Q1407.58 1536.5 1402.9 1536.5 M1402.9 1531.54 Q1410.54 1531.54 1414.9 1536.5 Q1419.26 1541.47 1419.26 1550.25 Q1419.26 1559 1414.9 1564 Q1410.54 1568.97 1402.9 1568.97 Q1395.23 1568.97 1390.87 1564 Q1386.54 1559 1386.54 1550.25 Q1386.54 1541.47 1390.87 1536.5 Q1395.23 1531.54 1402.9 1531.54 Z\" fill=\"#000000\" fill-rule=\"nonzero\" fill-opacity=\"1\" /><path clip-path=\"url(#clip120)\" d=\"M1458.6 1546.53 L1458.6 1568.04 L1452.74 1568.04 L1452.74 1546.72 Q1452.74 1541.66 1450.77 1539.14 Q1448.8 1536.63 1444.85 1536.63 Q1440.11 1536.63 1437.37 1539.65 Q1434.63 1542.68 1434.63 1547.9 L1434.63 1568.04 L1428.74 1568.04 L1428.74 1532.4 L1434.63 1532.4 L1434.63 1537.93 Q1436.73 1534.72 1439.57 1533.13 Q1442.43 1531.54 1446.15 1531.54 Q1452.3 1531.54 1455.45 1535.36 Q1458.6 1539.14 1458.6 1546.53 Z\" fill=\"#000000\" fill-rule=\"nonzero\" fill-opacity=\"1\" /><polyline clip-path=\"url(#clip120)\" style=\"stroke:#000000; stroke-linecap:round; stroke-linejoin:round; stroke-width:4; stroke-opacity:1; fill:none\" points=\"219.866,1423.18 219.866,47.2441 \"/>\n",
       "<polyline clip-path=\"url(#clip120)\" style=\"stroke:#000000; stroke-linecap:round; stroke-linejoin:round; stroke-width:4; stroke-opacity:1; fill:none\" points=\"219.866,1384.24 238.764,1384.24 \"/>\n",
       "<polyline clip-path=\"url(#clip120)\" style=\"stroke:#000000; stroke-linecap:round; stroke-linejoin:round; stroke-width:4; stroke-opacity:1; fill:none\" points=\"219.866,1150.31 238.764,1150.31 \"/>\n",
       "<polyline clip-path=\"url(#clip120)\" style=\"stroke:#000000; stroke-linecap:round; stroke-linejoin:round; stroke-width:4; stroke-opacity:1; fill:none\" points=\"219.866,916.378 238.764,916.378 \"/>\n",
       "<polyline clip-path=\"url(#clip120)\" style=\"stroke:#000000; stroke-linecap:round; stroke-linejoin:round; stroke-width:4; stroke-opacity:1; fill:none\" points=\"219.866,682.448 238.764,682.448 \"/>\n",
       "<polyline clip-path=\"url(#clip120)\" style=\"stroke:#000000; stroke-linecap:round; stroke-linejoin:round; stroke-width:4; stroke-opacity:1; fill:none\" points=\"219.866,448.518 238.764,448.518 \"/>\n",
       "<polyline clip-path=\"url(#clip120)\" style=\"stroke:#000000; stroke-linecap:round; stroke-linejoin:round; stroke-width:4; stroke-opacity:1; fill:none\" points=\"219.866,214.588 238.764,214.588 \"/>\n",
       "<path clip-path=\"url(#clip120)\" d=\"M126.691 1370.04 Q123.08 1370.04 121.251 1373.6 Q119.445 1377.14 119.445 1384.27 Q119.445 1391.38 121.251 1394.94 Q123.08 1398.49 126.691 1398.49 Q130.325 1398.49 132.13 1394.94 Q133.959 1391.38 133.959 1384.27 Q133.959 1377.14 132.13 1373.6 Q130.325 1370.04 126.691 1370.04 M126.691 1366.33 Q132.501 1366.33 135.556 1370.94 Q138.635 1375.52 138.635 1384.27 Q138.635 1393 135.556 1397.61 Q132.501 1402.19 126.691 1402.19 Q120.88 1402.19 117.802 1397.61 Q114.746 1393 114.746 1384.27 Q114.746 1375.52 117.802 1370.94 Q120.88 1366.33 126.691 1366.33 Z\" fill=\"#000000\" fill-rule=\"nonzero\" fill-opacity=\"1\" /><path clip-path=\"url(#clip120)\" d=\"M146.853 1395.64 L151.737 1395.64 L151.737 1401.52 L146.853 1401.52 L146.853 1395.64 Z\" fill=\"#000000\" fill-rule=\"nonzero\" fill-opacity=\"1\" /><path clip-path=\"url(#clip120)\" d=\"M171.922 1370.04 Q168.311 1370.04 166.482 1373.6 Q164.677 1377.14 164.677 1384.27 Q164.677 1391.38 166.482 1394.94 Q168.311 1398.49 171.922 1398.49 Q175.556 1398.49 177.362 1394.94 Q179.19 1391.38 179.19 1384.27 Q179.19 1377.14 177.362 1373.6 Q175.556 1370.04 171.922 1370.04 M171.922 1366.33 Q177.732 1366.33 180.788 1370.94 Q183.866 1375.52 183.866 1384.27 Q183.866 1393 180.788 1397.61 Q177.732 1402.19 171.922 1402.19 Q166.112 1402.19 163.033 1397.61 Q159.978 1393 159.978 1384.27 Q159.978 1375.52 163.033 1370.94 Q166.112 1366.33 171.922 1366.33 Z\" fill=\"#000000\" fill-rule=\"nonzero\" fill-opacity=\"1\" /><path clip-path=\"url(#clip120)\" d=\"M127.917 1136.11 Q124.306 1136.11 122.478 1139.67 Q120.672 1143.21 120.672 1150.34 Q120.672 1157.45 122.478 1161.01 Q124.306 1164.56 127.917 1164.56 Q131.552 1164.56 133.357 1161.01 Q135.186 1157.45 135.186 1150.34 Q135.186 1143.21 133.357 1139.67 Q131.552 1136.11 127.917 1136.11 M127.917 1132.4 Q133.728 1132.4 136.783 1137.01 Q139.862 1141.59 139.862 1150.34 Q139.862 1159.07 136.783 1163.68 Q133.728 1168.26 127.917 1168.26 Q122.107 1168.26 119.029 1163.68 Q115.973 1159.07 115.973 1150.34 Q115.973 1141.59 119.029 1137.01 Q122.107 1132.4 127.917 1132.4 Z\" fill=\"#000000\" fill-rule=\"nonzero\" fill-opacity=\"1\" /><path clip-path=\"url(#clip120)\" d=\"M148.079 1161.71 L152.964 1161.71 L152.964 1167.59 L148.079 1167.59 L148.079 1161.71 Z\" fill=\"#000000\" fill-rule=\"nonzero\" fill-opacity=\"1\" /><path clip-path=\"url(#clip120)\" d=\"M163.959 1163.65 L171.598 1163.65 L171.598 1137.29 L163.288 1138.95 L163.288 1134.69 L171.552 1133.03 L176.227 1133.03 L176.227 1163.65 L183.866 1163.65 L183.866 1167.59 L163.959 1167.59 L163.959 1163.65 Z\" fill=\"#000000\" fill-rule=\"nonzero\" fill-opacity=\"1\" /><path clip-path=\"url(#clip120)\" d=\"M128.288 902.177 Q124.677 902.177 122.848 905.742 Q121.043 909.283 121.043 916.413 Q121.043 923.519 122.848 927.084 Q124.677 930.626 128.288 930.626 Q131.922 930.626 133.728 927.084 Q135.556 923.519 135.556 916.413 Q135.556 909.283 133.728 905.742 Q131.922 902.177 128.288 902.177 M128.288 898.473 Q134.098 898.473 137.154 903.08 Q140.232 907.663 140.232 916.413 Q140.232 925.14 137.154 929.746 Q134.098 934.329 128.288 934.329 Q122.478 934.329 119.399 929.746 Q116.343 925.14 116.343 916.413 Q116.343 907.663 119.399 903.08 Q122.478 898.473 128.288 898.473 Z\" fill=\"#000000\" fill-rule=\"nonzero\" fill-opacity=\"1\" /><path clip-path=\"url(#clip120)\" d=\"M148.45 927.779 L153.334 927.779 L153.334 933.658 L148.45 933.658 L148.45 927.779 Z\" fill=\"#000000\" fill-rule=\"nonzero\" fill-opacity=\"1\" /><path clip-path=\"url(#clip120)\" d=\"M167.547 929.723 L183.866 929.723 L183.866 933.658 L161.922 933.658 L161.922 929.723 Q164.584 926.968 169.167 922.339 Q173.774 917.686 174.954 916.343 Q177.2 913.82 178.079 912.084 Q178.982 910.325 178.982 908.635 Q178.982 905.881 177.038 904.144 Q175.116 902.408 172.014 902.408 Q169.815 902.408 167.362 903.172 Q164.931 903.936 162.153 905.487 L162.153 900.765 Q164.977 899.631 167.431 899.052 Q169.885 898.473 171.922 898.473 Q177.292 898.473 180.487 901.158 Q183.681 903.844 183.681 908.334 Q183.681 910.464 182.871 912.385 Q182.084 914.283 179.977 916.876 Q179.399 917.547 176.297 920.765 Q173.195 923.959 167.547 929.723 Z\" fill=\"#000000\" fill-rule=\"nonzero\" fill-opacity=\"1\" /><path clip-path=\"url(#clip120)\" d=\"M127.339 668.247 Q123.728 668.247 121.899 671.812 Q120.093 675.353 120.093 682.483 Q120.093 689.589 121.899 693.154 Q123.728 696.696 127.339 696.696 Q130.973 696.696 132.779 693.154 Q134.607 689.589 134.607 682.483 Q134.607 675.353 132.779 671.812 Q130.973 668.247 127.339 668.247 M127.339 664.543 Q133.149 664.543 136.204 669.15 Q139.283 673.733 139.283 682.483 Q139.283 691.21 136.204 695.816 Q133.149 700.399 127.339 700.399 Q121.529 700.399 118.45 695.816 Q115.394 691.21 115.394 682.483 Q115.394 673.733 118.45 669.15 Q121.529 664.543 127.339 664.543 Z\" fill=\"#000000\" fill-rule=\"nonzero\" fill-opacity=\"1\" /><path clip-path=\"url(#clip120)\" d=\"M147.501 693.849 L152.385 693.849 L152.385 699.728 L147.501 699.728 L147.501 693.849 Z\" fill=\"#000000\" fill-rule=\"nonzero\" fill-opacity=\"1\" /><path clip-path=\"url(#clip120)\" d=\"M176.737 681.094 Q180.093 681.812 181.968 684.08 Q183.866 686.349 183.866 689.682 Q183.866 694.798 180.348 697.598 Q176.829 700.399 170.348 700.399 Q168.172 700.399 165.857 699.96 Q163.565 699.543 161.112 698.686 L161.112 694.173 Q163.056 695.307 165.371 695.886 Q167.686 696.464 170.209 696.464 Q174.607 696.464 176.899 694.728 Q179.214 692.992 179.214 689.682 Q179.214 686.626 177.061 684.913 Q174.931 683.177 171.112 683.177 L167.084 683.177 L167.084 679.335 L171.297 679.335 Q174.746 679.335 176.575 677.969 Q178.403 676.58 178.403 673.987 Q178.403 671.325 176.505 669.913 Q174.63 668.478 171.112 668.478 Q169.19 668.478 166.991 668.895 Q164.792 669.312 162.153 670.191 L162.153 666.025 Q164.815 665.284 167.13 664.913 Q169.468 664.543 171.528 664.543 Q176.852 664.543 179.954 666.974 Q183.056 669.381 183.056 673.501 Q183.056 676.372 181.413 678.362 Q179.769 680.33 176.737 681.094 Z\" fill=\"#000000\" fill-rule=\"nonzero\" fill-opacity=\"1\" /><path clip-path=\"url(#clip120)\" d=\"M126.205 434.317 Q122.593 434.317 120.765 437.882 Q118.959 441.423 118.959 448.553 Q118.959 455.659 120.765 459.224 Q122.593 462.766 126.205 462.766 Q129.839 462.766 131.644 459.224 Q133.473 455.659 133.473 448.553 Q133.473 441.423 131.644 437.882 Q129.839 434.317 126.205 434.317 M126.205 430.613 Q132.015 430.613 135.07 435.22 Q138.149 439.803 138.149 448.553 Q138.149 457.28 135.07 461.886 Q132.015 466.469 126.205 466.469 Q120.394 466.469 117.316 461.886 Q114.26 457.28 114.26 448.553 Q114.26 439.803 117.316 435.22 Q120.394 430.613 126.205 430.613 Z\" fill=\"#000000\" fill-rule=\"nonzero\" fill-opacity=\"1\" /><path clip-path=\"url(#clip120)\" d=\"M146.366 459.918 L151.251 459.918 L151.251 465.798 L146.366 465.798 L146.366 459.918 Z\" fill=\"#000000\" fill-rule=\"nonzero\" fill-opacity=\"1\" /><path clip-path=\"url(#clip120)\" d=\"M174.283 435.312 L162.477 453.761 L174.283 453.761 L174.283 435.312 M173.056 431.238 L178.936 431.238 L178.936 453.761 L183.866 453.761 L183.866 457.65 L178.936 457.65 L178.936 465.798 L174.283 465.798 L174.283 457.65 L158.681 457.65 L158.681 453.136 L173.056 431.238 Z\" fill=\"#000000\" fill-rule=\"nonzero\" fill-opacity=\"1\" /><path clip-path=\"url(#clip120)\" d=\"M127.686 200.387 Q124.075 200.387 122.246 203.951 Q120.441 207.493 120.441 214.623 Q120.441 221.729 122.246 225.294 Q124.075 228.836 127.686 228.836 Q131.32 228.836 133.126 225.294 Q134.954 221.729 134.954 214.623 Q134.954 207.493 133.126 203.951 Q131.32 200.387 127.686 200.387 M127.686 196.683 Q133.496 196.683 136.552 201.289 Q139.63 205.873 139.63 214.623 Q139.63 223.35 136.552 227.956 Q133.496 232.539 127.686 232.539 Q121.876 232.539 118.797 227.956 Q115.742 223.35 115.742 214.623 Q115.742 205.873 118.797 201.289 Q121.876 196.683 127.686 196.683 Z\" fill=\"#000000\" fill-rule=\"nonzero\" fill-opacity=\"1\" /><path clip-path=\"url(#clip120)\" d=\"M147.848 225.988 L152.732 225.988 L152.732 231.868 L147.848 231.868 L147.848 225.988 Z\" fill=\"#000000\" fill-rule=\"nonzero\" fill-opacity=\"1\" /><path clip-path=\"url(#clip120)\" d=\"M162.964 197.308 L181.32 197.308 L181.32 201.243 L167.246 201.243 L167.246 209.715 Q168.264 209.368 169.283 209.206 Q170.302 209.021 171.32 209.021 Q177.107 209.021 180.487 212.192 Q183.866 215.363 183.866 220.78 Q183.866 226.359 180.394 229.461 Q176.922 232.539 170.602 232.539 Q168.427 232.539 166.158 232.169 Q163.913 231.799 161.505 231.058 L161.505 226.359 Q163.589 227.493 165.811 228.049 Q168.033 228.604 170.51 228.604 Q174.514 228.604 176.852 226.498 Q179.19 224.391 179.19 220.78 Q179.19 217.169 176.852 215.063 Q174.514 212.956 170.51 212.956 Q168.635 212.956 166.76 213.373 Q164.908 213.789 162.964 214.669 L162.964 197.308 Z\" fill=\"#000000\" fill-rule=\"nonzero\" fill-opacity=\"1\" /><path clip-path=\"url(#clip120)\" d=\"M20.0391 721.606 Q21.1985 721.895 21.6172 722.507 L22.6478 724.891 Q22.6478 726.082 22.3902 726.211 Q21.7138 726.759 21.0053 726.855 Q20.49 726.855 20.1679 727.145 Q19.8137 727.403 19.8137 727.854 Q19.8137 728.788 20.2968 729.367 Q21.3918 730.752 23.9682 731.622 Q26.0938 732.362 34.2741 734.456 L61.7779 741.187 L63.7425 744.89 Q52.6315 747.757 43.807 750.784 Q34.9504 753.811 27.994 757.741 L38.3643 760.639 Q50.6347 764.504 52.1484 765.245 Q57.1725 767.531 60.3931 771.331 Q63.5492 775.1 63.5492 778.642 Q63.5492 780.929 62.1644 781.959 Q61.005 782.893 59.6523 782.539 Q58.3963 782.281 57.2369 780.832 Q56.5606 779.93 56.5606 779.19 Q56.5606 778.03 57.1725 777.579 Q57.2369 777.515 57.4623 777.418 Q57.6878 777.322 58.0098 777.193 Q58.2997 777.064 58.4607 777 Q59.3947 776.613 59.3947 775.357 Q59.3947 773.296 57.559 771.009 Q56.8504 770.14 55.8198 769.399 Q54.757 768.626 54.1129 768.304 Q53.4688 767.95 52.0195 767.241 Q48.1226 765.534 41.9713 763.924 L24.9022 759.641 Q22.9054 761.187 21.9393 762.604 Q20.8765 764.182 20.8765 765.47 Q20.8765 767.885 22.2613 769.464 Q22.9054 770.301 23.9682 771.074 Q25.031 771.815 25.7718 772.201 Q26.5125 772.587 27.8651 773.167 L28.1872 774.681 Q22.2935 773.199 19.4272 769.689 Q17.044 766.629 17.044 762.604 Q17.044 758.739 21.1985 755.744 Q22.519 754.713 24.3869 753.747 Q26.2226 752.749 27.3499 752.298 Q28.4449 751.815 30.8925 750.816 L55.1113 742.056 L54.3062 741.38 L31.6332 736.291 Q27.5753 735.325 23.5174 733.393 Q20.2324 731.911 18.8475 730.172 Q16.7219 727.564 16.7219 724.375 Q16.7219 722.894 17.7203 721.992 Q18.6221 721.284 20.0391 721.606 Z\" fill=\"#000000\" fill-rule=\"nonzero\" fill-opacity=\"1\" /><path clip-path=\"url(#clip120)\" d=\"M74.7098 714.838 L73.2895 714.838 L51.6247 700.658 Q51.061 700.297 51.0836 699.733 Q51.0836 699.215 51.2865 699.102 Q51.4894 698.989 52.2784 698.989 L73.2895 698.989 L73.2895 694.368 L74.7098 694.368 L74.7098 698.989 L78.7227 698.989 Q80.0528 698.989 80.4811 698.448 Q80.9094 697.885 80.9094 695.495 L80.9094 694.526 L82.3297 694.526 Q82.1945 696.419 82.1945 700.793 Q82.1945 705.144 82.3297 707.037 L80.9094 707.037 L80.9094 706.068 Q80.9094 703.678 80.5036 703.115 Q80.0753 702.551 78.7227 702.551 L74.7098 702.551 L74.7098 714.838 M73.2895 713.53 L73.2895 702.281 L56.0658 702.281 L73.2895 713.53 Z\" fill=\"#000000\" fill-rule=\"nonzero\" fill-opacity=\"1\" /><polyline clip-path=\"url(#clip122)\" style=\"stroke:#ff0000; stroke-linecap:round; stroke-linejoin:round; stroke-width:8; stroke-opacity:1; fill:none\" points=\"280.231,86.1857 682.663,727.825 1085.1,1086.64 1487.53,1281.82 1889.96,1384.24 2292.39,1384.24 \"/>\n",
       "<circle clip-path=\"url(#clip122)\" cx=\"280.231\" cy=\"86.1857\" r=\"14.4\" fill=\"#ff0000\" fill-rule=\"evenodd\" fill-opacity=\"1\" stroke=\"#000000\" stroke-opacity=\"1\" stroke-width=\"3.2\"/>\n",
       "<circle clip-path=\"url(#clip122)\" cx=\"682.663\" cy=\"727.825\" r=\"14.4\" fill=\"#ff0000\" fill-rule=\"evenodd\" fill-opacity=\"1\" stroke=\"#000000\" stroke-opacity=\"1\" stroke-width=\"3.2\"/>\n",
       "<circle clip-path=\"url(#clip122)\" cx=\"1085.1\" cy=\"1086.64\" r=\"14.4\" fill=\"#ff0000\" fill-rule=\"evenodd\" fill-opacity=\"1\" stroke=\"#000000\" stroke-opacity=\"1\" stroke-width=\"3.2\"/>\n",
       "<circle clip-path=\"url(#clip122)\" cx=\"1487.53\" cy=\"1281.82\" r=\"14.4\" fill=\"#ff0000\" fill-rule=\"evenodd\" fill-opacity=\"1\" stroke=\"#000000\" stroke-opacity=\"1\" stroke-width=\"3.2\"/>\n",
       "<circle clip-path=\"url(#clip122)\" cx=\"1889.96\" cy=\"1384.24\" r=\"14.4\" fill=\"#ff0000\" fill-rule=\"evenodd\" fill-opacity=\"1\" stroke=\"#000000\" stroke-opacity=\"1\" stroke-width=\"3.2\"/>\n",
       "<circle clip-path=\"url(#clip122)\" cx=\"2292.39\" cy=\"1384.24\" r=\"14.4\" fill=\"#ff0000\" fill-rule=\"evenodd\" fill-opacity=\"1\" stroke=\"#000000\" stroke-opacity=\"1\" stroke-width=\"3.2\"/>\n",
       "<polyline clip-path=\"url(#clip122)\" style=\"stroke:#0000ff; stroke-linecap:round; stroke-linejoin:round; stroke-width:8; stroke-opacity:1; fill:none\" stroke-dasharray=\"32, 20\" points=\"280.231,139.381 682.663,755.806 1085.1,1384.24 1487.53,1384.24 1889.96,1384.24 2292.39,1384.24 \"/>\n",
       "<circle clip-path=\"url(#clip122)\" cx=\"280.231\" cy=\"139.381\" r=\"14.4\" fill=\"#0000ff\" fill-rule=\"evenodd\" fill-opacity=\"1\" stroke=\"#000000\" stroke-opacity=\"1\" stroke-width=\"3.2\"/>\n",
       "<circle clip-path=\"url(#clip122)\" cx=\"682.663\" cy=\"755.806\" r=\"14.4\" fill=\"#0000ff\" fill-rule=\"evenodd\" fill-opacity=\"1\" stroke=\"#000000\" stroke-opacity=\"1\" stroke-width=\"3.2\"/>\n",
       "<circle clip-path=\"url(#clip122)\" cx=\"1085.1\" cy=\"1384.24\" r=\"14.4\" fill=\"#0000ff\" fill-rule=\"evenodd\" fill-opacity=\"1\" stroke=\"#000000\" stroke-opacity=\"1\" stroke-width=\"3.2\"/>\n",
       "<circle clip-path=\"url(#clip122)\" cx=\"1487.53\" cy=\"1384.24\" r=\"14.4\" fill=\"#0000ff\" fill-rule=\"evenodd\" fill-opacity=\"1\" stroke=\"#000000\" stroke-opacity=\"1\" stroke-width=\"3.2\"/>\n",
       "<circle clip-path=\"url(#clip122)\" cx=\"1889.96\" cy=\"1384.24\" r=\"14.4\" fill=\"#0000ff\" fill-rule=\"evenodd\" fill-opacity=\"1\" stroke=\"#000000\" stroke-opacity=\"1\" stroke-width=\"3.2\"/>\n",
       "<circle clip-path=\"url(#clip122)\" cx=\"2292.39\" cy=\"1384.24\" r=\"14.4\" fill=\"#0000ff\" fill-rule=\"evenodd\" fill-opacity=\"1\" stroke=\"#000000\" stroke-opacity=\"1\" stroke-width=\"3.2\"/>\n",
       "<path clip-path=\"url(#clip120)\" d=\"M1891.52 248.629 L2281.66 248.629 L2281.66 93.1086 L1891.52 93.1086  Z\" fill=\"#ffffff\" fill-rule=\"evenodd\" fill-opacity=\"1\"/>\n",
       "<polyline clip-path=\"url(#clip120)\" style=\"stroke:#000000; stroke-linecap:round; stroke-linejoin:round; stroke-width:4; stroke-opacity:1; fill:none\" points=\"1891.52,248.629 2281.66,248.629 2281.66,93.1086 1891.52,93.1086 1891.52,248.629 \"/>\n",
       "<polyline clip-path=\"url(#clip120)\" style=\"stroke:#ff0000; stroke-linecap:round; stroke-linejoin:round; stroke-width:8; stroke-opacity:1; fill:none\" points=\"1915.22,144.949 2057.41,144.949 \"/>\n",
       "<circle clip-path=\"url(#clip120)\" cx=\"1986.31\" cy=\"144.949\" r=\"19.749\" fill=\"#ff0000\" fill-rule=\"evenodd\" fill-opacity=\"1\" stroke=\"#000000\" stroke-opacity=\"1\" stroke-width=\"4.55111\"/>\n",
       "<path clip-path=\"url(#clip120)\" d=\"M2081.78 158.293 L2089.42 158.293 L2089.42 131.928 L2081.11 133.595 L2081.11 129.335 L2089.37 127.669 L2094.05 127.669 L2094.05 158.293 L2101.69 158.293 L2101.69 162.229 L2081.78 162.229 L2081.78 158.293 Z\" fill=\"#000000\" fill-rule=\"nonzero\" fill-opacity=\"1\" /><path clip-path=\"url(#clip120)\" d=\"M2118.1 127.669 L2122.04 127.669 L2110 166.627 L2106.06 166.627 L2118.1 127.669 Z\" fill=\"#000000\" fill-rule=\"nonzero\" fill-opacity=\"1\" /><path clip-path=\"url(#clip120)\" d=\"M2131.13 158.293 L2147.45 158.293 L2147.45 162.229 L2125.51 162.229 L2125.51 158.293 Q2128.17 155.539 2132.75 150.909 Q2137.36 146.256 2138.54 144.914 Q2140.79 142.391 2141.67 140.655 Q2142.57 138.895 2142.57 137.206 Q2142.57 134.451 2140.62 132.715 Q2138.7 130.979 2135.6 130.979 Q2133.4 130.979 2130.95 131.743 Q2128.52 132.507 2125.74 134.057 L2125.74 129.335 Q2128.56 128.201 2131.02 127.622 Q2133.47 127.044 2135.51 127.044 Q2140.88 127.044 2144.07 129.729 Q2147.27 132.414 2147.27 136.905 Q2147.27 139.034 2146.46 140.956 Q2145.67 142.854 2143.56 145.446 Q2142.98 146.118 2139.88 149.335 Q2136.78 152.53 2131.13 158.293 Z\" fill=\"#000000\" fill-rule=\"nonzero\" fill-opacity=\"1\" /><path clip-path=\"url(#clip120)\" d=\"M2154.51 147.344 L2166.99 147.344 L2166.99 151.141 L2154.51 151.141 L2154.51 147.344 Z\" fill=\"#000000\" fill-rule=\"nonzero\" fill-opacity=\"1\" /><path clip-path=\"url(#clip120)\" d=\"M2171.62 147.344 L2184.1 147.344 L2184.1 151.141 L2171.62 151.141 L2171.62 147.344 Z\" fill=\"#000000\" fill-rule=\"nonzero\" fill-opacity=\"1\" /><path clip-path=\"url(#clip120)\" d=\"M2192.29 158.293 L2199.93 158.293 L2199.93 131.928 L2191.62 133.595 L2191.62 129.335 L2199.88 127.669 L2204.56 127.669 L2204.56 158.293 L2212.2 158.293 L2212.2 162.229 L2192.29 162.229 L2192.29 158.293 Z\" fill=\"#000000\" fill-rule=\"nonzero\" fill-opacity=\"1\" /><polyline clip-path=\"url(#clip120)\" style=\"stroke:#0000ff; stroke-linecap:round; stroke-linejoin:round; stroke-width:8; stroke-opacity:1; fill:none\" stroke-dasharray=\"32, 20\" points=\"1915.22,196.789 2057.41,196.789 \"/>\n",
       "<circle clip-path=\"url(#clip120)\" cx=\"1986.31\" cy=\"196.789\" r=\"19.749\" fill=\"#0000ff\" fill-rule=\"evenodd\" fill-opacity=\"1\" stroke=\"#000000\" stroke-opacity=\"1\" stroke-width=\"4.55111\"/>\n",
       "<path clip-path=\"url(#clip120)\" d=\"M2081.78 210.133 L2089.42 210.133 L2089.42 183.768 L2081.11 185.435 L2081.11 181.175 L2089.37 179.509 L2094.05 179.509 L2094.05 210.133 L2101.69 210.133 L2101.69 214.069 L2081.78 214.069 L2081.78 210.133 Z\" fill=\"#000000\" fill-rule=\"nonzero\" fill-opacity=\"1\" /><path clip-path=\"url(#clip120)\" d=\"M2118.1 179.509 L2122.04 179.509 L2110 218.467 L2106.06 218.467 L2118.1 179.509 Z\" fill=\"#000000\" fill-rule=\"nonzero\" fill-opacity=\"1\" /><path clip-path=\"url(#clip120)\" d=\"M2131.13 210.133 L2147.45 210.133 L2147.45 214.069 L2125.51 214.069 L2125.51 210.133 Q2128.17 207.379 2132.75 202.749 Q2137.36 198.096 2138.54 196.754 Q2140.79 194.231 2141.67 192.495 Q2142.57 190.735 2142.57 189.046 Q2142.57 186.291 2140.62 184.555 Q2138.7 182.819 2135.6 182.819 Q2133.4 182.819 2130.95 183.583 Q2128.52 184.347 2125.74 185.897 L2125.74 181.175 Q2128.56 180.041 2131.02 179.462 Q2133.47 178.884 2135.51 178.884 Q2140.88 178.884 2144.07 181.569 Q2147.27 184.254 2147.27 188.745 Q2147.27 190.874 2146.46 192.796 Q2145.67 194.694 2143.56 197.286 Q2142.98 197.958 2139.88 201.175 Q2136.78 204.37 2131.13 210.133 Z\" fill=\"#000000\" fill-rule=\"nonzero\" fill-opacity=\"1\" /><path clip-path=\"url(#clip120)\" d=\"M2154.51 199.184 L2166.99 199.184 L2166.99 202.981 L2154.51 202.981 L2154.51 199.184 Z\" fill=\"#000000\" fill-rule=\"nonzero\" fill-opacity=\"1\" /><path clip-path=\"url(#clip120)\" d=\"M2171.62 199.184 L2184.1 199.184 L2184.1 202.981 L2171.62 202.981 L2171.62 199.184 Z\" fill=\"#000000\" fill-rule=\"nonzero\" fill-opacity=\"1\" /><path clip-path=\"url(#clip120)\" d=\"M2192.29 210.133 L2199.93 210.133 L2199.93 183.768 L2191.62 185.435 L2191.62 181.175 L2199.88 179.509 L2204.56 179.509 L2204.56 210.133 L2212.2 210.133 L2212.2 214.069 L2192.29 214.069 L2192.29 210.133 Z\" fill=\"#000000\" fill-rule=\"nonzero\" fill-opacity=\"1\" /><path clip-path=\"url(#clip120)\" d=\"M2228.61 179.509 L2232.54 179.509 L2220.51 218.467 L2216.57 218.467 L2228.61 179.509 Z\" fill=\"#000000\" fill-rule=\"nonzero\" fill-opacity=\"1\" /><path clip-path=\"url(#clip120)\" d=\"M2241.64 210.133 L2257.96 210.133 L2257.96 214.069 L2236.02 214.069 L2236.02 210.133 Q2238.68 207.379 2243.26 202.749 Q2247.87 198.096 2249.05 196.754 Q2251.29 194.231 2252.17 192.495 Q2253.08 190.735 2253.08 189.046 Q2253.08 186.291 2251.13 184.555 Q2249.21 182.819 2246.11 182.819 Q2243.91 182.819 2241.46 183.583 Q2239.03 184.347 2236.25 185.897 L2236.25 181.175 Q2239.07 180.041 2241.53 179.462 Q2243.98 178.884 2246.02 178.884 Q2251.39 178.884 2254.58 181.569 Q2257.78 184.254 2257.78 188.745 Q2257.78 190.874 2256.97 192.796 Q2256.18 194.694 2254.07 197.286 Q2253.49 197.958 2250.39 201.175 Q2247.29 204.37 2241.64 210.133 Z\" fill=\"#000000\" fill-rule=\"nonzero\" fill-opacity=\"1\" /></svg>\n"
      ],
      "text/html": [
       "<?xml version=\"1.0\" encoding=\"utf-8\"?>\n",
       "<svg xmlns=\"http://www.w3.org/2000/svg\" xmlns:xlink=\"http://www.w3.org/1999/xlink\" width=\"600\" height=\"400\" viewBox=\"0 0 2400 1600\">\n",
       "<defs>\n",
       "  <clipPath id=\"clip170\">\n",
       "    <rect x=\"0\" y=\"0\" width=\"2400\" height=\"1600\"/>\n",
       "  </clipPath>\n",
       "</defs>\n",
       "<path clip-path=\"url(#clip170)\" d=\"M0 1600 L2400 1600 L2400 0 L0 0  Z\" fill=\"#ffffff\" fill-rule=\"evenodd\" fill-opacity=\"1\"/>\n",
       "<defs>\n",
       "  <clipPath id=\"clip171\">\n",
       "    <rect x=\"480\" y=\"0\" width=\"1681\" height=\"1600\"/>\n",
       "  </clipPath>\n",
       "</defs>\n",
       "<path clip-path=\"url(#clip170)\" d=\"M219.866 1423.18 L2352.76 1423.18 L2352.76 47.2441 L219.866 47.2441  Z\" fill=\"#ffffff\" fill-rule=\"evenodd\" fill-opacity=\"1\"/>\n",
       "<defs>\n",
       "  <clipPath id=\"clip172\">\n",
       "    <rect x=\"219\" y=\"47\" width=\"2134\" height=\"1377\"/>\n",
       "  </clipPath>\n",
       "</defs>\n",
       "<polyline clip-path=\"url(#clip172)\" style=\"stroke:#000000; stroke-linecap:round; stroke-linejoin:round; stroke-width:2; stroke-opacity:0.1; fill:none\" points=\"280.231,1423.18 280.231,47.2441 \"/>\n",
       "<polyline clip-path=\"url(#clip172)\" style=\"stroke:#000000; stroke-linecap:round; stroke-linejoin:round; stroke-width:2; stroke-opacity:0.1; fill:none\" points=\"682.663,1423.18 682.663,47.2441 \"/>\n",
       "<polyline clip-path=\"url(#clip172)\" style=\"stroke:#000000; stroke-linecap:round; stroke-linejoin:round; stroke-width:2; stroke-opacity:0.1; fill:none\" points=\"1085.1,1423.18 1085.1,47.2441 \"/>\n",
       "<polyline clip-path=\"url(#clip172)\" style=\"stroke:#000000; stroke-linecap:round; stroke-linejoin:round; stroke-width:2; stroke-opacity:0.1; fill:none\" points=\"1487.53,1423.18 1487.53,47.2441 \"/>\n",
       "<polyline clip-path=\"url(#clip172)\" style=\"stroke:#000000; stroke-linecap:round; stroke-linejoin:round; stroke-width:2; stroke-opacity:0.1; fill:none\" points=\"1889.96,1423.18 1889.96,47.2441 \"/>\n",
       "<polyline clip-path=\"url(#clip172)\" style=\"stroke:#000000; stroke-linecap:round; stroke-linejoin:round; stroke-width:2; stroke-opacity:0.1; fill:none\" points=\"2292.39,1423.18 2292.39,47.2441 \"/>\n",
       "<polyline clip-path=\"url(#clip172)\" style=\"stroke:#000000; stroke-linecap:round; stroke-linejoin:round; stroke-width:2; stroke-opacity:0.1; fill:none\" points=\"219.866,1384.24 2352.76,1384.24 \"/>\n",
       "<polyline clip-path=\"url(#clip172)\" style=\"stroke:#000000; stroke-linecap:round; stroke-linejoin:round; stroke-width:2; stroke-opacity:0.1; fill:none\" points=\"219.866,1150.31 2352.76,1150.31 \"/>\n",
       "<polyline clip-path=\"url(#clip172)\" style=\"stroke:#000000; stroke-linecap:round; stroke-linejoin:round; stroke-width:2; stroke-opacity:0.1; fill:none\" points=\"219.866,916.378 2352.76,916.378 \"/>\n",
       "<polyline clip-path=\"url(#clip172)\" style=\"stroke:#000000; stroke-linecap:round; stroke-linejoin:round; stroke-width:2; stroke-opacity:0.1; fill:none\" points=\"219.866,682.448 2352.76,682.448 \"/>\n",
       "<polyline clip-path=\"url(#clip172)\" style=\"stroke:#000000; stroke-linecap:round; stroke-linejoin:round; stroke-width:2; stroke-opacity:0.1; fill:none\" points=\"219.866,448.518 2352.76,448.518 \"/>\n",
       "<polyline clip-path=\"url(#clip172)\" style=\"stroke:#000000; stroke-linecap:round; stroke-linejoin:round; stroke-width:2; stroke-opacity:0.1; fill:none\" points=\"219.866,214.588 2352.76,214.588 \"/>\n",
       "<polyline clip-path=\"url(#clip170)\" style=\"stroke:#000000; stroke-linecap:round; stroke-linejoin:round; stroke-width:4; stroke-opacity:1; fill:none\" points=\"219.866,1423.18 2352.76,1423.18 \"/>\n",
       "<polyline clip-path=\"url(#clip170)\" style=\"stroke:#000000; stroke-linecap:round; stroke-linejoin:round; stroke-width:4; stroke-opacity:1; fill:none\" points=\"280.231,1423.18 280.231,1404.28 \"/>\n",
       "<polyline clip-path=\"url(#clip170)\" style=\"stroke:#000000; stroke-linecap:round; stroke-linejoin:round; stroke-width:4; stroke-opacity:1; fill:none\" points=\"682.663,1423.18 682.663,1404.28 \"/>\n",
       "<polyline clip-path=\"url(#clip170)\" style=\"stroke:#000000; stroke-linecap:round; stroke-linejoin:round; stroke-width:4; stroke-opacity:1; fill:none\" points=\"1085.1,1423.18 1085.1,1404.28 \"/>\n",
       "<polyline clip-path=\"url(#clip170)\" style=\"stroke:#000000; stroke-linecap:round; stroke-linejoin:round; stroke-width:4; stroke-opacity:1; fill:none\" points=\"1487.53,1423.18 1487.53,1404.28 \"/>\n",
       "<polyline clip-path=\"url(#clip170)\" style=\"stroke:#000000; stroke-linecap:round; stroke-linejoin:round; stroke-width:4; stroke-opacity:1; fill:none\" points=\"1889.96,1423.18 1889.96,1404.28 \"/>\n",
       "<polyline clip-path=\"url(#clip170)\" style=\"stroke:#000000; stroke-linecap:round; stroke-linejoin:round; stroke-width:4; stroke-opacity:1; fill:none\" points=\"2292.39,1423.18 2292.39,1404.28 \"/>\n",
       "<path clip-path=\"url(#clip170)\" d=\"M280.231 1454.1 Q276.62 1454.1 274.791 1457.66 Q272.986 1461.2 272.986 1468.33 Q272.986 1475.44 274.791 1479.01 Q276.62 1482.55 280.231 1482.55 Q283.865 1482.55 285.671 1479.01 Q287.5 1475.44 287.5 1468.33 Q287.5 1461.2 285.671 1457.66 Q283.865 1454.1 280.231 1454.1 M280.231 1450.39 Q286.041 1450.39 289.097 1455 Q292.175 1459.58 292.175 1468.33 Q292.175 1477.06 289.097 1481.67 Q286.041 1486.25 280.231 1486.25 Q274.421 1486.25 271.342 1481.67 Q268.287 1477.06 268.287 1468.33 Q268.287 1459.58 271.342 1455 Q274.421 1450.39 280.231 1450.39 Z\" fill=\"#000000\" fill-rule=\"nonzero\" fill-opacity=\"1\" /><path clip-path=\"url(#clip170)\" d=\"M673.045 1481.64 L680.684 1481.64 L680.684 1455.28 L672.374 1456.95 L672.374 1452.69 L680.638 1451.02 L685.314 1451.02 L685.314 1481.64 L692.952 1481.64 L692.952 1485.58 L673.045 1485.58 L673.045 1481.64 Z\" fill=\"#000000\" fill-rule=\"nonzero\" fill-opacity=\"1\" /><path clip-path=\"url(#clip170)\" d=\"M1079.75 1481.64 L1096.07 1481.64 L1096.07 1485.58 L1074.12 1485.58 L1074.12 1481.64 Q1076.78 1478.89 1081.37 1474.26 Q1085.97 1469.61 1087.16 1468.27 Q1089.4 1465.74 1090.28 1464.01 Q1091.18 1462.25 1091.18 1460.56 Q1091.18 1457.8 1089.24 1456.07 Q1087.32 1454.33 1084.22 1454.33 Q1082.02 1454.33 1079.56 1455.09 Q1077.13 1455.86 1074.35 1457.41 L1074.35 1452.69 Q1077.18 1451.55 1079.63 1450.97 Q1082.09 1450.39 1084.12 1450.39 Q1089.49 1450.39 1092.69 1453.08 Q1095.88 1455.77 1095.88 1460.26 Q1095.88 1462.39 1095.07 1464.31 Q1094.28 1466.2 1092.18 1468.8 Q1091.6 1469.47 1088.5 1472.69 Q1085.4 1475.88 1079.75 1481.64 Z\" fill=\"#000000\" fill-rule=\"nonzero\" fill-opacity=\"1\" /><path clip-path=\"url(#clip170)\" d=\"M1491.77 1466.95 Q1495.13 1467.66 1497.01 1469.93 Q1498.9 1472.2 1498.9 1475.53 Q1498.9 1480.65 1495.39 1483.45 Q1491.87 1486.25 1485.39 1486.25 Q1483.21 1486.25 1480.9 1485.81 Q1478.6 1485.39 1476.15 1484.54 L1476.15 1480.02 Q1478.09 1481.16 1480.41 1481.74 Q1482.72 1482.32 1485.25 1482.32 Q1489.65 1482.32 1491.94 1480.58 Q1494.25 1478.84 1494.25 1475.53 Q1494.25 1472.48 1492.1 1470.77 Q1489.97 1469.03 1486.15 1469.03 L1482.12 1469.03 L1482.12 1465.19 L1486.33 1465.19 Q1489.78 1465.19 1491.61 1463.82 Q1493.44 1462.43 1493.44 1459.84 Q1493.44 1457.18 1491.54 1455.77 Q1489.67 1454.33 1486.15 1454.33 Q1484.23 1454.33 1482.03 1454.75 Q1479.83 1455.16 1477.19 1456.04 L1477.19 1451.88 Q1479.85 1451.14 1482.17 1450.77 Q1484.51 1450.39 1486.57 1450.39 Q1491.89 1450.39 1494.99 1452.83 Q1498.09 1455.23 1498.09 1459.35 Q1498.09 1462.22 1496.45 1464.21 Q1494.81 1466.18 1491.77 1466.95 Z\" fill=\"#000000\" fill-rule=\"nonzero\" fill-opacity=\"1\" /><path clip-path=\"url(#clip170)\" d=\"M1892.97 1455.09 L1881.16 1473.54 L1892.97 1473.54 L1892.97 1455.09 M1891.74 1451.02 L1897.62 1451.02 L1897.62 1473.54 L1902.55 1473.54 L1902.55 1477.43 L1897.62 1477.43 L1897.62 1485.58 L1892.97 1485.58 L1892.97 1477.43 L1877.37 1477.43 L1877.37 1472.92 L1891.74 1451.02 Z\" fill=\"#000000\" fill-rule=\"nonzero\" fill-opacity=\"1\" /><path clip-path=\"url(#clip170)\" d=\"M2282.67 1451.02 L2301.03 1451.02 L2301.03 1454.96 L2286.95 1454.96 L2286.95 1463.43 Q2287.97 1463.08 2288.99 1462.92 Q2290.01 1462.73 2291.03 1462.73 Q2296.81 1462.73 2300.19 1465.9 Q2303.57 1469.08 2303.57 1474.49 Q2303.57 1480.07 2300.1 1483.17 Q2296.63 1486.25 2290.31 1486.25 Q2288.13 1486.25 2285.86 1485.88 Q2283.62 1485.51 2281.21 1484.77 L2281.21 1480.07 Q2283.29 1481.2 2285.52 1481.76 Q2287.74 1482.32 2290.22 1482.32 Q2294.22 1482.32 2296.56 1480.21 Q2298.9 1478.1 2298.9 1474.49 Q2298.9 1470.88 2296.56 1468.77 Q2294.22 1466.67 2290.22 1466.67 Q2288.34 1466.67 2286.47 1467.08 Q2284.61 1467.5 2282.67 1468.38 L2282.67 1451.02 Z\" fill=\"#000000\" fill-rule=\"nonzero\" fill-opacity=\"1\" /><path clip-path=\"url(#clip170)\" d=\"M1144.61 1522.08 L1144.61 1528.35 Q1140.95 1526.6 1137.7 1525.74 Q1134.46 1524.88 1131.43 1524.88 Q1126.18 1524.88 1123.32 1526.92 Q1120.48 1528.96 1120.48 1532.71 Q1120.48 1535.87 1122.36 1537.49 Q1124.27 1539.08 1129.56 1540.07 L1133.44 1540.86 Q1140.63 1542.23 1144.04 1545.7 Q1147.48 1549.14 1147.48 1554.93 Q1147.48 1561.84 1142.83 1565.4 Q1138.21 1568.97 1129.27 1568.97 Q1125.9 1568.97 1122.08 1568.2 Q1118.29 1567.44 1114.21 1565.94 L1114.21 1559.32 Q1118.13 1561.52 1121.88 1562.63 Q1125.64 1563.75 1129.27 1563.75 Q1134.78 1563.75 1137.77 1561.58 Q1140.76 1559.42 1140.76 1555.41 Q1140.76 1551.91 1138.59 1549.93 Q1136.46 1547.96 1131.56 1546.97 L1127.65 1546.21 Q1120.45 1544.78 1117.24 1541.72 Q1114.02 1538.67 1114.02 1533.22 Q1114.02 1526.92 1118.45 1523.29 Q1122.9 1519.66 1130.7 1519.66 Q1134.04 1519.66 1137.51 1520.27 Q1140.98 1520.87 1144.61 1522.08 Z\" fill=\"#000000\" fill-rule=\"nonzero\" fill-opacity=\"1\" /><path clip-path=\"url(#clip170)\" d=\"M1187.74 1548.76 L1187.74 1551.62 L1160.81 1551.62 Q1161.19 1557.67 1164.44 1560.85 Q1167.72 1564 1173.54 1564 Q1176.92 1564 1180.07 1563.17 Q1183.25 1562.35 1186.37 1560.69 L1186.37 1566.23 Q1183.22 1567.57 1179.91 1568.27 Q1176.6 1568.97 1173.19 1568.97 Q1164.66 1568.97 1159.67 1564 Q1154.7 1559.04 1154.7 1550.57 Q1154.7 1541.82 1159.41 1536.69 Q1164.15 1531.54 1172.17 1531.54 Q1179.37 1531.54 1183.54 1536.18 Q1187.74 1540.8 1187.74 1548.76 M1181.88 1547.04 Q1181.82 1542.23 1179.18 1539.37 Q1176.57 1536.5 1172.24 1536.5 Q1167.34 1536.5 1164.38 1539.27 Q1161.45 1542.04 1161 1547.07 L1181.88 1547.04 Z\" fill=\"#000000\" fill-rule=\"nonzero\" fill-opacity=\"1\" /><path clip-path=\"url(#clip170)\" d=\"M1203.02 1562.7 L1203.02 1581.6 L1197.13 1581.6 L1197.13 1532.4 L1203.02 1532.4 L1203.02 1537.81 Q1204.86 1534.62 1207.66 1533.1 Q1210.5 1531.54 1214.41 1531.54 Q1220.9 1531.54 1224.95 1536.69 Q1229.02 1541.85 1229.02 1550.25 Q1229.02 1558.65 1224.95 1563.81 Q1220.9 1568.97 1214.41 1568.97 Q1210.5 1568.97 1207.66 1567.44 Q1204.86 1565.88 1203.02 1562.7 M1222.94 1550.25 Q1222.94 1543.79 1220.27 1540.13 Q1217.63 1536.44 1212.98 1536.44 Q1208.33 1536.44 1205.66 1540.13 Q1203.02 1543.79 1203.02 1550.25 Q1203.02 1556.71 1205.66 1560.4 Q1208.33 1564.07 1212.98 1564.07 Q1217.63 1564.07 1220.27 1560.4 Q1222.94 1556.71 1222.94 1550.25 Z\" fill=\"#000000\" fill-rule=\"nonzero\" fill-opacity=\"1\" /><path clip-path=\"url(#clip170)\" d=\"M1254.93 1550.12 Q1247.83 1550.12 1245.09 1551.75 Q1242.36 1553.37 1242.36 1557.29 Q1242.36 1560.4 1244.39 1562.25 Q1246.46 1564.07 1249.99 1564.07 Q1254.86 1564.07 1257.79 1560.63 Q1260.75 1557.16 1260.75 1551.43 L1260.75 1550.12 L1254.93 1550.12 M1266.61 1547.71 L1266.61 1568.04 L1260.75 1568.04 L1260.75 1562.63 Q1258.75 1565.88 1255.76 1567.44 Q1252.76 1568.97 1248.44 1568.97 Q1242.96 1568.97 1239.71 1565.91 Q1236.5 1562.82 1236.5 1557.67 Q1236.5 1551.65 1240.51 1548.6 Q1244.55 1545.54 1252.54 1545.54 L1260.75 1545.54 L1260.75 1544.97 Q1260.75 1540.93 1258.08 1538.73 Q1255.44 1536.5 1250.63 1536.5 Q1247.58 1536.5 1244.68 1537.23 Q1241.78 1537.97 1239.11 1539.43 L1239.11 1534.02 Q1242.32 1532.78 1245.35 1532.17 Q1248.37 1531.54 1251.24 1531.54 Q1258.97 1531.54 1262.79 1535.55 Q1266.61 1539.56 1266.61 1547.71 Z\" fill=\"#000000\" fill-rule=\"nonzero\" fill-opacity=\"1\" /><path clip-path=\"url(#clip170)\" d=\"M1299.33 1537.87 Q1298.34 1537.3 1297.16 1537.04 Q1296.02 1536.76 1294.62 1536.76 Q1289.65 1536.76 1286.98 1540 Q1284.34 1543.22 1284.34 1549.27 L1284.34 1568.04 L1278.45 1568.04 L1278.45 1532.4 L1284.34 1532.4 L1284.34 1537.93 Q1286.18 1534.69 1289.14 1533.13 Q1292.1 1531.54 1296.34 1531.54 Q1296.94 1531.54 1297.67 1531.63 Q1298.41 1531.7 1299.3 1531.85 L1299.33 1537.87 Z\" fill=\"#000000\" fill-rule=\"nonzero\" fill-opacity=\"1\" /><path clip-path=\"url(#clip170)\" d=\"M1321.67 1550.12 Q1314.57 1550.12 1311.84 1551.75 Q1309.1 1553.37 1309.1 1557.29 Q1309.1 1560.4 1311.14 1562.25 Q1313.21 1564.07 1316.74 1564.07 Q1321.61 1564.07 1324.54 1560.63 Q1327.5 1557.16 1327.5 1551.43 L1327.5 1550.12 L1321.67 1550.12 M1333.35 1547.71 L1333.35 1568.04 L1327.5 1568.04 L1327.5 1562.63 Q1325.49 1565.88 1322.5 1567.44 Q1319.51 1568.97 1315.18 1568.97 Q1309.71 1568.97 1306.46 1565.91 Q1303.24 1562.82 1303.24 1557.67 Q1303.24 1551.65 1307.25 1548.6 Q1311.3 1545.54 1319.29 1545.54 L1327.5 1545.54 L1327.5 1544.97 Q1327.5 1540.93 1324.82 1538.73 Q1322.18 1536.5 1317.38 1536.5 Q1314.32 1536.5 1311.42 1537.23 Q1308.53 1537.97 1305.85 1539.43 L1305.85 1534.02 Q1309.07 1532.78 1312.09 1532.17 Q1315.12 1531.54 1317.98 1531.54 Q1325.71 1531.54 1329.53 1535.55 Q1333.35 1539.56 1333.35 1547.71 Z\" fill=\"#000000\" fill-rule=\"nonzero\" fill-opacity=\"1\" /><path clip-path=\"url(#clip170)\" d=\"M1351.21 1522.27 L1351.21 1532.4 L1363.27 1532.4 L1363.27 1536.95 L1351.21 1536.95 L1351.21 1556.3 Q1351.21 1560.66 1352.39 1561.9 Q1353.6 1563.14 1357.26 1563.14 L1363.27 1563.14 L1363.27 1568.04 L1357.26 1568.04 Q1350.48 1568.04 1347.9 1565.53 Q1345.32 1562.98 1345.32 1556.3 L1345.32 1536.95 L1341.02 1536.95 L1341.02 1532.4 L1345.32 1532.4 L1345.32 1522.27 L1351.21 1522.27 Z\" fill=\"#000000\" fill-rule=\"nonzero\" fill-opacity=\"1\" /><path clip-path=\"url(#clip170)\" d=\"M1370.97 1532.4 L1376.83 1532.4 L1376.83 1568.04 L1370.97 1568.04 L1370.97 1532.4 M1370.97 1518.52 L1376.83 1518.52 L1376.83 1525.93 L1370.97 1525.93 L1370.97 1518.52 Z\" fill=\"#000000\" fill-rule=\"nonzero\" fill-opacity=\"1\" /><path clip-path=\"url(#clip170)\" d=\"M1402.9 1536.5 Q1398.19 1536.5 1395.45 1540.19 Q1392.71 1543.85 1392.71 1550.25 Q1392.71 1556.65 1395.42 1560.34 Q1398.16 1564 1402.9 1564 Q1407.58 1564 1410.32 1560.31 Q1413.05 1556.62 1413.05 1550.25 Q1413.05 1543.92 1410.32 1540.23 Q1407.58 1536.5 1402.9 1536.5 M1402.9 1531.54 Q1410.54 1531.54 1414.9 1536.5 Q1419.26 1541.47 1419.26 1550.25 Q1419.26 1559 1414.9 1564 Q1410.54 1568.97 1402.9 1568.97 Q1395.23 1568.97 1390.87 1564 Q1386.54 1559 1386.54 1550.25 Q1386.54 1541.47 1390.87 1536.5 Q1395.23 1531.54 1402.9 1531.54 Z\" fill=\"#000000\" fill-rule=\"nonzero\" fill-opacity=\"1\" /><path clip-path=\"url(#clip170)\" d=\"M1458.6 1546.53 L1458.6 1568.04 L1452.74 1568.04 L1452.74 1546.72 Q1452.74 1541.66 1450.77 1539.14 Q1448.8 1536.63 1444.85 1536.63 Q1440.11 1536.63 1437.37 1539.65 Q1434.63 1542.68 1434.63 1547.9 L1434.63 1568.04 L1428.74 1568.04 L1428.74 1532.4 L1434.63 1532.4 L1434.63 1537.93 Q1436.73 1534.72 1439.57 1533.13 Q1442.43 1531.54 1446.15 1531.54 Q1452.3 1531.54 1455.45 1535.36 Q1458.6 1539.14 1458.6 1546.53 Z\" fill=\"#000000\" fill-rule=\"nonzero\" fill-opacity=\"1\" /><polyline clip-path=\"url(#clip170)\" style=\"stroke:#000000; stroke-linecap:round; stroke-linejoin:round; stroke-width:4; stroke-opacity:1; fill:none\" points=\"219.866,1423.18 219.866,47.2441 \"/>\n",
       "<polyline clip-path=\"url(#clip170)\" style=\"stroke:#000000; stroke-linecap:round; stroke-linejoin:round; stroke-width:4; stroke-opacity:1; fill:none\" points=\"219.866,1384.24 238.764,1384.24 \"/>\n",
       "<polyline clip-path=\"url(#clip170)\" style=\"stroke:#000000; stroke-linecap:round; stroke-linejoin:round; stroke-width:4; stroke-opacity:1; fill:none\" points=\"219.866,1150.31 238.764,1150.31 \"/>\n",
       "<polyline clip-path=\"url(#clip170)\" style=\"stroke:#000000; stroke-linecap:round; stroke-linejoin:round; stroke-width:4; stroke-opacity:1; fill:none\" points=\"219.866,916.378 238.764,916.378 \"/>\n",
       "<polyline clip-path=\"url(#clip170)\" style=\"stroke:#000000; stroke-linecap:round; stroke-linejoin:round; stroke-width:4; stroke-opacity:1; fill:none\" points=\"219.866,682.448 238.764,682.448 \"/>\n",
       "<polyline clip-path=\"url(#clip170)\" style=\"stroke:#000000; stroke-linecap:round; stroke-linejoin:round; stroke-width:4; stroke-opacity:1; fill:none\" points=\"219.866,448.518 238.764,448.518 \"/>\n",
       "<polyline clip-path=\"url(#clip170)\" style=\"stroke:#000000; stroke-linecap:round; stroke-linejoin:round; stroke-width:4; stroke-opacity:1; fill:none\" points=\"219.866,214.588 238.764,214.588 \"/>\n",
       "<path clip-path=\"url(#clip170)\" d=\"M126.691 1370.04 Q123.08 1370.04 121.251 1373.6 Q119.445 1377.14 119.445 1384.27 Q119.445 1391.38 121.251 1394.94 Q123.08 1398.49 126.691 1398.49 Q130.325 1398.49 132.13 1394.94 Q133.959 1391.38 133.959 1384.27 Q133.959 1377.14 132.13 1373.6 Q130.325 1370.04 126.691 1370.04 M126.691 1366.33 Q132.501 1366.33 135.556 1370.94 Q138.635 1375.52 138.635 1384.27 Q138.635 1393 135.556 1397.61 Q132.501 1402.19 126.691 1402.19 Q120.88 1402.19 117.802 1397.61 Q114.746 1393 114.746 1384.27 Q114.746 1375.52 117.802 1370.94 Q120.88 1366.33 126.691 1366.33 Z\" fill=\"#000000\" fill-rule=\"nonzero\" fill-opacity=\"1\" /><path clip-path=\"url(#clip170)\" d=\"M146.853 1395.64 L151.737 1395.64 L151.737 1401.52 L146.853 1401.52 L146.853 1395.64 Z\" fill=\"#000000\" fill-rule=\"nonzero\" fill-opacity=\"1\" /><path clip-path=\"url(#clip170)\" d=\"M171.922 1370.04 Q168.311 1370.04 166.482 1373.6 Q164.677 1377.14 164.677 1384.27 Q164.677 1391.38 166.482 1394.94 Q168.311 1398.49 171.922 1398.49 Q175.556 1398.49 177.362 1394.94 Q179.19 1391.38 179.19 1384.27 Q179.19 1377.14 177.362 1373.6 Q175.556 1370.04 171.922 1370.04 M171.922 1366.33 Q177.732 1366.33 180.788 1370.94 Q183.866 1375.52 183.866 1384.27 Q183.866 1393 180.788 1397.61 Q177.732 1402.19 171.922 1402.19 Q166.112 1402.19 163.033 1397.61 Q159.978 1393 159.978 1384.27 Q159.978 1375.52 163.033 1370.94 Q166.112 1366.33 171.922 1366.33 Z\" fill=\"#000000\" fill-rule=\"nonzero\" fill-opacity=\"1\" /><path clip-path=\"url(#clip170)\" d=\"M127.917 1136.11 Q124.306 1136.11 122.478 1139.67 Q120.672 1143.21 120.672 1150.34 Q120.672 1157.45 122.478 1161.01 Q124.306 1164.56 127.917 1164.56 Q131.552 1164.56 133.357 1161.01 Q135.186 1157.45 135.186 1150.34 Q135.186 1143.21 133.357 1139.67 Q131.552 1136.11 127.917 1136.11 M127.917 1132.4 Q133.728 1132.4 136.783 1137.01 Q139.862 1141.59 139.862 1150.34 Q139.862 1159.07 136.783 1163.68 Q133.728 1168.26 127.917 1168.26 Q122.107 1168.26 119.029 1163.68 Q115.973 1159.07 115.973 1150.34 Q115.973 1141.59 119.029 1137.01 Q122.107 1132.4 127.917 1132.4 Z\" fill=\"#000000\" fill-rule=\"nonzero\" fill-opacity=\"1\" /><path clip-path=\"url(#clip170)\" d=\"M148.079 1161.71 L152.964 1161.71 L152.964 1167.59 L148.079 1167.59 L148.079 1161.71 Z\" fill=\"#000000\" fill-rule=\"nonzero\" fill-opacity=\"1\" /><path clip-path=\"url(#clip170)\" d=\"M163.959 1163.65 L171.598 1163.65 L171.598 1137.29 L163.288 1138.95 L163.288 1134.69 L171.552 1133.03 L176.227 1133.03 L176.227 1163.65 L183.866 1163.65 L183.866 1167.59 L163.959 1167.59 L163.959 1163.65 Z\" fill=\"#000000\" fill-rule=\"nonzero\" fill-opacity=\"1\" /><path clip-path=\"url(#clip170)\" d=\"M128.288 902.177 Q124.677 902.177 122.848 905.742 Q121.043 909.283 121.043 916.413 Q121.043 923.519 122.848 927.084 Q124.677 930.626 128.288 930.626 Q131.922 930.626 133.728 927.084 Q135.556 923.519 135.556 916.413 Q135.556 909.283 133.728 905.742 Q131.922 902.177 128.288 902.177 M128.288 898.473 Q134.098 898.473 137.154 903.08 Q140.232 907.663 140.232 916.413 Q140.232 925.14 137.154 929.746 Q134.098 934.329 128.288 934.329 Q122.478 934.329 119.399 929.746 Q116.343 925.14 116.343 916.413 Q116.343 907.663 119.399 903.08 Q122.478 898.473 128.288 898.473 Z\" fill=\"#000000\" fill-rule=\"nonzero\" fill-opacity=\"1\" /><path clip-path=\"url(#clip170)\" d=\"M148.45 927.779 L153.334 927.779 L153.334 933.658 L148.45 933.658 L148.45 927.779 Z\" fill=\"#000000\" fill-rule=\"nonzero\" fill-opacity=\"1\" /><path clip-path=\"url(#clip170)\" d=\"M167.547 929.723 L183.866 929.723 L183.866 933.658 L161.922 933.658 L161.922 929.723 Q164.584 926.968 169.167 922.339 Q173.774 917.686 174.954 916.343 Q177.2 913.82 178.079 912.084 Q178.982 910.325 178.982 908.635 Q178.982 905.881 177.038 904.144 Q175.116 902.408 172.014 902.408 Q169.815 902.408 167.362 903.172 Q164.931 903.936 162.153 905.487 L162.153 900.765 Q164.977 899.631 167.431 899.052 Q169.885 898.473 171.922 898.473 Q177.292 898.473 180.487 901.158 Q183.681 903.844 183.681 908.334 Q183.681 910.464 182.871 912.385 Q182.084 914.283 179.977 916.876 Q179.399 917.547 176.297 920.765 Q173.195 923.959 167.547 929.723 Z\" fill=\"#000000\" fill-rule=\"nonzero\" fill-opacity=\"1\" /><path clip-path=\"url(#clip170)\" d=\"M127.339 668.247 Q123.728 668.247 121.899 671.812 Q120.093 675.353 120.093 682.483 Q120.093 689.589 121.899 693.154 Q123.728 696.696 127.339 696.696 Q130.973 696.696 132.779 693.154 Q134.607 689.589 134.607 682.483 Q134.607 675.353 132.779 671.812 Q130.973 668.247 127.339 668.247 M127.339 664.543 Q133.149 664.543 136.204 669.15 Q139.283 673.733 139.283 682.483 Q139.283 691.21 136.204 695.816 Q133.149 700.399 127.339 700.399 Q121.529 700.399 118.45 695.816 Q115.394 691.21 115.394 682.483 Q115.394 673.733 118.45 669.15 Q121.529 664.543 127.339 664.543 Z\" fill=\"#000000\" fill-rule=\"nonzero\" fill-opacity=\"1\" /><path clip-path=\"url(#clip170)\" d=\"M147.501 693.849 L152.385 693.849 L152.385 699.728 L147.501 699.728 L147.501 693.849 Z\" fill=\"#000000\" fill-rule=\"nonzero\" fill-opacity=\"1\" /><path clip-path=\"url(#clip170)\" d=\"M176.737 681.094 Q180.093 681.812 181.968 684.08 Q183.866 686.349 183.866 689.682 Q183.866 694.798 180.348 697.598 Q176.829 700.399 170.348 700.399 Q168.172 700.399 165.857 699.96 Q163.565 699.543 161.112 698.686 L161.112 694.173 Q163.056 695.307 165.371 695.886 Q167.686 696.464 170.209 696.464 Q174.607 696.464 176.899 694.728 Q179.214 692.992 179.214 689.682 Q179.214 686.626 177.061 684.913 Q174.931 683.177 171.112 683.177 L167.084 683.177 L167.084 679.335 L171.297 679.335 Q174.746 679.335 176.575 677.969 Q178.403 676.58 178.403 673.987 Q178.403 671.325 176.505 669.913 Q174.63 668.478 171.112 668.478 Q169.19 668.478 166.991 668.895 Q164.792 669.312 162.153 670.191 L162.153 666.025 Q164.815 665.284 167.13 664.913 Q169.468 664.543 171.528 664.543 Q176.852 664.543 179.954 666.974 Q183.056 669.381 183.056 673.501 Q183.056 676.372 181.413 678.362 Q179.769 680.33 176.737 681.094 Z\" fill=\"#000000\" fill-rule=\"nonzero\" fill-opacity=\"1\" /><path clip-path=\"url(#clip170)\" d=\"M126.205 434.317 Q122.593 434.317 120.765 437.882 Q118.959 441.423 118.959 448.553 Q118.959 455.659 120.765 459.224 Q122.593 462.766 126.205 462.766 Q129.839 462.766 131.644 459.224 Q133.473 455.659 133.473 448.553 Q133.473 441.423 131.644 437.882 Q129.839 434.317 126.205 434.317 M126.205 430.613 Q132.015 430.613 135.07 435.22 Q138.149 439.803 138.149 448.553 Q138.149 457.28 135.07 461.886 Q132.015 466.469 126.205 466.469 Q120.394 466.469 117.316 461.886 Q114.26 457.28 114.26 448.553 Q114.26 439.803 117.316 435.22 Q120.394 430.613 126.205 430.613 Z\" fill=\"#000000\" fill-rule=\"nonzero\" fill-opacity=\"1\" /><path clip-path=\"url(#clip170)\" d=\"M146.366 459.918 L151.251 459.918 L151.251 465.798 L146.366 465.798 L146.366 459.918 Z\" fill=\"#000000\" fill-rule=\"nonzero\" fill-opacity=\"1\" /><path clip-path=\"url(#clip170)\" d=\"M174.283 435.312 L162.477 453.761 L174.283 453.761 L174.283 435.312 M173.056 431.238 L178.936 431.238 L178.936 453.761 L183.866 453.761 L183.866 457.65 L178.936 457.65 L178.936 465.798 L174.283 465.798 L174.283 457.65 L158.681 457.65 L158.681 453.136 L173.056 431.238 Z\" fill=\"#000000\" fill-rule=\"nonzero\" fill-opacity=\"1\" /><path clip-path=\"url(#clip170)\" d=\"M127.686 200.387 Q124.075 200.387 122.246 203.951 Q120.441 207.493 120.441 214.623 Q120.441 221.729 122.246 225.294 Q124.075 228.836 127.686 228.836 Q131.32 228.836 133.126 225.294 Q134.954 221.729 134.954 214.623 Q134.954 207.493 133.126 203.951 Q131.32 200.387 127.686 200.387 M127.686 196.683 Q133.496 196.683 136.552 201.289 Q139.63 205.873 139.63 214.623 Q139.63 223.35 136.552 227.956 Q133.496 232.539 127.686 232.539 Q121.876 232.539 118.797 227.956 Q115.742 223.35 115.742 214.623 Q115.742 205.873 118.797 201.289 Q121.876 196.683 127.686 196.683 Z\" fill=\"#000000\" fill-rule=\"nonzero\" fill-opacity=\"1\" /><path clip-path=\"url(#clip170)\" d=\"M147.848 225.988 L152.732 225.988 L152.732 231.868 L147.848 231.868 L147.848 225.988 Z\" fill=\"#000000\" fill-rule=\"nonzero\" fill-opacity=\"1\" /><path clip-path=\"url(#clip170)\" d=\"M162.964 197.308 L181.32 197.308 L181.32 201.243 L167.246 201.243 L167.246 209.715 Q168.264 209.368 169.283 209.206 Q170.302 209.021 171.32 209.021 Q177.107 209.021 180.487 212.192 Q183.866 215.363 183.866 220.78 Q183.866 226.359 180.394 229.461 Q176.922 232.539 170.602 232.539 Q168.427 232.539 166.158 232.169 Q163.913 231.799 161.505 231.058 L161.505 226.359 Q163.589 227.493 165.811 228.049 Q168.033 228.604 170.51 228.604 Q174.514 228.604 176.852 226.498 Q179.19 224.391 179.19 220.78 Q179.19 217.169 176.852 215.063 Q174.514 212.956 170.51 212.956 Q168.635 212.956 166.76 213.373 Q164.908 213.789 162.964 214.669 L162.964 197.308 Z\" fill=\"#000000\" fill-rule=\"nonzero\" fill-opacity=\"1\" /><path clip-path=\"url(#clip170)\" d=\"M20.0391 721.606 Q21.1985 721.895 21.6172 722.507 L22.6478 724.891 Q22.6478 726.082 22.3902 726.211 Q21.7138 726.759 21.0053 726.855 Q20.49 726.855 20.1679 727.145 Q19.8137 727.403 19.8137 727.854 Q19.8137 728.788 20.2968 729.367 Q21.3918 730.752 23.9682 731.622 Q26.0938 732.362 34.2741 734.456 L61.7779 741.187 L63.7425 744.89 Q52.6315 747.757 43.807 750.784 Q34.9504 753.811 27.994 757.741 L38.3643 760.639 Q50.6347 764.504 52.1484 765.245 Q57.1725 767.531 60.3931 771.331 Q63.5492 775.1 63.5492 778.642 Q63.5492 780.929 62.1644 781.959 Q61.005 782.893 59.6523 782.539 Q58.3963 782.281 57.2369 780.832 Q56.5606 779.93 56.5606 779.19 Q56.5606 778.03 57.1725 777.579 Q57.2369 777.515 57.4623 777.418 Q57.6878 777.322 58.0098 777.193 Q58.2997 777.064 58.4607 777 Q59.3947 776.613 59.3947 775.357 Q59.3947 773.296 57.559 771.009 Q56.8504 770.14 55.8198 769.399 Q54.757 768.626 54.1129 768.304 Q53.4688 767.95 52.0195 767.241 Q48.1226 765.534 41.9713 763.924 L24.9022 759.641 Q22.9054 761.187 21.9393 762.604 Q20.8765 764.182 20.8765 765.47 Q20.8765 767.885 22.2613 769.464 Q22.9054 770.301 23.9682 771.074 Q25.031 771.815 25.7718 772.201 Q26.5125 772.587 27.8651 773.167 L28.1872 774.681 Q22.2935 773.199 19.4272 769.689 Q17.044 766.629 17.044 762.604 Q17.044 758.739 21.1985 755.744 Q22.519 754.713 24.3869 753.747 Q26.2226 752.749 27.3499 752.298 Q28.4449 751.815 30.8925 750.816 L55.1113 742.056 L54.3062 741.38 L31.6332 736.291 Q27.5753 735.325 23.5174 733.393 Q20.2324 731.911 18.8475 730.172 Q16.7219 727.564 16.7219 724.375 Q16.7219 722.894 17.7203 721.992 Q18.6221 721.284 20.0391 721.606 Z\" fill=\"#000000\" fill-rule=\"nonzero\" fill-opacity=\"1\" /><path clip-path=\"url(#clip170)\" d=\"M74.7098 714.838 L73.2895 714.838 L51.6247 700.658 Q51.061 700.297 51.0836 699.733 Q51.0836 699.215 51.2865 699.102 Q51.4894 698.989 52.2784 698.989 L73.2895 698.989 L73.2895 694.368 L74.7098 694.368 L74.7098 698.989 L78.7227 698.989 Q80.0528 698.989 80.4811 698.448 Q80.9094 697.885 80.9094 695.495 L80.9094 694.526 L82.3297 694.526 Q82.1945 696.419 82.1945 700.793 Q82.1945 705.144 82.3297 707.037 L80.9094 707.037 L80.9094 706.068 Q80.9094 703.678 80.5036 703.115 Q80.0753 702.551 78.7227 702.551 L74.7098 702.551 L74.7098 714.838 M73.2895 713.53 L73.2895 702.281 L56.0658 702.281 L73.2895 713.53 Z\" fill=\"#000000\" fill-rule=\"nonzero\" fill-opacity=\"1\" /><polyline clip-path=\"url(#clip172)\" style=\"stroke:#ff0000; stroke-linecap:round; stroke-linejoin:round; stroke-width:8; stroke-opacity:1; fill:none\" points=\"280.231,86.1857 682.663,727.825 1085.1,1086.64 1487.53,1281.82 1889.96,1384.24 2292.39,1384.24 \"/>\n",
       "<circle clip-path=\"url(#clip172)\" cx=\"280.231\" cy=\"86.1857\" r=\"14.4\" fill=\"#ff0000\" fill-rule=\"evenodd\" fill-opacity=\"1\" stroke=\"#000000\" stroke-opacity=\"1\" stroke-width=\"3.2\"/>\n",
       "<circle clip-path=\"url(#clip172)\" cx=\"682.663\" cy=\"727.825\" r=\"14.4\" fill=\"#ff0000\" fill-rule=\"evenodd\" fill-opacity=\"1\" stroke=\"#000000\" stroke-opacity=\"1\" stroke-width=\"3.2\"/>\n",
       "<circle clip-path=\"url(#clip172)\" cx=\"1085.1\" cy=\"1086.64\" r=\"14.4\" fill=\"#ff0000\" fill-rule=\"evenodd\" fill-opacity=\"1\" stroke=\"#000000\" stroke-opacity=\"1\" stroke-width=\"3.2\"/>\n",
       "<circle clip-path=\"url(#clip172)\" cx=\"1487.53\" cy=\"1281.82\" r=\"14.4\" fill=\"#ff0000\" fill-rule=\"evenodd\" fill-opacity=\"1\" stroke=\"#000000\" stroke-opacity=\"1\" stroke-width=\"3.2\"/>\n",
       "<circle clip-path=\"url(#clip172)\" cx=\"1889.96\" cy=\"1384.24\" r=\"14.4\" fill=\"#ff0000\" fill-rule=\"evenodd\" fill-opacity=\"1\" stroke=\"#000000\" stroke-opacity=\"1\" stroke-width=\"3.2\"/>\n",
       "<circle clip-path=\"url(#clip172)\" cx=\"2292.39\" cy=\"1384.24\" r=\"14.4\" fill=\"#ff0000\" fill-rule=\"evenodd\" fill-opacity=\"1\" stroke=\"#000000\" stroke-opacity=\"1\" stroke-width=\"3.2\"/>\n",
       "<polyline clip-path=\"url(#clip172)\" style=\"stroke:#0000ff; stroke-linecap:round; stroke-linejoin:round; stroke-width:8; stroke-opacity:1; fill:none\" stroke-dasharray=\"32, 20\" points=\"280.231,139.381 682.663,755.806 1085.1,1384.24 1487.53,1384.24 1889.96,1384.24 2292.39,1384.24 \"/>\n",
       "<circle clip-path=\"url(#clip172)\" cx=\"280.231\" cy=\"139.381\" r=\"14.4\" fill=\"#0000ff\" fill-rule=\"evenodd\" fill-opacity=\"1\" stroke=\"#000000\" stroke-opacity=\"1\" stroke-width=\"3.2\"/>\n",
       "<circle clip-path=\"url(#clip172)\" cx=\"682.663\" cy=\"755.806\" r=\"14.4\" fill=\"#0000ff\" fill-rule=\"evenodd\" fill-opacity=\"1\" stroke=\"#000000\" stroke-opacity=\"1\" stroke-width=\"3.2\"/>\n",
       "<circle clip-path=\"url(#clip172)\" cx=\"1085.1\" cy=\"1384.24\" r=\"14.4\" fill=\"#0000ff\" fill-rule=\"evenodd\" fill-opacity=\"1\" stroke=\"#000000\" stroke-opacity=\"1\" stroke-width=\"3.2\"/>\n",
       "<circle clip-path=\"url(#clip172)\" cx=\"1487.53\" cy=\"1384.24\" r=\"14.4\" fill=\"#0000ff\" fill-rule=\"evenodd\" fill-opacity=\"1\" stroke=\"#000000\" stroke-opacity=\"1\" stroke-width=\"3.2\"/>\n",
       "<circle clip-path=\"url(#clip172)\" cx=\"1889.96\" cy=\"1384.24\" r=\"14.4\" fill=\"#0000ff\" fill-rule=\"evenodd\" fill-opacity=\"1\" stroke=\"#000000\" stroke-opacity=\"1\" stroke-width=\"3.2\"/>\n",
       "<circle clip-path=\"url(#clip172)\" cx=\"2292.39\" cy=\"1384.24\" r=\"14.4\" fill=\"#0000ff\" fill-rule=\"evenodd\" fill-opacity=\"1\" stroke=\"#000000\" stroke-opacity=\"1\" stroke-width=\"3.2\"/>\n",
       "<path clip-path=\"url(#clip170)\" d=\"M1891.52 248.629 L2281.66 248.629 L2281.66 93.1086 L1891.52 93.1086  Z\" fill=\"#ffffff\" fill-rule=\"evenodd\" fill-opacity=\"1\"/>\n",
       "<polyline clip-path=\"url(#clip170)\" style=\"stroke:#000000; stroke-linecap:round; stroke-linejoin:round; stroke-width:4; stroke-opacity:1; fill:none\" points=\"1891.52,248.629 2281.66,248.629 2281.66,93.1086 1891.52,93.1086 1891.52,248.629 \"/>\n",
       "<polyline clip-path=\"url(#clip170)\" style=\"stroke:#ff0000; stroke-linecap:round; stroke-linejoin:round; stroke-width:8; stroke-opacity:1; fill:none\" points=\"1915.22,144.949 2057.41,144.949 \"/>\n",
       "<circle clip-path=\"url(#clip170)\" cx=\"1986.31\" cy=\"144.949\" r=\"19.749\" fill=\"#ff0000\" fill-rule=\"evenodd\" fill-opacity=\"1\" stroke=\"#000000\" stroke-opacity=\"1\" stroke-width=\"4.55111\"/>\n",
       "<path clip-path=\"url(#clip170)\" d=\"M2081.78 158.293 L2089.42 158.293 L2089.42 131.928 L2081.11 133.595 L2081.11 129.335 L2089.37 127.669 L2094.05 127.669 L2094.05 158.293 L2101.69 158.293 L2101.69 162.229 L2081.78 162.229 L2081.78 158.293 Z\" fill=\"#000000\" fill-rule=\"nonzero\" fill-opacity=\"1\" /><path clip-path=\"url(#clip170)\" d=\"M2118.1 127.669 L2122.04 127.669 L2110 166.627 L2106.06 166.627 L2118.1 127.669 Z\" fill=\"#000000\" fill-rule=\"nonzero\" fill-opacity=\"1\" /><path clip-path=\"url(#clip170)\" d=\"M2131.13 158.293 L2147.45 158.293 L2147.45 162.229 L2125.51 162.229 L2125.51 158.293 Q2128.17 155.539 2132.75 150.909 Q2137.36 146.256 2138.54 144.914 Q2140.79 142.391 2141.67 140.655 Q2142.57 138.895 2142.57 137.206 Q2142.57 134.451 2140.62 132.715 Q2138.7 130.979 2135.6 130.979 Q2133.4 130.979 2130.95 131.743 Q2128.52 132.507 2125.74 134.057 L2125.74 129.335 Q2128.56 128.201 2131.02 127.622 Q2133.47 127.044 2135.51 127.044 Q2140.88 127.044 2144.07 129.729 Q2147.27 132.414 2147.27 136.905 Q2147.27 139.034 2146.46 140.956 Q2145.67 142.854 2143.56 145.446 Q2142.98 146.118 2139.88 149.335 Q2136.78 152.53 2131.13 158.293 Z\" fill=\"#000000\" fill-rule=\"nonzero\" fill-opacity=\"1\" /><path clip-path=\"url(#clip170)\" d=\"M2154.51 147.344 L2166.99 147.344 L2166.99 151.141 L2154.51 151.141 L2154.51 147.344 Z\" fill=\"#000000\" fill-rule=\"nonzero\" fill-opacity=\"1\" /><path clip-path=\"url(#clip170)\" d=\"M2171.62 147.344 L2184.1 147.344 L2184.1 151.141 L2171.62 151.141 L2171.62 147.344 Z\" fill=\"#000000\" fill-rule=\"nonzero\" fill-opacity=\"1\" /><path clip-path=\"url(#clip170)\" d=\"M2192.29 158.293 L2199.93 158.293 L2199.93 131.928 L2191.62 133.595 L2191.62 129.335 L2199.88 127.669 L2204.56 127.669 L2204.56 158.293 L2212.2 158.293 L2212.2 162.229 L2192.29 162.229 L2192.29 158.293 Z\" fill=\"#000000\" fill-rule=\"nonzero\" fill-opacity=\"1\" /><polyline clip-path=\"url(#clip170)\" style=\"stroke:#0000ff; stroke-linecap:round; stroke-linejoin:round; stroke-width:8; stroke-opacity:1; fill:none\" stroke-dasharray=\"32, 20\" points=\"1915.22,196.789 2057.41,196.789 \"/>\n",
       "<circle clip-path=\"url(#clip170)\" cx=\"1986.31\" cy=\"196.789\" r=\"19.749\" fill=\"#0000ff\" fill-rule=\"evenodd\" fill-opacity=\"1\" stroke=\"#000000\" stroke-opacity=\"1\" stroke-width=\"4.55111\"/>\n",
       "<path clip-path=\"url(#clip170)\" d=\"M2081.78 210.133 L2089.42 210.133 L2089.42 183.768 L2081.11 185.435 L2081.11 181.175 L2089.37 179.509 L2094.05 179.509 L2094.05 210.133 L2101.69 210.133 L2101.69 214.069 L2081.78 214.069 L2081.78 210.133 Z\" fill=\"#000000\" fill-rule=\"nonzero\" fill-opacity=\"1\" /><path clip-path=\"url(#clip170)\" d=\"M2118.1 179.509 L2122.04 179.509 L2110 218.467 L2106.06 218.467 L2118.1 179.509 Z\" fill=\"#000000\" fill-rule=\"nonzero\" fill-opacity=\"1\" /><path clip-path=\"url(#clip170)\" d=\"M2131.13 210.133 L2147.45 210.133 L2147.45 214.069 L2125.51 214.069 L2125.51 210.133 Q2128.17 207.379 2132.75 202.749 Q2137.36 198.096 2138.54 196.754 Q2140.79 194.231 2141.67 192.495 Q2142.57 190.735 2142.57 189.046 Q2142.57 186.291 2140.62 184.555 Q2138.7 182.819 2135.6 182.819 Q2133.4 182.819 2130.95 183.583 Q2128.52 184.347 2125.74 185.897 L2125.74 181.175 Q2128.56 180.041 2131.02 179.462 Q2133.47 178.884 2135.51 178.884 Q2140.88 178.884 2144.07 181.569 Q2147.27 184.254 2147.27 188.745 Q2147.27 190.874 2146.46 192.796 Q2145.67 194.694 2143.56 197.286 Q2142.98 197.958 2139.88 201.175 Q2136.78 204.37 2131.13 210.133 Z\" fill=\"#000000\" fill-rule=\"nonzero\" fill-opacity=\"1\" /><path clip-path=\"url(#clip170)\" d=\"M2154.51 199.184 L2166.99 199.184 L2166.99 202.981 L2154.51 202.981 L2154.51 199.184 Z\" fill=\"#000000\" fill-rule=\"nonzero\" fill-opacity=\"1\" /><path clip-path=\"url(#clip170)\" d=\"M2171.62 199.184 L2184.1 199.184 L2184.1 202.981 L2171.62 202.981 L2171.62 199.184 Z\" fill=\"#000000\" fill-rule=\"nonzero\" fill-opacity=\"1\" /><path clip-path=\"url(#clip170)\" d=\"M2192.29 210.133 L2199.93 210.133 L2199.93 183.768 L2191.62 185.435 L2191.62 181.175 L2199.88 179.509 L2204.56 179.509 L2204.56 210.133 L2212.2 210.133 L2212.2 214.069 L2192.29 214.069 L2192.29 210.133 Z\" fill=\"#000000\" fill-rule=\"nonzero\" fill-opacity=\"1\" /><path clip-path=\"url(#clip170)\" d=\"M2228.61 179.509 L2232.54 179.509 L2220.51 218.467 L2216.57 218.467 L2228.61 179.509 Z\" fill=\"#000000\" fill-rule=\"nonzero\" fill-opacity=\"1\" /><path clip-path=\"url(#clip170)\" d=\"M2241.64 210.133 L2257.96 210.133 L2257.96 214.069 L2236.02 214.069 L2236.02 210.133 Q2238.68 207.379 2243.26 202.749 Q2247.87 198.096 2249.05 196.754 Q2251.29 194.231 2252.17 192.495 Q2253.08 190.735 2253.08 189.046 Q2253.08 186.291 2251.13 184.555 Q2249.21 182.819 2246.11 182.819 Q2243.91 182.819 2241.46 183.583 Q2239.03 184.347 2236.25 185.897 L2236.25 181.175 Q2239.07 180.041 2241.53 179.462 Q2243.98 178.884 2246.02 178.884 Q2251.39 178.884 2254.58 181.569 Q2257.78 184.254 2257.78 188.745 Q2257.78 190.874 2256.97 192.796 Q2256.18 194.694 2254.07 197.286 Q2253.49 197.958 2250.39 201.175 Q2247.29 204.37 2241.64 210.133 Z\" fill=\"#000000\" fill-rule=\"nonzero\" fill-opacity=\"1\" /></svg>\n"
      ]
     },
     "execution_count": 10,
     "metadata": {},
     "output_type": "execute_result"
    },
    {
     "name": "stderr",
     "output_type": "stream",
     "text": [
      "GKS: dlopen(/Users/Hank/.julia/artifacts/66ebf8a541da7166677a6e2ac6b8277592d32044/lib/cairoplugin.so, 1): Library not loaded: @rpath/libcairo.2.dylib\n",
      "  Referenced from: /Users/Hank/.julia/artifacts/66ebf8a541da7166677a6e2ac6b8277592d32044/lib/cairoplugin.so\n",
      "  Reason: Incompatible library version: cairoplugin.so requires version 11603.0.0 or later, but libcairo.2.dylib provides version 2.0.0\n"
     ]
    }
   ],
   "source": [
    "using Plots\n",
    "using LaTeXStrings\n",
    "\n",
    "seps=0:5\n",
    "enta= []\n",
    "enta1= []\n",
    "A = 1\n",
    "    println(\"Mixed spin chain 1/2-3/2\")\n",
    "for sep in seps\n",
    "    D =  A+2+sep\n",
    "    ent = calc_LogNeg_4site(psi0,[A,D])\n",
    "    push!(enta, ent)\n",
    "    println(f\"{sep} \\t {ent}\")\n",
    "end\n",
    "println(\"----------------------------\")\n",
    "println(\"----------------------------\")\n",
    "    println(\"Spin-half\")\n",
    "for sep in seps\n",
    "    D =  A+2+sep\n",
    "    ent1 = calc_LogNeg_4site(psi01,[A,D])\n",
    "    push!(enta1, ent1)\n",
    "    println(f\"{sep} \\t {ent1}\")\n",
    "end\n",
    "\n",
    "plot(seps, enta, xlabel= \"Separation\", ylabel=L\"\\mathcal{N}_4\", label=\"1/2--1\", marker=:circle, color=\"red\", lw=2)\n",
    "plot!(seps, enta1, xlabel= \"Separation\", ylabel=L\"\\mathcal{N}_4\",label=\"1/2--1/2\", linestyle=:dash, marker=:circle, color=\"blue\", lw=2)"
   ]
  },
  {
   "cell_type": "code",
   "execution_count": null,
   "id": "6732a2b7",
   "metadata": {},
   "outputs": [],
   "source": []
  },
  {
   "cell_type": "code",
   "execution_count": 11,
   "id": "6b502e3c",
   "metadata": {},
   "outputs": [],
   "source": [
    "#A = 1\n",
    "#D = 5\n",
    "#rho1 = get_4pdm(psi0,[A,D])\n",
    "#d0, u0 = eigen(rho1,ishermitian=true) \n",
    "#@show diag(array(d0))"
   ]
  },
  {
   "cell_type": "code",
   "execution_count": null,
   "id": "adbf18d1",
   "metadata": {},
   "outputs": [],
   "source": []
  },
  {
   "cell_type": "code",
   "execution_count": null,
   "id": "d0096863",
   "metadata": {},
   "outputs": [],
   "source": []
  },
  {
   "cell_type": "code",
   "execution_count": null,
   "id": "fe4dcfc3",
   "metadata": {},
   "outputs": [],
   "source": []
  },
  {
   "cell_type": "code",
   "execution_count": null,
   "id": "4f12a9b9",
   "metadata": {},
   "outputs": [],
   "source": []
  },
  {
   "cell_type": "code",
   "execution_count": null,
   "id": "158f1fc0",
   "metadata": {},
   "outputs": [],
   "source": []
  },
  {
   "cell_type": "code",
   "execution_count": null,
   "id": "f97286d8",
   "metadata": {},
   "outputs": [],
   "source": []
  },
  {
   "cell_type": "code",
   "execution_count": null,
   "id": "0eed85ed",
   "metadata": {},
   "outputs": [],
   "source": []
  },
  {
   "cell_type": "code",
   "execution_count": null,
   "id": "9fd3c869",
   "metadata": {},
   "outputs": [],
   "source": []
  },
  {
   "cell_type": "code",
   "execution_count": null,
   "id": "1200c65b",
   "metadata": {},
   "outputs": [],
   "source": []
  }
 ],
 "metadata": {
  "kernelspec": {
   "display_name": "Julia 1.10.3",
   "language": "julia",
   "name": "julia-1.10"
  },
  "language_info": {
   "file_extension": ".jl",
   "mimetype": "application/julia",
   "name": "julia",
   "version": "1.10.3"
  }
 },
 "nbformat": 4,
 "nbformat_minor": 5
}
