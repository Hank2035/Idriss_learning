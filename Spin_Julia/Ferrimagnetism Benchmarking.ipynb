{
 "cells": [
  {
   "cell_type": "code",
   "execution_count": 1,
   "id": "a68228e2",
   "metadata": {},
   "outputs": [
    {
     "name": "stderr",
     "output_type": "stream",
     "text": [
      "\u001b[32m\u001b[1m   Resolving\u001b[22m\u001b[39m package versions...\n",
      "\u001b[32m\u001b[1m  No Changes\u001b[22m\u001b[39m to `~/.julia/environments/v1.10/Project.toml`\n",
      "\u001b[32m\u001b[1m  No Changes\u001b[22m\u001b[39m to `~/.julia/environments/v1.10/Manifest.toml`\n",
      "\u001b[32m\u001b[1m   Resolving\u001b[22m\u001b[39m package versions...\n",
      "\u001b[32m\u001b[1m  No Changes\u001b[22m\u001b[39m to `~/.julia/environments/v1.10/Project.toml`\n",
      "\u001b[32m\u001b[1m  No Changes\u001b[22m\u001b[39m to `~/.julia/environments/v1.10/Manifest.toml`\n",
      "\u001b[32m\u001b[1m   Resolving\u001b[22m\u001b[39m package versions...\n",
      "\u001b[32m\u001b[1m  No Changes\u001b[22m\u001b[39m to `~/.julia/environments/v1.10/Project.toml`\n",
      "\u001b[32m\u001b[1m  No Changes\u001b[22m\u001b[39m to `~/.julia/environments/v1.10/Manifest.toml`\n",
      "\u001b[32m\u001b[1m   Resolving\u001b[22m\u001b[39m package versions...\n",
      "\u001b[32m\u001b[1m  No Changes\u001b[22m\u001b[39m to `~/.julia/environments/v1.10/Project.toml`\n",
      "\u001b[32m\u001b[1m  No Changes\u001b[22m\u001b[39m to `~/.julia/environments/v1.10/Manifest.toml`\n",
      "\u001b[32m\u001b[1m   Resolving\u001b[22m\u001b[39m package versions...\n",
      "\u001b[32m\u001b[1m  No Changes\u001b[22m\u001b[39m to `~/.julia/environments/v1.10/Project.toml`\n",
      "\u001b[32m\u001b[1m  No Changes\u001b[22m\u001b[39m to `~/.julia/environments/v1.10/Manifest.toml`\n"
     ]
    }
   ],
   "source": [
    "import ITensors:op\n",
    "import Pkg; Pkg.add(\"HDF5\")\n",
    "import Pkg; Pkg.add(\"Plots\")\n",
    "import Pkg; Pkg.add(\"PyFormattedStrings\")\n",
    "import Pkg; Pkg.add(\"LinearAlgebra\")\n",
    "import Pkg; Pkg.add(\"LaTeXStrings\")"
   ]
  },
  {
   "cell_type": "code",
   "execution_count": 2,
   "id": "059a8bca",
   "metadata": {},
   "outputs": [
    {
     "data": {
      "text/plain": [
       "14"
      ]
     },
     "execution_count": 2,
     "metadata": {},
     "output_type": "execute_result"
    }
   ],
   "source": [
    "using ITensors, ITensorMPS\n",
    "import ITensors:op\n",
    "using HDF5\n",
    "using Plots\n",
    "using PyFormattedStrings\n",
    "using LinearAlgebra\n",
    "\n",
    "ITensors.disable_warn_order()"
   ]
  },
  {
   "cell_type": "code",
   "execution_count": 3,
   "id": "0c8a3ab7",
   "metadata": {},
   "outputs": [],
   "source": [
    "include(\"overload_Spin=3h.jl\")"
   ]
  },
  {
   "cell_type": "code",
   "execution_count": null,
   "id": "7bf28217",
   "metadata": {},
   "outputs": [],
   "source": []
  },
  {
   "cell_type": "code",
   "execution_count": 4,
   "id": "fe99534c",
   "metadata": {},
   "outputs": [
    {
     "data": {
      "text/plain": [
       "Hamiltonian (generic function with 1 method)"
      ]
     },
     "execution_count": 4,
     "metadata": {},
     "output_type": "execute_result"
    }
   ],
   "source": [
    "# construction of the MPO hamiltonian\n",
    "#------------------------------------------\n",
    "function Hamiltonian(sites)\n",
    "    ops = OpSum()\n",
    "\n",
    "    N = length(sites)\n",
    "    # spin-spin interaction\n",
    "    for k=1:N-1\n",
    "        ops += J,   \"Sz\",k, \"Sz\",k+1\n",
    "        ops += J/2, \"S+\",k, \"S-\",k+1\n",
    "        ops += J/2, \"S-\",k, \"S+\",k+1\n",
    "    end\n",
    "    #make it a ring\n",
    "    ops += J,   \"Sz\",N, \"Sz\",1\n",
    "    ops += J/2, \"S+\",N, \"S-\",1\n",
    "    ops += J/2, \"S-\",N, \"S+\",1\n",
    "\n",
    "    # spin-B interaction\n",
    "    for k=1:N\n",
    "        ops += -B, \"Sz\",k\n",
    "    end\n",
    "    \n",
    "    H = MPO(ops,sites)\n",
    "    #--------------------------\n",
    "    return H\n",
    "end"
   ]
  },
  {
   "cell_type": "code",
   "execution_count": 5,
   "id": "918b323f",
   "metadata": {},
   "outputs": [
    {
     "data": {
      "text/plain": [
       "get_4pdm (generic function with 1 method)"
      ]
     },
     "execution_count": 5,
     "metadata": {},
     "output_type": "execute_result"
    }
   ],
   "source": [
    "\n",
    "#four point RDM of sites AB, CD\n",
    "# AB adjacent, CD adjacent\n",
    "#------------------------------------------\n",
    "function get_4pdm(wf::MPS,locs)\n",
    "    psi = copy(wf)\n",
    "    A,C = locs\n",
    "\n",
    "    orthogonalize!(psi,A)\n",
    "    ket = psi[A]\n",
    "    for k in A+1:C+1\n",
    "        ket *= psi[k]\n",
    "    end\n",
    "    rho = prime(ket,\"Site\") * dag(ket)\n",
    "\n",
    "    if C-A>2\n",
    "        inds_list = inds(rho)\n",
    "        trinds1 = collect(3 : C-A)\n",
    "        trinds2 = trinds1[end] .+ trinds1 .+ 2\n",
    "        for idx in 1:length(trinds1)\n",
    "            rho = rho*delta(inds_list[trinds1[idx]],inds_list[trinds2[idx]])\n",
    "        end\n",
    "    end\n",
    "    #-------------------\n",
    "    return rho\n",
    "end"
   ]
  },
  {
   "cell_type": "code",
   "execution_count": null,
   "id": "b9bbc6fd",
   "metadata": {},
   "outputs": [],
   "source": []
  },
  {
   "cell_type": "code",
   "execution_count": 6,
   "id": "14755d89",
   "metadata": {},
   "outputs": [
    {
     "data": {
      "text/plain": [
       "calc_SvN (generic function with 1 method)"
      ]
     },
     "execution_count": 6,
     "metadata": {},
     "output_type": "execute_result"
    }
   ],
   "source": [
    "#   calc_Eigenvalues of density matrix\n",
    "#-----------------------------------\n",
    "function calc_Eigenvalues(density_matrix)\n",
    "    egn_val,_ = eigen(density_matrix,ishermitian=true)\n",
    "    #-----------------------------------\n",
    "    return diag(array(egn_val))\n",
    "end\n",
    "\n",
    "\n",
    "#   eigenvalue based generic properties of a density matrix\n",
    "#-----------------------------------\n",
    "function calc_Norm(density_matrix)\n",
    "    rho = copy(density_matrix)\n",
    "\n",
    "    egn_val = calc_Eigenvalues(rho)\n",
    "    Norm = sum(egn_val)\n",
    "    Purity = sum(egn_val.^2)\n",
    "\n",
    "    #-----------------------------------\n",
    "    return [Norm,Purity]\n",
    "end\n",
    "\n",
    "#   eigenvalue based generic properties of a density matrix\n",
    "#-----------------------------------\n",
    "function calc_SvN(density_matrix)\n",
    "    rho = copy(density_matrix)\n",
    "\n",
    "    egn_val = calc_Eigenvalues(rho)\n",
    "    SvN = sum( [ - lam*log(lam) for lam in egn_val if lam > 0 ] )\n",
    "\n",
    "    #-----------------------------------\n",
    "    return SvN\n",
    "end\n"
   ]
  },
  {
   "cell_type": "code",
   "execution_count": null,
   "id": "b34c0516",
   "metadata": {},
   "outputs": [],
   "source": []
  },
  {
   "cell_type": "code",
   "execution_count": 7,
   "id": "9313df6f",
   "metadata": {},
   "outputs": [
    {
     "data": {
      "text/plain": [
       "calc_LogNeg_4site (generic function with 1 method)"
      ]
     },
     "execution_count": 7,
     "metadata": {},
     "output_type": "execute_result"
    }
   ],
   "source": [
    "#   entanglement details between four sites\n",
    "#-----------------------------------\n",
    "function calc_LogNeg_4site(wf::MPS,locs)    \n",
    "    psi = copy(wf)\n",
    "    A,C = locs\n",
    "\n",
    "    rho = get_4pdm(psi,[A,C])\n",
    "    old = inds(rho)\n",
    "\n",
    "    function get_LogNeg(rho,old,new)\n",
    "        rho_PT = swapinds(rho,old,new)\n",
    "        egn_val = calc_Eigenvalues(rho_PT)\n",
    "        Neg =  abs(sum( [lam for lam in egn_val if lam<0] ))\n",
    "        return log(1+2*Neg)\n",
    "    end\n",
    "        \n",
    "    #   ABCD = 1234 \n",
    "    #   ABCD = 5678\n",
    "\n",
    "    # wrt A B C D\n",
    "    new_A  = [old[5],old[2],old[3],old[4],old[1],old[6],old[7],old[8]]\n",
    "    new_B  = [old[1],old[6],old[3],old[4],old[5],old[2],old[7],old[8]]\n",
    "    new_C  = [old[1],old[2],old[7],old[4],old[5],old[6],old[3],old[8]]\n",
    "    new_D  = [old[1],old[2],old[3],old[8],old[5],old[6],old[7],old[4]]\n",
    "\n",
    "    # wrt AB AC AD\n",
    "    new_AB = [old[5],old[6],old[3],old[4],old[1],old[2],old[7],old[8]]\n",
    "    new_AC = [old[5],old[2],old[7],old[4],old[1],old[6],old[3],old[8]]\n",
    "    new_AD = [old[5],old[2],old[3],old[8],old[1],old[6],old[7],old[4]]\n",
    "\n",
    "    LogNeg = 1\n",
    "    for new in [new_A,new_B,new_C,new_D,new_AB,new_AC,new_AD]\n",
    "        LogNeg *= get_LogNeg(rho,old,new)\n",
    "    end\n",
    "    LogNeg = LogNeg^(1.0/7.0)\n",
    "\n",
    "    #-----------------------------------\n",
    "    return LogNeg\n",
    "end"
   ]
  },
  {
   "cell_type": "code",
   "execution_count": null,
   "id": "6e06d334",
   "metadata": {},
   "outputs": [],
   "source": []
  },
  {
   "cell_type": "code",
   "execution_count": null,
   "id": "05a91844",
   "metadata": {},
   "outputs": [],
   "source": []
  },
  {
   "cell_type": "code",
   "execution_count": 8,
   "id": "bbcaf5cc",
   "metadata": {},
   "outputs": [
    {
     "name": "stdout",
     "output_type": "stream",
     "text": [
      "After sweep 1 energy=-13.51595126540083  maxlinkdim=8 maxerr=1.07E-15 time=30.953\n",
      "After sweep 2 energy=-13.805841035102429  maxlinkdim=25 maxerr=2.65E-08 time=0.076\n",
      "After sweep 3 energy=-13.827901722404903  maxlinkdim=50 maxerr=4.23E-09 time=0.365\n",
      "After sweep 4 energy=-13.82997174267847  maxlinkdim=100 maxerr=5.35E-10 time=1.093\n",
      "After sweep 5 energy=-13.831810028847753  maxlinkdim=150 maxerr=6.99E-11 time=1.998\n",
      "After sweep 6 energy=-13.833470311052688  maxlinkdim=186 maxerr=9.91E-12 time=2.443\n",
      "After sweep 7 energy=-13.83492091402714  maxlinkdim=180 maxerr=9.88E-12 time=2.199\n",
      "After sweep 8 energy=-13.836142977095415  maxlinkdim=174 maxerr=9.92E-12 time=1.955\n",
      "After sweep 9 energy=-13.837107172207944  maxlinkdim=167 maxerr=9.88E-12 time=1.748\n",
      "After sweep 10 energy=-13.837872409263856  maxlinkdim=159 maxerr=9.92E-12 time=1.738\n",
      "After sweep 11 energy=-13.83847600614601  maxlinkdim=152 maxerr=9.87E-12 time=1.565\n",
      "After sweep 12 energy=-13.838949927963704  maxlinkdim=147 maxerr=9.98E-12 time=1.611\n",
      "After sweep 13 energy=-13.839316156461058  maxlinkdim=143 maxerr=9.95E-12 time=1.748\n",
      "After sweep 14 energy=-13.839599048560013  maxlinkdim=138 maxerr=9.88E-12 time=3.068\n",
      "After sweep 15 energy=-13.839820265825686  maxlinkdim=135 maxerr=9.91E-12 time=1.621\n",
      "After sweep 16 energy=-13.839997795621736  maxlinkdim=132 maxerr=9.99E-12 time=1.131\n",
      "After sweep 17 energy=-13.840135611545472  maxlinkdim=128 maxerr=9.88E-12 time=1.246\n",
      "After sweep 18 energy=-13.84024214076077  maxlinkdim=126 maxerr=9.78E-12 time=1.091\n",
      "After sweep 19 energy=-13.840326816462069  maxlinkdim=123 maxerr=9.90E-12 time=1.361\n",
      "After sweep 20 energy=-13.840395304490979  maxlinkdim=120 maxerr=9.96E-12 time=1.204\n"
     ]
    }
   ],
   "source": [
    "#define the parameters of the hamiltonian and constuct MPO\n",
    "#----------------------------------------------------------------------------\n",
    "J = 1 \n",
    "B = 0.01\n",
    "\n",
    "nsweeps = 20\n",
    "maxdim = [10,25,50,100,150,200,250,300,400,500]\n",
    "cutoff = [1E-11]\n",
    "\n",
    "#--------------------\n",
    "N = 14\n",
    "#--------------------\n",
    "\n",
    "site_list = collect(1:N) \n",
    "sites = siteinds( k->isodd(k) ? \"S=1/2\" : \"S=3/2\", N ) \n",
    "#sites = siteinds(\"S=1/2\", N)\n",
    "\n",
    "H = Hamiltonian(sites) \n",
    "\n",
    "# ground state and first excited state\n",
    "#--------------------------------------------\n",
    "energy0,psi0 = dmrg(H,random_mps(sites);nsweeps,maxdim,cutoff,ishermitian=true) ;\n",
    "#energy1,psi1 = dmrg(H,[psi0],random_mps(sites);nsweeps,maxdim,cutoff,ishermitian=true) ;"
   ]
  },
  {
   "cell_type": "code",
   "execution_count": null,
   "id": "8282981c",
   "metadata": {},
   "outputs": [],
   "source": []
  },
  {
   "cell_type": "code",
   "execution_count": 9,
   "id": "e789c8c7",
   "metadata": {},
   "outputs": [
    {
     "name": "stdout",
     "output_type": "stream",
     "text": [
      "After sweep 1 energy=-6.868725440623164  maxlinkdim=4 maxerr=4.34E-16 time=0.032\n",
      "After sweep 2 energy=-7.100024733919855  maxlinkdim=16 maxerr=3.92E-16 time=0.066\n",
      "After sweep 3 energy=-7.142286239272012  maxlinkdim=50 maxerr=1.22E-07 time=0.287\n",
      "After sweep 4 energy=-7.142296354967554  maxlinkdim=100 maxerr=7.55E-10 time=0.680\n",
      "After sweep 5 energy=-7.142296360408432  maxlinkdim=138 maxerr=9.94E-12 time=0.778\n",
      "After sweep 6 energy=-7.142296360408429  maxlinkdim=138 maxerr=9.94E-12 time=0.924\n",
      "After sweep 7 energy=-7.142296360408443  maxlinkdim=138 maxerr=9.94E-12 time=0.768\n",
      "After sweep 8 energy=-7.142296360408441  maxlinkdim=138 maxerr=9.94E-12 time=0.861\n",
      "After sweep 9 energy=-7.14229636040843  maxlinkdim=138 maxerr=9.94E-12 time=0.699\n",
      "After sweep 10 energy=-7.1422963604084355  maxlinkdim=138 maxerr=9.94E-12 time=0.795\n",
      "After sweep 11 energy=-7.142296360408434  maxlinkdim=138 maxerr=9.94E-12 time=0.723\n",
      "After sweep 12 energy=-7.142296360408441  maxlinkdim=138 maxerr=9.94E-12 time=0.604\n",
      "After sweep 13 energy=-7.142296360408428  maxlinkdim=138 maxerr=9.94E-12 time=0.857\n",
      "After sweep 14 energy=-7.142296360408423  maxlinkdim=138 maxerr=9.94E-12 time=0.882\n",
      "After sweep 15 energy=-7.142296360408439  maxlinkdim=138 maxerr=9.94E-12 time=0.892\n",
      "After sweep 16 energy=-7.142296360408437  maxlinkdim=138 maxerr=9.94E-12 time=0.866\n",
      "After sweep 17 energy=-7.142296360408427  maxlinkdim=138 maxerr=9.94E-12 time=0.852\n",
      "After sweep 18 energy=-7.14229636040843  maxlinkdim=138 maxerr=9.94E-12 time=0.807\n",
      "After sweep 19 energy=-7.142296360408437  maxlinkdim=138 maxerr=9.94E-12 time=0.888\n",
      "After sweep 20 energy=-7.142296360408437  maxlinkdim=138 maxerr=9.94E-12 time=0.821\n"
     ]
    }
   ],
   "source": [
    "#define the parameters of the hamiltonian and constuct MPO\n",
    "#----------------------------------------------------------------------------\n",
    "\n",
    "J = 1 \n",
    "B = 0.01\n",
    "\n",
    "nsweeps = 20\n",
    "maxdim = [10,25,50,100,150,200,250,300,400,500]\n",
    "cutoff = [1E-11]\n",
    "\n",
    "#--------------------\n",
    "N = 16\n",
    "#--------------------\n",
    "\n",
    "site_list = collect(1:N) \n",
    "\n",
    "sites = siteinds(\"S=1/2\", N)\n",
    "\n",
    "H1 = Hamiltonian(sites) \n",
    "\n",
    "# ground state and first excited state\n",
    "#--------------------------------------------\n",
    "energy0,psi01 = dmrg(H1,random_mps(sites);nsweeps,maxdim,cutoff,ishermitian=true) ;\n",
    "#energy1,psi1 = dmrg(H,[psi0],random_mps(sites);nsweeps,maxdim,cutoff,ishermitian=true) ;"
   ]
  },
  {
   "cell_type": "code",
   "execution_count": null,
   "id": "d86a3e3d",
   "metadata": {},
   "outputs": [],
   "source": []
  },
  {
   "cell_type": "code",
   "execution_count": null,
   "id": "90a257b0",
   "metadata": {},
   "outputs": [],
   "source": []
  },
  {
   "cell_type": "code",
   "execution_count": 19,
   "id": "b3848e6f",
   "metadata": {},
   "outputs": [
    {
     "name": "stdout",
     "output_type": "stream",
     "text": [
      "Mixed spin chain 1/2-3/2\n",
      "0 \t 0.5037433205242009\n",
      "1 \t 0.23615935966105367\n",
      "2 \t 0.1143945892179785\n",
      "3 \t 0.09439343163591109\n",
      "4 \t 0.0939645632344453\n",
      "5 \t 0.09299430727600251\n",
      "----------------------------\n",
      "----------------------------\n",
      "Spin-half\n",
      "0 \t 0.5391934288380282\n",
      "1 \t 0.2764806800870662\n",
      "2 \t 0.0\n",
      "3 \t 0.21169065021482764\n",
      "4 \t 0.0\n",
      "5 \t 0.0\n"
     ]
    },
    {
     "data": {
      "image/png": "",
      "image/svg+xml": [
       "<?xml version=\"1.0\" encoding=\"utf-8\"?>\n",
       "<svg xmlns=\"http://www.w3.org/2000/svg\" xmlns:xlink=\"http://www.w3.org/1999/xlink\" width=\"600\" height=\"400\" viewBox=\"0 0 2400 1600\">\n",
       "<defs>\n",
       "  <clipPath id=\"clip160\">\n",
       "    <rect x=\"0\" y=\"0\" width=\"2400\" height=\"1600\"/>\n",
       "  </clipPath>\n",
       "</defs>\n",
       "<path clip-path=\"url(#clip160)\" d=\"M0 1600 L2400 1600 L2400 0 L0 0  Z\" fill=\"#ffffff\" fill-rule=\"evenodd\" fill-opacity=\"1\"/>\n",
       "<defs>\n",
       "  <clipPath id=\"clip161\">\n",
       "    <rect x=\"480\" y=\"0\" width=\"1681\" height=\"1600\"/>\n",
       "  </clipPath>\n",
       "</defs>\n",
       "<path clip-path=\"url(#clip160)\" d=\"M219.866 1423.18 L2352.76 1423.18 L2352.76 47.2441 L219.866 47.2441  Z\" fill=\"#ffffff\" fill-rule=\"evenodd\" fill-opacity=\"1\"/>\n",
       "<defs>\n",
       "  <clipPath id=\"clip162\">\n",
       "    <rect x=\"219\" y=\"47\" width=\"2134\" height=\"1377\"/>\n",
       "  </clipPath>\n",
       "</defs>\n",
       "<polyline clip-path=\"url(#clip162)\" style=\"stroke:#000000; stroke-linecap:round; stroke-linejoin:round; stroke-width:2; stroke-opacity:0.1; fill:none\" points=\"280.231,1423.18 280.231,47.2441 \"/>\n",
       "<polyline clip-path=\"url(#clip162)\" style=\"stroke:#000000; stroke-linecap:round; stroke-linejoin:round; stroke-width:2; stroke-opacity:0.1; fill:none\" points=\"682.663,1423.18 682.663,47.2441 \"/>\n",
       "<polyline clip-path=\"url(#clip162)\" style=\"stroke:#000000; stroke-linecap:round; stroke-linejoin:round; stroke-width:2; stroke-opacity:0.1; fill:none\" points=\"1085.1,1423.18 1085.1,47.2441 \"/>\n",
       "<polyline clip-path=\"url(#clip162)\" style=\"stroke:#000000; stroke-linecap:round; stroke-linejoin:round; stroke-width:2; stroke-opacity:0.1; fill:none\" points=\"1487.53,1423.18 1487.53,47.2441 \"/>\n",
       "<polyline clip-path=\"url(#clip162)\" style=\"stroke:#000000; stroke-linecap:round; stroke-linejoin:round; stroke-width:2; stroke-opacity:0.1; fill:none\" points=\"1889.96,1423.18 1889.96,47.2441 \"/>\n",
       "<polyline clip-path=\"url(#clip162)\" style=\"stroke:#000000; stroke-linecap:round; stroke-linejoin:round; stroke-width:2; stroke-opacity:0.1; fill:none\" points=\"2292.39,1423.18 2292.39,47.2441 \"/>\n",
       "<polyline clip-path=\"url(#clip162)\" style=\"stroke:#000000; stroke-linecap:round; stroke-linejoin:round; stroke-width:2; stroke-opacity:0.1; fill:none\" points=\"219.866,1384.24 2352.76,1384.24 \"/>\n",
       "<polyline clip-path=\"url(#clip162)\" style=\"stroke:#000000; stroke-linecap:round; stroke-linejoin:round; stroke-width:2; stroke-opacity:0.1; fill:none\" points=\"219.866,1143.5 2352.76,1143.5 \"/>\n",
       "<polyline clip-path=\"url(#clip162)\" style=\"stroke:#000000; stroke-linecap:round; stroke-linejoin:round; stroke-width:2; stroke-opacity:0.1; fill:none\" points=\"219.866,902.759 2352.76,902.759 \"/>\n",
       "<polyline clip-path=\"url(#clip162)\" style=\"stroke:#000000; stroke-linecap:round; stroke-linejoin:round; stroke-width:2; stroke-opacity:0.1; fill:none\" points=\"219.866,662.019 2352.76,662.019 \"/>\n",
       "<polyline clip-path=\"url(#clip162)\" style=\"stroke:#000000; stroke-linecap:round; stroke-linejoin:round; stroke-width:2; stroke-opacity:0.1; fill:none\" points=\"219.866,421.28 2352.76,421.28 \"/>\n",
       "<polyline clip-path=\"url(#clip162)\" style=\"stroke:#000000; stroke-linecap:round; stroke-linejoin:round; stroke-width:2; stroke-opacity:0.1; fill:none\" points=\"219.866,180.54 2352.76,180.54 \"/>\n",
       "<polyline clip-path=\"url(#clip160)\" style=\"stroke:#000000; stroke-linecap:round; stroke-linejoin:round; stroke-width:4; stroke-opacity:1; fill:none\" points=\"219.866,1423.18 2352.76,1423.18 \"/>\n",
       "<polyline clip-path=\"url(#clip160)\" style=\"stroke:#000000; stroke-linecap:round; stroke-linejoin:round; stroke-width:4; stroke-opacity:1; fill:none\" points=\"280.231,1423.18 280.231,1404.28 \"/>\n",
       "<polyline clip-path=\"url(#clip160)\" style=\"stroke:#000000; stroke-linecap:round; stroke-linejoin:round; stroke-width:4; stroke-opacity:1; fill:none\" points=\"682.663,1423.18 682.663,1404.28 \"/>\n",
       "<polyline clip-path=\"url(#clip160)\" style=\"stroke:#000000; stroke-linecap:round; stroke-linejoin:round; stroke-width:4; stroke-opacity:1; fill:none\" points=\"1085.1,1423.18 1085.1,1404.28 \"/>\n",
       "<polyline clip-path=\"url(#clip160)\" style=\"stroke:#000000; stroke-linecap:round; stroke-linejoin:round; stroke-width:4; stroke-opacity:1; fill:none\" points=\"1487.53,1423.18 1487.53,1404.28 \"/>\n",
       "<polyline clip-path=\"url(#clip160)\" style=\"stroke:#000000; stroke-linecap:round; stroke-linejoin:round; stroke-width:4; stroke-opacity:1; fill:none\" points=\"1889.96,1423.18 1889.96,1404.28 \"/>\n",
       "<polyline clip-path=\"url(#clip160)\" style=\"stroke:#000000; stroke-linecap:round; stroke-linejoin:round; stroke-width:4; stroke-opacity:1; fill:none\" points=\"2292.39,1423.18 2292.39,1404.28 \"/>\n",
       "<path clip-path=\"url(#clip160)\" d=\"M280.231 1454.1 Q276.62 1454.1 274.791 1457.66 Q272.986 1461.2 272.986 1468.33 Q272.986 1475.44 274.791 1479.01 Q276.62 1482.55 280.231 1482.55 Q283.865 1482.55 285.671 1479.01 Q287.5 1475.44 287.5 1468.33 Q287.5 1461.2 285.671 1457.66 Q283.865 1454.1 280.231 1454.1 M280.231 1450.39 Q286.041 1450.39 289.097 1455 Q292.175 1459.58 292.175 1468.33 Q292.175 1477.06 289.097 1481.67 Q286.041 1486.25 280.231 1486.25 Q274.421 1486.25 271.342 1481.67 Q268.287 1477.06 268.287 1468.33 Q268.287 1459.58 271.342 1455 Q274.421 1450.39 280.231 1450.39 Z\" fill=\"#000000\" fill-rule=\"nonzero\" fill-opacity=\"1\" /><path clip-path=\"url(#clip160)\" d=\"M673.045 1481.64 L680.684 1481.64 L680.684 1455.28 L672.374 1456.95 L672.374 1452.69 L680.638 1451.02 L685.314 1451.02 L685.314 1481.64 L692.952 1481.64 L692.952 1485.58 L673.045 1485.58 L673.045 1481.64 Z\" fill=\"#000000\" fill-rule=\"nonzero\" fill-opacity=\"1\" /><path clip-path=\"url(#clip160)\" d=\"M1079.75 1481.64 L1096.07 1481.64 L1096.07 1485.58 L1074.12 1485.58 L1074.12 1481.64 Q1076.78 1478.89 1081.37 1474.26 Q1085.97 1469.61 1087.16 1468.27 Q1089.4 1465.74 1090.28 1464.01 Q1091.18 1462.25 1091.18 1460.56 Q1091.18 1457.8 1089.24 1456.07 Q1087.32 1454.33 1084.22 1454.33 Q1082.02 1454.33 1079.56 1455.09 Q1077.13 1455.86 1074.35 1457.41 L1074.35 1452.69 Q1077.18 1451.55 1079.63 1450.97 Q1082.09 1450.39 1084.12 1450.39 Q1089.49 1450.39 1092.69 1453.08 Q1095.88 1455.77 1095.88 1460.26 Q1095.88 1462.39 1095.07 1464.31 Q1094.28 1466.2 1092.18 1468.8 Q1091.6 1469.47 1088.5 1472.69 Q1085.4 1475.88 1079.75 1481.64 Z\" fill=\"#000000\" fill-rule=\"nonzero\" fill-opacity=\"1\" /><path clip-path=\"url(#clip160)\" d=\"M1491.77 1466.95 Q1495.13 1467.66 1497.01 1469.93 Q1498.9 1472.2 1498.9 1475.53 Q1498.9 1480.65 1495.39 1483.45 Q1491.87 1486.25 1485.39 1486.25 Q1483.21 1486.25 1480.9 1485.81 Q1478.6 1485.39 1476.15 1484.54 L1476.15 1480.02 Q1478.09 1481.16 1480.41 1481.74 Q1482.72 1482.32 1485.25 1482.32 Q1489.65 1482.32 1491.94 1480.58 Q1494.25 1478.84 1494.25 1475.53 Q1494.25 1472.48 1492.1 1470.77 Q1489.97 1469.03 1486.15 1469.03 L1482.12 1469.03 L1482.12 1465.19 L1486.33 1465.19 Q1489.78 1465.19 1491.61 1463.82 Q1493.44 1462.43 1493.44 1459.84 Q1493.44 1457.18 1491.54 1455.77 Q1489.67 1454.33 1486.15 1454.33 Q1484.23 1454.33 1482.03 1454.75 Q1479.83 1455.16 1477.19 1456.04 L1477.19 1451.88 Q1479.85 1451.14 1482.17 1450.77 Q1484.51 1450.39 1486.57 1450.39 Q1491.89 1450.39 1494.99 1452.83 Q1498.09 1455.23 1498.09 1459.35 Q1498.09 1462.22 1496.45 1464.21 Q1494.81 1466.18 1491.77 1466.95 Z\" fill=\"#000000\" fill-rule=\"nonzero\" fill-opacity=\"1\" /><path clip-path=\"url(#clip160)\" d=\"M1892.97 1455.09 L1881.16 1473.54 L1892.97 1473.54 L1892.97 1455.09 M1891.74 1451.02 L1897.62 1451.02 L1897.62 1473.54 L1902.55 1473.54 L1902.55 1477.43 L1897.62 1477.43 L1897.62 1485.58 L1892.97 1485.58 L1892.97 1477.43 L1877.37 1477.43 L1877.37 1472.92 L1891.74 1451.02 Z\" fill=\"#000000\" fill-rule=\"nonzero\" fill-opacity=\"1\" /><path clip-path=\"url(#clip160)\" d=\"M2282.67 1451.02 L2301.03 1451.02 L2301.03 1454.96 L2286.95 1454.96 L2286.95 1463.43 Q2287.97 1463.08 2288.99 1462.92 Q2290.01 1462.73 2291.03 1462.73 Q2296.81 1462.73 2300.19 1465.9 Q2303.57 1469.08 2303.57 1474.49 Q2303.57 1480.07 2300.1 1483.17 Q2296.63 1486.25 2290.31 1486.25 Q2288.13 1486.25 2285.86 1485.88 Q2283.62 1485.51 2281.21 1484.77 L2281.21 1480.07 Q2283.29 1481.2 2285.52 1481.76 Q2287.74 1482.32 2290.22 1482.32 Q2294.22 1482.32 2296.56 1480.21 Q2298.9 1478.1 2298.9 1474.49 Q2298.9 1470.88 2296.56 1468.77 Q2294.22 1466.67 2290.22 1466.67 Q2288.34 1466.67 2286.47 1467.08 Q2284.61 1467.5 2282.67 1468.38 L2282.67 1451.02 Z\" fill=\"#000000\" fill-rule=\"nonzero\" fill-opacity=\"1\" /><path clip-path=\"url(#clip160)\" d=\"M1144.61 1522.08 L1144.61 1528.35 Q1140.95 1526.6 1137.7 1525.74 Q1134.46 1524.88 1131.43 1524.88 Q1126.18 1524.88 1123.32 1526.92 Q1120.48 1528.96 1120.48 1532.71 Q1120.48 1535.87 1122.36 1537.49 Q1124.27 1539.08 1129.56 1540.07 L1133.44 1540.86 Q1140.63 1542.23 1144.04 1545.7 Q1147.48 1549.14 1147.48 1554.93 Q1147.48 1561.84 1142.83 1565.4 Q1138.21 1568.97 1129.27 1568.97 Q1125.9 1568.97 1122.08 1568.2 Q1118.29 1567.44 1114.21 1565.94 L1114.21 1559.32 Q1118.13 1561.52 1121.88 1562.63 Q1125.64 1563.75 1129.27 1563.75 Q1134.78 1563.75 1137.77 1561.58 Q1140.76 1559.42 1140.76 1555.41 Q1140.76 1551.91 1138.59 1549.93 Q1136.46 1547.96 1131.56 1546.97 L1127.65 1546.21 Q1120.45 1544.78 1117.24 1541.72 Q1114.02 1538.67 1114.02 1533.22 Q1114.02 1526.92 1118.45 1523.29 Q1122.9 1519.66 1130.7 1519.66 Q1134.04 1519.66 1137.51 1520.27 Q1140.98 1520.87 1144.61 1522.08 Z\" fill=\"#000000\" fill-rule=\"nonzero\" fill-opacity=\"1\" /><path clip-path=\"url(#clip160)\" d=\"M1187.74 1548.76 L1187.74 1551.62 L1160.81 1551.62 Q1161.19 1557.67 1164.44 1560.85 Q1167.72 1564 1173.54 1564 Q1176.92 1564 1180.07 1563.17 Q1183.25 1562.35 1186.37 1560.69 L1186.37 1566.23 Q1183.22 1567.57 1179.91 1568.27 Q1176.6 1568.97 1173.19 1568.97 Q1164.66 1568.97 1159.67 1564 Q1154.7 1559.04 1154.7 1550.57 Q1154.7 1541.82 1159.41 1536.69 Q1164.15 1531.54 1172.17 1531.54 Q1179.37 1531.54 1183.54 1536.18 Q1187.74 1540.8 1187.74 1548.76 M1181.88 1547.04 Q1181.82 1542.23 1179.18 1539.37 Q1176.57 1536.5 1172.24 1536.5 Q1167.34 1536.5 1164.38 1539.27 Q1161.45 1542.04 1161 1547.07 L1181.88 1547.04 Z\" fill=\"#000000\" fill-rule=\"nonzero\" fill-opacity=\"1\" /><path clip-path=\"url(#clip160)\" d=\"M1203.02 1562.7 L1203.02 1581.6 L1197.13 1581.6 L1197.13 1532.4 L1203.02 1532.4 L1203.02 1537.81 Q1204.86 1534.62 1207.66 1533.1 Q1210.5 1531.54 1214.41 1531.54 Q1220.9 1531.54 1224.95 1536.69 Q1229.02 1541.85 1229.02 1550.25 Q1229.02 1558.65 1224.95 1563.81 Q1220.9 1568.97 1214.41 1568.97 Q1210.5 1568.97 1207.66 1567.44 Q1204.86 1565.88 1203.02 1562.7 M1222.94 1550.25 Q1222.94 1543.79 1220.27 1540.13 Q1217.63 1536.44 1212.98 1536.44 Q1208.33 1536.44 1205.66 1540.13 Q1203.02 1543.79 1203.02 1550.25 Q1203.02 1556.71 1205.66 1560.4 Q1208.33 1564.07 1212.98 1564.07 Q1217.63 1564.07 1220.27 1560.4 Q1222.94 1556.71 1222.94 1550.25 Z\" fill=\"#000000\" fill-rule=\"nonzero\" fill-opacity=\"1\" /><path clip-path=\"url(#clip160)\" d=\"M1254.93 1550.12 Q1247.83 1550.12 1245.09 1551.75 Q1242.36 1553.37 1242.36 1557.29 Q1242.36 1560.4 1244.39 1562.25 Q1246.46 1564.07 1249.99 1564.07 Q1254.86 1564.07 1257.79 1560.63 Q1260.75 1557.16 1260.75 1551.43 L1260.75 1550.12 L1254.93 1550.12 M1266.61 1547.71 L1266.61 1568.04 L1260.75 1568.04 L1260.75 1562.63 Q1258.75 1565.88 1255.76 1567.44 Q1252.76 1568.97 1248.44 1568.97 Q1242.96 1568.97 1239.71 1565.91 Q1236.5 1562.82 1236.5 1557.67 Q1236.5 1551.65 1240.51 1548.6 Q1244.55 1545.54 1252.54 1545.54 L1260.75 1545.54 L1260.75 1544.97 Q1260.75 1540.93 1258.08 1538.73 Q1255.44 1536.5 1250.63 1536.5 Q1247.58 1536.5 1244.68 1537.23 Q1241.78 1537.97 1239.11 1539.43 L1239.11 1534.02 Q1242.32 1532.78 1245.35 1532.17 Q1248.37 1531.54 1251.24 1531.54 Q1258.97 1531.54 1262.79 1535.55 Q1266.61 1539.56 1266.61 1547.71 Z\" fill=\"#000000\" fill-rule=\"nonzero\" fill-opacity=\"1\" /><path clip-path=\"url(#clip160)\" d=\"M1299.33 1537.87 Q1298.34 1537.3 1297.16 1537.04 Q1296.02 1536.76 1294.62 1536.76 Q1289.65 1536.76 1286.98 1540 Q1284.34 1543.22 1284.34 1549.27 L1284.34 1568.04 L1278.45 1568.04 L1278.45 1532.4 L1284.34 1532.4 L1284.34 1537.93 Q1286.18 1534.69 1289.14 1533.13 Q1292.1 1531.54 1296.34 1531.54 Q1296.94 1531.54 1297.67 1531.63 Q1298.41 1531.7 1299.3 1531.85 L1299.33 1537.87 Z\" fill=\"#000000\" fill-rule=\"nonzero\" fill-opacity=\"1\" /><path clip-path=\"url(#clip160)\" d=\"M1321.67 1550.12 Q1314.57 1550.12 1311.84 1551.75 Q1309.1 1553.37 1309.1 1557.29 Q1309.1 1560.4 1311.14 1562.25 Q1313.21 1564.07 1316.74 1564.07 Q1321.61 1564.07 1324.54 1560.63 Q1327.5 1557.16 1327.5 1551.43 L1327.5 1550.12 L1321.67 1550.12 M1333.35 1547.71 L1333.35 1568.04 L1327.5 1568.04 L1327.5 1562.63 Q1325.49 1565.88 1322.5 1567.44 Q1319.51 1568.97 1315.18 1568.97 Q1309.71 1568.97 1306.46 1565.91 Q1303.24 1562.82 1303.24 1557.67 Q1303.24 1551.65 1307.25 1548.6 Q1311.3 1545.54 1319.29 1545.54 L1327.5 1545.54 L1327.5 1544.97 Q1327.5 1540.93 1324.82 1538.73 Q1322.18 1536.5 1317.38 1536.5 Q1314.32 1536.5 1311.42 1537.23 Q1308.53 1537.97 1305.85 1539.43 L1305.85 1534.02 Q1309.07 1532.78 1312.09 1532.17 Q1315.12 1531.54 1317.98 1531.54 Q1325.71 1531.54 1329.53 1535.55 Q1333.35 1539.56 1333.35 1547.71 Z\" fill=\"#000000\" fill-rule=\"nonzero\" fill-opacity=\"1\" /><path clip-path=\"url(#clip160)\" d=\"M1351.21 1522.27 L1351.21 1532.4 L1363.27 1532.4 L1363.27 1536.95 L1351.21 1536.95 L1351.21 1556.3 Q1351.21 1560.66 1352.39 1561.9 Q1353.6 1563.14 1357.26 1563.14 L1363.27 1563.14 L1363.27 1568.04 L1357.26 1568.04 Q1350.48 1568.04 1347.9 1565.53 Q1345.32 1562.98 1345.32 1556.3 L1345.32 1536.95 L1341.02 1536.95 L1341.02 1532.4 L1345.32 1532.4 L1345.32 1522.27 L1351.21 1522.27 Z\" fill=\"#000000\" fill-rule=\"nonzero\" fill-opacity=\"1\" /><path clip-path=\"url(#clip160)\" d=\"M1370.97 1532.4 L1376.83 1532.4 L1376.83 1568.04 L1370.97 1568.04 L1370.97 1532.4 M1370.97 1518.52 L1376.83 1518.52 L1376.83 1525.93 L1370.97 1525.93 L1370.97 1518.52 Z\" fill=\"#000000\" fill-rule=\"nonzero\" fill-opacity=\"1\" /><path clip-path=\"url(#clip160)\" d=\"M1402.9 1536.5 Q1398.19 1536.5 1395.45 1540.19 Q1392.71 1543.85 1392.71 1550.25 Q1392.71 1556.65 1395.42 1560.34 Q1398.16 1564 1402.9 1564 Q1407.58 1564 1410.32 1560.31 Q1413.05 1556.62 1413.05 1550.25 Q1413.05 1543.92 1410.32 1540.23 Q1407.58 1536.5 1402.9 1536.5 M1402.9 1531.54 Q1410.54 1531.54 1414.9 1536.5 Q1419.26 1541.47 1419.26 1550.25 Q1419.26 1559 1414.9 1564 Q1410.54 1568.97 1402.9 1568.97 Q1395.23 1568.97 1390.87 1564 Q1386.54 1559 1386.54 1550.25 Q1386.54 1541.47 1390.87 1536.5 Q1395.23 1531.54 1402.9 1531.54 Z\" fill=\"#000000\" fill-rule=\"nonzero\" fill-opacity=\"1\" /><path clip-path=\"url(#clip160)\" d=\"M1458.6 1546.53 L1458.6 1568.04 L1452.74 1568.04 L1452.74 1546.72 Q1452.74 1541.66 1450.77 1539.14 Q1448.8 1536.63 1444.85 1536.63 Q1440.11 1536.63 1437.37 1539.65 Q1434.63 1542.68 1434.63 1547.9 L1434.63 1568.04 L1428.74 1568.04 L1428.74 1532.4 L1434.63 1532.4 L1434.63 1537.93 Q1436.73 1534.72 1439.57 1533.13 Q1442.43 1531.54 1446.15 1531.54 Q1452.3 1531.54 1455.45 1535.36 Q1458.6 1539.14 1458.6 1546.53 Z\" fill=\"#000000\" fill-rule=\"nonzero\" fill-opacity=\"1\" /><polyline clip-path=\"url(#clip160)\" style=\"stroke:#000000; stroke-linecap:round; stroke-linejoin:round; stroke-width:4; stroke-opacity:1; fill:none\" points=\"219.866,1423.18 219.866,47.2441 \"/>\n",
       "<polyline clip-path=\"url(#clip160)\" style=\"stroke:#000000; stroke-linecap:round; stroke-linejoin:round; stroke-width:4; stroke-opacity:1; fill:none\" points=\"219.866,1384.24 238.764,1384.24 \"/>\n",
       "<polyline clip-path=\"url(#clip160)\" style=\"stroke:#000000; stroke-linecap:round; stroke-linejoin:round; stroke-width:4; stroke-opacity:1; fill:none\" points=\"219.866,1143.5 238.764,1143.5 \"/>\n",
       "<polyline clip-path=\"url(#clip160)\" style=\"stroke:#000000; stroke-linecap:round; stroke-linejoin:round; stroke-width:4; stroke-opacity:1; fill:none\" points=\"219.866,902.759 238.764,902.759 \"/>\n",
       "<polyline clip-path=\"url(#clip160)\" style=\"stroke:#000000; stroke-linecap:round; stroke-linejoin:round; stroke-width:4; stroke-opacity:1; fill:none\" points=\"219.866,662.019 238.764,662.019 \"/>\n",
       "<polyline clip-path=\"url(#clip160)\" style=\"stroke:#000000; stroke-linecap:round; stroke-linejoin:round; stroke-width:4; stroke-opacity:1; fill:none\" points=\"219.866,421.28 238.764,421.28 \"/>\n",
       "<polyline clip-path=\"url(#clip160)\" style=\"stroke:#000000; stroke-linecap:round; stroke-linejoin:round; stroke-width:4; stroke-opacity:1; fill:none\" points=\"219.866,180.54 238.764,180.54 \"/>\n",
       "<path clip-path=\"url(#clip160)\" d=\"M126.691 1370.04 Q123.08 1370.04 121.251 1373.6 Q119.445 1377.14 119.445 1384.27 Q119.445 1391.38 121.251 1394.94 Q123.08 1398.49 126.691 1398.49 Q130.325 1398.49 132.13 1394.94 Q133.959 1391.38 133.959 1384.27 Q133.959 1377.14 132.13 1373.6 Q130.325 1370.04 126.691 1370.04 M126.691 1366.33 Q132.501 1366.33 135.556 1370.94 Q138.635 1375.52 138.635 1384.27 Q138.635 1393 135.556 1397.61 Q132.501 1402.19 126.691 1402.19 Q120.88 1402.19 117.802 1397.61 Q114.746 1393 114.746 1384.27 Q114.746 1375.52 117.802 1370.94 Q120.88 1366.33 126.691 1366.33 Z\" fill=\"#000000\" fill-rule=\"nonzero\" fill-opacity=\"1\" /><path clip-path=\"url(#clip160)\" d=\"M146.853 1395.64 L151.737 1395.64 L151.737 1401.52 L146.853 1401.52 L146.853 1395.64 Z\" fill=\"#000000\" fill-rule=\"nonzero\" fill-opacity=\"1\" /><path clip-path=\"url(#clip160)\" d=\"M171.922 1370.04 Q168.311 1370.04 166.482 1373.6 Q164.677 1377.14 164.677 1384.27 Q164.677 1391.38 166.482 1394.94 Q168.311 1398.49 171.922 1398.49 Q175.556 1398.49 177.362 1394.94 Q179.19 1391.38 179.19 1384.27 Q179.19 1377.14 177.362 1373.6 Q175.556 1370.04 171.922 1370.04 M171.922 1366.33 Q177.732 1366.33 180.788 1370.94 Q183.866 1375.52 183.866 1384.27 Q183.866 1393 180.788 1397.61 Q177.732 1402.19 171.922 1402.19 Q166.112 1402.19 163.033 1397.61 Q159.978 1393 159.978 1384.27 Q159.978 1375.52 163.033 1370.94 Q166.112 1366.33 171.922 1366.33 Z\" fill=\"#000000\" fill-rule=\"nonzero\" fill-opacity=\"1\" /><path clip-path=\"url(#clip160)\" d=\"M127.917 1129.3 Q124.306 1129.3 122.478 1132.86 Q120.672 1136.4 120.672 1143.53 Q120.672 1150.64 122.478 1154.2 Q124.306 1157.75 127.917 1157.75 Q131.552 1157.75 133.357 1154.2 Q135.186 1150.64 135.186 1143.53 Q135.186 1136.4 133.357 1132.86 Q131.552 1129.3 127.917 1129.3 M127.917 1125.59 Q133.728 1125.59 136.783 1130.2 Q139.862 1134.78 139.862 1143.53 Q139.862 1152.26 136.783 1156.87 Q133.728 1161.45 127.917 1161.45 Q122.107 1161.45 119.029 1156.87 Q115.973 1152.26 115.973 1143.53 Q115.973 1134.78 119.029 1130.2 Q122.107 1125.59 127.917 1125.59 Z\" fill=\"#000000\" fill-rule=\"nonzero\" fill-opacity=\"1\" /><path clip-path=\"url(#clip160)\" d=\"M148.079 1154.9 L152.964 1154.9 L152.964 1160.78 L148.079 1160.78 L148.079 1154.9 Z\" fill=\"#000000\" fill-rule=\"nonzero\" fill-opacity=\"1\" /><path clip-path=\"url(#clip160)\" d=\"M163.959 1156.84 L171.598 1156.84 L171.598 1130.48 L163.288 1132.14 L163.288 1127.89 L171.552 1126.22 L176.227 1126.22 L176.227 1156.84 L183.866 1156.84 L183.866 1160.78 L163.959 1160.78 L163.959 1156.84 Z\" fill=\"#000000\" fill-rule=\"nonzero\" fill-opacity=\"1\" /><path clip-path=\"url(#clip160)\" d=\"M128.288 888.558 Q124.677 888.558 122.848 892.122 Q121.043 895.664 121.043 902.794 Q121.043 909.9 122.848 913.465 Q124.677 917.006 128.288 917.006 Q131.922 917.006 133.728 913.465 Q135.556 909.9 135.556 902.794 Q135.556 895.664 133.728 892.122 Q131.922 888.558 128.288 888.558 M128.288 884.854 Q134.098 884.854 137.154 889.46 Q140.232 894.044 140.232 902.794 Q140.232 911.52 137.154 916.127 Q134.098 920.71 128.288 920.71 Q122.478 920.71 119.399 916.127 Q116.343 911.52 116.343 902.794 Q116.343 894.044 119.399 889.46 Q122.478 884.854 128.288 884.854 Z\" fill=\"#000000\" fill-rule=\"nonzero\" fill-opacity=\"1\" /><path clip-path=\"url(#clip160)\" d=\"M148.45 914.159 L153.334 914.159 L153.334 920.039 L148.45 920.039 L148.45 914.159 Z\" fill=\"#000000\" fill-rule=\"nonzero\" fill-opacity=\"1\" /><path clip-path=\"url(#clip160)\" d=\"M167.547 916.104 L183.866 916.104 L183.866 920.039 L161.922 920.039 L161.922 916.104 Q164.584 913.349 169.167 908.719 Q173.774 904.067 174.954 902.724 Q177.2 900.201 178.079 898.465 Q178.982 896.706 178.982 895.016 Q178.982 892.261 177.038 890.525 Q175.116 888.789 172.014 888.789 Q169.815 888.789 167.362 889.553 Q164.931 890.317 162.153 891.868 L162.153 887.146 Q164.977 886.011 167.431 885.433 Q169.885 884.854 171.922 884.854 Q177.292 884.854 180.487 887.539 Q183.681 890.224 183.681 894.715 Q183.681 896.845 182.871 898.766 Q182.084 900.664 179.977 903.257 Q179.399 903.928 176.297 907.145 Q173.195 910.34 167.547 916.104 Z\" fill=\"#000000\" fill-rule=\"nonzero\" fill-opacity=\"1\" /><path clip-path=\"url(#clip160)\" d=\"M127.339 647.818 Q123.728 647.818 121.899 651.383 Q120.093 654.924 120.093 662.054 Q120.093 669.16 121.899 672.725 Q123.728 676.267 127.339 676.267 Q130.973 676.267 132.779 672.725 Q134.607 669.16 134.607 662.054 Q134.607 654.924 132.779 651.383 Q130.973 647.818 127.339 647.818 M127.339 644.114 Q133.149 644.114 136.204 648.721 Q139.283 653.304 139.283 662.054 Q139.283 670.781 136.204 675.387 Q133.149 679.97 127.339 679.97 Q121.529 679.97 118.45 675.387 Q115.394 670.781 115.394 662.054 Q115.394 653.304 118.45 648.721 Q121.529 644.114 127.339 644.114 Z\" fill=\"#000000\" fill-rule=\"nonzero\" fill-opacity=\"1\" /><path clip-path=\"url(#clip160)\" d=\"M147.501 673.42 L152.385 673.42 L152.385 679.299 L147.501 679.299 L147.501 673.42 Z\" fill=\"#000000\" fill-rule=\"nonzero\" fill-opacity=\"1\" /><path clip-path=\"url(#clip160)\" d=\"M176.737 660.665 Q180.093 661.383 181.968 663.651 Q183.866 665.92 183.866 669.253 Q183.866 674.369 180.348 677.17 Q176.829 679.97 170.348 679.97 Q168.172 679.97 165.857 679.531 Q163.565 679.114 161.112 678.258 L161.112 673.744 Q163.056 674.878 165.371 675.457 Q167.686 676.035 170.209 676.035 Q174.607 676.035 176.899 674.299 Q179.214 672.563 179.214 669.253 Q179.214 666.197 177.061 664.484 Q174.931 662.748 171.112 662.748 L167.084 662.748 L167.084 658.906 L171.297 658.906 Q174.746 658.906 176.575 657.54 Q178.403 656.151 178.403 653.559 Q178.403 650.897 176.505 649.485 Q174.63 648.049 171.112 648.049 Q169.19 648.049 166.991 648.466 Q164.792 648.883 162.153 649.762 L162.153 645.596 Q164.815 644.855 167.13 644.485 Q169.468 644.114 171.528 644.114 Q176.852 644.114 179.954 646.545 Q183.056 648.952 183.056 653.072 Q183.056 655.943 181.413 657.934 Q179.769 659.901 176.737 660.665 Z\" fill=\"#000000\" fill-rule=\"nonzero\" fill-opacity=\"1\" /><path clip-path=\"url(#clip160)\" d=\"M126.205 407.078 Q122.593 407.078 120.765 410.643 Q118.959 414.185 118.959 421.314 Q118.959 428.421 120.765 431.985 Q122.593 435.527 126.205 435.527 Q129.839 435.527 131.644 431.985 Q133.473 428.421 133.473 421.314 Q133.473 414.185 131.644 410.643 Q129.839 407.078 126.205 407.078 M126.205 403.375 Q132.015 403.375 135.07 407.981 Q138.149 412.564 138.149 421.314 Q138.149 430.041 135.07 434.647 Q132.015 439.231 126.205 439.231 Q120.394 439.231 117.316 434.647 Q114.26 430.041 114.26 421.314 Q114.26 412.564 117.316 407.981 Q120.394 403.375 126.205 403.375 Z\" fill=\"#000000\" fill-rule=\"nonzero\" fill-opacity=\"1\" /><path clip-path=\"url(#clip160)\" d=\"M146.366 432.68 L151.251 432.68 L151.251 438.56 L146.366 438.56 L146.366 432.68 Z\" fill=\"#000000\" fill-rule=\"nonzero\" fill-opacity=\"1\" /><path clip-path=\"url(#clip160)\" d=\"M174.283 408.074 L162.477 426.523 L174.283 426.523 L174.283 408.074 M173.056 404 L178.936 404 L178.936 426.523 L183.866 426.523 L183.866 430.411 L178.936 430.411 L178.936 438.56 L174.283 438.56 L174.283 430.411 L158.681 430.411 L158.681 425.898 L173.056 404 Z\" fill=\"#000000\" fill-rule=\"nonzero\" fill-opacity=\"1\" /><path clip-path=\"url(#clip160)\" d=\"M127.686 166.338 Q124.075 166.338 122.246 169.903 Q120.441 173.445 120.441 180.575 Q120.441 187.681 122.246 191.246 Q124.075 194.787 127.686 194.787 Q131.32 194.787 133.126 191.246 Q134.954 187.681 134.954 180.575 Q134.954 173.445 133.126 169.903 Q131.32 166.338 127.686 166.338 M127.686 162.635 Q133.496 162.635 136.552 167.241 Q139.63 171.825 139.63 180.575 Q139.63 189.301 136.552 193.908 Q133.496 198.491 127.686 198.491 Q121.876 198.491 118.797 193.908 Q115.742 189.301 115.742 180.575 Q115.742 171.825 118.797 167.241 Q121.876 162.635 127.686 162.635 Z\" fill=\"#000000\" fill-rule=\"nonzero\" fill-opacity=\"1\" /><path clip-path=\"url(#clip160)\" d=\"M147.848 191.94 L152.732 191.94 L152.732 197.82 L147.848 197.82 L147.848 191.94 Z\" fill=\"#000000\" fill-rule=\"nonzero\" fill-opacity=\"1\" /><path clip-path=\"url(#clip160)\" d=\"M162.964 163.26 L181.32 163.26 L181.32 167.195 L167.246 167.195 L167.246 175.667 Q168.264 175.32 169.283 175.158 Q170.302 174.973 171.32 174.973 Q177.107 174.973 180.487 178.144 Q183.866 181.315 183.866 186.732 Q183.866 192.311 180.394 195.412 Q176.922 198.491 170.602 198.491 Q168.427 198.491 166.158 198.121 Q163.913 197.75 161.505 197.01 L161.505 192.311 Q163.589 193.445 165.811 194 Q168.033 194.556 170.51 194.556 Q174.514 194.556 176.852 192.449 Q179.19 190.343 179.19 186.732 Q179.19 183.121 176.852 181.014 Q174.514 178.908 170.51 178.908 Q168.635 178.908 166.76 179.325 Q164.908 179.741 162.964 180.621 L162.964 163.26 Z\" fill=\"#000000\" fill-rule=\"nonzero\" fill-opacity=\"1\" /><path clip-path=\"url(#clip160)\" d=\"M20.0391 721.606 Q21.1985 721.895 21.6172 722.507 L22.6478 724.891 Q22.6478 726.082 22.3902 726.211 Q21.7138 726.759 21.0053 726.855 Q20.49 726.855 20.1679 727.145 Q19.8137 727.403 19.8137 727.854 Q19.8137 728.788 20.2968 729.367 Q21.3918 730.752 23.9682 731.622 Q26.0938 732.362 34.2741 734.456 L61.7779 741.187 L63.7425 744.89 Q52.6315 747.757 43.807 750.784 Q34.9504 753.811 27.994 757.741 L38.3643 760.639 Q50.6347 764.504 52.1484 765.245 Q57.1725 767.531 60.3931 771.331 Q63.5492 775.1 63.5492 778.642 Q63.5492 780.929 62.1644 781.959 Q61.005 782.893 59.6523 782.539 Q58.3963 782.281 57.2369 780.832 Q56.5606 779.93 56.5606 779.19 Q56.5606 778.03 57.1725 777.579 Q57.2369 777.515 57.4623 777.418 Q57.6878 777.322 58.0098 777.193 Q58.2997 777.064 58.4607 777 Q59.3947 776.613 59.3947 775.357 Q59.3947 773.296 57.559 771.009 Q56.8504 770.14 55.8198 769.399 Q54.757 768.626 54.1129 768.304 Q53.4688 767.95 52.0195 767.241 Q48.1226 765.534 41.9713 763.924 L24.9022 759.641 Q22.9054 761.187 21.9393 762.604 Q20.8765 764.182 20.8765 765.47 Q20.8765 767.885 22.2613 769.464 Q22.9054 770.301 23.9682 771.074 Q25.031 771.815 25.7718 772.201 Q26.5125 772.587 27.8651 773.167 L28.1872 774.681 Q22.2935 773.199 19.4272 769.689 Q17.044 766.629 17.044 762.604 Q17.044 758.739 21.1985 755.744 Q22.519 754.713 24.3869 753.747 Q26.2226 752.749 27.3499 752.298 Q28.4449 751.815 30.8925 750.816 L55.1113 742.056 L54.3062 741.38 L31.6332 736.291 Q27.5753 735.325 23.5174 733.393 Q20.2324 731.911 18.8475 730.172 Q16.7219 727.564 16.7219 724.375 Q16.7219 722.894 17.7203 721.992 Q18.6221 721.284 20.0391 721.606 Z\" fill=\"#000000\" fill-rule=\"nonzero\" fill-opacity=\"1\" /><path clip-path=\"url(#clip160)\" d=\"M74.7098 714.838 L73.2895 714.838 L51.6247 700.658 Q51.061 700.297 51.0836 699.733 Q51.0836 699.215 51.2865 699.102 Q51.4894 698.989 52.2784 698.989 L73.2895 698.989 L73.2895 694.368 L74.7098 694.368 L74.7098 698.989 L78.7227 698.989 Q80.0528 698.989 80.4811 698.448 Q80.9094 697.885 80.9094 695.495 L80.9094 694.526 L82.3297 694.526 Q82.1945 696.419 82.1945 700.793 Q82.1945 705.144 82.3297 707.037 L80.9094 707.037 L80.9094 706.068 Q80.9094 703.678 80.5036 703.115 Q80.0753 702.551 78.7227 702.551 L74.7098 702.551 L74.7098 714.838 M73.2895 713.53 L73.2895 702.281 L56.0658 702.281 L73.2895 713.53 Z\" fill=\"#000000\" fill-rule=\"nonzero\" fill-opacity=\"1\" /><polyline clip-path=\"url(#clip162)\" style=\"stroke:#ff0000; stroke-linecap:round; stroke-linejoin:round; stroke-width:8; stroke-opacity:1; fill:none\" points=\"280.231,171.528 682.663,815.709 1085.1,1108.85 1487.53,1157 1889.96,1158.03 2292.39,1160.36 \"/>\n",
       "<circle clip-path=\"url(#clip162)\" cx=\"280.231\" cy=\"171.528\" r=\"14.4\" fill=\"#ff0000\" fill-rule=\"evenodd\" fill-opacity=\"1\" stroke=\"#000000\" stroke-opacity=\"1\" stroke-width=\"3.2\"/>\n",
       "<circle clip-path=\"url(#clip162)\" cx=\"682.663\" cy=\"815.709\" r=\"14.4\" fill=\"#ff0000\" fill-rule=\"evenodd\" fill-opacity=\"1\" stroke=\"#000000\" stroke-opacity=\"1\" stroke-width=\"3.2\"/>\n",
       "<circle clip-path=\"url(#clip162)\" cx=\"1085.1\" cy=\"1108.85\" r=\"14.4\" fill=\"#ff0000\" fill-rule=\"evenodd\" fill-opacity=\"1\" stroke=\"#000000\" stroke-opacity=\"1\" stroke-width=\"3.2\"/>\n",
       "<circle clip-path=\"url(#clip162)\" cx=\"1487.53\" cy=\"1157\" r=\"14.4\" fill=\"#ff0000\" fill-rule=\"evenodd\" fill-opacity=\"1\" stroke=\"#000000\" stroke-opacity=\"1\" stroke-width=\"3.2\"/>\n",
       "<circle clip-path=\"url(#clip162)\" cx=\"1889.96\" cy=\"1158.03\" r=\"14.4\" fill=\"#ff0000\" fill-rule=\"evenodd\" fill-opacity=\"1\" stroke=\"#000000\" stroke-opacity=\"1\" stroke-width=\"3.2\"/>\n",
       "<circle clip-path=\"url(#clip162)\" cx=\"2292.39\" cy=\"1160.36\" r=\"14.4\" fill=\"#ff0000\" fill-rule=\"evenodd\" fill-opacity=\"1\" stroke=\"#000000\" stroke-opacity=\"1\" stroke-width=\"3.2\"/>\n",
       "<polyline clip-path=\"url(#clip162)\" style=\"stroke:#0000ff; stroke-linecap:round; stroke-linejoin:round; stroke-width:8; stroke-opacity:1; fill:none\" stroke-dasharray=\"32, 20\" points=\"280.231,86.1857 682.663,718.64 1085.1,1384.24 1487.53,874.615 1889.96,1384.24 2292.39,1384.24 \"/>\n",
       "<circle clip-path=\"url(#clip162)\" cx=\"280.231\" cy=\"86.1857\" r=\"14.4\" fill=\"#0000ff\" fill-rule=\"evenodd\" fill-opacity=\"1\" stroke=\"#000000\" stroke-opacity=\"1\" stroke-width=\"3.2\"/>\n",
       "<circle clip-path=\"url(#clip162)\" cx=\"682.663\" cy=\"718.64\" r=\"14.4\" fill=\"#0000ff\" fill-rule=\"evenodd\" fill-opacity=\"1\" stroke=\"#000000\" stroke-opacity=\"1\" stroke-width=\"3.2\"/>\n",
       "<circle clip-path=\"url(#clip162)\" cx=\"1085.1\" cy=\"1384.24\" r=\"14.4\" fill=\"#0000ff\" fill-rule=\"evenodd\" fill-opacity=\"1\" stroke=\"#000000\" stroke-opacity=\"1\" stroke-width=\"3.2\"/>\n",
       "<circle clip-path=\"url(#clip162)\" cx=\"1487.53\" cy=\"874.615\" r=\"14.4\" fill=\"#0000ff\" fill-rule=\"evenodd\" fill-opacity=\"1\" stroke=\"#000000\" stroke-opacity=\"1\" stroke-width=\"3.2\"/>\n",
       "<circle clip-path=\"url(#clip162)\" cx=\"1889.96\" cy=\"1384.24\" r=\"14.4\" fill=\"#0000ff\" fill-rule=\"evenodd\" fill-opacity=\"1\" stroke=\"#000000\" stroke-opacity=\"1\" stroke-width=\"3.2\"/>\n",
       "<circle clip-path=\"url(#clip162)\" cx=\"2292.39\" cy=\"1384.24\" r=\"14.4\" fill=\"#0000ff\" fill-rule=\"evenodd\" fill-opacity=\"1\" stroke=\"#000000\" stroke-opacity=\"1\" stroke-width=\"3.2\"/>\n",
       "<path clip-path=\"url(#clip160)\" d=\"M1891.52 248.629 L2281.66 248.629 L2281.66 93.1086 L1891.52 93.1086  Z\" fill=\"#ffffff\" fill-rule=\"evenodd\" fill-opacity=\"1\"/>\n",
       "<polyline clip-path=\"url(#clip160)\" style=\"stroke:#000000; stroke-linecap:round; stroke-linejoin:round; stroke-width:4; stroke-opacity:1; fill:none\" points=\"1891.52,248.629 2281.66,248.629 2281.66,93.1086 1891.52,93.1086 1891.52,248.629 \"/>\n",
       "<polyline clip-path=\"url(#clip160)\" style=\"stroke:#ff0000; stroke-linecap:round; stroke-linejoin:round; stroke-width:8; stroke-opacity:1; fill:none\" points=\"1915.22,144.949 2057.41,144.949 \"/>\n",
       "<circle clip-path=\"url(#clip160)\" cx=\"1986.31\" cy=\"144.949\" r=\"19.749\" fill=\"#ff0000\" fill-rule=\"evenodd\" fill-opacity=\"1\" stroke=\"#000000\" stroke-opacity=\"1\" stroke-width=\"4.55111\"/>\n",
       "<path clip-path=\"url(#clip160)\" d=\"M2081.78 158.293 L2089.42 158.293 L2089.42 131.928 L2081.11 133.595 L2081.11 129.335 L2089.37 127.669 L2094.05 127.669 L2094.05 158.293 L2101.69 158.293 L2101.69 162.229 L2081.78 162.229 L2081.78 158.293 Z\" fill=\"#000000\" fill-rule=\"nonzero\" fill-opacity=\"1\" /><path clip-path=\"url(#clip160)\" d=\"M2118.1 127.669 L2122.04 127.669 L2110 166.627 L2106.06 166.627 L2118.1 127.669 Z\" fill=\"#000000\" fill-rule=\"nonzero\" fill-opacity=\"1\" /><path clip-path=\"url(#clip160)\" d=\"M2131.13 158.293 L2147.45 158.293 L2147.45 162.229 L2125.51 162.229 L2125.51 158.293 Q2128.17 155.539 2132.75 150.909 Q2137.36 146.256 2138.54 144.914 Q2140.79 142.391 2141.67 140.655 Q2142.57 138.895 2142.57 137.206 Q2142.57 134.451 2140.62 132.715 Q2138.7 130.979 2135.6 130.979 Q2133.4 130.979 2130.95 131.743 Q2128.52 132.507 2125.74 134.057 L2125.74 129.335 Q2128.56 128.201 2131.02 127.622 Q2133.47 127.044 2135.51 127.044 Q2140.88 127.044 2144.07 129.729 Q2147.27 132.414 2147.27 136.905 Q2147.27 139.034 2146.46 140.956 Q2145.67 142.854 2143.56 145.446 Q2142.98 146.118 2139.88 149.335 Q2136.78 152.53 2131.13 158.293 Z\" fill=\"#000000\" fill-rule=\"nonzero\" fill-opacity=\"1\" /><path clip-path=\"url(#clip160)\" d=\"M2154.51 147.344 L2166.99 147.344 L2166.99 151.141 L2154.51 151.141 L2154.51 147.344 Z\" fill=\"#000000\" fill-rule=\"nonzero\" fill-opacity=\"1\" /><path clip-path=\"url(#clip160)\" d=\"M2171.62 147.344 L2184.1 147.344 L2184.1 151.141 L2171.62 151.141 L2171.62 147.344 Z\" fill=\"#000000\" fill-rule=\"nonzero\" fill-opacity=\"1\" /><path clip-path=\"url(#clip160)\" d=\"M2205.65 143.594 Q2209 144.312 2210.88 146.581 Q2212.78 148.849 2212.78 152.182 Q2212.78 157.298 2209.26 160.099 Q2205.74 162.9 2199.26 162.9 Q2197.08 162.9 2194.77 162.46 Q2192.48 162.043 2190.02 161.187 L2190.02 156.673 Q2191.97 157.807 2194.28 158.386 Q2196.6 158.965 2199.12 158.965 Q2203.52 158.965 2205.81 157.229 Q2208.12 155.493 2208.12 152.182 Q2208.12 149.127 2205.97 147.414 Q2203.84 145.678 2200.02 145.678 L2195.99 145.678 L2195.99 141.835 L2200.21 141.835 Q2203.66 141.835 2205.48 140.469 Q2207.31 139.081 2207.31 136.488 Q2207.31 133.826 2205.41 132.414 Q2203.54 130.979 2200.02 130.979 Q2198.1 130.979 2195.9 131.395 Q2193.7 131.812 2191.06 132.692 L2191.06 128.525 Q2193.73 127.784 2196.04 127.414 Q2198.38 127.044 2200.44 127.044 Q2205.76 127.044 2208.86 129.474 Q2211.97 131.882 2211.97 136.002 Q2211.97 138.872 2210.32 140.863 Q2208.68 142.831 2205.65 143.594 Z\" fill=\"#000000\" fill-rule=\"nonzero\" fill-opacity=\"1\" /><path clip-path=\"url(#clip160)\" d=\"M2228.61 127.669 L2232.54 127.669 L2220.51 166.627 L2216.57 166.627 L2228.61 127.669 Z\" fill=\"#000000\" fill-rule=\"nonzero\" fill-opacity=\"1\" /><path clip-path=\"url(#clip160)\" d=\"M2241.64 158.293 L2257.96 158.293 L2257.96 162.229 L2236.02 162.229 L2236.02 158.293 Q2238.68 155.539 2243.26 150.909 Q2247.87 146.256 2249.05 144.914 Q2251.29 142.391 2252.17 140.655 Q2253.08 138.895 2253.08 137.206 Q2253.08 134.451 2251.13 132.715 Q2249.21 130.979 2246.11 130.979 Q2243.91 130.979 2241.46 131.743 Q2239.03 132.507 2236.25 134.057 L2236.25 129.335 Q2239.07 128.201 2241.53 127.622 Q2243.98 127.044 2246.02 127.044 Q2251.39 127.044 2254.58 129.729 Q2257.78 132.414 2257.78 136.905 Q2257.78 139.034 2256.97 140.956 Q2256.18 142.854 2254.07 145.446 Q2253.49 146.118 2250.39 149.335 Q2247.29 152.53 2241.64 158.293 Z\" fill=\"#000000\" fill-rule=\"nonzero\" fill-opacity=\"1\" /><polyline clip-path=\"url(#clip160)\" style=\"stroke:#0000ff; stroke-linecap:round; stroke-linejoin:round; stroke-width:8; stroke-opacity:1; fill:none\" stroke-dasharray=\"32, 20\" points=\"1915.22,196.789 2057.41,196.789 \"/>\n",
       "<circle clip-path=\"url(#clip160)\" cx=\"1986.31\" cy=\"196.789\" r=\"19.749\" fill=\"#0000ff\" fill-rule=\"evenodd\" fill-opacity=\"1\" stroke=\"#000000\" stroke-opacity=\"1\" stroke-width=\"4.55111\"/>\n",
       "<path clip-path=\"url(#clip160)\" d=\"M2081.78 210.133 L2089.42 210.133 L2089.42 183.768 L2081.11 185.435 L2081.11 181.175 L2089.37 179.509 L2094.05 179.509 L2094.05 210.133 L2101.69 210.133 L2101.69 214.069 L2081.78 214.069 L2081.78 210.133 Z\" fill=\"#000000\" fill-rule=\"nonzero\" fill-opacity=\"1\" /><path clip-path=\"url(#clip160)\" d=\"M2118.1 179.509 L2122.04 179.509 L2110 218.467 L2106.06 218.467 L2118.1 179.509 Z\" fill=\"#000000\" fill-rule=\"nonzero\" fill-opacity=\"1\" /><path clip-path=\"url(#clip160)\" d=\"M2131.13 210.133 L2147.45 210.133 L2147.45 214.069 L2125.51 214.069 L2125.51 210.133 Q2128.17 207.379 2132.75 202.749 Q2137.36 198.096 2138.54 196.754 Q2140.79 194.231 2141.67 192.495 Q2142.57 190.735 2142.57 189.046 Q2142.57 186.291 2140.62 184.555 Q2138.7 182.819 2135.6 182.819 Q2133.4 182.819 2130.95 183.583 Q2128.52 184.347 2125.74 185.897 L2125.74 181.175 Q2128.56 180.041 2131.02 179.462 Q2133.47 178.884 2135.51 178.884 Q2140.88 178.884 2144.07 181.569 Q2147.27 184.254 2147.27 188.745 Q2147.27 190.874 2146.46 192.796 Q2145.67 194.694 2143.56 197.286 Q2142.98 197.958 2139.88 201.175 Q2136.78 204.37 2131.13 210.133 Z\" fill=\"#000000\" fill-rule=\"nonzero\" fill-opacity=\"1\" /><path clip-path=\"url(#clip160)\" d=\"M2154.51 199.184 L2166.99 199.184 L2166.99 202.981 L2154.51 202.981 L2154.51 199.184 Z\" fill=\"#000000\" fill-rule=\"nonzero\" fill-opacity=\"1\" /><path clip-path=\"url(#clip160)\" d=\"M2171.62 199.184 L2184.1 199.184 L2184.1 202.981 L2171.62 202.981 L2171.62 199.184 Z\" fill=\"#000000\" fill-rule=\"nonzero\" fill-opacity=\"1\" /><path clip-path=\"url(#clip160)\" d=\"M2192.29 210.133 L2199.93 210.133 L2199.93 183.768 L2191.62 185.435 L2191.62 181.175 L2199.88 179.509 L2204.56 179.509 L2204.56 210.133 L2212.2 210.133 L2212.2 214.069 L2192.29 214.069 L2192.29 210.133 Z\" fill=\"#000000\" fill-rule=\"nonzero\" fill-opacity=\"1\" /><path clip-path=\"url(#clip160)\" d=\"M2228.61 179.509 L2232.54 179.509 L2220.51 218.467 L2216.57 218.467 L2228.61 179.509 Z\" fill=\"#000000\" fill-rule=\"nonzero\" fill-opacity=\"1\" /><path clip-path=\"url(#clip160)\" d=\"M2241.64 210.133 L2257.96 210.133 L2257.96 214.069 L2236.02 214.069 L2236.02 210.133 Q2238.68 207.379 2243.26 202.749 Q2247.87 198.096 2249.05 196.754 Q2251.29 194.231 2252.17 192.495 Q2253.08 190.735 2253.08 189.046 Q2253.08 186.291 2251.13 184.555 Q2249.21 182.819 2246.11 182.819 Q2243.91 182.819 2241.46 183.583 Q2239.03 184.347 2236.25 185.897 L2236.25 181.175 Q2239.07 180.041 2241.53 179.462 Q2243.98 178.884 2246.02 178.884 Q2251.39 178.884 2254.58 181.569 Q2257.78 184.254 2257.78 188.745 Q2257.78 190.874 2256.97 192.796 Q2256.18 194.694 2254.07 197.286 Q2253.49 197.958 2250.39 201.175 Q2247.29 204.37 2241.64 210.133 Z\" fill=\"#000000\" fill-rule=\"nonzero\" fill-opacity=\"1\" /></svg>\n"
      ],
      "text/html": [
       "<?xml version=\"1.0\" encoding=\"utf-8\"?>\n",
       "<svg xmlns=\"http://www.w3.org/2000/svg\" xmlns:xlink=\"http://www.w3.org/1999/xlink\" width=\"600\" height=\"400\" viewBox=\"0 0 2400 1600\">\n",
       "<defs>\n",
       "  <clipPath id=\"clip210\">\n",
       "    <rect x=\"0\" y=\"0\" width=\"2400\" height=\"1600\"/>\n",
       "  </clipPath>\n",
       "</defs>\n",
       "<path clip-path=\"url(#clip210)\" d=\"M0 1600 L2400 1600 L2400 0 L0 0  Z\" fill=\"#ffffff\" fill-rule=\"evenodd\" fill-opacity=\"1\"/>\n",
       "<defs>\n",
       "  <clipPath id=\"clip211\">\n",
       "    <rect x=\"480\" y=\"0\" width=\"1681\" height=\"1600\"/>\n",
       "  </clipPath>\n",
       "</defs>\n",
       "<path clip-path=\"url(#clip210)\" d=\"M219.866 1423.18 L2352.76 1423.18 L2352.76 47.2441 L219.866 47.2441  Z\" fill=\"#ffffff\" fill-rule=\"evenodd\" fill-opacity=\"1\"/>\n",
       "<defs>\n",
       "  <clipPath id=\"clip212\">\n",
       "    <rect x=\"219\" y=\"47\" width=\"2134\" height=\"1377\"/>\n",
       "  </clipPath>\n",
       "</defs>\n",
       "<polyline clip-path=\"url(#clip212)\" style=\"stroke:#000000; stroke-linecap:round; stroke-linejoin:round; stroke-width:2; stroke-opacity:0.1; fill:none\" points=\"280.231,1423.18 280.231,47.2441 \"/>\n",
       "<polyline clip-path=\"url(#clip212)\" style=\"stroke:#000000; stroke-linecap:round; stroke-linejoin:round; stroke-width:2; stroke-opacity:0.1; fill:none\" points=\"682.663,1423.18 682.663,47.2441 \"/>\n",
       "<polyline clip-path=\"url(#clip212)\" style=\"stroke:#000000; stroke-linecap:round; stroke-linejoin:round; stroke-width:2; stroke-opacity:0.1; fill:none\" points=\"1085.1,1423.18 1085.1,47.2441 \"/>\n",
       "<polyline clip-path=\"url(#clip212)\" style=\"stroke:#000000; stroke-linecap:round; stroke-linejoin:round; stroke-width:2; stroke-opacity:0.1; fill:none\" points=\"1487.53,1423.18 1487.53,47.2441 \"/>\n",
       "<polyline clip-path=\"url(#clip212)\" style=\"stroke:#000000; stroke-linecap:round; stroke-linejoin:round; stroke-width:2; stroke-opacity:0.1; fill:none\" points=\"1889.96,1423.18 1889.96,47.2441 \"/>\n",
       "<polyline clip-path=\"url(#clip212)\" style=\"stroke:#000000; stroke-linecap:round; stroke-linejoin:round; stroke-width:2; stroke-opacity:0.1; fill:none\" points=\"2292.39,1423.18 2292.39,47.2441 \"/>\n",
       "<polyline clip-path=\"url(#clip212)\" style=\"stroke:#000000; stroke-linecap:round; stroke-linejoin:round; stroke-width:2; stroke-opacity:0.1; fill:none\" points=\"219.866,1384.24 2352.76,1384.24 \"/>\n",
       "<polyline clip-path=\"url(#clip212)\" style=\"stroke:#000000; stroke-linecap:round; stroke-linejoin:round; stroke-width:2; stroke-opacity:0.1; fill:none\" points=\"219.866,1143.5 2352.76,1143.5 \"/>\n",
       "<polyline clip-path=\"url(#clip212)\" style=\"stroke:#000000; stroke-linecap:round; stroke-linejoin:round; stroke-width:2; stroke-opacity:0.1; fill:none\" points=\"219.866,902.759 2352.76,902.759 \"/>\n",
       "<polyline clip-path=\"url(#clip212)\" style=\"stroke:#000000; stroke-linecap:round; stroke-linejoin:round; stroke-width:2; stroke-opacity:0.1; fill:none\" points=\"219.866,662.019 2352.76,662.019 \"/>\n",
       "<polyline clip-path=\"url(#clip212)\" style=\"stroke:#000000; stroke-linecap:round; stroke-linejoin:round; stroke-width:2; stroke-opacity:0.1; fill:none\" points=\"219.866,421.28 2352.76,421.28 \"/>\n",
       "<polyline clip-path=\"url(#clip212)\" style=\"stroke:#000000; stroke-linecap:round; stroke-linejoin:round; stroke-width:2; stroke-opacity:0.1; fill:none\" points=\"219.866,180.54 2352.76,180.54 \"/>\n",
       "<polyline clip-path=\"url(#clip210)\" style=\"stroke:#000000; stroke-linecap:round; stroke-linejoin:round; stroke-width:4; stroke-opacity:1; fill:none\" points=\"219.866,1423.18 2352.76,1423.18 \"/>\n",
       "<polyline clip-path=\"url(#clip210)\" style=\"stroke:#000000; stroke-linecap:round; stroke-linejoin:round; stroke-width:4; stroke-opacity:1; fill:none\" points=\"280.231,1423.18 280.231,1404.28 \"/>\n",
       "<polyline clip-path=\"url(#clip210)\" style=\"stroke:#000000; stroke-linecap:round; stroke-linejoin:round; stroke-width:4; stroke-opacity:1; fill:none\" points=\"682.663,1423.18 682.663,1404.28 \"/>\n",
       "<polyline clip-path=\"url(#clip210)\" style=\"stroke:#000000; stroke-linecap:round; stroke-linejoin:round; stroke-width:4; stroke-opacity:1; fill:none\" points=\"1085.1,1423.18 1085.1,1404.28 \"/>\n",
       "<polyline clip-path=\"url(#clip210)\" style=\"stroke:#000000; stroke-linecap:round; stroke-linejoin:round; stroke-width:4; stroke-opacity:1; fill:none\" points=\"1487.53,1423.18 1487.53,1404.28 \"/>\n",
       "<polyline clip-path=\"url(#clip210)\" style=\"stroke:#000000; stroke-linecap:round; stroke-linejoin:round; stroke-width:4; stroke-opacity:1; fill:none\" points=\"1889.96,1423.18 1889.96,1404.28 \"/>\n",
       "<polyline clip-path=\"url(#clip210)\" style=\"stroke:#000000; stroke-linecap:round; stroke-linejoin:round; stroke-width:4; stroke-opacity:1; fill:none\" points=\"2292.39,1423.18 2292.39,1404.28 \"/>\n",
       "<path clip-path=\"url(#clip210)\" d=\"M280.231 1454.1 Q276.62 1454.1 274.791 1457.66 Q272.986 1461.2 272.986 1468.33 Q272.986 1475.44 274.791 1479.01 Q276.62 1482.55 280.231 1482.55 Q283.865 1482.55 285.671 1479.01 Q287.5 1475.44 287.5 1468.33 Q287.5 1461.2 285.671 1457.66 Q283.865 1454.1 280.231 1454.1 M280.231 1450.39 Q286.041 1450.39 289.097 1455 Q292.175 1459.58 292.175 1468.33 Q292.175 1477.06 289.097 1481.67 Q286.041 1486.25 280.231 1486.25 Q274.421 1486.25 271.342 1481.67 Q268.287 1477.06 268.287 1468.33 Q268.287 1459.58 271.342 1455 Q274.421 1450.39 280.231 1450.39 Z\" fill=\"#000000\" fill-rule=\"nonzero\" fill-opacity=\"1\" /><path clip-path=\"url(#clip210)\" d=\"M673.045 1481.64 L680.684 1481.64 L680.684 1455.28 L672.374 1456.95 L672.374 1452.69 L680.638 1451.02 L685.314 1451.02 L685.314 1481.64 L692.952 1481.64 L692.952 1485.58 L673.045 1485.58 L673.045 1481.64 Z\" fill=\"#000000\" fill-rule=\"nonzero\" fill-opacity=\"1\" /><path clip-path=\"url(#clip210)\" d=\"M1079.75 1481.64 L1096.07 1481.64 L1096.07 1485.58 L1074.12 1485.58 L1074.12 1481.64 Q1076.78 1478.89 1081.37 1474.26 Q1085.97 1469.61 1087.16 1468.27 Q1089.4 1465.74 1090.28 1464.01 Q1091.18 1462.25 1091.18 1460.56 Q1091.18 1457.8 1089.24 1456.07 Q1087.32 1454.33 1084.22 1454.33 Q1082.02 1454.33 1079.56 1455.09 Q1077.13 1455.86 1074.35 1457.41 L1074.35 1452.69 Q1077.18 1451.55 1079.63 1450.97 Q1082.09 1450.39 1084.12 1450.39 Q1089.49 1450.39 1092.69 1453.08 Q1095.88 1455.77 1095.88 1460.26 Q1095.88 1462.39 1095.07 1464.31 Q1094.28 1466.2 1092.18 1468.8 Q1091.6 1469.47 1088.5 1472.69 Q1085.4 1475.88 1079.75 1481.64 Z\" fill=\"#000000\" fill-rule=\"nonzero\" fill-opacity=\"1\" /><path clip-path=\"url(#clip210)\" d=\"M1491.77 1466.95 Q1495.13 1467.66 1497.01 1469.93 Q1498.9 1472.2 1498.9 1475.53 Q1498.9 1480.65 1495.39 1483.45 Q1491.87 1486.25 1485.39 1486.25 Q1483.21 1486.25 1480.9 1485.81 Q1478.6 1485.39 1476.15 1484.54 L1476.15 1480.02 Q1478.09 1481.16 1480.41 1481.74 Q1482.72 1482.32 1485.25 1482.32 Q1489.65 1482.32 1491.94 1480.58 Q1494.25 1478.84 1494.25 1475.53 Q1494.25 1472.48 1492.1 1470.77 Q1489.97 1469.03 1486.15 1469.03 L1482.12 1469.03 L1482.12 1465.19 L1486.33 1465.19 Q1489.78 1465.19 1491.61 1463.82 Q1493.44 1462.43 1493.44 1459.84 Q1493.44 1457.18 1491.54 1455.77 Q1489.67 1454.33 1486.15 1454.33 Q1484.23 1454.33 1482.03 1454.75 Q1479.83 1455.16 1477.19 1456.04 L1477.19 1451.88 Q1479.85 1451.14 1482.17 1450.77 Q1484.51 1450.39 1486.57 1450.39 Q1491.89 1450.39 1494.99 1452.83 Q1498.09 1455.23 1498.09 1459.35 Q1498.09 1462.22 1496.45 1464.21 Q1494.81 1466.18 1491.77 1466.95 Z\" fill=\"#000000\" fill-rule=\"nonzero\" fill-opacity=\"1\" /><path clip-path=\"url(#clip210)\" d=\"M1892.97 1455.09 L1881.16 1473.54 L1892.97 1473.54 L1892.97 1455.09 M1891.74 1451.02 L1897.62 1451.02 L1897.62 1473.54 L1902.55 1473.54 L1902.55 1477.43 L1897.62 1477.43 L1897.62 1485.58 L1892.97 1485.58 L1892.97 1477.43 L1877.37 1477.43 L1877.37 1472.92 L1891.74 1451.02 Z\" fill=\"#000000\" fill-rule=\"nonzero\" fill-opacity=\"1\" /><path clip-path=\"url(#clip210)\" d=\"M2282.67 1451.02 L2301.03 1451.02 L2301.03 1454.96 L2286.95 1454.96 L2286.95 1463.43 Q2287.97 1463.08 2288.99 1462.92 Q2290.01 1462.73 2291.03 1462.73 Q2296.81 1462.73 2300.19 1465.9 Q2303.57 1469.08 2303.57 1474.49 Q2303.57 1480.07 2300.1 1483.17 Q2296.63 1486.25 2290.31 1486.25 Q2288.13 1486.25 2285.86 1485.88 Q2283.62 1485.51 2281.21 1484.77 L2281.21 1480.07 Q2283.29 1481.2 2285.52 1481.76 Q2287.74 1482.32 2290.22 1482.32 Q2294.22 1482.32 2296.56 1480.21 Q2298.9 1478.1 2298.9 1474.49 Q2298.9 1470.88 2296.56 1468.77 Q2294.22 1466.67 2290.22 1466.67 Q2288.34 1466.67 2286.47 1467.08 Q2284.61 1467.5 2282.67 1468.38 L2282.67 1451.02 Z\" fill=\"#000000\" fill-rule=\"nonzero\" fill-opacity=\"1\" /><path clip-path=\"url(#clip210)\" d=\"M1144.61 1522.08 L1144.61 1528.35 Q1140.95 1526.6 1137.7 1525.74 Q1134.46 1524.88 1131.43 1524.88 Q1126.18 1524.88 1123.32 1526.92 Q1120.48 1528.96 1120.48 1532.71 Q1120.48 1535.87 1122.36 1537.49 Q1124.27 1539.08 1129.56 1540.07 L1133.44 1540.86 Q1140.63 1542.23 1144.04 1545.7 Q1147.48 1549.14 1147.48 1554.93 Q1147.48 1561.84 1142.83 1565.4 Q1138.21 1568.97 1129.27 1568.97 Q1125.9 1568.97 1122.08 1568.2 Q1118.29 1567.44 1114.21 1565.94 L1114.21 1559.32 Q1118.13 1561.52 1121.88 1562.63 Q1125.64 1563.75 1129.27 1563.75 Q1134.78 1563.75 1137.77 1561.58 Q1140.76 1559.42 1140.76 1555.41 Q1140.76 1551.91 1138.59 1549.93 Q1136.46 1547.96 1131.56 1546.97 L1127.65 1546.21 Q1120.45 1544.78 1117.24 1541.72 Q1114.02 1538.67 1114.02 1533.22 Q1114.02 1526.92 1118.45 1523.29 Q1122.9 1519.66 1130.7 1519.66 Q1134.04 1519.66 1137.51 1520.27 Q1140.98 1520.87 1144.61 1522.08 Z\" fill=\"#000000\" fill-rule=\"nonzero\" fill-opacity=\"1\" /><path clip-path=\"url(#clip210)\" d=\"M1187.74 1548.76 L1187.74 1551.62 L1160.81 1551.62 Q1161.19 1557.67 1164.44 1560.85 Q1167.72 1564 1173.54 1564 Q1176.92 1564 1180.07 1563.17 Q1183.25 1562.35 1186.37 1560.69 L1186.37 1566.23 Q1183.22 1567.57 1179.91 1568.27 Q1176.6 1568.97 1173.19 1568.97 Q1164.66 1568.97 1159.67 1564 Q1154.7 1559.04 1154.7 1550.57 Q1154.7 1541.82 1159.41 1536.69 Q1164.15 1531.54 1172.17 1531.54 Q1179.37 1531.54 1183.54 1536.18 Q1187.74 1540.8 1187.74 1548.76 M1181.88 1547.04 Q1181.82 1542.23 1179.18 1539.37 Q1176.57 1536.5 1172.24 1536.5 Q1167.34 1536.5 1164.38 1539.27 Q1161.45 1542.04 1161 1547.07 L1181.88 1547.04 Z\" fill=\"#000000\" fill-rule=\"nonzero\" fill-opacity=\"1\" /><path clip-path=\"url(#clip210)\" d=\"M1203.02 1562.7 L1203.02 1581.6 L1197.13 1581.6 L1197.13 1532.4 L1203.02 1532.4 L1203.02 1537.81 Q1204.86 1534.62 1207.66 1533.1 Q1210.5 1531.54 1214.41 1531.54 Q1220.9 1531.54 1224.95 1536.69 Q1229.02 1541.85 1229.02 1550.25 Q1229.02 1558.65 1224.95 1563.81 Q1220.9 1568.97 1214.41 1568.97 Q1210.5 1568.97 1207.66 1567.44 Q1204.86 1565.88 1203.02 1562.7 M1222.94 1550.25 Q1222.94 1543.79 1220.27 1540.13 Q1217.63 1536.44 1212.98 1536.44 Q1208.33 1536.44 1205.66 1540.13 Q1203.02 1543.79 1203.02 1550.25 Q1203.02 1556.71 1205.66 1560.4 Q1208.33 1564.07 1212.98 1564.07 Q1217.63 1564.07 1220.27 1560.4 Q1222.94 1556.71 1222.94 1550.25 Z\" fill=\"#000000\" fill-rule=\"nonzero\" fill-opacity=\"1\" /><path clip-path=\"url(#clip210)\" d=\"M1254.93 1550.12 Q1247.83 1550.12 1245.09 1551.75 Q1242.36 1553.37 1242.36 1557.29 Q1242.36 1560.4 1244.39 1562.25 Q1246.46 1564.07 1249.99 1564.07 Q1254.86 1564.07 1257.79 1560.63 Q1260.75 1557.16 1260.75 1551.43 L1260.75 1550.12 L1254.93 1550.12 M1266.61 1547.71 L1266.61 1568.04 L1260.75 1568.04 L1260.75 1562.63 Q1258.75 1565.88 1255.76 1567.44 Q1252.76 1568.97 1248.44 1568.97 Q1242.96 1568.97 1239.71 1565.91 Q1236.5 1562.82 1236.5 1557.67 Q1236.5 1551.65 1240.51 1548.6 Q1244.55 1545.54 1252.54 1545.54 L1260.75 1545.54 L1260.75 1544.97 Q1260.75 1540.93 1258.08 1538.73 Q1255.44 1536.5 1250.63 1536.5 Q1247.58 1536.5 1244.68 1537.23 Q1241.78 1537.97 1239.11 1539.43 L1239.11 1534.02 Q1242.32 1532.78 1245.35 1532.17 Q1248.37 1531.54 1251.24 1531.54 Q1258.97 1531.54 1262.79 1535.55 Q1266.61 1539.56 1266.61 1547.71 Z\" fill=\"#000000\" fill-rule=\"nonzero\" fill-opacity=\"1\" /><path clip-path=\"url(#clip210)\" d=\"M1299.33 1537.87 Q1298.34 1537.3 1297.16 1537.04 Q1296.02 1536.76 1294.62 1536.76 Q1289.65 1536.76 1286.98 1540 Q1284.34 1543.22 1284.34 1549.27 L1284.34 1568.04 L1278.45 1568.04 L1278.45 1532.4 L1284.34 1532.4 L1284.34 1537.93 Q1286.18 1534.69 1289.14 1533.13 Q1292.1 1531.54 1296.34 1531.54 Q1296.94 1531.54 1297.67 1531.63 Q1298.41 1531.7 1299.3 1531.85 L1299.33 1537.87 Z\" fill=\"#000000\" fill-rule=\"nonzero\" fill-opacity=\"1\" /><path clip-path=\"url(#clip210)\" d=\"M1321.67 1550.12 Q1314.57 1550.12 1311.84 1551.75 Q1309.1 1553.37 1309.1 1557.29 Q1309.1 1560.4 1311.14 1562.25 Q1313.21 1564.07 1316.74 1564.07 Q1321.61 1564.07 1324.54 1560.63 Q1327.5 1557.16 1327.5 1551.43 L1327.5 1550.12 L1321.67 1550.12 M1333.35 1547.71 L1333.35 1568.04 L1327.5 1568.04 L1327.5 1562.63 Q1325.49 1565.88 1322.5 1567.44 Q1319.51 1568.97 1315.18 1568.97 Q1309.71 1568.97 1306.46 1565.91 Q1303.24 1562.82 1303.24 1557.67 Q1303.24 1551.65 1307.25 1548.6 Q1311.3 1545.54 1319.29 1545.54 L1327.5 1545.54 L1327.5 1544.97 Q1327.5 1540.93 1324.82 1538.73 Q1322.18 1536.5 1317.38 1536.5 Q1314.32 1536.5 1311.42 1537.23 Q1308.53 1537.97 1305.85 1539.43 L1305.85 1534.02 Q1309.07 1532.78 1312.09 1532.17 Q1315.12 1531.54 1317.98 1531.54 Q1325.71 1531.54 1329.53 1535.55 Q1333.35 1539.56 1333.35 1547.71 Z\" fill=\"#000000\" fill-rule=\"nonzero\" fill-opacity=\"1\" /><path clip-path=\"url(#clip210)\" d=\"M1351.21 1522.27 L1351.21 1532.4 L1363.27 1532.4 L1363.27 1536.95 L1351.21 1536.95 L1351.21 1556.3 Q1351.21 1560.66 1352.39 1561.9 Q1353.6 1563.14 1357.26 1563.14 L1363.27 1563.14 L1363.27 1568.04 L1357.26 1568.04 Q1350.48 1568.04 1347.9 1565.53 Q1345.32 1562.98 1345.32 1556.3 L1345.32 1536.95 L1341.02 1536.95 L1341.02 1532.4 L1345.32 1532.4 L1345.32 1522.27 L1351.21 1522.27 Z\" fill=\"#000000\" fill-rule=\"nonzero\" fill-opacity=\"1\" /><path clip-path=\"url(#clip210)\" d=\"M1370.97 1532.4 L1376.83 1532.4 L1376.83 1568.04 L1370.97 1568.04 L1370.97 1532.4 M1370.97 1518.52 L1376.83 1518.52 L1376.83 1525.93 L1370.97 1525.93 L1370.97 1518.52 Z\" fill=\"#000000\" fill-rule=\"nonzero\" fill-opacity=\"1\" /><path clip-path=\"url(#clip210)\" d=\"M1402.9 1536.5 Q1398.19 1536.5 1395.45 1540.19 Q1392.71 1543.85 1392.71 1550.25 Q1392.71 1556.65 1395.42 1560.34 Q1398.16 1564 1402.9 1564 Q1407.58 1564 1410.32 1560.31 Q1413.05 1556.62 1413.05 1550.25 Q1413.05 1543.92 1410.32 1540.23 Q1407.58 1536.5 1402.9 1536.5 M1402.9 1531.54 Q1410.54 1531.54 1414.9 1536.5 Q1419.26 1541.47 1419.26 1550.25 Q1419.26 1559 1414.9 1564 Q1410.54 1568.97 1402.9 1568.97 Q1395.23 1568.97 1390.87 1564 Q1386.54 1559 1386.54 1550.25 Q1386.54 1541.47 1390.87 1536.5 Q1395.23 1531.54 1402.9 1531.54 Z\" fill=\"#000000\" fill-rule=\"nonzero\" fill-opacity=\"1\" /><path clip-path=\"url(#clip210)\" d=\"M1458.6 1546.53 L1458.6 1568.04 L1452.74 1568.04 L1452.74 1546.72 Q1452.74 1541.66 1450.77 1539.14 Q1448.8 1536.63 1444.85 1536.63 Q1440.11 1536.63 1437.37 1539.65 Q1434.63 1542.68 1434.63 1547.9 L1434.63 1568.04 L1428.74 1568.04 L1428.74 1532.4 L1434.63 1532.4 L1434.63 1537.93 Q1436.73 1534.72 1439.57 1533.13 Q1442.43 1531.54 1446.15 1531.54 Q1452.3 1531.54 1455.45 1535.36 Q1458.6 1539.14 1458.6 1546.53 Z\" fill=\"#000000\" fill-rule=\"nonzero\" fill-opacity=\"1\" /><polyline clip-path=\"url(#clip210)\" style=\"stroke:#000000; stroke-linecap:round; stroke-linejoin:round; stroke-width:4; stroke-opacity:1; fill:none\" points=\"219.866,1423.18 219.866,47.2441 \"/>\n",
       "<polyline clip-path=\"url(#clip210)\" style=\"stroke:#000000; stroke-linecap:round; stroke-linejoin:round; stroke-width:4; stroke-opacity:1; fill:none\" points=\"219.866,1384.24 238.764,1384.24 \"/>\n",
       "<polyline clip-path=\"url(#clip210)\" style=\"stroke:#000000; stroke-linecap:round; stroke-linejoin:round; stroke-width:4; stroke-opacity:1; fill:none\" points=\"219.866,1143.5 238.764,1143.5 \"/>\n",
       "<polyline clip-path=\"url(#clip210)\" style=\"stroke:#000000; stroke-linecap:round; stroke-linejoin:round; stroke-width:4; stroke-opacity:1; fill:none\" points=\"219.866,902.759 238.764,902.759 \"/>\n",
       "<polyline clip-path=\"url(#clip210)\" style=\"stroke:#000000; stroke-linecap:round; stroke-linejoin:round; stroke-width:4; stroke-opacity:1; fill:none\" points=\"219.866,662.019 238.764,662.019 \"/>\n",
       "<polyline clip-path=\"url(#clip210)\" style=\"stroke:#000000; stroke-linecap:round; stroke-linejoin:round; stroke-width:4; stroke-opacity:1; fill:none\" points=\"219.866,421.28 238.764,421.28 \"/>\n",
       "<polyline clip-path=\"url(#clip210)\" style=\"stroke:#000000; stroke-linecap:round; stroke-linejoin:round; stroke-width:4; stroke-opacity:1; fill:none\" points=\"219.866,180.54 238.764,180.54 \"/>\n",
       "<path clip-path=\"url(#clip210)\" d=\"M126.691 1370.04 Q123.08 1370.04 121.251 1373.6 Q119.445 1377.14 119.445 1384.27 Q119.445 1391.38 121.251 1394.94 Q123.08 1398.49 126.691 1398.49 Q130.325 1398.49 132.13 1394.94 Q133.959 1391.38 133.959 1384.27 Q133.959 1377.14 132.13 1373.6 Q130.325 1370.04 126.691 1370.04 M126.691 1366.33 Q132.501 1366.33 135.556 1370.94 Q138.635 1375.52 138.635 1384.27 Q138.635 1393 135.556 1397.61 Q132.501 1402.19 126.691 1402.19 Q120.88 1402.19 117.802 1397.61 Q114.746 1393 114.746 1384.27 Q114.746 1375.52 117.802 1370.94 Q120.88 1366.33 126.691 1366.33 Z\" fill=\"#000000\" fill-rule=\"nonzero\" fill-opacity=\"1\" /><path clip-path=\"url(#clip210)\" d=\"M146.853 1395.64 L151.737 1395.64 L151.737 1401.52 L146.853 1401.52 L146.853 1395.64 Z\" fill=\"#000000\" fill-rule=\"nonzero\" fill-opacity=\"1\" /><path clip-path=\"url(#clip210)\" d=\"M171.922 1370.04 Q168.311 1370.04 166.482 1373.6 Q164.677 1377.14 164.677 1384.27 Q164.677 1391.38 166.482 1394.94 Q168.311 1398.49 171.922 1398.49 Q175.556 1398.49 177.362 1394.94 Q179.19 1391.38 179.19 1384.27 Q179.19 1377.14 177.362 1373.6 Q175.556 1370.04 171.922 1370.04 M171.922 1366.33 Q177.732 1366.33 180.788 1370.94 Q183.866 1375.52 183.866 1384.27 Q183.866 1393 180.788 1397.61 Q177.732 1402.19 171.922 1402.19 Q166.112 1402.19 163.033 1397.61 Q159.978 1393 159.978 1384.27 Q159.978 1375.52 163.033 1370.94 Q166.112 1366.33 171.922 1366.33 Z\" fill=\"#000000\" fill-rule=\"nonzero\" fill-opacity=\"1\" /><path clip-path=\"url(#clip210)\" d=\"M127.917 1129.3 Q124.306 1129.3 122.478 1132.86 Q120.672 1136.4 120.672 1143.53 Q120.672 1150.64 122.478 1154.2 Q124.306 1157.75 127.917 1157.75 Q131.552 1157.75 133.357 1154.2 Q135.186 1150.64 135.186 1143.53 Q135.186 1136.4 133.357 1132.86 Q131.552 1129.3 127.917 1129.3 M127.917 1125.59 Q133.728 1125.59 136.783 1130.2 Q139.862 1134.78 139.862 1143.53 Q139.862 1152.26 136.783 1156.87 Q133.728 1161.45 127.917 1161.45 Q122.107 1161.45 119.029 1156.87 Q115.973 1152.26 115.973 1143.53 Q115.973 1134.78 119.029 1130.2 Q122.107 1125.59 127.917 1125.59 Z\" fill=\"#000000\" fill-rule=\"nonzero\" fill-opacity=\"1\" /><path clip-path=\"url(#clip210)\" d=\"M148.079 1154.9 L152.964 1154.9 L152.964 1160.78 L148.079 1160.78 L148.079 1154.9 Z\" fill=\"#000000\" fill-rule=\"nonzero\" fill-opacity=\"1\" /><path clip-path=\"url(#clip210)\" d=\"M163.959 1156.84 L171.598 1156.84 L171.598 1130.48 L163.288 1132.14 L163.288 1127.89 L171.552 1126.22 L176.227 1126.22 L176.227 1156.84 L183.866 1156.84 L183.866 1160.78 L163.959 1160.78 L163.959 1156.84 Z\" fill=\"#000000\" fill-rule=\"nonzero\" fill-opacity=\"1\" /><path clip-path=\"url(#clip210)\" d=\"M128.288 888.558 Q124.677 888.558 122.848 892.122 Q121.043 895.664 121.043 902.794 Q121.043 909.9 122.848 913.465 Q124.677 917.006 128.288 917.006 Q131.922 917.006 133.728 913.465 Q135.556 909.9 135.556 902.794 Q135.556 895.664 133.728 892.122 Q131.922 888.558 128.288 888.558 M128.288 884.854 Q134.098 884.854 137.154 889.46 Q140.232 894.044 140.232 902.794 Q140.232 911.52 137.154 916.127 Q134.098 920.71 128.288 920.71 Q122.478 920.71 119.399 916.127 Q116.343 911.52 116.343 902.794 Q116.343 894.044 119.399 889.46 Q122.478 884.854 128.288 884.854 Z\" fill=\"#000000\" fill-rule=\"nonzero\" fill-opacity=\"1\" /><path clip-path=\"url(#clip210)\" d=\"M148.45 914.159 L153.334 914.159 L153.334 920.039 L148.45 920.039 L148.45 914.159 Z\" fill=\"#000000\" fill-rule=\"nonzero\" fill-opacity=\"1\" /><path clip-path=\"url(#clip210)\" d=\"M167.547 916.104 L183.866 916.104 L183.866 920.039 L161.922 920.039 L161.922 916.104 Q164.584 913.349 169.167 908.719 Q173.774 904.067 174.954 902.724 Q177.2 900.201 178.079 898.465 Q178.982 896.706 178.982 895.016 Q178.982 892.261 177.038 890.525 Q175.116 888.789 172.014 888.789 Q169.815 888.789 167.362 889.553 Q164.931 890.317 162.153 891.868 L162.153 887.146 Q164.977 886.011 167.431 885.433 Q169.885 884.854 171.922 884.854 Q177.292 884.854 180.487 887.539 Q183.681 890.224 183.681 894.715 Q183.681 896.845 182.871 898.766 Q182.084 900.664 179.977 903.257 Q179.399 903.928 176.297 907.145 Q173.195 910.34 167.547 916.104 Z\" fill=\"#000000\" fill-rule=\"nonzero\" fill-opacity=\"1\" /><path clip-path=\"url(#clip210)\" d=\"M127.339 647.818 Q123.728 647.818 121.899 651.383 Q120.093 654.924 120.093 662.054 Q120.093 669.16 121.899 672.725 Q123.728 676.267 127.339 676.267 Q130.973 676.267 132.779 672.725 Q134.607 669.16 134.607 662.054 Q134.607 654.924 132.779 651.383 Q130.973 647.818 127.339 647.818 M127.339 644.114 Q133.149 644.114 136.204 648.721 Q139.283 653.304 139.283 662.054 Q139.283 670.781 136.204 675.387 Q133.149 679.97 127.339 679.97 Q121.529 679.97 118.45 675.387 Q115.394 670.781 115.394 662.054 Q115.394 653.304 118.45 648.721 Q121.529 644.114 127.339 644.114 Z\" fill=\"#000000\" fill-rule=\"nonzero\" fill-opacity=\"1\" /><path clip-path=\"url(#clip210)\" d=\"M147.501 673.42 L152.385 673.42 L152.385 679.299 L147.501 679.299 L147.501 673.42 Z\" fill=\"#000000\" fill-rule=\"nonzero\" fill-opacity=\"1\" /><path clip-path=\"url(#clip210)\" d=\"M176.737 660.665 Q180.093 661.383 181.968 663.651 Q183.866 665.92 183.866 669.253 Q183.866 674.369 180.348 677.17 Q176.829 679.97 170.348 679.97 Q168.172 679.97 165.857 679.531 Q163.565 679.114 161.112 678.258 L161.112 673.744 Q163.056 674.878 165.371 675.457 Q167.686 676.035 170.209 676.035 Q174.607 676.035 176.899 674.299 Q179.214 672.563 179.214 669.253 Q179.214 666.197 177.061 664.484 Q174.931 662.748 171.112 662.748 L167.084 662.748 L167.084 658.906 L171.297 658.906 Q174.746 658.906 176.575 657.54 Q178.403 656.151 178.403 653.559 Q178.403 650.897 176.505 649.485 Q174.63 648.049 171.112 648.049 Q169.19 648.049 166.991 648.466 Q164.792 648.883 162.153 649.762 L162.153 645.596 Q164.815 644.855 167.13 644.485 Q169.468 644.114 171.528 644.114 Q176.852 644.114 179.954 646.545 Q183.056 648.952 183.056 653.072 Q183.056 655.943 181.413 657.934 Q179.769 659.901 176.737 660.665 Z\" fill=\"#000000\" fill-rule=\"nonzero\" fill-opacity=\"1\" /><path clip-path=\"url(#clip210)\" d=\"M126.205 407.078 Q122.593 407.078 120.765 410.643 Q118.959 414.185 118.959 421.314 Q118.959 428.421 120.765 431.985 Q122.593 435.527 126.205 435.527 Q129.839 435.527 131.644 431.985 Q133.473 428.421 133.473 421.314 Q133.473 414.185 131.644 410.643 Q129.839 407.078 126.205 407.078 M126.205 403.375 Q132.015 403.375 135.07 407.981 Q138.149 412.564 138.149 421.314 Q138.149 430.041 135.07 434.647 Q132.015 439.231 126.205 439.231 Q120.394 439.231 117.316 434.647 Q114.26 430.041 114.26 421.314 Q114.26 412.564 117.316 407.981 Q120.394 403.375 126.205 403.375 Z\" fill=\"#000000\" fill-rule=\"nonzero\" fill-opacity=\"1\" /><path clip-path=\"url(#clip210)\" d=\"M146.366 432.68 L151.251 432.68 L151.251 438.56 L146.366 438.56 L146.366 432.68 Z\" fill=\"#000000\" fill-rule=\"nonzero\" fill-opacity=\"1\" /><path clip-path=\"url(#clip210)\" d=\"M174.283 408.074 L162.477 426.523 L174.283 426.523 L174.283 408.074 M173.056 404 L178.936 404 L178.936 426.523 L183.866 426.523 L183.866 430.411 L178.936 430.411 L178.936 438.56 L174.283 438.56 L174.283 430.411 L158.681 430.411 L158.681 425.898 L173.056 404 Z\" fill=\"#000000\" fill-rule=\"nonzero\" fill-opacity=\"1\" /><path clip-path=\"url(#clip210)\" d=\"M127.686 166.338 Q124.075 166.338 122.246 169.903 Q120.441 173.445 120.441 180.575 Q120.441 187.681 122.246 191.246 Q124.075 194.787 127.686 194.787 Q131.32 194.787 133.126 191.246 Q134.954 187.681 134.954 180.575 Q134.954 173.445 133.126 169.903 Q131.32 166.338 127.686 166.338 M127.686 162.635 Q133.496 162.635 136.552 167.241 Q139.63 171.825 139.63 180.575 Q139.63 189.301 136.552 193.908 Q133.496 198.491 127.686 198.491 Q121.876 198.491 118.797 193.908 Q115.742 189.301 115.742 180.575 Q115.742 171.825 118.797 167.241 Q121.876 162.635 127.686 162.635 Z\" fill=\"#000000\" fill-rule=\"nonzero\" fill-opacity=\"1\" /><path clip-path=\"url(#clip210)\" d=\"M147.848 191.94 L152.732 191.94 L152.732 197.82 L147.848 197.82 L147.848 191.94 Z\" fill=\"#000000\" fill-rule=\"nonzero\" fill-opacity=\"1\" /><path clip-path=\"url(#clip210)\" d=\"M162.964 163.26 L181.32 163.26 L181.32 167.195 L167.246 167.195 L167.246 175.667 Q168.264 175.32 169.283 175.158 Q170.302 174.973 171.32 174.973 Q177.107 174.973 180.487 178.144 Q183.866 181.315 183.866 186.732 Q183.866 192.311 180.394 195.412 Q176.922 198.491 170.602 198.491 Q168.427 198.491 166.158 198.121 Q163.913 197.75 161.505 197.01 L161.505 192.311 Q163.589 193.445 165.811 194 Q168.033 194.556 170.51 194.556 Q174.514 194.556 176.852 192.449 Q179.19 190.343 179.19 186.732 Q179.19 183.121 176.852 181.014 Q174.514 178.908 170.51 178.908 Q168.635 178.908 166.76 179.325 Q164.908 179.741 162.964 180.621 L162.964 163.26 Z\" fill=\"#000000\" fill-rule=\"nonzero\" fill-opacity=\"1\" /><path clip-path=\"url(#clip210)\" d=\"M20.0391 721.606 Q21.1985 721.895 21.6172 722.507 L22.6478 724.891 Q22.6478 726.082 22.3902 726.211 Q21.7138 726.759 21.0053 726.855 Q20.49 726.855 20.1679 727.145 Q19.8137 727.403 19.8137 727.854 Q19.8137 728.788 20.2968 729.367 Q21.3918 730.752 23.9682 731.622 Q26.0938 732.362 34.2741 734.456 L61.7779 741.187 L63.7425 744.89 Q52.6315 747.757 43.807 750.784 Q34.9504 753.811 27.994 757.741 L38.3643 760.639 Q50.6347 764.504 52.1484 765.245 Q57.1725 767.531 60.3931 771.331 Q63.5492 775.1 63.5492 778.642 Q63.5492 780.929 62.1644 781.959 Q61.005 782.893 59.6523 782.539 Q58.3963 782.281 57.2369 780.832 Q56.5606 779.93 56.5606 779.19 Q56.5606 778.03 57.1725 777.579 Q57.2369 777.515 57.4623 777.418 Q57.6878 777.322 58.0098 777.193 Q58.2997 777.064 58.4607 777 Q59.3947 776.613 59.3947 775.357 Q59.3947 773.296 57.559 771.009 Q56.8504 770.14 55.8198 769.399 Q54.757 768.626 54.1129 768.304 Q53.4688 767.95 52.0195 767.241 Q48.1226 765.534 41.9713 763.924 L24.9022 759.641 Q22.9054 761.187 21.9393 762.604 Q20.8765 764.182 20.8765 765.47 Q20.8765 767.885 22.2613 769.464 Q22.9054 770.301 23.9682 771.074 Q25.031 771.815 25.7718 772.201 Q26.5125 772.587 27.8651 773.167 L28.1872 774.681 Q22.2935 773.199 19.4272 769.689 Q17.044 766.629 17.044 762.604 Q17.044 758.739 21.1985 755.744 Q22.519 754.713 24.3869 753.747 Q26.2226 752.749 27.3499 752.298 Q28.4449 751.815 30.8925 750.816 L55.1113 742.056 L54.3062 741.38 L31.6332 736.291 Q27.5753 735.325 23.5174 733.393 Q20.2324 731.911 18.8475 730.172 Q16.7219 727.564 16.7219 724.375 Q16.7219 722.894 17.7203 721.992 Q18.6221 721.284 20.0391 721.606 Z\" fill=\"#000000\" fill-rule=\"nonzero\" fill-opacity=\"1\" /><path clip-path=\"url(#clip210)\" d=\"M74.7098 714.838 L73.2895 714.838 L51.6247 700.658 Q51.061 700.297 51.0836 699.733 Q51.0836 699.215 51.2865 699.102 Q51.4894 698.989 52.2784 698.989 L73.2895 698.989 L73.2895 694.368 L74.7098 694.368 L74.7098 698.989 L78.7227 698.989 Q80.0528 698.989 80.4811 698.448 Q80.9094 697.885 80.9094 695.495 L80.9094 694.526 L82.3297 694.526 Q82.1945 696.419 82.1945 700.793 Q82.1945 705.144 82.3297 707.037 L80.9094 707.037 L80.9094 706.068 Q80.9094 703.678 80.5036 703.115 Q80.0753 702.551 78.7227 702.551 L74.7098 702.551 L74.7098 714.838 M73.2895 713.53 L73.2895 702.281 L56.0658 702.281 L73.2895 713.53 Z\" fill=\"#000000\" fill-rule=\"nonzero\" fill-opacity=\"1\" /><polyline clip-path=\"url(#clip212)\" style=\"stroke:#ff0000; stroke-linecap:round; stroke-linejoin:round; stroke-width:8; stroke-opacity:1; fill:none\" points=\"280.231,171.528 682.663,815.709 1085.1,1108.85 1487.53,1157 1889.96,1158.03 2292.39,1160.36 \"/>\n",
       "<circle clip-path=\"url(#clip212)\" cx=\"280.231\" cy=\"171.528\" r=\"14.4\" fill=\"#ff0000\" fill-rule=\"evenodd\" fill-opacity=\"1\" stroke=\"#000000\" stroke-opacity=\"1\" stroke-width=\"3.2\"/>\n",
       "<circle clip-path=\"url(#clip212)\" cx=\"682.663\" cy=\"815.709\" r=\"14.4\" fill=\"#ff0000\" fill-rule=\"evenodd\" fill-opacity=\"1\" stroke=\"#000000\" stroke-opacity=\"1\" stroke-width=\"3.2\"/>\n",
       "<circle clip-path=\"url(#clip212)\" cx=\"1085.1\" cy=\"1108.85\" r=\"14.4\" fill=\"#ff0000\" fill-rule=\"evenodd\" fill-opacity=\"1\" stroke=\"#000000\" stroke-opacity=\"1\" stroke-width=\"3.2\"/>\n",
       "<circle clip-path=\"url(#clip212)\" cx=\"1487.53\" cy=\"1157\" r=\"14.4\" fill=\"#ff0000\" fill-rule=\"evenodd\" fill-opacity=\"1\" stroke=\"#000000\" stroke-opacity=\"1\" stroke-width=\"3.2\"/>\n",
       "<circle clip-path=\"url(#clip212)\" cx=\"1889.96\" cy=\"1158.03\" r=\"14.4\" fill=\"#ff0000\" fill-rule=\"evenodd\" fill-opacity=\"1\" stroke=\"#000000\" stroke-opacity=\"1\" stroke-width=\"3.2\"/>\n",
       "<circle clip-path=\"url(#clip212)\" cx=\"2292.39\" cy=\"1160.36\" r=\"14.4\" fill=\"#ff0000\" fill-rule=\"evenodd\" fill-opacity=\"1\" stroke=\"#000000\" stroke-opacity=\"1\" stroke-width=\"3.2\"/>\n",
       "<polyline clip-path=\"url(#clip212)\" style=\"stroke:#0000ff; stroke-linecap:round; stroke-linejoin:round; stroke-width:8; stroke-opacity:1; fill:none\" stroke-dasharray=\"32, 20\" points=\"280.231,86.1857 682.663,718.64 1085.1,1384.24 1487.53,874.615 1889.96,1384.24 2292.39,1384.24 \"/>\n",
       "<circle clip-path=\"url(#clip212)\" cx=\"280.231\" cy=\"86.1857\" r=\"14.4\" fill=\"#0000ff\" fill-rule=\"evenodd\" fill-opacity=\"1\" stroke=\"#000000\" stroke-opacity=\"1\" stroke-width=\"3.2\"/>\n",
       "<circle clip-path=\"url(#clip212)\" cx=\"682.663\" cy=\"718.64\" r=\"14.4\" fill=\"#0000ff\" fill-rule=\"evenodd\" fill-opacity=\"1\" stroke=\"#000000\" stroke-opacity=\"1\" stroke-width=\"3.2\"/>\n",
       "<circle clip-path=\"url(#clip212)\" cx=\"1085.1\" cy=\"1384.24\" r=\"14.4\" fill=\"#0000ff\" fill-rule=\"evenodd\" fill-opacity=\"1\" stroke=\"#000000\" stroke-opacity=\"1\" stroke-width=\"3.2\"/>\n",
       "<circle clip-path=\"url(#clip212)\" cx=\"1487.53\" cy=\"874.615\" r=\"14.4\" fill=\"#0000ff\" fill-rule=\"evenodd\" fill-opacity=\"1\" stroke=\"#000000\" stroke-opacity=\"1\" stroke-width=\"3.2\"/>\n",
       "<circle clip-path=\"url(#clip212)\" cx=\"1889.96\" cy=\"1384.24\" r=\"14.4\" fill=\"#0000ff\" fill-rule=\"evenodd\" fill-opacity=\"1\" stroke=\"#000000\" stroke-opacity=\"1\" stroke-width=\"3.2\"/>\n",
       "<circle clip-path=\"url(#clip212)\" cx=\"2292.39\" cy=\"1384.24\" r=\"14.4\" fill=\"#0000ff\" fill-rule=\"evenodd\" fill-opacity=\"1\" stroke=\"#000000\" stroke-opacity=\"1\" stroke-width=\"3.2\"/>\n",
       "<path clip-path=\"url(#clip210)\" d=\"M1891.52 248.629 L2281.66 248.629 L2281.66 93.1086 L1891.52 93.1086  Z\" fill=\"#ffffff\" fill-rule=\"evenodd\" fill-opacity=\"1\"/>\n",
       "<polyline clip-path=\"url(#clip210)\" style=\"stroke:#000000; stroke-linecap:round; stroke-linejoin:round; stroke-width:4; stroke-opacity:1; fill:none\" points=\"1891.52,248.629 2281.66,248.629 2281.66,93.1086 1891.52,93.1086 1891.52,248.629 \"/>\n",
       "<polyline clip-path=\"url(#clip210)\" style=\"stroke:#ff0000; stroke-linecap:round; stroke-linejoin:round; stroke-width:8; stroke-opacity:1; fill:none\" points=\"1915.22,144.949 2057.41,144.949 \"/>\n",
       "<circle clip-path=\"url(#clip210)\" cx=\"1986.31\" cy=\"144.949\" r=\"19.749\" fill=\"#ff0000\" fill-rule=\"evenodd\" fill-opacity=\"1\" stroke=\"#000000\" stroke-opacity=\"1\" stroke-width=\"4.55111\"/>\n",
       "<path clip-path=\"url(#clip210)\" d=\"M2081.78 158.293 L2089.42 158.293 L2089.42 131.928 L2081.11 133.595 L2081.11 129.335 L2089.37 127.669 L2094.05 127.669 L2094.05 158.293 L2101.69 158.293 L2101.69 162.229 L2081.78 162.229 L2081.78 158.293 Z\" fill=\"#000000\" fill-rule=\"nonzero\" fill-opacity=\"1\" /><path clip-path=\"url(#clip210)\" d=\"M2118.1 127.669 L2122.04 127.669 L2110 166.627 L2106.06 166.627 L2118.1 127.669 Z\" fill=\"#000000\" fill-rule=\"nonzero\" fill-opacity=\"1\" /><path clip-path=\"url(#clip210)\" d=\"M2131.13 158.293 L2147.45 158.293 L2147.45 162.229 L2125.51 162.229 L2125.51 158.293 Q2128.17 155.539 2132.75 150.909 Q2137.36 146.256 2138.54 144.914 Q2140.79 142.391 2141.67 140.655 Q2142.57 138.895 2142.57 137.206 Q2142.57 134.451 2140.62 132.715 Q2138.7 130.979 2135.6 130.979 Q2133.4 130.979 2130.95 131.743 Q2128.52 132.507 2125.74 134.057 L2125.74 129.335 Q2128.56 128.201 2131.02 127.622 Q2133.47 127.044 2135.51 127.044 Q2140.88 127.044 2144.07 129.729 Q2147.27 132.414 2147.27 136.905 Q2147.27 139.034 2146.46 140.956 Q2145.67 142.854 2143.56 145.446 Q2142.98 146.118 2139.88 149.335 Q2136.78 152.53 2131.13 158.293 Z\" fill=\"#000000\" fill-rule=\"nonzero\" fill-opacity=\"1\" /><path clip-path=\"url(#clip210)\" d=\"M2154.51 147.344 L2166.99 147.344 L2166.99 151.141 L2154.51 151.141 L2154.51 147.344 Z\" fill=\"#000000\" fill-rule=\"nonzero\" fill-opacity=\"1\" /><path clip-path=\"url(#clip210)\" d=\"M2171.62 147.344 L2184.1 147.344 L2184.1 151.141 L2171.62 151.141 L2171.62 147.344 Z\" fill=\"#000000\" fill-rule=\"nonzero\" fill-opacity=\"1\" /><path clip-path=\"url(#clip210)\" d=\"M2205.65 143.594 Q2209 144.312 2210.88 146.581 Q2212.78 148.849 2212.78 152.182 Q2212.78 157.298 2209.26 160.099 Q2205.74 162.9 2199.26 162.9 Q2197.08 162.9 2194.77 162.46 Q2192.48 162.043 2190.02 161.187 L2190.02 156.673 Q2191.97 157.807 2194.28 158.386 Q2196.6 158.965 2199.12 158.965 Q2203.52 158.965 2205.81 157.229 Q2208.12 155.493 2208.12 152.182 Q2208.12 149.127 2205.97 147.414 Q2203.84 145.678 2200.02 145.678 L2195.99 145.678 L2195.99 141.835 L2200.21 141.835 Q2203.66 141.835 2205.48 140.469 Q2207.31 139.081 2207.31 136.488 Q2207.31 133.826 2205.41 132.414 Q2203.54 130.979 2200.02 130.979 Q2198.1 130.979 2195.9 131.395 Q2193.7 131.812 2191.06 132.692 L2191.06 128.525 Q2193.73 127.784 2196.04 127.414 Q2198.38 127.044 2200.44 127.044 Q2205.76 127.044 2208.86 129.474 Q2211.97 131.882 2211.97 136.002 Q2211.97 138.872 2210.32 140.863 Q2208.68 142.831 2205.65 143.594 Z\" fill=\"#000000\" fill-rule=\"nonzero\" fill-opacity=\"1\" /><path clip-path=\"url(#clip210)\" d=\"M2228.61 127.669 L2232.54 127.669 L2220.51 166.627 L2216.57 166.627 L2228.61 127.669 Z\" fill=\"#000000\" fill-rule=\"nonzero\" fill-opacity=\"1\" /><path clip-path=\"url(#clip210)\" d=\"M2241.64 158.293 L2257.96 158.293 L2257.96 162.229 L2236.02 162.229 L2236.02 158.293 Q2238.68 155.539 2243.26 150.909 Q2247.87 146.256 2249.05 144.914 Q2251.29 142.391 2252.17 140.655 Q2253.08 138.895 2253.08 137.206 Q2253.08 134.451 2251.13 132.715 Q2249.21 130.979 2246.11 130.979 Q2243.91 130.979 2241.46 131.743 Q2239.03 132.507 2236.25 134.057 L2236.25 129.335 Q2239.07 128.201 2241.53 127.622 Q2243.98 127.044 2246.02 127.044 Q2251.39 127.044 2254.58 129.729 Q2257.78 132.414 2257.78 136.905 Q2257.78 139.034 2256.97 140.956 Q2256.18 142.854 2254.07 145.446 Q2253.49 146.118 2250.39 149.335 Q2247.29 152.53 2241.64 158.293 Z\" fill=\"#000000\" fill-rule=\"nonzero\" fill-opacity=\"1\" /><polyline clip-path=\"url(#clip210)\" style=\"stroke:#0000ff; stroke-linecap:round; stroke-linejoin:round; stroke-width:8; stroke-opacity:1; fill:none\" stroke-dasharray=\"32, 20\" points=\"1915.22,196.789 2057.41,196.789 \"/>\n",
       "<circle clip-path=\"url(#clip210)\" cx=\"1986.31\" cy=\"196.789\" r=\"19.749\" fill=\"#0000ff\" fill-rule=\"evenodd\" fill-opacity=\"1\" stroke=\"#000000\" stroke-opacity=\"1\" stroke-width=\"4.55111\"/>\n",
       "<path clip-path=\"url(#clip210)\" d=\"M2081.78 210.133 L2089.42 210.133 L2089.42 183.768 L2081.11 185.435 L2081.11 181.175 L2089.37 179.509 L2094.05 179.509 L2094.05 210.133 L2101.69 210.133 L2101.69 214.069 L2081.78 214.069 L2081.78 210.133 Z\" fill=\"#000000\" fill-rule=\"nonzero\" fill-opacity=\"1\" /><path clip-path=\"url(#clip210)\" d=\"M2118.1 179.509 L2122.04 179.509 L2110 218.467 L2106.06 218.467 L2118.1 179.509 Z\" fill=\"#000000\" fill-rule=\"nonzero\" fill-opacity=\"1\" /><path clip-path=\"url(#clip210)\" d=\"M2131.13 210.133 L2147.45 210.133 L2147.45 214.069 L2125.51 214.069 L2125.51 210.133 Q2128.17 207.379 2132.75 202.749 Q2137.36 198.096 2138.54 196.754 Q2140.79 194.231 2141.67 192.495 Q2142.57 190.735 2142.57 189.046 Q2142.57 186.291 2140.62 184.555 Q2138.7 182.819 2135.6 182.819 Q2133.4 182.819 2130.95 183.583 Q2128.52 184.347 2125.74 185.897 L2125.74 181.175 Q2128.56 180.041 2131.02 179.462 Q2133.47 178.884 2135.51 178.884 Q2140.88 178.884 2144.07 181.569 Q2147.27 184.254 2147.27 188.745 Q2147.27 190.874 2146.46 192.796 Q2145.67 194.694 2143.56 197.286 Q2142.98 197.958 2139.88 201.175 Q2136.78 204.37 2131.13 210.133 Z\" fill=\"#000000\" fill-rule=\"nonzero\" fill-opacity=\"1\" /><path clip-path=\"url(#clip210)\" d=\"M2154.51 199.184 L2166.99 199.184 L2166.99 202.981 L2154.51 202.981 L2154.51 199.184 Z\" fill=\"#000000\" fill-rule=\"nonzero\" fill-opacity=\"1\" /><path clip-path=\"url(#clip210)\" d=\"M2171.62 199.184 L2184.1 199.184 L2184.1 202.981 L2171.62 202.981 L2171.62 199.184 Z\" fill=\"#000000\" fill-rule=\"nonzero\" fill-opacity=\"1\" /><path clip-path=\"url(#clip210)\" d=\"M2192.29 210.133 L2199.93 210.133 L2199.93 183.768 L2191.62 185.435 L2191.62 181.175 L2199.88 179.509 L2204.56 179.509 L2204.56 210.133 L2212.2 210.133 L2212.2 214.069 L2192.29 214.069 L2192.29 210.133 Z\" fill=\"#000000\" fill-rule=\"nonzero\" fill-opacity=\"1\" /><path clip-path=\"url(#clip210)\" d=\"M2228.61 179.509 L2232.54 179.509 L2220.51 218.467 L2216.57 218.467 L2228.61 179.509 Z\" fill=\"#000000\" fill-rule=\"nonzero\" fill-opacity=\"1\" /><path clip-path=\"url(#clip210)\" d=\"M2241.64 210.133 L2257.96 210.133 L2257.96 214.069 L2236.02 214.069 L2236.02 210.133 Q2238.68 207.379 2243.26 202.749 Q2247.87 198.096 2249.05 196.754 Q2251.29 194.231 2252.17 192.495 Q2253.08 190.735 2253.08 189.046 Q2253.08 186.291 2251.13 184.555 Q2249.21 182.819 2246.11 182.819 Q2243.91 182.819 2241.46 183.583 Q2239.03 184.347 2236.25 185.897 L2236.25 181.175 Q2239.07 180.041 2241.53 179.462 Q2243.98 178.884 2246.02 178.884 Q2251.39 178.884 2254.58 181.569 Q2257.78 184.254 2257.78 188.745 Q2257.78 190.874 2256.97 192.796 Q2256.18 194.694 2254.07 197.286 Q2253.49 197.958 2250.39 201.175 Q2247.29 204.37 2241.64 210.133 Z\" fill=\"#000000\" fill-rule=\"nonzero\" fill-opacity=\"1\" /></svg>\n"
      ]
     },
     "execution_count": 19,
     "metadata": {},
     "output_type": "execute_result"
    }
   ],
   "source": [
    "using Plots\n",
    "using LaTeXStrings\n",
    "\n",
    "seps=0:5\n",
    "enta= []\n",
    "enta1= []\n",
    "A = 1\n",
    "    println(\"Mixed spin chain 1/2-3/2\")\n",
    "for sep in seps\n",
    "    D =  A+2+sep\n",
    "    ent = calc_LogNeg_4site(psi0,[A,D])\n",
    "    push!(enta, ent)\n",
    "    println(f\"{sep} \\t {ent}\")\n",
    "end\n",
    "println(\"----------------------------\")\n",
    "println(\"----------------------------\")\n",
    "    println(\"Spin-half\")\n",
    "for sep in seps\n",
    "    D =  A+2+sep\n",
    "    ent1 = calc_LogNeg_4site(psi01,[A,D])\n",
    "    push!(enta1, ent1)\n",
    "    println(f\"{sep} \\t {ent1}\")\n",
    "end\n",
    "\n",
    "plot(seps, enta, xlabel= \"Separation\", ylabel=L\"\\mathcal{N}_4\", label=\"1/2--3/2\", marker=:circle, color=\"red\", lw=2)\n",
    "plot!(seps, enta1, xlabel= \"Separation\", ylabel=L\"\\mathcal{N}_4\",label=\"1/2--1/2\", linestyle=:dash, marker=:circle, color=\"blue\", lw=2)"
   ]
  },
  {
   "cell_type": "code",
   "execution_count": null,
   "id": "6b6dde20",
   "metadata": {},
   "outputs": [],
   "source": []
  },
  {
   "cell_type": "code",
   "execution_count": 11,
   "id": "10be68c9",
   "metadata": {},
   "outputs": [
    {
     "name": "stdout",
     "output_type": "stream",
     "text": [
      "diag(array(d0)) = [0.7429674293516053, 0.12111757096227849, 0.05782663836236382, 0.05449796643914865, 0.009425118559787258, 0.008845461275842131, 0.004241343106169278, 0.000685290715900656, 0.00012974967121834338, 8.469228911735569e-5, 3.694227732000561e-5, 3.56494571928513e-5, 3.397554881234956e-5, 2.7705184924371836e-5, 2.590614805211883e-5, 4.788453770037338e-6, 4.658211252520042e-6, 3.436483783801505e-6, 2.941028929359944e-6, 1.6629861520799012e-6, 6.067895732758159e-7, 2.2181323684361828e-7, 1.3520653481839e-7, 2.500176599991823e-8, 2.379346140801538e-8, 2.22804432290982e-8, 1.4063778621322455e-8, 8.77511605932175e-9, 5.817285639364342e-9, 4.306096744098202e-9, 1.8338952783433393e-9, 1.2503620421679196e-9, 1.0326714446843963e-9, 4.795029846210582e-10, 2.980191597447527e-10, 2.222645626827687e-10, 1.530930003492026e-10, 1.0481304015974457e-10, 8.848500686422806e-11, 4.1245656080549355e-11, 2.8119255925748978e-11, 2.405212010541793e-11, 2.0015641054600677e-11, 1.6518764036270053e-11, 1.2154057152950376e-11, 9.77556937050631e-12, 9.215774292777242e-12, 6.490618198366566e-12, 2.909831351543818e-12, 2.117075121763011e-12, 1.3577110108883206e-12, 7.455846132935868e-13, 4.706594887284739e-13, 2.980972833691556e-13, 2.4575393215673605e-13, 8.065486830654093e-14, 7.078581311518974e-14, 4.5979096627691594e-14, 2.406952127550648e-14, 1.9743802477084073e-14, 4.7774896489962434e-15, 3.7569725347294715e-15, 7.210056171785568e-16, 3.0875215683295324e-17]\n"
     ]
    },
    {
     "data": {
      "text/plain": [
       "64-element Vector{Float64}:\n",
       " 0.7429674293516053\n",
       " 0.12111757096227849\n",
       " 0.05782663836236382\n",
       " 0.05449796643914865\n",
       " 0.009425118559787258\n",
       " 0.008845461275842131\n",
       " 0.004241343106169278\n",
       " 0.000685290715900656\n",
       " 0.00012974967121834338\n",
       " 8.469228911735569e-5\n",
       " 3.694227732000561e-5\n",
       " 3.56494571928513e-5\n",
       " 3.397554881234956e-5\n",
       " ⋮\n",
       " 4.706594887284739e-13\n",
       " 2.980972833691556e-13\n",
       " 2.4575393215673605e-13\n",
       " 8.065486830654093e-14\n",
       " 7.078581311518974e-14\n",
       " 4.5979096627691594e-14\n",
       " 2.406952127550648e-14\n",
       " 1.9743802477084073e-14\n",
       " 4.7774896489962434e-15\n",
       " 3.7569725347294715e-15\n",
       " 7.210056171785568e-16\n",
       " 3.0875215683295324e-17"
      ]
     },
     "execution_count": 11,
     "metadata": {},
     "output_type": "execute_result"
    }
   ],
   "source": [
    "A = 1\n",
    "D = 4\n",
    "rho1 = get_4pdm(psi0,[A,D])\n",
    "d0, u0 = eigen(rho1,ishermitian=true) \n",
    "@show diag(array(d0))"
   ]
  },
  {
   "cell_type": "code",
   "execution_count": null,
   "id": "84bccf8c",
   "metadata": {},
   "outputs": [],
   "source": []
  },
  {
   "cell_type": "code",
   "execution_count": null,
   "id": "bb16e9f1",
   "metadata": {},
   "outputs": [],
   "source": []
  },
  {
   "cell_type": "code",
   "execution_count": null,
   "id": "642da99d",
   "metadata": {},
   "outputs": [],
   "source": []
  },
  {
   "cell_type": "code",
   "execution_count": null,
   "id": "f7d20c69",
   "metadata": {},
   "outputs": [],
   "source": []
  },
  {
   "cell_type": "code",
   "execution_count": null,
   "id": "31e7bf2a",
   "metadata": {},
   "outputs": [],
   "source": []
  },
  {
   "cell_type": "code",
   "execution_count": null,
   "id": "c343ab60",
   "metadata": {},
   "outputs": [],
   "source": []
  },
  {
   "cell_type": "code",
   "execution_count": null,
   "id": "5299d82e",
   "metadata": {},
   "outputs": [],
   "source": []
  },
  {
   "cell_type": "code",
   "execution_count": null,
   "id": "866faf62",
   "metadata": {},
   "outputs": [],
   "source": []
  },
  {
   "cell_type": "code",
   "execution_count": null,
   "id": "175dd949",
   "metadata": {},
   "outputs": [],
   "source": []
  }
 ],
 "metadata": {
  "kernelspec": {
   "display_name": "Julia 1.10.3",
   "language": "julia",
   "name": "julia-1.10"
  },
  "language_info": {
   "file_extension": ".jl",
   "mimetype": "application/julia",
   "name": "julia",
   "version": "1.10.3"
  }
 },
 "nbformat": 4,
 "nbformat_minor": 5
}
