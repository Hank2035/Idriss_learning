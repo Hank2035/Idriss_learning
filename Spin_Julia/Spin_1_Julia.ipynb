{
 "cells": [
  {
   "cell_type": "code",
   "execution_count": 2,
   "id": "28622ddc",
   "metadata": {},
   "outputs": [
    {
     "name": "stdout",
     "output_type": "stream",
     "text": [
      "After sweep 1 energy=-44.06203716094713  maxlinkdim=10 maxerr=4.82E-03 time=20.145\n",
      "After sweep 2 energy=-44.123513395818634  maxlinkdim=20 maxerr=1.67E-06 time=0.356\n",
      "After sweep 3 energy=-44.127645360632336  maxlinkdim=76 maxerr=9.95E-11 time=1.661\n",
      "After sweep 4 energy=-44.12773872932716  maxlinkdim=100 maxerr=2.02E-10 time=4.216\n",
      "After sweep 5 energy=-44.12773985826238  maxlinkdim=110 maxerr=9.99E-11 time=5.725\n"
     ]
    }
   ],
   "source": [
    "using ITensors, ITensorMPS\n",
    "let\n",
    "  N = 100\n",
    "  sites = siteinds(\"S=1/2\",N)\n",
    "\n",
    "  os = OpSum()\n",
    "  for j=1:N-1\n",
    "    os += \"Sz\",j,\"Sz\",j+1\n",
    "    os += 1/2,\"S+\",j,\"S-\",j+1\n",
    "    os += 1/2,\"S-\",j,\"S+\",j+1\n",
    "  end\n",
    "  H = MPO(os,sites)\n",
    "\n",
    "  psi0 = random_mps(sites;linkdims=10)\n",
    "\n",
    "  nsweeps = 5\n",
    "  maxdim = [10,20,100,100,200]\n",
    "  cutoff = [1E-10]\n",
    "\n",
    "  energy,psi = dmrg(H,psi0;nsweeps,maxdim,cutoff)\n",
    "\n",
    "  return\n",
    "end\n"
   ]
  },
  {
   "cell_type": "code",
   "execution_count": null,
   "id": "b399d57f",
   "metadata": {},
   "outputs": [],
   "source": []
  },
  {
   "cell_type": "code",
   "execution_count": null,
   "id": "d0090e5a",
   "metadata": {},
   "outputs": [],
   "source": []
  },
  {
   "cell_type": "code",
   "execution_count": 4,
   "id": "7e836dd8",
   "metadata": {},
   "outputs": [
    {
     "name": "stdout",
     "output_type": "stream",
     "text": [
      "After sweep 1 energy=-138.74401312325583  maxlinkdim=10 maxerr=1.15E-02 time=0.358\n",
      "After sweep 2 energy=-138.93717801390522  maxlinkdim=20 maxerr=5.34E-06 time=0.955\n",
      "After sweep 3 energy=-138.94008420289558  maxlinkdim=90 maxerr=1.00E-10 time=5.499\n",
      "After sweep 4 energy=-138.94008607749055  maxlinkdim=99 maxerr=1.00E-10 time=14.499\n",
      "After sweep 5 energy=-138.9400860758897  maxlinkdim=95 maxerr=9.97E-11 time=13.481\n"
     ]
    }
   ],
   "source": [
    "using ITensors, ITensorMPS\n",
    "let\n",
    "  N = 100\n",
    "  sites1 = siteinds(\"S=1\",N)\n",
    "\n",
    "  os = OpSum()\n",
    "  for j=1:N-1\n",
    "    os += \"Sz\",j,\"Sz\",j+1\n",
    "    os += 1/2,\"S+\",j,\"S-\",j+1\n",
    "    os += 1/2,\"S-\",j,\"S+\",j+1\n",
    "  end\n",
    "  H1 = MPO(os,sites1)\n",
    "\n",
    "  psi01 = random_mps(sites1;linkdims=10)\n",
    "\n",
    "  nsweeps = 5\n",
    "  maxdim = [10,20,100,100,200]\n",
    "  cutoff = [1E-10]\n",
    "\n",
    "  energy1,psi1 = dmrg(H1,psi01;nsweeps,maxdim,cutoff)\n",
    "\n",
    "  return\n",
    "end\n"
   ]
  },
  {
   "cell_type": "code",
   "execution_count": 14,
   "id": "d13aa84a",
   "metadata": {},
   "outputs": [
    {
     "data": {
      "text/plain": [
       "(dim=3|id=611|\"S=1,Site,n=100\")"
      ]
     },
     "execution_count": 14,
     "metadata": {},
     "output_type": "execute_result"
    }
   ],
   "source": [
    "let\n",
    "  N = 100\n",
    "  sites1 = siteinds(\"S=1\",N)\n",
    "    \n",
    "    \n",
    "  sites1[100]\n",
    "    \n",
    "end"
   ]
  },
  {
   "cell_type": "code",
   "execution_count": null,
   "id": "3aa946c6",
   "metadata": {},
   "outputs": [],
   "source": []
  },
  {
   "cell_type": "code",
   "execution_count": null,
   "id": "441401ef",
   "metadata": {},
   "outputs": [],
   "source": []
  },
  {
   "cell_type": "code",
   "execution_count": null,
   "id": "5c2907e6",
   "metadata": {},
   "outputs": [],
   "source": []
  },
  {
   "cell_type": "code",
   "execution_count": 17,
   "id": "9c20ba89",
   "metadata": {},
   "outputs": [
    {
     "ename": "LoadError",
     "evalue": "UndefVarError: `from` not defined",
     "output_type": "error",
     "traceback": [
      "UndefVarError: `from` not defined",
      ""
     ]
    }
   ],
   "source": []
  },
  {
   "cell_type": "code",
   "execution_count": null,
   "id": "cfd124e4",
   "metadata": {},
   "outputs": [],
   "source": []
  }
 ],
 "metadata": {
  "kernelspec": {
   "display_name": "Julia 1.10.3",
   "language": "julia",
   "name": "julia-1.10"
  },
  "language_info": {
   "file_extension": ".jl",
   "mimetype": "application/julia",
   "name": "julia",
   "version": "1.10.3"
  }
 },
 "nbformat": 4,
 "nbformat_minor": 5
}
