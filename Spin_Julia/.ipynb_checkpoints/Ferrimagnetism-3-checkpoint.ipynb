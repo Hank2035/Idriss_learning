{
 "cells": [
  {
   "cell_type": "code",
   "execution_count": 1,
   "metadata": {},
   "outputs": [
    {
     "data": {
      "text/plain": [
       "14"
      ]
     },
     "metadata": {},
     "output_type": "display_data"
    }
   ],
   "source": [
    "using ITensors,ITensorMPS\n",
    "import ITensors:op\n",
    "using PyFormattedStrings\n",
    "using Plots\n",
    "\n",
    "ITensors.disable_warn_order()"
   ]
  },
  {
   "cell_type": "code",
   "execution_count": 2,
   "metadata": {},
   "outputs": [],
   "source": [
    "# overloadings for SiteType 3/2\n",
    "#----------------------------------------------\n",
    "ITensors.space(::SiteType\"S=3/2\") = 4\n",
    "\n",
    "# operator Sz\n",
    "#-------------------\n",
    "ITensors.op(::OpName\"Sz\",::SiteType\"S=3/2\") =\n",
    "[+3/2   0    0    0\n",
    "  0    +1/2  0    0\n",
    "  0     0   -1/2  0\n",
    "  0     0    0   -3/2]\n",
    "\n",
    "# operator S+\n",
    "#-------------------\n",
    "ITensors.op(::OpName\"S+\",::SiteType\"S=3/2\") =\n",
    "[0  √3   0   0 \n",
    " 0   0  √4   0\n",
    " 0   0   0  √3\n",
    " 0   0   0   0]\n",
    "\n",
    "# operator S-\n",
    "#-------------------\n",
    "ITensors.op(::OpName\"S-\",::SiteType\"S=3/2\") =\n",
    "[0   0   0   0\n",
    "√3   0   0   0\n",
    " 0  √4   0   0\n",
    " 0   0  √3   0]\n",
    "\n",
    "# z projection states\n",
    "#-----------------------------------------\n",
    "ITensors.state(::StateName\"+3/2\",::SiteType\"S=3/2\") = [1, 0, 0, 0]\n",
    "ITensors.state(::StateName\"+1/2\",::SiteType\"S=3/2\") = [0, 1, 0, 0]\n",
    "ITensors.state(::StateName\"-1/2\",::SiteType\"S=3/2\") = [0, 0, 1, 0]\n",
    "ITensors.state(::StateName\"-3/2\",::SiteType\"S=3/2\") = [0, 0, 0, 1]"
   ]
  },
  {
   "cell_type": "code",
   "execution_count": 3,
   "metadata": {},
   "outputs": [
    {
     "data": {
      "text/plain": [
       "Hamiltonian (generic function with 1 method)"
      ]
     },
     "metadata": {},
     "output_type": "display_data"
    }
   ],
   "source": [
    "# construction of the MPO hamiltonian\n",
    "#------------------------------------------\n",
    "function Hamiltonian(sites,J,B)\n",
    "    ops = OpSum()\n",
    "\n",
    "    N = length(sites)\n",
    "    s_loop = [collect(1:N)...,1]\n",
    "\n",
    "    for k in 1:N\n",
    "        ops += -B,   \"Sz\",s_loop[k]\n",
    "    end\n",
    "\n",
    "    for k in 1:2:N\n",
    "        ops += J,   \"Sz\",s_loop[k], \"Sz\",s_loop[k+1]\n",
    "        ops += J/2, \"S+\",s_loop[k], \"S-\",s_loop[k+1]\n",
    "        ops += J/2, \"S-\",s_loop[k], \"S+\",s_loop[k+1]\n",
    "    end\n",
    "\n",
    "    for k in 2:2:N\n",
    "        ops += J,   \"Sz\",s_loop[k], \"Sz\",s_loop[k+1]\n",
    "        ops += J/2, \"S+\",s_loop[k], \"S-\",s_loop[k+1]\n",
    "        ops += J/2, \"S-\",s_loop[k], \"S+\",s_loop[k+1]\n",
    "    end\n",
    "\n",
    "    #--------------------------\n",
    "    return MPO(ops,sites)\n",
    "end"
   ]
  },
  {
   "cell_type": "code",
   "execution_count": 4,
   "metadata": {},
   "outputs": [
    {
     "data": {
      "text/plain": [
       "MagnonOperation (generic function with 1 method)"
      ]
     },
     "metadata": {},
     "output_type": "display_data"
    }
   ],
   "source": [
    "# apply magon operators at various sites\n",
    "#----------------------------------\n",
    "function MagnonOperation(wf::MPS, k_list; split=\"no\")    \n",
    "    psi = copy(wf)\n",
    "    sites = siteinds(psi)\n",
    "\n",
    "    #magnon creation at sites k,k+1\n",
    "    for k in k_list\n",
    "        if isodd(k)\n",
    "            psi = apply( op(\"S+\",sites[k])  , psi )\n",
    "            psi = apply( op(\"S-\",sites[k+1]), psi )\n",
    "        else\n",
    "            psi = apply( op(\"S-\",sites[k])  , psi )\n",
    "            psi = apply( op(\"S+\",sites[k+1]), psi )\n",
    "        end   \n",
    "    end\n",
    "\n",
    "    #for split magnon\n",
    "    if length(k_list)==2 && split==\"yes\"\n",
    "        m,n = k_list[1]+1, k_list[2]     #loc of desturction\n",
    "        \n",
    "        if isodd(m)\n",
    "            psi = apply( op(\"S-\",sites[m]), psi )\n",
    "        else\n",
    "            psi = apply( op(\"S+\",sites[m]), psi )\n",
    "        end\n",
    "\n",
    "        if isodd(n)\n",
    "            psi = apply( op(\"S-\",sites[n]), psi )\n",
    "        else\n",
    "            psi = apply( op(\"S+\",sites[n]), psi )\n",
    "        end\n",
    "    end\n",
    "\n",
    "    return normalize!(psi)\n",
    "    #----------------------------------\n",
    "end"
   ]
  },
  {
   "cell_type": "code",
   "execution_count": 5,
   "metadata": {},
   "outputs": [
    {
     "data": {
      "text/plain": [
       "FourSiteDM (generic function with 1 method)"
      ]
     },
     "metadata": {},
     "output_type": "display_data"
    }
   ],
   "source": [
    "# one site reduced density matrix\n",
    "#--------------------------------------\n",
    "function OneSiteDM(wf::MPS,loc)\n",
    "    ket = copy(wf)\n",
    "    sites = siteinds(ket)\n",
    "\n",
    "    A = loc\n",
    "    orthogonalize!(ket,A)\n",
    "    rho = prime(ket[A],sites[A]) * dag(ket[A])\n",
    "\n",
    "    #-----------------------------------\n",
    "    return rho\n",
    "end\n",
    "\n",
    "#  two sites reduced density matrix\n",
    "#--------------------------------------\n",
    "function TwoSiteDM(wf::MPS,locs)\n",
    "    ket = copy(wf)\n",
    "    sites = siteinds(ket)\n",
    "\n",
    "    A,B = locs\n",
    "    orthogonalize!(ket,A)\n",
    "    bra = prime(dag(ket),linkinds(ket))\n",
    "    \n",
    "    rho = prime(ket[A],linkinds(ket,A-1)) * prime(bra[A],sites[A])\n",
    "    for k in A+1:B-1\n",
    "        rho *= ket[k]*bra[k]\n",
    "    end\n",
    "    rho *= prime(ket[B],linkinds(ket,B)) * prime(bra[B],sites[B])  \n",
    "    \n",
    "    #-----------------------------------\n",
    "    return rho\n",
    "end\n",
    "\n",
    "\n",
    "#four point RDM of sites A,B=A+1,C,D=C+1\n",
    "# AB adjacent, CD adjacent, so inputs = A,C\n",
    "#------------------------------------------\n",
    "function FourSiteDM(wf::MPS,locs)\n",
    "    psi = copy(wf)\n",
    "    A,C = locs\n",
    "    sep = C-A-2\n",
    "\n",
    "    orthogonalize!(psi,A)\n",
    "    ket = psi[A]\n",
    "    for k in A+1:C+1\n",
    "        ket *= psi[k]\n",
    "    end\n",
    "    rho = prime(ket,\"Site\") * dag(ket)\n",
    "\n",
    "    if sep>0\n",
    "        inds_list = inds(rho)\n",
    "        set1 = collect(3:C-A)\n",
    "        set2 = set1[end] .+ set1 .+ 2\n",
    "        for idx in 1:length(set1)\n",
    "            rho = rho * delta(inds_list[set1[idx]],inds_list[set2[idx]])\n",
    "        end\n",
    "    end\n",
    "    #-------------------\n",
    "    return rho\n",
    "end"
   ]
  },
  {
   "cell_type": "code",
   "execution_count": 6,
   "metadata": {},
   "outputs": [
    {
     "data": {
      "text/plain": [
       "calc_SvN (generic function with 1 method)"
      ]
     },
     "metadata": {},
     "output_type": "display_data"
    }
   ],
   "source": [
    "#   calc_Eigenvalues of density matrix\n",
    "#-----------------------------------\n",
    "function calc_Eigenvalues(density_matrix)\n",
    "    egn_val,_ = eigen(density_matrix,ishermitian=true)\n",
    "    #-----------------------------------\n",
    "    return diag(array(egn_val))\n",
    "end\n",
    "\n",
    "\n",
    "#   eigenvalue based generic properties of a density matrix\n",
    "#-----------------------------------\n",
    "function calc_Norm(density_matrix)\n",
    "    rho = copy(density_matrix)\n",
    "\n",
    "    egn_val = calc_Eigenvalues(rho)\n",
    "    Norm = sum(egn_val)\n",
    "    Purity = sum(egn_val.^2)\n",
    "\n",
    "    #-----------------------------------\n",
    "    return [Norm,Purity]\n",
    "end\n",
    "\n",
    "#   eigenvalue based generic properties of a density matrix\n",
    "#-----------------------------------\n",
    "function calc_SvN(density_matrix)\n",
    "    rho = copy(density_matrix)\n",
    "\n",
    "    egn_val = calc_Eigenvalues(rho)\n",
    "    SvN = sum( [ - lam*log(lam) for lam in egn_val if lam > 0 ] )\n",
    "\n",
    "    #-----------------------------------\n",
    "    return SvN\n",
    "end\n"
   ]
  },
  {
   "cell_type": "code",
   "execution_count": 7,
   "metadata": {},
   "outputs": [
    {
     "data": {
      "text/plain": [
       "calc_MutInf_TwoSite (generic function with 1 method)"
      ]
     },
     "metadata": {},
     "output_type": "display_data"
    }
   ],
   "source": [
    "#   entanglement details between two sites\n",
    "#-----------------------------------\n",
    "function calc_Neg_TwoSite(wf::MPS,locs)\n",
    "    psi = copy(wf)\n",
    "    A,B = locs\n",
    "\n",
    "    rho = TwoSiteDM(psi,[A,B])\n",
    "    old = inds(rho)\n",
    "\n",
    "    new = [old[1],old[2],old[4],old[3]]\n",
    "    rho_PT = swapinds(rho,old,new)\n",
    "    egn_val = calc_Eigenvalues(rho_PT)\n",
    "\n",
    "    Neg =  abs(sum( [ lam for lam in egn_val if lam<0 ]))\n",
    "    #-----------------------------------\n",
    "    return Neg\n",
    "end\n",
    "\n",
    "\n",
    "#   entanglement details between two sites\n",
    "#-----------------------------------\n",
    "function calc_MutInf_TwoSite(wf::MPS,locs)\n",
    "    psi = copy(wf)\n",
    "    A,B = locs\n",
    "    \n",
    "    S_A  = calc_SvN( TwoSiteDM(psi,[A,A]) )\n",
    "    S_B  = calc_SvN( TwoSiteDM(psi,[B,B]) )\n",
    "    S_AB = calc_SvN( TwoSiteDM(psi,[A,B]) )\n",
    "\n",
    "    MutInf = S_A + S_B - S_AB\n",
    "    #-----------------------------------\n",
    "    return MutInf\n",
    "end"
   ]
  },
  {
   "cell_type": "code",
   "execution_count": 8,
   "metadata": {},
   "outputs": [
    {
     "data": {
      "text/plain": [
       "calc_LogNeg_FourSite (generic function with 1 method)"
      ]
     },
     "metadata": {},
     "output_type": "display_data"
    }
   ],
   "source": [
    "#   entanglement details between four sites\n",
    "#-----------------------------------\n",
    "function calc_LogNeg_FourSite(wf::MPS,locs)    \n",
    "\n",
    "    #-----------------------------------\n",
    "    function get_LogNeg_OnePartition(rho,old,new)\n",
    "        rho_PT = swapinds(rho,old,new)\n",
    "        egn_val = calc_Eigenvalues(rho_PT)\n",
    "        Neg =  abs( sum( [lam for lam in egn_val if lam<0] ) )\n",
    "        return log(1+2*Neg)\n",
    "    end\n",
    "    #-----------------------------------\n",
    "    function exchange_indices(old,set1,set2)\n",
    "        new = copy(old)\n",
    "        for idx in 1:length(set1)\n",
    "            new[set1[idx]],new[set2[idx]] = new[set2[idx]],new[set1[idx]]\n",
    "        end\n",
    "        return new\n",
    "    end\n",
    "    #-----------------------------------\n",
    "\n",
    "    psi = copy(wf)\n",
    "    A,C = locs\n",
    "\n",
    "    rho = FourSiteDM(psi,[A,C])\n",
    "    old = [inds(rho)...]\n",
    "\n",
    "    #   ABCD = 1 2 3 4\n",
    "    #   ABCD = 5 6 7 8\n",
    "    new_list = Vector{Any}(undef,7)\n",
    "    new_list[1] = exchange_indices(old,[1],[5])         #A\n",
    "    new_list[2] = exchange_indices(old,[2],[6])         #B\n",
    "    new_list[3] = exchange_indices(old,[3],[7])         #C\n",
    "    new_list[4] = exchange_indices(old,[4],[8])         #D\n",
    "    new_list[5] = exchange_indices(old,[1,2],[5,6])     #AB\n",
    "    new_list[6] = exchange_indices(old,[1,3],[5,7])     #AC\n",
    "    new_list[7] = exchange_indices(old,[1,4],[5,8])     #AD\n",
    "\n",
    "    LogNeg_partitions = [ get_LogNeg_OnePartition(rho,old,new) for new in new_list ]\n",
    "    LogNeg = prod(LogNeg_partitions)^(1.0/7.0)\n",
    "\n",
    "    #-----------------------------------\n",
    "    return LogNeg\n",
    "end"
   ]
  },
  {
   "cell_type": "code",
   "execution_count": 9,
   "metadata": {},
   "outputs": [
    {
     "name": "stdout",
     "output_type": "stream",
     "text": [
      "After sweep 1 energy=-20.607870588739598  maxlinkdim=25 maxerr=4.97E-03 time=61.514\n",
      "After sweep 2 energy=-20.67018127044538  maxlinkdim=50 maxerr=1.73E-08 time=2.200\n",
      "After sweep 3 energy=-20.67219209154552  maxlinkdim=100 maxerr=1.44E-10 time=9.214\n",
      "After sweep 4 energy=-20.672300059799745  maxlinkdim=131 maxerr=9.99E-12 time=9.738\n",
      "After sweep 5 energy=-20.67231266842578  maxlinkdim=109 maxerr=9.97E-12 time=7.551\n",
      "After sweep 6 energy=-20.6723147671732  maxlinkdim=95 maxerr=9.96E-12 time=3.424\n",
      "After sweep 7 energy=-20.672315147053904  maxlinkdim=88 maxerr=9.97E-12 time=3.132\n",
      "After sweep 8 energy=-20.67231523507819  maxlinkdim=86 maxerr=1.00E-11 time=2.495\n",
      "After sweep 9 energy=-20.67231525298719  maxlinkdim=82 maxerr=9.97E-12 time=5.172\n",
      "After sweep 10 energy=-20.6723152548783  maxlinkdim=80 maxerr=9.98E-12 time=2.572\n",
      "After sweep 11 energy=-20.672315255093196  maxlinkdim=78 maxerr=9.80E-12 time=2.444\n",
      "After sweep 12 energy=-20.672315255185797  maxlinkdim=78 maxerr=9.87E-12 time=2.503\n",
      "After sweep 13 energy=-20.67231525523202  maxlinkdim=78 maxerr=9.66E-12 time=2.661\n",
      "After sweep 14 energy=-20.672315255235752  maxlinkdim=78 maxerr=9.95E-12 time=5.033\n",
      "After sweep 15 energy=-20.67231525524448  maxlinkdim=78 maxerr=9.87E-12 time=2.453\n",
      "After sweep 16 energy=-20.67231525524821  maxlinkdim=78 maxerr=9.84E-12 time=2.762\n",
      "After sweep 17 energy=-20.672315255249945  maxlinkdim=78 maxerr=1.00E-11 time=2.658\n",
      "After sweep 18 energy=-20.672315255214624  maxlinkdim=77 maxerr=1.00E-11 time=2.584\n",
      "After sweep 19 energy=-20.672315255215015  maxlinkdim=77 maxerr=9.98E-12 time=5.040\n",
      "After sweep 20 energy=-20.672315255215203  maxlinkdim=77 maxerr=9.97E-12 time=2.273\n"
     ]
    }
   ],
   "source": [
    "#define the parameters of the hamiltonian and constuct MPO\n",
    "#----------------------------------------------------------------------------\n",
    "\n",
    "nsweeps = 20\n",
    "maxdim = [25,50,100,150,200,250,300,400,500]\n",
    "cutoff = [1E-11]\n",
    "\n",
    "N = 20\n",
    "s_list = collect(1:N) \n",
    "sites = siteinds( k->isodd(k) ? \"S=1/2\" : \"S=3/2\", N ) \n",
    "#sites = siteinds(\"S=1/2\", N)\n",
    "\n",
    "J = 1\n",
    "B = 0.1\n",
    "\n",
    "H = Hamiltonian(sites,J,B) \n",
    "energy0,psi0 = dmrg(H,random_mps(sites,linkdims=maxdim[1]);nsweeps,maxdim,cutoff,ishermitian=true) ;"
   ]
  },
  {
   "cell_type": "code",
   "execution_count": 13,
   "metadata": {},
   "outputs": [],
   "source": []
  },
  {
   "cell_type": "code",
   "execution_count": 14,
   "metadata": {},
   "outputs": [],
   "source": []
  },
  {
   "cell_type": "code",
   "execution_count": 15,
   "metadata": {},
   "outputs": [],
   "source": []
  },
  {
   "cell_type": "markdown",
   "metadata": {},
   "source": [
    "#* check thermodynamic limits *#\n",
    "#-----------------------------\n",
    "Neel = productMPS( sites, k->isodd(k) ? \"Dn\" : \"+3/2\" )\n",
    "\n",
    "wf_list = Vector{Any}(undef,8)\n",
    "\n",
    "psi = Neel\n",
    "wf_list[1] = MagnonOperation( psi, [1] )         #one single magnon\n",
    "wf_list[2] = MagnonOperation( psi, [1,3] )       #two neughbouring\n",
    "wf_list[3] = MagnonOperation( psi, [1,3,5] )     #three neughbouring\n",
    "wf_list[4] = MagnonOperation( psi, [1,2] )       #two overlapping magnons \n",
    "wf_list[5] = MagnonOperation( psi, [1,4] )       #two magnon separted by spin 1/2 \n",
    "wf_list[6] = MagnonOperation( psi, [2,5] )       #two magnon separted by spin 3/2\n",
    "wf_list[7] = MagnonOperation( psi, [1,5] )       #two magnon separed by two sites\n",
    "wf_list[8] = MagnonOperation( psi, [1,3]; split=\"yes\" )       #split magnon of width 0\n",
    "\n",
    "for wf in wf_list\n",
    "    ovlap = inner(wf,psi0)\n",
    "    print( f\"{ovlap:e} \\t \" ) \n",
    "end"
   ]
  },
  {
   "cell_type": "code",
   "execution_count": 16,
   "metadata": {},
   "outputs": [],
   "source": []
  },
  {
   "cell_type": "code",
   "execution_count": 17,
   "metadata": {},
   "outputs": [],
   "source": []
  },
  {
   "cell_type": "code",
   "execution_count": 18,
   "metadata": {},
   "outputs": [],
   "source": []
  },
  {
   "cell_type": "code",
   "execution_count": null,
   "metadata": {},
   "outputs": [],
   "source": [
    "#* 4 partitle negativity between (A,B,C,D) *#\n",
    "#* inputs = A,C as B = A+1 and D=C+1 *#\n",
    "#------------------------------------------------------\n",
    "\n",
    "A = 1\n",
    "for sep in [0,1,2,3,4,5,6]\n",
    "    C =  A+2+sep\n",
    "    ent = calc_LogNeg_FourSite(psi0,[A,C])\n",
    "    println(f\"{sep} \\t {ent:e}\")\n",
    "end"
   ]
  },
  {
   "cell_type": "code",
   "execution_count": null,
   "metadata": {},
   "outputs": [],
   "source": []
  },
  {
   "cell_type": "code",
   "execution_count": 14,
   "metadata": {},
   "outputs": [],
   "source": []
  },
  {
   "cell_type": "code",
   "execution_count": 17,
   "metadata": {},
   "outputs": [],
   "source": []
  },
  {
   "cell_type": "code",
   "execution_count": null,
   "metadata": {},
   "outputs": [],
   "source": []
  }
 ],
 "metadata": {
  "kernelspec": {
   "display_name": "Julia 1.11.2",
   "language": "julia",
   "name": "julia-1.11"
  },
  "language_info": {
   "file_extension": ".jl",
   "mimetype": "application/julia",
   "name": "julia",
   "version": "1.11.2"
  }
 },
 "nbformat": 4,
 "nbformat_minor": 2
}
