{
 "cells": [
  {
   "cell_type": "code",
   "execution_count": 1,
   "id": "c6df0a8b",
   "metadata": {},
   "outputs": [
    {
     "name": "stderr",
     "output_type": "stream",
     "text": [
      "\u001b[32m\u001b[1m   Resolving\u001b[22m\u001b[39m package versions...\n",
      "\u001b[32m\u001b[1m  No Changes\u001b[22m\u001b[39m to `~/.julia/environments/v1.10/Project.toml`\n",
      "\u001b[32m\u001b[1m  No Changes\u001b[22m\u001b[39m to `~/.julia/environments/v1.10/Manifest.toml`\n",
      "\u001b[32m\u001b[1m   Resolving\u001b[22m\u001b[39m package versions...\n",
      "\u001b[32m\u001b[1m  No Changes\u001b[22m\u001b[39m to `~/.julia/environments/v1.10/Project.toml`\n",
      "\u001b[32m\u001b[1m  No Changes\u001b[22m\u001b[39m to `~/.julia/environments/v1.10/Manifest.toml`\n",
      "\u001b[32m\u001b[1m   Resolving\u001b[22m\u001b[39m package versions...\n",
      "\u001b[32m\u001b[1m  No Changes\u001b[22m\u001b[39m to `~/.julia/environments/v1.10/Project.toml`\n",
      "\u001b[32m\u001b[1m  No Changes\u001b[22m\u001b[39m to `~/.julia/environments/v1.10/Manifest.toml`\n",
      "\u001b[32m\u001b[1m   Resolving\u001b[22m\u001b[39m package versions...\n",
      "\u001b[32m\u001b[1m  No Changes\u001b[22m\u001b[39m to `~/.julia/environments/v1.10/Project.toml`\n",
      "\u001b[32m\u001b[1m  No Changes\u001b[22m\u001b[39m to `~/.julia/environments/v1.10/Manifest.toml`\n",
      "\u001b[32m\u001b[1m   Resolving\u001b[22m\u001b[39m package versions...\n",
      "\u001b[32m\u001b[1m  No Changes\u001b[22m\u001b[39m to `~/.julia/environments/v1.10/Project.toml`\n",
      "\u001b[32m\u001b[1m  No Changes\u001b[22m\u001b[39m to `~/.julia/environments/v1.10/Manifest.toml`\n"
     ]
    }
   ],
   "source": [
    "import ITensors:op\n",
    "import Pkg; Pkg.add(\"HDF5\")\n",
    "import Pkg; Pkg.add(\"Plots\")\n",
    "import Pkg; Pkg.add(\"PyFormattedStrings\")\n",
    "import Pkg; Pkg.add(\"LinearAlgebra\")\n",
    "import Pkg; Pkg.add(\"LaTeXStrings\")"
   ]
  },
  {
   "cell_type": "code",
   "execution_count": 2,
   "id": "5048c753",
   "metadata": {},
   "outputs": [
    {
     "data": {
      "text/plain": [
       "14"
      ]
     },
     "execution_count": 2,
     "metadata": {},
     "output_type": "execute_result"
    }
   ],
   "source": [
    "using ITensors, ITensorMPS\n",
    "import ITensors:op\n",
    "using HDF5\n",
    "using Plots\n",
    "using PyFormattedStrings\n",
    "using LinearAlgebra\n",
    "\n",
    "ITensors.disable_warn_order()"
   ]
  },
  {
   "cell_type": "code",
   "execution_count": 3,
   "id": "a5abd382",
   "metadata": {},
   "outputs": [
    {
     "data": {
      "text/plain": [
       "Hamiltonian (generic function with 1 method)"
      ]
     },
     "execution_count": 3,
     "metadata": {},
     "output_type": "execute_result"
    }
   ],
   "source": [
    "# construction of the MPO hamiltonian\n",
    "#------------------------------------------\n",
    "function Hamiltonian(sites)\n",
    "    ops = OpSum()\n",
    "\n",
    "    N = length(sites)\n",
    "    # spin-spin interaction\n",
    "    for k=1:N-1\n",
    "        ops += J,   \"Sz\",k, \"Sz\",k+1\n",
    "        ops += J/2, \"S+\",k, \"S-\",k+1\n",
    "        ops += J/2, \"S-\",k, \"S+\",k+1\n",
    "    end\n",
    "    #make it a ring\n",
    "    ops += J,   \"Sz\",N, \"Sz\",1\n",
    "    ops += J/2, \"S+\",N, \"S-\",1\n",
    "    ops += J/2, \"S-\",N, \"S+\",1\n",
    "\n",
    "    # spin-B interaction\n",
    "    for k=1:N\n",
    "        ops += -B, \"Sz\",k\n",
    "    end\n",
    "    \n",
    "    H = MPO(ops,sites)\n",
    "    #--------------------------\n",
    "    return H\n",
    "end"
   ]
  },
  {
   "cell_type": "code",
   "execution_count": 4,
   "id": "05da78cd",
   "metadata": {},
   "outputs": [
    {
     "data": {
      "text/plain": [
       "get_4pdm (generic function with 1 method)"
      ]
     },
     "execution_count": 4,
     "metadata": {},
     "output_type": "execute_result"
    }
   ],
   "source": [
    "\n",
    "#four point RDM of sites AB, CD\n",
    "# AB adjacent, CD adjacent\n",
    "#------------------------------------------\n",
    "function get_4pdm(wf::MPS,locs)\n",
    "    psi = copy(wf)\n",
    "    A,C = locs\n",
    "\n",
    "    orthogonalize!(psi,A)\n",
    "    ket = psi[A]\n",
    "    for k in A+1:C+1\n",
    "        ket *= psi[k]\n",
    "    end\n",
    "    rho = prime(ket,\"Site\") * dag(ket)\n",
    "\n",
    "    if C-A>2\n",
    "        inds_list = inds(rho)\n",
    "        trinds1 = collect(3 : C-A)\n",
    "        trinds2 = trinds1[end] .+ trinds1 .+ 2\n",
    "        for idx in 1:length(trinds1)\n",
    "            rho = rho*delta(inds_list[trinds1[idx]],inds_list[trinds2[idx]])\n",
    "        end\n",
    "    end\n",
    "    #-------------------\n",
    "    return rho\n",
    "end"
   ]
  },
  {
   "cell_type": "code",
   "execution_count": 5,
   "id": "5aab054d",
   "metadata": {},
   "outputs": [
    {
     "data": {
      "text/plain": [
       "calc_LogNeg_4site (generic function with 1 method)"
      ]
     },
     "execution_count": 5,
     "metadata": {},
     "output_type": "execute_result"
    }
   ],
   "source": [
    "#   entanglement details between four sites\n",
    "#-----------------------------------\n",
    "function calc_LogNeg_4site(wf::MPS,locs)    \n",
    "    psi = copy(wf)\n",
    "    A,C = locs\n",
    "\n",
    "    rho = get_4pdm(psi,[A,C])\n",
    "    old = inds(rho)\n",
    "\n",
    "    function get_LogNeg(rho,old,new)\n",
    "        rho_PT = swapinds(rho,old,new)\n",
    "        egn_val = calc_Eigenvalues(rho_PT)\n",
    "        Neg =  abs(sum( [lam for lam in egn_val if lam<0] ))\n",
    "        return log(1+2*Neg)\n",
    "    end\n",
    "        \n",
    "    #   ABCD = 1234 \n",
    "    #   ABCD = 5678\n",
    "\n",
    "    # wrt A B C D\n",
    "    new_A  = [old[5],old[2],old[3],old[4],old[1],old[6],old[7],old[8]]\n",
    "    new_B  = [old[1],old[6],old[3],old[4],old[5],old[2],old[7],old[8]]\n",
    "    new_C  = [old[1],old[2],old[7],old[4],old[5],old[6],old[3],old[8]]\n",
    "    new_D  = [old[1],old[2],old[3],old[8],old[5],old[6],old[7],old[4]]\n",
    "\n",
    "    # wrt AB AC AD\n",
    "    new_AB = [old[5],old[6],old[3],old[4],old[1],old[2],old[7],old[8]]\n",
    "    new_AC = [old[5],old[2],old[7],old[4],old[1],old[6],old[3],old[8]]\n",
    "    new_AD = [old[5],old[2],old[3],old[8],old[1],old[6],old[7],old[4]]\n",
    "\n",
    "    LogNeg = 1\n",
    "    for new in [new_A,new_B,new_C,new_D,new_AB,new_AC,new_AD]\n",
    "        LogNeg *= get_LogNeg(rho,old,new)\n",
    "    end\n",
    "    LogNeg = LogNeg^(1.0/7.0)\n",
    "\n",
    "    #-----------------------------------\n",
    "    return LogNeg\n",
    "end"
   ]
  },
  {
   "cell_type": "code",
   "execution_count": null,
   "id": "763d7648",
   "metadata": {},
   "outputs": [],
   "source": []
  },
  {
   "cell_type": "code",
   "execution_count": 6,
   "id": "cd0cd171",
   "metadata": {},
   "outputs": [
    {
     "name": "stdout",
     "output_type": "stream",
     "text": [
      "After sweep 1 energy=-7.0431111827213  maxlinkdim=8 maxerr=8.62E-16 time=20.320\n",
      "After sweep 2 energy=-7.281352818609881  maxlinkdim=32 maxerr=2.36E-16 time=0.082\n",
      "After sweep 3 energy=-7.284304927081301  maxlinkdim=63 maxerr=5.58E-12 time=0.127\n",
      "After sweep 4 energy=-7.286358019275375  maxlinkdim=66 maxerr=9.15E-12 time=0.154\n",
      "After sweep 5 energy=-7.28815531552161  maxlinkdim=66 maxerr=9.23E-12 time=0.108\n",
      "After sweep 6 energy=-7.289765000119847  maxlinkdim=66 maxerr=6.77E-12 time=0.137\n",
      "After sweep 7 energy=-7.291157837017649  maxlinkdim=66 maxerr=5.83E-12 time=0.173\n",
      "After sweep 8 energy=-7.292349344593624  maxlinkdim=65 maxerr=7.84E-12 time=0.151\n",
      "After sweep 9 energy=-7.293358162317556  maxlinkdim=65 maxerr=5.98E-12 time=0.114\n",
      "After sweep 10 energy=-7.294203600527301  maxlinkdim=64 maxerr=9.57E-12 time=0.115\n",
      "After sweep 11 energy=-7.2949056934364265  maxlinkdim=64 maxerr=9.00E-12 time=0.102\n",
      "After sweep 12 energy=-7.295486644360443  maxlinkdim=64 maxerr=7.63E-12 time=0.112\n",
      "After sweep 13 energy=-7.295966468015659  maxlinkdim=64 maxerr=6.98E-12 time=0.110\n",
      "After sweep 14 energy=-7.296361450642031  maxlinkdim=63 maxerr=8.78E-12 time=0.105\n",
      "After sweep 15 energy=-7.2966856297310185  maxlinkdim=62 maxerr=9.94E-12 time=0.111\n",
      "After sweep 16 energy=-7.2969504998074095  maxlinkdim=61 maxerr=9.81E-12 time=0.110\n",
      "After sweep 17 energy=-7.2971654419655305  maxlinkdim=60 maxerr=8.35E-12 time=0.097\n",
      "After sweep 18 energy=-7.297338810785888  maxlinkdim=59 maxerr=8.62E-12 time=0.108\n",
      "After sweep 19 energy=-7.297478232599923  maxlinkdim=58 maxerr=9.02E-12 time=0.108\n",
      "After sweep 20 energy=-7.297590449859446  maxlinkdim=57 maxerr=9.85E-12 time=0.101\n"
     ]
    }
   ],
   "source": [
    "#define the parameters of the hamiltonian and constuct MPO\n",
    "#----------------------------------------------------------------------------\n",
    "J = 1 \n",
    "B = 0.01\n",
    "\n",
    "nsweeps = 20\n",
    "maxdim = [100, 200, 500, 1000, 2000, 5000, 10000, 25580]\n",
    "cutoff = [1E-11]\n",
    "\n",
    "#--------------------\n",
    "N = 10\n",
    "#--------------------\n",
    "\n",
    "site_list = collect(1:N) \n",
    "sites = siteinds( k->isodd(k) ? \"S=1/2\" : \"S=1\", N ) \n",
    "#sites = siteinds(\"S=1/2\", N)\n",
    "\n",
    "H = Hamiltonian(sites) \n",
    "\n",
    "# ground state and first excited state\n",
    "#--------------------------------------------\n",
    "energy0,psi0 = dmrg(H,random_mps(sites);nsweeps,maxdim,cutoff,ishermitian=true) ;\n",
    "#energy1,psi1 = dmrg(H,[psi0],random_mps(sites);nsweeps,maxdim,cutoff,ishermitian=true) ;"
   ]
  },
  {
   "cell_type": "code",
   "execution_count": null,
   "id": "0364453e",
   "metadata": {},
   "outputs": [],
   "source": []
  },
  {
   "cell_type": "code",
   "execution_count": 7,
   "id": "8aeab0b3",
   "metadata": {},
   "outputs": [
    {
     "name": "stdout",
     "output_type": "stream",
     "text": [
      "After sweep 1 energy=-10.600643393518583  maxlinkdim=8 maxerr=9.07E-17 time=0.017\n",
      "After sweep 2 energy=-10.673681409297492  maxlinkdim=32 maxerr=2.60E-16 time=0.093\n",
      "After sweep 3 energy=-10.717071919550326  maxlinkdim=122 maxerr=8.84E-12 time=0.366\n",
      "After sweep 4 energy=-10.719534024010436  maxlinkdim=234 maxerr=9.84E-12 time=1.490\n",
      "After sweep 5 energy=-10.720824631144605  maxlinkdim=288 maxerr=9.85E-12 time=2.933\n",
      "After sweep 6 energy=-10.721607082001738  maxlinkdim=269 maxerr=9.99E-12 time=3.662\n",
      "After sweep 7 energy=-10.72217903059147  maxlinkdim=256 maxerr=9.91E-12 time=2.435\n",
      "After sweep 8 energy=-10.722617355934  maxlinkdim=245 maxerr=9.96E-12 time=2.495\n",
      "After sweep 9 energy=-10.722950355705047  maxlinkdim=232 maxerr=9.94E-12 time=2.217\n",
      "After sweep 10 energy=-10.72319546739611  maxlinkdim=221 maxerr=9.94E-12 time=2.042\n",
      "After sweep 11 energy=-10.72337358343973  maxlinkdim=211 maxerr=9.90E-12 time=1.905\n",
      "After sweep 12 energy=-10.723504812617234  maxlinkdim=203 maxerr=9.82E-12 time=1.777\n",
      "After sweep 13 energy=-10.723602222657604  maxlinkdim=196 maxerr=9.96E-12 time=2.048\n",
      "After sweep 14 energy=-10.723675643114472  maxlinkdim=190 maxerr=9.73E-12 time=1.563\n",
      "After sweep 15 energy=-10.723731361057322  maxlinkdim=184 maxerr=9.94E-12 time=1.466\n",
      "After sweep 16 energy=-10.72377451015117  maxlinkdim=178 maxerr=9.89E-12 time=1.412\n",
      "After sweep 17 energy=-10.723808344456804  maxlinkdim=172 maxerr=9.94E-12 time=1.321\n",
      "After sweep 18 energy=-10.723834246158816  maxlinkdim=166 maxerr=9.83E-12 time=1.262\n",
      "After sweep 19 energy=-10.72385373988452  maxlinkdim=160 maxerr=1.00E-11 time=1.212\n",
      "After sweep 20 energy=-10.72386825257508  maxlinkdim=155 maxerr=9.91E-12 time=1.169\n"
     ]
    }
   ],
   "source": [
    "#define the parameters of the hamiltonian and constuct MPO\n",
    "#----------------------------------------------------------------------------\n",
    "\n",
    "J = 1 \n",
    "B = 0.01\n",
    "\n",
    "nsweeps = 20\n",
    "maxdim = [100, 200, 500, 1000, 2000, 5000, 10000, 25580]\n",
    "cutoff = [1E-11]\n",
    "\n",
    "#--------------------\n",
    "N1 = 15\n",
    "#--------------------\n",
    "\n",
    "site_list1 = collect(1:N1) \n",
    "\n",
    "sites1 = siteinds( k->isodd(k) ? \"S=1/2\" : \"S=1\", N1 ) \n",
    "\n",
    "H1 = Hamiltonian(sites1) \n",
    "\n",
    "# ground state and first excited state\n",
    "#--------------------------------------------\n",
    "energy01,psi01 = dmrg(H1,random_mps(sites1);nsweeps,maxdim,cutoff,ishermitian=true) ;\n",
    "#energy1,psi1 = dmrg(H,[psi0],random_mps(sites);nsweeps,maxdim,cutoff,ishermitian=true) ;"
   ]
  },
  {
   "cell_type": "code",
   "execution_count": null,
   "id": "6a9f1555",
   "metadata": {},
   "outputs": [],
   "source": []
  },
  {
   "cell_type": "code",
   "execution_count": 8,
   "id": "17a49ee1",
   "metadata": {},
   "outputs": [
    {
     "name": "stdout",
     "output_type": "stream",
     "text": [
      "After sweep 1 energy=-14.237806252703491  maxlinkdim=8 maxerr=1.21E-15 time=0.023\n",
      "After sweep 2 energy=-14.446751836948557  maxlinkdim=32 maxerr=8.04E-12 time=0.131\n",
      "After sweep 3 energy=-14.587395096744315  maxlinkdim=112 maxerr=9.64E-12 time=0.612\n",
      "After sweep 4 energy=-14.588793491011119  maxlinkdim=234 maxerr=9.98E-12 time=3.551\n",
      "After sweep 5 energy=-14.589385703101053  maxlinkdim=346 maxerr=9.99E-12 time=10.838\n",
      "After sweep 6 energy=-14.589825647162748  maxlinkdim=384 maxerr=9.97E-12 time=13.458\n",
      "After sweep 7 energy=-14.590152487265076  maxlinkdim=378 maxerr=9.99E-12 time=18.904\n",
      "After sweep 8 energy=-14.59038932962276  maxlinkdim=359 maxerr=1.00E-11 time=12.528\n",
      "After sweep 9 energy=-14.590552268237472  maxlinkdim=335 maxerr=1.00E-11 time=10.711\n",
      "After sweep 10 energy=-14.59066735114771  maxlinkdim=312 maxerr=9.99E-12 time=8.585\n",
      "After sweep 11 energy=-14.590748793917315  maxlinkdim=290 maxerr=9.95E-12 time=7.744\n",
      "After sweep 12 energy=-14.590806338810083  maxlinkdim=270 maxerr=9.99E-12 time=7.437\n",
      "After sweep 13 energy=-14.590847189209612  maxlinkdim=251 maxerr=9.99E-12 time=6.016\n",
      "After sweep 14 energy=-14.59087623402869  maxlinkdim=234 maxerr=9.96E-12 time=5.226\n",
      "After sweep 15 energy=-14.590896976108962  maxlinkdim=219 maxerr=9.98E-12 time=4.550\n",
      "After sweep 16 energy=-14.590911795428655  maxlinkdim=206 maxerr=9.98E-12 time=3.525\n",
      "After sweep 17 energy=-14.590922572282086  maxlinkdim=195 maxerr=9.99E-12 time=3.346\n",
      "After sweep 18 energy=-14.590930548961838  maxlinkdim=185 maxerr=9.92E-12 time=3.105\n",
      "After sweep 19 energy=-14.590936364515716  maxlinkdim=176 maxerr=1.00E-11 time=3.516\n",
      "After sweep 20 energy=-14.590940715519556  maxlinkdim=169 maxerr=9.99E-12 time=2.701\n"
     ]
    }
   ],
   "source": [
    "#define the parameters of the hamiltonian and constuct MPO\n",
    "#----------------------------------------------------------------------------\n",
    "\n",
    "J = 1 \n",
    "B = 0.01\n",
    "\n",
    "nsweeps = 20\n",
    "maxdim = [100, 200, 500, 1000, 2000, 5000, 10000, 25580]\n",
    "cutoff = [1E-11]\n",
    "\n",
    "#--------------------\n",
    "N2 = 20\n",
    "#--------------------\n",
    "\n",
    "site_list2 = collect(1:N2) \n",
    "\n",
    "sites2 = siteinds( k->isodd(k) ? \"S=1/2\" : \"S=1\", N2 ) \n",
    "\n",
    "H2 = Hamiltonian(sites2) \n",
    "\n",
    "# ground state and first excited state\n",
    "#--------------------------------------------\n",
    "energy02,psi02 = dmrg(H2,random_mps(sites2);nsweeps,maxdim,cutoff,ishermitian=true) ;\n",
    "#energy1,psi1 = dmrg(H,[psi0],random_mps(sites);nsweeps,maxdim,cutoff,ishermitian=true) ;"
   ]
  },
  {
   "cell_type": "code",
   "execution_count": null,
   "id": "1076cb4d",
   "metadata": {},
   "outputs": [],
   "source": []
  },
  {
   "cell_type": "code",
   "execution_count": 9,
   "id": "7c2f4508",
   "metadata": {},
   "outputs": [
    {
     "ename": "LoadError",
     "evalue": "UndefVarError: `site3` not defined",
     "output_type": "error",
     "traceback": [
      "UndefVarError: `site3` not defined",
      "",
      "Stacktrace:",
      " [1] top-level scope",
      "   @ In[9]:19"
     ]
    }
   ],
   "source": [
    "#define the parameters of the hamiltonian and constuct MPO\n",
    "#----------------------------------------------------------------------------\n",
    "\n",
    "J = 1 \n",
    "B = 0.01\n",
    "\n",
    "nsweeps = 20\n",
    "maxdim = [100, 200, 500, 1000, 2000, 5000, 10000, 25580]\n",
    "cutoff = [1E-11]\n",
    "\n",
    "#--------------------\n",
    "N3 = 30\n",
    "#--------------------\n",
    "\n",
    "site_list3 = collect(1:N3) \n",
    "\n",
    "sites3 = siteinds( k->isodd(k) ? \"S=1/2\" : \"S=1\", N3 ) \n",
    "\n",
    "H3 = Hamiltonian(site3) \n",
    "\n",
    "# ground state and first excited state\n",
    "#--------------------------------------------\n",
    "energy03,psi03 = dmrg(H3,random_mps(sites3);nsweeps,maxdim,cutoff,ishermitian=true) ;\n",
    "#energy1,psi1 = dmrg(H,[psi0],random_mps(sites);nsweeps,maxdim,cutoff,ishermitian=true) ;"
   ]
  },
  {
   "cell_type": "code",
   "execution_count": null,
   "id": "302c72cf",
   "metadata": {},
   "outputs": [],
   "source": []
  },
  {
   "cell_type": "code",
   "execution_count": 10,
   "id": "56f0febf",
   "metadata": {},
   "outputs": [
    {
     "name": "stdout",
     "output_type": "stream",
     "text": [
      "Mixed spin chain 1/2-1 for N=10\n"
     ]
    },
    {
     "ename": "LoadError",
     "evalue": "UndefVarError: `calc_Eigenvalues` not defined",
     "output_type": "error",
     "traceback": [
      "UndefVarError: `calc_Eigenvalues` not defined",
      "",
      "Stacktrace:",
      " [1] (::var\"#get_LogNeg#2\")(rho::ITensor, old::NTuple{8, Index{Int64}}, new::Vector{Index{Int64}})",
      "   @ Main ./In[5]:12",
      " [2] calc_LogNeg_4site(wf::MPS, locs::Vector{Int64})",
      "   @ Main ./In[5]:33",
      " [3] top-level scope",
      "   @ ./In[10]:13"
     ]
    }
   ],
   "source": [
    "using Plots\n",
    "using LaTeXStrings\n",
    "\n",
    "seps=0:5\n",
    "enta= []\n",
    "enta1= []\n",
    "enta2= []\n",
    "enta3= []\n",
    "A = 1\n",
    "    println(\"Mixed spin chain 1/2-1 for N=10\")\n",
    "for sep in seps\n",
    "    D =  A+2+sep\n",
    "    ent = calc_LogNeg_4site(psi0,[A,D])\n",
    "    push!(enta, ent)\n",
    "    println(f\"{sep} \\t {ent}\")\n",
    "end\n",
    "println(\"----------------------------\")\n",
    "println(\"----------------------------\")\n",
    "\n",
    "    println(\"Mixed spin chain 1/2-1 for N=15\")\n",
    "for sep in seps\n",
    "    D =  A+2+sep\n",
    "    ent1 = calc_LogNeg_4site(psi01,[A,D])\n",
    "    push!(enta1, ent1)\n",
    "    println(f\"{sep} \\t {ent1}\")\n",
    "end\n",
    "println(\"----------------------------\")\n",
    "println(\"----------------------------\")\n",
    "\n",
    "    println(\"Mixed spin chain 1/2-1 for N=20\")\n",
    "for sep in seps\n",
    "    D =  A+2+sep\n",
    "    ent2 = calc_LogNeg_4site(psi02,[A,D])\n",
    "    push!(enta2, ent2)\n",
    "    println(f\"{sep} \\t {ent2}\")\n",
    "end\n",
    "println(\"----------------------------\")\n",
    "println(\"----------------------------\")\n",
    "\n",
    "\n",
    "    println(\"Mixed spin chain 1/2-1 for N=30\")\n",
    "for sep in seps\n",
    "    D =  A+2+sep\n",
    "    ent3 = calc_LogNeg_4site(psi03,[A,D])\n",
    "    push!(enta3, ent3)\n",
    "    println(f\"{sep} \\t {ent3}\")\n",
    "end\n",
    "\n",
    "\n",
    "\n",
    "plot(seps, enta, xlabel= \"Separation\", ylabel=L\"\\mathcal{N}_4\", label=\"N=10\", marker=:circle, color=\"red\", lw=2)\n",
    "plot!(seps, enta1, xlabel= \"Separation\", ylabel=L\"\\mathcal{N}_4\", label=\"N=15\", marker=:circle, color=\"red\", lw=2)\n",
    "plot!(seps, enta2, xlabel= \"Separation\", ylabel=L\"\\mathcal{N}_4\", label=\"N=20\", marker=:circle, color=\"red\", lw=2)\n",
    "plot!(seps, enta3, xlabel= \"Separation\", ylabel=L\"\\mathcal{N}_4\", label=\"N=30\", marker=:circle, color=\"red\", lw=2)"
   ]
  },
  {
   "cell_type": "code",
   "execution_count": null,
   "id": "a65c8420",
   "metadata": {},
   "outputs": [],
   "source": []
  }
 ],
 "metadata": {
  "kernelspec": {
   "display_name": "Julia 1.10.3",
   "language": "julia",
   "name": "julia-1.10"
  },
  "language_info": {
   "file_extension": ".jl",
   "mimetype": "application/julia",
   "name": "julia",
   "version": "1.10.3"
  }
 },
 "nbformat": 4,
 "nbformat_minor": 5
}
