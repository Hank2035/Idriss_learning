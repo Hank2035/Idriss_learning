{
 "cells": [
  {
   "cell_type": "code",
   "execution_count": 1,
   "metadata": {},
   "outputs": [
    {
     "data": {
      "text/plain": [
       "14"
      ]
     },
     "metadata": {},
     "output_type": "display_data"
    }
   ],
   "source": [
    "using ITensors,ITensorMPS\n",
    "import ITensors:op\n",
    "using PyFormattedStrings\n",
    "using LinearAlgebra\n",
    "using Plots\n",
    "\n",
    "ITensors.disable_warn_order()"
   ]
  },
  {
   "cell_type": "code",
   "execution_count": 2,
   "metadata": {},
   "outputs": [],
   "source": [
    "# overloadings for SiteType 3/2\n",
    "#----------------------------------------------\n",
    "ITensors.space(::SiteType\"S=3/2\") = 4\n",
    "\n",
    "# operator Sz\n",
    "#-------------------\n",
    "ITensors.op(::OpName\"Sz\",::SiteType\"S=3/2\") =\n",
    "[+3/2   0    0    0\n",
    "  0    +1/2  0    0\n",
    "  0     0   -1/2  0\n",
    "  0     0    0   -3/2]\n",
    "\n",
    "# operator S+\n",
    "#-------------------\n",
    "ITensors.op(::OpName\"S+\",::SiteType\"S=3/2\") =\n",
    "[0  √3  0   0 \n",
    " 0  0   √4  0\n",
    " 0  0   0   √3\n",
    " 0  0   0   0]\n",
    "\n",
    "# operator S-\n",
    "#-------------------\n",
    "ITensors.op(::OpName\"S-\",::SiteType\"S=3/2\") =\n",
    "[0  0   0   0\n",
    " √3 0   0   0\n",
    " 0  √4  0   0\n",
    " 0  0   √3  0]\n",
    "\n",
    "# z projection states\n",
    "#-----------------------------------------\n",
    "ITensors.state(::StateName\"+3/2\",::SiteType\"S=3/2\") = [1, 0, 0, 0]\n",
    "ITensors.state(::StateName\"+1/2\",::SiteType\"S=3/2\") = [0, 1, 0, 0]\n",
    "ITensors.state(::StateName\"-1/2\",::SiteType\"S=3/2\") = [0, 0, 1, 0]\n",
    "ITensors.state(::StateName\"-3/2\",::SiteType\"S=3/2\") = [0, 0, 0, 1]"
   ]
  },
  {
   "cell_type": "code",
   "execution_count": 3,
   "metadata": {},
   "outputs": [
    {
     "data": {
      "text/plain": [
       "Hamiltonian (generic function with 1 method)"
      ]
     },
     "metadata": {},
     "output_type": "display_data"
    }
   ],
   "source": [
    "# construction of the MPO hamiltonian\n",
    "#------------------------------------------\n",
    "function Hamiltonian(sites)\n",
    "    ops = OpSum()\n",
    "\n",
    "    N = length(sites)\n",
    "    # spin-spin interaction\n",
    "    for k=1:N-1\n",
    "        ops += J,   \"Sz\",k, \"Sz\",k+1\n",
    "        ops += J/2, \"S+\",k, \"S-\",k+1\n",
    "        ops += J/2, \"S-\",k, \"S+\",k+1\n",
    "    end\n",
    "    #make it a ring\n",
    "    ops += J,   \"Sz\",N, \"Sz\",1\n",
    "    ops += J/2, \"S+\",N, \"S-\",1\n",
    "    ops += J/2, \"S-\",N, \"S+\",1\n",
    "\n",
    "    # spin-B interaction\n",
    "    for k=1:N\n",
    "        ops += -B, \"Sz\",k\n",
    "    end\n",
    "    \n",
    "    H = MPO(ops,sites)\n",
    "    #--------------------------\n",
    "    return H\n",
    "end"
   ]
  },
  {
   "cell_type": "code",
   "execution_count": 4,
   "metadata": {},
   "outputs": [
    {
     "data": {
      "text/plain": [
       "MagnonOperation (generic function with 1 method)"
      ]
     },
     "metadata": {},
     "output_type": "display_data"
    }
   ],
   "source": [
    "# apply magon operators at various sites\n",
    "#----------------------------------\n",
    "function MagnonOperation(wf::MPS, k_list; split=\"no\")    \n",
    "    psi = copy(wf)\n",
    "    sites = siteinds(psi)\n",
    "\n",
    "    #magnon creation at sites k,k+1\n",
    "    for k in k_list\n",
    "        if isodd(k)\n",
    "            psi = apply( op(\"S+\",sites[k])  , psi )\n",
    "            psi = apply( op(\"S-\",sites[k+1]), psi )\n",
    "        else\n",
    "            psi = apply( op(\"S-\",sites[k])  , psi )\n",
    "            psi = apply( op(\"S+\",sites[k+1]), psi )\n",
    "        end   \n",
    "    end\n",
    "\n",
    "    #for split magnon\n",
    "    if length(k_list)==2 && split==\"yes\"\n",
    "        m,n = k_list[1]+1, k_list[2]     #loc of desturction\n",
    "        \n",
    "        if isodd(m)\n",
    "            psi = apply( op(\"S-\",sites[m]), psi )\n",
    "        else\n",
    "            psi = apply( op(\"S+\",sites[m]), psi )\n",
    "        end\n",
    "\n",
    "        if isodd(n)\n",
    "            psi = apply( op(\"S-\",sites[n]), psi )\n",
    "        else\n",
    "            psi = apply( op(\"S+\",sites[n]), psi )\n",
    "        end\n",
    "    end\n",
    "\n",
    "    return normalize!(psi)\n",
    "    #----------------------------------\n",
    "end"
   ]
  },
  {
   "cell_type": "code",
   "execution_count": 5,
   "metadata": {},
   "outputs": [
    {
     "data": {
      "text/plain": [
       "get_4pdm (generic function with 1 method)"
      ]
     },
     "metadata": {},
     "output_type": "display_data"
    }
   ],
   "source": [
    "# one or two sites reduced density matrix\n",
    "#--------------------------------------\n",
    "function get_2pdm(wf::MPS,locs)\n",
    "    ket = copy(wf)\n",
    "    sites = siteinds(ket)\n",
    "    n_locs = length(locs)\n",
    "\n",
    "    if n_locs==1\n",
    "        A = locs[1]\n",
    "        orthogonalize!(ket,A)\n",
    "        rho = prime(ket[A],sites[A]) * dag(ket[A])\n",
    "\n",
    "    elseif n_locs==2\n",
    "        A,B = locs\n",
    "        orthogonalize!(ket,A)\n",
    "        bra = prime(dag(ket),linkinds(ket))\n",
    "        \n",
    "        rho = prime(ket[A],linkinds(ket,A-1)) * prime(bra[A],sites[A])\n",
    "        for k in A+1:B-1\n",
    "            rho *= ket[k]*bra[k]\n",
    "        end\n",
    "        rho *= prime(ket[B],linkinds(ket,B)) * prime(bra[B],sites[B])  \n",
    "    \n",
    "    end\n",
    "\n",
    "    #-----------------------------------\n",
    "    return rho\n",
    "end\n",
    "\n",
    "\n",
    "#four point RDM of sites AB, CD\n",
    "# AB adjacent, CD adjacent\n",
    "#------------------------------------------\n",
    "function get_4pdm(wf::MPS,locs)\n",
    "    psi = copy(wf)\n",
    "    A,C = locs\n",
    "\n",
    "    orthogonalize!(psi,A)\n",
    "    ket = psi[A]\n",
    "    for k in A+1:C+1\n",
    "        ket *= psi[k]\n",
    "    end\n",
    "    rho = prime(ket,\"Site\") * dag(ket)\n",
    "\n",
    "    if C-A>2\n",
    "        inds_list = inds(rho)\n",
    "        trinds1 = collect(3 : C-A)\n",
    "        trinds2 = trinds1[end] .+ trinds1 .+ 2\n",
    "        for idx in 1:length(trinds1)\n",
    "            rho = rho*delta(inds_list[trinds1[idx]],inds_list[trinds2[idx]])\n",
    "        end\n",
    "    end\n",
    "    #-------------------\n",
    "    return rho\n",
    "end"
   ]
  },
  {
   "cell_type": "code",
   "execution_count": 6,
   "metadata": {},
   "outputs": [
    {
     "data": {
      "text/plain": [
       "calc_SvN (generic function with 1 method)"
      ]
     },
     "metadata": {},
     "output_type": "display_data"
    }
   ],
   "source": [
    "#   calc_Eigenvalues of density matrix\n",
    "#-----------------------------------\n",
    "function calc_Eigenvalues(density_matrix)\n",
    "    egn_val,_ = eigen(density_matrix,ishermitian=true)\n",
    "    #-----------------------------------\n",
    "    return diag(array(egn_val))\n",
    "end\n",
    "\n",
    "\n",
    "#   eigenvalue based generic properties of a density matrix\n",
    "#-----------------------------------\n",
    "function calc_Norm(density_matrix)\n",
    "    rho = copy(density_matrix)\n",
    "\n",
    "    egn_val = calc_Eigenvalues(rho)\n",
    "    Norm = sum(egn_val)\n",
    "    Purity = sum(egn_val.^2)\n",
    "\n",
    "    #-----------------------------------\n",
    "    return [Norm,Purity]\n",
    "end\n",
    "\n",
    "#   eigenvalue based generic properties of a density matrix\n",
    "#-----------------------------------\n",
    "function calc_SvN(density_matrix)\n",
    "    rho = copy(density_matrix)\n",
    "\n",
    "    egn_val = calc_Eigenvalues(rho)\n",
    "    SvN = sum( [ - lam*log(lam) for lam in egn_val if lam > 0 ] )\n",
    "\n",
    "    #-----------------------------------\n",
    "    return SvN\n",
    "end\n"
   ]
  },
  {
   "cell_type": "code",
   "execution_count": 7,
   "metadata": {},
   "outputs": [
    {
     "data": {
      "text/plain": [
       "calc_MutInf_2site (generic function with 1 method)"
      ]
     },
     "metadata": {},
     "output_type": "display_data"
    }
   ],
   "source": [
    "#   entanglement details between two sites\n",
    "#-----------------------------------\n",
    "function calc_Neg_2site(wf::MPS,locs)\n",
    "    psi = copy(wf)\n",
    "    A,B = locs\n",
    "\n",
    "    rho = get_2pdm(psi,[A,B])\n",
    "    old = inds(rho)\n",
    "\n",
    "    new = [old[1],old[2],old[4],old[3]]\n",
    "    rho_PT = swapinds(rho,old,new)\n",
    "    egn_val = calc_Eigenvalues(rho_PT)\n",
    "\n",
    "    Neg =  abs(sum( [ lam for lam in egn_val if lam<0 ]))\n",
    "    #-----------------------------------\n",
    "    return Neg\n",
    "end\n",
    "\n",
    "\n",
    "\n",
    "#   entanglement details between two sites\n",
    "#-----------------------------------\n",
    "function calc_MutInf_2site(wf::MPS,locs)\n",
    "    psi = copy(wf)\n",
    "    A,B = locs\n",
    "\n",
    "    rho_A  = get_2pdm(psi,[A,A])\n",
    "    rho_B  = get_2pdm(psi,[B,B])\n",
    "    rho_AB = get_2pdm(psi,[A,B])\n",
    "\n",
    "    S_A = calc_SvN(rho_A)\n",
    "    S_B = calc_SvN(rho_B)\n",
    "    S_AB = calc_SvN(rho_AB)\n",
    "\n",
    "    MutInf = S_A + S_B - S_AB\n",
    "    #-----------------------------------\n",
    "    return MutInf\n",
    "end"
   ]
  },
  {
   "cell_type": "code",
   "execution_count": 8,
   "metadata": {},
   "outputs": [
    {
     "data": {
      "text/plain": [
       "calc_LogNeg_4site (generic function with 1 method)"
      ]
     },
     "metadata": {},
     "output_type": "display_data"
    }
   ],
   "source": [
    "#   entanglement details between four sites\n",
    "#-----------------------------------\n",
    "function calc_LogNeg_4site(wf::MPS,locs)    \n",
    "    psi = copy(wf)\n",
    "    A,C = locs\n",
    "\n",
    "    rho = get_4pdm(psi,[A,C])\n",
    "    old = inds(rho)\n",
    "\n",
    "    function get_LogNeg(rho,old,new)\n",
    "        rho_PT = swapinds(rho,old,new)\n",
    "        egn_val = calc_Eigenvalues(rho_PT)\n",
    "        Neg =  abs(sum( [lam for lam in egn_val if lam<0] ))\n",
    "        return log(1+2*Neg)\n",
    "    end\n",
    "        \n",
    "    #   ABCD = 1234 \n",
    "    #   ABCD = 5678\n",
    "\n",
    "    # wrt A B C D\n",
    "    new_A  = [old[5],old[2],old[3],old[4],old[1],old[6],old[7],old[8]]\n",
    "    new_B  = [old[1],old[6],old[3],old[4],old[5],old[2],old[7],old[8]]\n",
    "    new_C  = [old[1],old[2],old[7],old[4],old[5],old[6],old[3],old[8]]\n",
    "    new_D  = [old[1],old[2],old[3],old[8],old[5],old[6],old[7],old[4]]\n",
    "\n",
    "    # wrt AB AC AD\n",
    "    new_AB = [old[5],old[6],old[3],old[4],old[1],old[2],old[7],old[8]]\n",
    "    new_AC = [old[5],old[2],old[7],old[4],old[1],old[6],old[3],old[8]]\n",
    "    new_AD = [old[5],old[2],old[3],old[8],old[1],old[6],old[7],old[4]]\n",
    "\n",
    "    LogNeg = 1\n",
    "    for new in [new_A,new_B,new_C,new_D,new_AB,new_AC,new_AD]\n",
    "        LogNeg *= get_LogNeg(rho,old,new)\n",
    "    end\n",
    "    LogNeg = LogNeg^(1.0/7.0)\n",
    "\n",
    "    #-----------------------------------\n",
    "    return LogNeg\n",
    "end\n"
   ]
  },
  {
   "cell_type": "code",
   "execution_count": 10,
   "metadata": {},
   "outputs": [
    {
     "name": "stdout",
     "output_type": "stream",
     "text": [
      "After sweep 1 energy=-7.977003202361958  maxlinkdim=8 maxerr=1.37E-15 time=22.451\n",
      "After sweep 2 energy=-8.255039334835438  maxlinkdim=25 maxerr=1.62E-08 time=0.068\n",
      "After sweep 3 energy=-8.267404717169997  maxlinkdim=49 maxerr=9.97E-12 time=0.094\n",
      "After sweep 4 energy=-8.270651002322811  maxlinkdim=49 maxerr=9.28E-12 time=0.132\n",
      "After sweep 5 energy=-8.271499145794388  maxlinkdim=48 maxerr=7.71E-12 time=0.116\n",
      "After sweep 6 energy=-8.271713508260058  maxlinkdim=46 maxerr=9.13E-12 time=0.108\n",
      "After sweep 7 energy=-8.271768008449103  maxlinkdim=40 maxerr=9.69E-12 time=0.068\n",
      "After sweep 8 energy=-8.271781701975806  maxlinkdim=33 maxerr=9.23E-12 time=0.074\n",
      "After sweep 9 energy=-8.271785131852361  maxlinkdim=26 maxerr=9.94E-12 time=0.066\n",
      "After sweep 10 energy=-8.271786025557901  maxlinkdim=21 maxerr=9.60E-12 time=0.049\n",
      "After sweep 11 energy=-8.271786256855647  maxlinkdim=19 maxerr=8.71E-12 time=0.030\n",
      "After sweep 12 energy=-8.271786316589498  maxlinkdim=18 maxerr=7.80E-12 time=0.045\n",
      "After sweep 13 energy=-8.271786328035912  maxlinkdim=18 maxerr=1.11E-13 time=0.030\n",
      "After sweep 14 energy=-8.27178633117686  maxlinkdim=18 maxerr=3.01E-14 time=0.044\n",
      "After sweep 15 energy=-8.27178633200065  maxlinkdim=18 maxerr=1.25E-14 time=0.029\n",
      "After sweep 16 energy=-8.271786332211539  maxlinkdim=18 maxerr=2.53E-15 time=0.043\n",
      "After sweep 17 energy=-8.271786332266128  maxlinkdim=18 maxerr=5.42E-16 time=0.029\n",
      "After sweep 18 energy=-8.271786332280197  maxlinkdim=18 maxerr=2.78E-16 time=0.022\n",
      "After sweep 19 energy=-8.271786332283831  maxlinkdim=18 maxerr=3.80E-16 time=0.040\n",
      "After sweep 20 energy=-8.271786332284758  maxlinkdim=18 maxerr=3.49E-16 time=0.030\n"
     ]
    },
    {
     "data": {
      "text/plain": [
       "(-8.271786332284758, MPS\n",
       "[1] ((dim=2|id=841|\"Link,l=1\"), (dim=2|id=212|\"S=1/2,Site,n=1\"))\n",
       "[2] ((dim=8|id=427|\"Link,l=2\"), (dim=4|id=590|\"S=3/2,Site,n=2\"), (dim=2|id=841|\"Link,l=1\"))\n",
       "[3] ((dim=2|id=437|\"S=1/2,Site,n=3\"), (dim=13|id=761|\"Link,l=3\"), (dim=8|id=427|\"Link,l=2\"))\n",
       "[4] ((dim=4|id=128|\"S=3/2,Site,n=4\"), (dim=18|id=517|\"Link,l=4\"), (dim=13|id=761|\"Link,l=3\"))\n",
       "[5] ((dim=2|id=46|\"S=1/2,Site,n=5\"), (dim=15|id=694|\"Link,l=5\"), (dim=18|id=517|\"Link,l=4\"))\n",
       "[6] ((dim=4|id=101|\"S=3/2,Site,n=6\"), (dim=8|id=682|\"Link,l=6\"), (dim=15|id=694|\"Link,l=5\"))\n",
       "[7] ((dim=2|id=804|\"S=1/2,Site,n=7\"), (dim=4|id=849|\"Link,l=7\"), (dim=8|id=682|\"Link,l=6\"))\n",
       "[8] ((dim=4|id=533|\"S=3/2,Site,n=8\"), (dim=4|id=849|\"Link,l=7\"))\n",
       ")"
      ]
     },
     "metadata": {},
     "output_type": "display_data"
    }
   ],
   "source": [
    "#define the parameters of the hamiltonian and constuct MPO\n",
    "#----------------------------------------------------------------------------\n",
    "\n",
    "J = 1\n",
    "B = 0.1\n",
    "\n",
    "nsweeps = 20\n",
    "maxdim = [10,25,50,100,150,200,250,300,400,500]\n",
    "cutoff = [1E-11]\n",
    "\n",
    "#--------------------\n",
    "N = 8\n",
    "#--------------------\n",
    "\n",
    "site_list = collect(1:N) \n",
    "sites = siteinds( k->isodd(k) ? \"S=1/2\" : \"S=3/2\", N ) \n",
    "#sites = siteinds(\"S=1/2\", N)\n",
    "\n",
    "H = Hamiltonian(sites) \n",
    "\n",
    "# ground state and first excited state\n",
    "#--------------------------------------------\n",
    "energy0,psi0 = dmrg(H,random_mps(sites);nsweeps,maxdim,cutoff,ishermitian=true) ;\n",
    "#energy1,psi1 = dmrg(H,[psi0],random_mps(sites);nsweeps,maxdim,cutoff,ishermitian=true) ;"
   ]
  },
  {
   "cell_type": "code",
   "execution_count": 11,
   "metadata": {},
   "outputs": [],
   "source": []
  },
  {
   "cell_type": "code",
   "execution_count": null,
   "metadata": {},
   "outputs": [],
   "source": [
    "#* check thermodynamic limits *#\n",
    "#-----------------------------\n",
    "\n",
    "wf = Vector{Any}(undef,8)\n",
    "\n",
    "wf[1] = MagnonOperation( psi0, [1] )         #one single magnon\n",
    "wf[2] = MagnonOperation( psi0, [1,3] )       #two neughbouring\n",
    "wf[3] = MagnonOperation( psi0, [1,3,5] )     #three neughbouring\n",
    "wf[4] = MagnonOperation( psi0, [1,2] )       #two overlapping magnons \n",
    "wf[5] = MagnonOperation( psi0, [1,4] )       #two magnon separted by spin 1/2 \n",
    "wf[6] = MagnonOperation( psi0, [2,5] )       #two magnon separted by spin 3/2\n",
    "wf[7] = MagnonOperation( psi0, [1,5] )       #two magnon separed by two sites\n",
    "wf[8] = MagnonOperation( psi0, [1,3]; split=\"yes\" )       #split magnon of width 0\n",
    "\n",
    "for idx in 1:length(wf)\n",
    "    ovlap = abs(inner(wf[idx],psi0))\n",
    "    print( f\"{ovlap:e} \\t \" ) \n",
    "end"
   ]
  },
  {
   "cell_type": "code",
   "execution_count": 12,
   "metadata": {},
   "outputs": [],
   "source": []
  },
  {
   "cell_type": "code",
   "execution_count": 13,
   "metadata": {},
   "outputs": [],
   "source": []
  },
  {
   "cell_type": "code",
   "execution_count": null,
   "metadata": {},
   "outputs": [],
   "source": [
    "# 4 partitle negativity between (A,B,C,D) \n",
    "# inputs = A,C as B = A+1 and D=C+1\n",
    "#------------------------------------------------------\n",
    "\n",
    "A = 1\n",
    "for sep in 0:3\n",
    "    C =  A+2+sep\n",
    "    ent = calc_LogNeg_4site(psi0,[A,C])\n",
    "    println(f\"{sep} \\t {ent}\")\n",
    "end"
   ]
  },
  {
   "cell_type": "code",
   "execution_count": 14,
   "metadata": {},
   "outputs": [],
   "source": []
  },
  {
   "cell_type": "code",
   "execution_count": 15,
   "metadata": {},
   "outputs": [],
   "source": []
  },
  {
   "cell_type": "code",
   "execution_count": 16,
   "metadata": {},
   "outputs": [],
   "source": []
  }
 ],
 "metadata": {
  "kernelspec": {
   "display_name": "Julia 1.11.1",
   "language": "julia",
   "name": "julia-1.11"
  },
  "language_info": {
   "file_extension": ".jl",
   "mimetype": "application/julia",
   "name": "julia",
   "version": "1.11.1"
  }
 },
 "nbformat": 4,
 "nbformat_minor": 2
}
