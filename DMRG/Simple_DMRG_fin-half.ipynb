{
 "cells": [
  {
   "cell_type": "code",
   "execution_count": 1,
   "id": "ddd83e8b",
   "metadata": {},
   "outputs": [
    {
     "name": "stdout",
     "output_type": "stream",
     "text": [
      "=**-\n",
      "truncation error: -2.220446049250313e-16\n",
      "E/L = -0.40400635094610976\n",
      "==**--\n",
      "truncation error: 1.1102230246251565e-16\n",
      "E/L = -0.4155961889813211\n",
      "===**---\n",
      "truncation error: 3.4092688794284953e-07\n",
      "E/L = -0.42186657483598655\n",
      "====**----\n",
      "truncation error: 1.4085021449172785e-07\n",
      "E/L = -0.42580288612893613\n",
      "=====**-----\n",
      "truncation error: 2.160060270983699e-06\n",
      "E/L = -0.4285064727303842\n",
      "======**------\n",
      "truncation error: 9.705631561773842e-07\n",
      "E/L = -0.4304772948622551\n",
      "=======**-----\n",
      "truncation error: 1.4432899320127035e-15\n",
      "E/L = -0.4304778978782669\n",
      "========**----\n",
      "truncation error: 1.887379141862766e-15\n",
      "E/L = -0.43047812936545077\n",
      "=========**---\n",
      "truncation error: 8.881784197001252e-16\n",
      "E/L = -0.4304785467418668\n",
      "==========**--\n",
      "truncation error: 0.0\n",
      "E/L = -0.4304785467418671\n",
      "-----------**=\n",
      "truncation error: -1.1102230246251565e-15\n",
      "E/L = -0.43047854674186714\n",
      "----------**==\n",
      "truncation error: -2.220446049250313e-16\n",
      "E/L = -0.4304785467418672\n",
      "---------**===\n",
      "truncation error: 5.551115123125783e-16\n",
      "E/L = -0.43047854674186775\n",
      "--------**====\n",
      "truncation error: 2.1094237467877974e-15\n",
      "E/L = -0.4304785467418671\n",
      "-------**=====\n",
      "truncation error: -1.7763568394002505e-15\n",
      "E/L = -0.43047854674186786\n",
      "------**======\n",
      "truncation error: -8.881784197001252e-16\n",
      "E/L = -0.43047879520366783\n",
      "-----**=======\n",
      "truncation error: 9.992007221626409e-16\n",
      "E/L = -0.4304796640385771\n",
      "----**========\n",
      "truncation error: 7.771561172376096e-16\n",
      "E/L = -0.43047991041393624\n",
      "---**=========\n",
      "truncation error: 2.1094237467877974e-15\n",
      "E/L = -0.4304803329901528\n",
      "--**==========\n",
      "truncation error: -3.1086244689504383e-15\n",
      "E/L = -0.43048033299015503\n",
      "=**-----------\n",
      "truncation error: 1.3322676295501878e-15\n",
      "E/L = -0.43048033299015326\n",
      "==**----------\n",
      "truncation error: 1.2212453270876722e-15\n",
      "E/L = -0.4304803329901534\n",
      "===**---------\n",
      "truncation error: 2.3314683517128287e-15\n",
      "E/L = -0.4304803329901545\n",
      "====**--------\n",
      "truncation error: 1.3322676295501878e-15\n",
      "E/L = -0.43048033299015315\n",
      "=====**-------\n",
      "truncation error: 7.771561172376096e-16\n",
      "E/L = -0.4304803329901539\n",
      "======**------\n",
      "truncation error: -4.440892098500626e-16\n",
      "E/L = -0.4304803329901542\n"
     ]
    }
   ],
   "source": [
    "#!/usr/bin/env python\n",
    "#\n",
    "# Simple DMRG tutorial.  This code integrates the following concepts:\n",
    "#  - Infinite system algorithm\n",
    "#  - Finite system algorithm\n",
    "#\n",
    "# Copyright 2013 James R. Garrison and Ryan V. Mishmash.\n",
    "# Open source under the MIT license.  Source code at\n",
    "# <https://github.com/simple-dmrg/simple-dmrg/>\n",
    "\n",
    "# This code will run under any version of Python >= 2.6.  The following line\n",
    "# provides consistency between python2 and python3.\n",
    "from __future__ import print_function, division  # requires Python >= 2.6\n",
    "\n",
    "# numpy and scipy imports\n",
    "import numpy as np\n",
    "from scipy.sparse import kron, identity\n",
    "from scipy.sparse.linalg import eigsh  # Lanczos routine from ARPACK\n",
    "\n",
    "# We will use python's \"namedtuple\" to represent the Block and EnlargedBlock\n",
    "# objects\n",
    "from collections import namedtuple\n",
    "\n",
    "Block = namedtuple(\"Block\", [\"length\", \"basis_size\", \"operator_dict\"])\n",
    "EnlargedBlock = namedtuple(\"EnlargedBlock\", [\"length\", \"basis_size\", \"operator_dict\"])\n",
    "\n",
    "def is_valid_block(block):\n",
    "    for op in block.operator_dict.values():\n",
    "        if op.shape[0] != block.basis_size or op.shape[1] != block.basis_size:\n",
    "            return False\n",
    "    return True\n",
    "\n",
    "# This function should test the same exact things, so there is no need to\n",
    "# repeat its definition.\n",
    "is_valid_enlarged_block = is_valid_block\n",
    "\n",
    "# Model-specific code for the Heisenberg XXZ chain\n",
    "model_d = 2  # single-site basis size\n",
    "\n",
    "Sz1 = np.array([[0.5, 0], [0, -0.5]], dtype='d')  # single-site S^z\n",
    "Sp1 = np.array([[0, 1], [0, 0]], dtype='d')  # single-site S^+\n",
    "\n",
    "H1 = np.array([[0, 0], [0, 0]], dtype='d')  # single-site portion of H is zero\n",
    "\n",
    "def H2(Sz1, Sp1, Sz2, Sp2):  # two-site part of H\n",
    "    \"\"\"Given the operators S^z and S^+ on two sites in different Hilbert spaces\n",
    "    (e.g. two blocks), returns a Kronecker product representing the\n",
    "    corresponding two-site term in the Hamiltonian that joins the two sites.\n",
    "    \"\"\"\n",
    "    J = Jz = 1.\n",
    "    return (\n",
    "        (J / 2) * (kron(Sp1, Sp2.conjugate().transpose()) + kron(Sp1.conjugate().transpose(), Sp2)) +\n",
    "        Jz * kron(Sz1, Sz2)\n",
    "    )\n",
    "\n",
    "# conn refers to the connection operator, that is, the operator on the edge of\n",
    "# the block, on the interior of the chain.  We need to be able to represent S^z\n",
    "# and S^+ on that site in the current basis in order to grow the chain.\n",
    "initial_block = Block(length=1, basis_size=model_d, operator_dict={\n",
    "    \"H\": H1,\n",
    "    \"conn_Sz\": Sz1,\n",
    "    \"conn_Sp\": Sp1,\n",
    "})\n",
    "\n",
    "def enlarge_block(block):\n",
    "    \"\"\"This function enlarges the provided Block by a single site, returning an\n",
    "    EnlargedBlock.\n",
    "    \"\"\"\n",
    "    mblock = block.basis_size\n",
    "    o = block.operator_dict\n",
    "\n",
    "    # Create the new operators for the enlarged block.  Our basis becomes a\n",
    "    # Kronecker product of the Block basis and the single-site basis.  NOTE:\n",
    "    # `kron` uses the tensor product convention making blocks of the second\n",
    "    # array scaled by the first.  As such, we adopt this convention for\n",
    "    # Kronecker products throughout the code.\n",
    "    enlarged_operator_dict = {\n",
    "        \"H\": kron(o[\"H\"], identity(model_d)) + kron(identity(mblock), H1) + H2(o[\"conn_Sz\"], o[\"conn_Sp\"], Sz1, Sp1),\n",
    "        \"conn_Sz\": kron(identity(mblock), Sz1),\n",
    "        \"conn_Sp\": kron(identity(mblock), Sp1),\n",
    "    }\n",
    "\n",
    "    return EnlargedBlock(length=(block.length + 1),\n",
    "                         basis_size=(block.basis_size * model_d),\n",
    "                         operator_dict=enlarged_operator_dict)\n",
    "\n",
    "def rotate_and_truncate(operator, transformation_matrix):\n",
    "    \"\"\"Transforms the operator to the new (possibly truncated) basis given by\n",
    "    `transformation_matrix`.\n",
    "    \"\"\"\n",
    "    return transformation_matrix.conjugate().transpose().dot(operator.dot(transformation_matrix))\n",
    "\n",
    "def single_dmrg_step(sys, env, m):\n",
    "    \"\"\"Performs a single DMRG step using `sys` as the system and `env` as the\n",
    "    environment, keeping a maximum of `m` states in the new basis.\n",
    "    \"\"\"\n",
    "    assert is_valid_block(sys)\n",
    "    assert is_valid_block(env)\n",
    "\n",
    "    # Enlarge each block by a single site.\n",
    "    sys_enl = enlarge_block(sys)\n",
    "    if sys is env:  # no need to recalculate a second time\n",
    "        env_enl = sys_enl\n",
    "    else:\n",
    "        env_enl = enlarge_block(env)\n",
    "\n",
    "    assert is_valid_enlarged_block(sys_enl)\n",
    "    assert is_valid_enlarged_block(env_enl)\n",
    "\n",
    "    # Construct the full superblock Hamiltonian.\n",
    "    m_sys_enl = sys_enl.basis_size\n",
    "    m_env_enl = env_enl.basis_size\n",
    "    sys_enl_op = sys_enl.operator_dict\n",
    "    env_enl_op = env_enl.operator_dict\n",
    "    superblock_hamiltonian = kron(sys_enl_op[\"H\"], identity(m_env_enl)) + kron(identity(m_sys_enl), env_enl_op[\"H\"]) + \\\n",
    "                             H2(sys_enl_op[\"conn_Sz\"], sys_enl_op[\"conn_Sp\"], env_enl_op[\"conn_Sz\"], env_enl_op[\"conn_Sp\"])\n",
    "\n",
    "    # Call ARPACK to find the superblock ground state.  (\"SA\" means find the\n",
    "    # \"smallest in amplitude\" eigenvalue.)\n",
    "    (energy,), psi0 = eigsh(superblock_hamiltonian, k=1, which=\"SA\")\n",
    "\n",
    "    # Construct the reduced density matrix of the system by tracing out the\n",
    "    # environment\n",
    "    #\n",
    "    # We want to make the (sys, env) indices correspond to (row, column) of a\n",
    "    # matrix, respectively.  Since the environment (column) index updates most\n",
    "    # quickly in our Kronecker product structure, psi0 is thus row-major (\"C\n",
    "    # style\").\n",
    "    psi0 = psi0.reshape([sys_enl.basis_size, -1], order=\"C\")\n",
    "    rho = np.dot(psi0, psi0.conjugate().transpose())\n",
    "\n",
    "    # Diagonalize the reduced density matrix and sort the eigenvectors by\n",
    "    # eigenvalue.\n",
    "    evals, evecs = np.linalg.eigh(rho)\n",
    "    possible_eigenstates = []\n",
    "    for eval, evec in zip(evals, evecs.transpose()):\n",
    "        possible_eigenstates.append((eval, evec))\n",
    "    possible_eigenstates.sort(reverse=True, key=lambda x: x[0])  # largest eigenvalue first\n",
    "\n",
    "    # Build the transformation matrix from the `m` overall most significant\n",
    "    # eigenvectors.\n",
    "    my_m = min(len(possible_eigenstates), m)\n",
    "    transformation_matrix = np.zeros((sys_enl.basis_size, my_m), dtype='d', order='F')\n",
    "    for i, (eval, evec) in enumerate(possible_eigenstates[:my_m]):\n",
    "        transformation_matrix[:, i] = evec\n",
    "\n",
    "    truncation_error = 1 - sum([x[0] for x in possible_eigenstates[:my_m]])\n",
    "    print(\"truncation error:\", truncation_error)\n",
    "\n",
    "    # Rotate and truncate each operator.\n",
    "    new_operator_dict = {}\n",
    "    for name, op in sys_enl.operator_dict.items():\n",
    "        new_operator_dict[name] = rotate_and_truncate(op, transformation_matrix)\n",
    "\n",
    "    newblock = Block(length=sys_enl.length,\n",
    "                     basis_size=my_m,\n",
    "                     operator_dict=new_operator_dict)\n",
    "\n",
    "    return newblock, energy\n",
    "\n",
    "def graphic(sys_block, env_block, sys_label=\"l\"):\n",
    "    \"\"\"Returns a graphical representation of the DMRG step we are about to\n",
    "    perform, using '=' to represent the system sites, '-' to represent the\n",
    "    environment sites, and '**' to represent the two intermediate sites.\n",
    "    \"\"\"\n",
    "    assert sys_label in (\"l\", \"r\")\n",
    "    graphic = (\"=\" * sys_block.length) + \"**\" + (\"-\" * env_block.length)\n",
    "    if sys_label == \"r\":\n",
    "        # The system should be on the right and the environment should be on\n",
    "        # the left, so reverse the graphic.\n",
    "        graphic = graphic[::-1]\n",
    "    return graphic\n",
    "\n",
    "def infinite_system_algorithm(L, m):\n",
    "    block = initial_block\n",
    "    # Repeatedly enlarge the system by performing a single DMRG step, using a\n",
    "    # reflection of the current block as the environment.\n",
    "    while 2 * block.length < L:\n",
    "        print(\"L =\", block.length * 2 + 2)\n",
    "        block, energy = single_dmrg_step(block, block, m=m)\n",
    "        print(\"E/L =\", energy / (block.length * 2))\n",
    "\n",
    "def finite_system_algorithm(L, m_warmup, m_sweep_list):\n",
    "    assert L % 2 == 0  # require that L is an even number\n",
    "\n",
    "    # To keep things simple, this dictionary is not actually saved to disk, but\n",
    "    # we use it to represent persistent storage.\n",
    "    block_disk = {}  # \"disk\" storage for Block objects\n",
    "\n",
    "    # Use the infinite system algorithm to build up to desired size.  Each time\n",
    "    # we construct a block, we save it for future reference as both a left\n",
    "    # (\"l\") and right (\"r\") block, as the infinite system algorithm assumes the\n",
    "    # environment is a mirror image of the system.\n",
    "    block = initial_block\n",
    "    block_disk[\"l\", block.length] = block\n",
    "    block_disk[\"r\", block.length] = block\n",
    "    while 2 * block.length < L:\n",
    "        # Perform a single DMRG step and save the new Block to \"disk\"\n",
    "        print(graphic(block, block))\n",
    "        block, energy = single_dmrg_step(block, block, m=m_warmup)\n",
    "        print(\"E/L =\", energy / (block.length * 2))\n",
    "        block_disk[\"l\", block.length] = block\n",
    "        block_disk[\"r\", block.length] = block\n",
    "\n",
    "    # Now that the system is built up to its full size, we perform sweeps using\n",
    "    # the finite system algorithm.  At first the left block will act as the\n",
    "    # system, growing at the expense of the right block (the environment), but\n",
    "    # once we come to the end of the chain these roles will be reversed.\n",
    "    sys_label, env_label = \"l\", \"r\"\n",
    "    sys_block = block; del block  # rename the variable\n",
    "    for m in m_sweep_list:\n",
    "        while True:\n",
    "            # Load the appropriate environment block from \"disk\"\n",
    "            env_block = block_disk[env_label, L - sys_block.length - 2]\n",
    "            if env_block.length == 1:\n",
    "                # We've come to the end of the chain, so we reverse course.\n",
    "                sys_block, env_block = env_block, sys_block\n",
    "                sys_label, env_label = env_label, sys_label\n",
    "\n",
    "            # Perform a single DMRG step.\n",
    "            print(graphic(sys_block, env_block, sys_label))\n",
    "            sys_block, energy = single_dmrg_step(sys_block, env_block, m=m)\n",
    "\n",
    "            print(\"E/L =\", energy / L)\n",
    "\n",
    "            # Save the block from this step to disk.\n",
    "            block_disk[sys_label, sys_block.length] = sys_block\n",
    "\n",
    "            # Check whether we just completed a full sweep.\n",
    "            if sys_label == \"l\" and 2 * sys_block.length == L:\n",
    "                break  # escape from the \"while True\" loop\n",
    "        \n",
    "\n",
    "def partial_transpose(rho, dim, subsystem):\n",
    "    \"\"\"Compute the partial transpose of the density matrix `rho` with respect to the given `subsystem`.\"\"\"\n",
    "    d_subsys = [dim[i] for i in subsystem]\n",
    "    d_remain = [dim[i] for i in range(len(dim)) if i not in subsystem]\n",
    "    \n",
    "    rho_reshaped = rho.reshape(d_remain + d_subsys + d_remain + d_subsys)\n",
    "    \n",
    "    permute = np.arange(len(dim) * 2)\n",
    "    permute[len(d_remain):len(d_remain) + len(d_subsys)], permute[len(d_remain) + len(d_subsys):] = \\\n",
    "    permute[len(d_remain) + len(d_subsys):], permute[len(d_remain):len(d_remain) + len(d_subsys)]\n",
    "    \n",
    "    rho_transposed = rho_reshaped.transpose(permute)\n",
    "    rho_partial_transpose = rho_transposed.reshape(rho.shape)\n",
    "    \n",
    "    return rho_partial_transpose\n",
    "\n",
    "def logarithmic_negativity(rho, dim, subsystem):\n",
    "    \"\"\"Compute the logarithmic negativity of the density matrix `rho` for the specified `subsystem`.\"\"\"\n",
    "    rho_pt = partial_transpose(rho, dim, subsystem)\n",
    "    eigenvalues = np.linalg.eigvalsh(rho_pt)\n",
    "    negativity = np.sum(np.abs(eigenvalues[eigenvalues < 0]))\n",
    "    log_negativity = np.log2(1 + 2 * negativity)\n",
    "    \n",
    "    return log_negativity\n",
    "\n",
    "def compute_log_negativity(block, subsystem):\n",
    "    \"\"\"Compute the logarithmic negativity for the specified subsystem of the block.\"\"\"\n",
    "    m = block.basis_size\n",
    "    rho = np.identity(m)\n",
    "    dim = [model_d] * block.length\n",
    "    \n",
    "    log_neg = logarithmic_negativity(rho, dim, subsystem)\n",
    "    \n",
    "    return log_neg        \n",
    "        \n",
    "        \n",
    "        \n",
    "        \n",
    "        \n",
    "        \n",
    "        \n",
    "        \n",
    "        \n",
    "if __name__ == \"__main__\":\n",
    "    np.set_printoptions(precision=10, suppress=True, threshold=10000, linewidth=300)\n",
    "\n",
    "    finite_system_algorithm(L=14, m_warmup=10, m_sweep_list=[25580])"
   ]
  },
  {
   "cell_type": "code",
   "execution_count": 2,
   "id": "4550c41e",
   "metadata": {},
   "outputs": [
    {
     "data": {
      "text/plain": [
       "1.7745138691793727e-09"
      ]
     },
     "execution_count": 2,
     "metadata": {},
     "output_type": "execute_result"
    }
   ],
   "source": [
    "0.4304803329901542*14-6.026724660087645"
   ]
  },
  {
   "cell_type": "code",
   "execution_count": 3,
   "id": "f63d8a6e",
   "metadata": {},
   "outputs": [
    {
     "data": {
      "text/plain": [
       "1.7744694602583877e-09"
      ]
     },
     "execution_count": 3,
     "metadata": {},
     "output_type": "execute_result"
    }
   ],
   "source": [
    "0.4304803329901542*14-6.026724660087689"
   ]
  },
  {
   "cell_type": "code",
   "execution_count": 4,
   "id": "b465a71a",
   "metadata": {},
   "outputs": [
    {
     "data": {
      "text/plain": [
       "1.774480118399424e-09"
      ]
     },
     "execution_count": 4,
     "metadata": {},
     "output_type": "execute_result"
    }
   ],
   "source": [
    "0.4304803329901542*14-6.0267246600876785 "
   ]
  },
  {
   "cell_type": "code",
   "execution_count": 5,
   "id": "09fdc0fc",
   "metadata": {},
   "outputs": [
    {
     "data": {
      "text/plain": [
       "1.7745707125982335e-09"
      ]
     },
     "execution_count": 5,
     "metadata": {},
     "output_type": "execute_result"
    }
   ],
   "source": [
    "0.4304803329901542*14-6.026724660087588   "
   ]
  },
  {
   "cell_type": "code",
   "execution_count": 6,
   "id": "98f644cd",
   "metadata": {},
   "outputs": [
    {
     "data": {
      "text/plain": [
       "1.7747430192116553e-09"
      ]
     },
     "execution_count": 6,
     "metadata": {},
     "output_type": "execute_result"
    }
   ],
   "source": [
    "0.4304803329901542*14-6.026724660087416 "
   ]
  },
  {
   "cell_type": "code",
   "execution_count": 7,
   "id": "7f804c39",
   "metadata": {},
   "outputs": [
    {
     "data": {
      "text/plain": [
       "1.774497881967818e-09"
      ]
     },
     "execution_count": 7,
     "metadata": {},
     "output_type": "execute_result"
    }
   ],
   "source": [
    "0.4304803329901542*14-6.026724660087661"
   ]
  },
  {
   "cell_type": "code",
   "execution_count": 8,
   "id": "56743d7b",
   "metadata": {},
   "outputs": [
    {
     "data": {
      "text/plain": [
       "1.7747181502159037e-09"
      ]
     },
     "execution_count": 8,
     "metadata": {},
     "output_type": "execute_result"
    }
   ],
   "source": [
    "0.4304803329901542*14-6.0267246600874405 "
   ]
  },
  {
   "cell_type": "code",
   "execution_count": 9,
   "id": "a5768a32",
   "metadata": {},
   "outputs": [
    {
     "data": {
      "text/plain": [
       "1.774714597502225e-09"
      ]
     },
     "execution_count": 9,
     "metadata": {},
     "output_type": "execute_result"
    }
   ],
   "source": [
    "0.4304803329901542*14-6.026724660087444 "
   ]
  },
  {
   "cell_type": "code",
   "execution_count": null,
   "id": "9397303f",
   "metadata": {},
   "outputs": [],
   "source": []
  }
 ],
 "metadata": {
  "kernelspec": {
   "display_name": "Python 3 (ipykernel)",
   "language": "python",
   "name": "python3"
  },
  "language_info": {
   "codemirror_mode": {
    "name": "ipython",
    "version": 3
   },
   "file_extension": ".py",
   "mimetype": "text/x-python",
   "name": "python",
   "nbconvert_exporter": "python",
   "pygments_lexer": "ipython3",
   "version": "3.11.5"
  }
 },
 "nbformat": 4,
 "nbformat_minor": 5
}
